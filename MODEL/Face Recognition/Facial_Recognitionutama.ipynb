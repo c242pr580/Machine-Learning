{
  "cells": [
    {
      "cell_type": "markdown",
      "id": "c96af7b3-8024-466b-b724-4653bd68a98b",
      "metadata": {
        "id": "c96af7b3-8024-466b-b724-4653bd68a98b"
      },
      "source": [
        "# **Bismillah**"
      ]
    },
    {
      "cell_type": "code",
      "source": [
        "!pip install tensorflowjs"
      ],
      "metadata": {
        "colab": {
          "base_uri": "https://localhost:8080/"
        },
        "id": "cZoemYUrzn_V",
        "outputId": "d6240bea-9e4a-4b99-fc08-9f9022399a0f"
      },
      "id": "cZoemYUrzn_V",
      "execution_count": null,
      "outputs": [
        {
          "output_type": "stream",
          "name": "stdout",
          "text": [
            "Collecting tensorflowjs\n",
            "  Downloading tensorflowjs-4.22.0-py3-none-any.whl.metadata (3.2 kB)\n",
            "Requirement already satisfied: flax>=0.7.2 in /usr/local/lib/python3.10/dist-packages (from tensorflowjs) (0.8.5)\n",
            "Requirement already satisfied: importlib_resources>=5.9.0 in /usr/local/lib/python3.10/dist-packages (from tensorflowjs) (6.4.5)\n",
            "Requirement already satisfied: jax>=0.4.13 in /usr/local/lib/python3.10/dist-packages (from tensorflowjs) (0.4.33)\n",
            "Requirement already satisfied: jaxlib>=0.4.13 in /usr/local/lib/python3.10/dist-packages (from tensorflowjs) (0.4.33)\n",
            "Requirement already satisfied: tensorflow<3,>=2.13.0 in /usr/local/lib/python3.10/dist-packages (from tensorflowjs) (2.17.1)\n",
            "Requirement already satisfied: tf-keras>=2.13.0 in /usr/local/lib/python3.10/dist-packages (from tensorflowjs) (2.17.0)\n",
            "Collecting tensorflow-decision-forests>=1.5.0 (from tensorflowjs)\n",
            "  Downloading tensorflow_decision_forests-1.11.0-cp310-cp310-manylinux_2_17_x86_64.manylinux2014_x86_64.whl.metadata (6.0 kB)\n",
            "Requirement already satisfied: six<2,>=1.16.0 in /usr/local/lib/python3.10/dist-packages (from tensorflowjs) (1.16.0)\n",
            "Requirement already satisfied: tensorflow-hub>=0.16.1 in /usr/local/lib/python3.10/dist-packages (from tensorflowjs) (0.16.1)\n",
            "Collecting packaging~=23.1 (from tensorflowjs)\n",
            "  Downloading packaging-23.2-py3-none-any.whl.metadata (3.2 kB)\n",
            "Requirement already satisfied: numpy>=1.22 in /usr/local/lib/python3.10/dist-packages (from flax>=0.7.2->tensorflowjs) (1.26.4)\n",
            "Requirement already satisfied: msgpack in /usr/local/lib/python3.10/dist-packages (from flax>=0.7.2->tensorflowjs) (1.1.0)\n",
            "Requirement already satisfied: optax in /usr/local/lib/python3.10/dist-packages (from flax>=0.7.2->tensorflowjs) (0.2.4)\n",
            "Requirement already satisfied: orbax-checkpoint in /usr/local/lib/python3.10/dist-packages (from flax>=0.7.2->tensorflowjs) (0.6.4)\n",
            "Requirement already satisfied: tensorstore in /usr/local/lib/python3.10/dist-packages (from flax>=0.7.2->tensorflowjs) (0.1.68)\n",
            "Requirement already satisfied: rich>=11.1 in /usr/local/lib/python3.10/dist-packages (from flax>=0.7.2->tensorflowjs) (13.9.4)\n",
            "Requirement already satisfied: typing-extensions>=4.2 in /usr/local/lib/python3.10/dist-packages (from flax>=0.7.2->tensorflowjs) (4.12.2)\n",
            "Requirement already satisfied: PyYAML>=5.4.1 in /usr/local/lib/python3.10/dist-packages (from flax>=0.7.2->tensorflowjs) (6.0.2)\n",
            "Requirement already satisfied: ml-dtypes>=0.2.0 in /usr/local/lib/python3.10/dist-packages (from jax>=0.4.13->tensorflowjs) (0.4.1)\n",
            "Requirement already satisfied: opt-einsum in /usr/local/lib/python3.10/dist-packages (from jax>=0.4.13->tensorflowjs) (3.4.0)\n",
            "Requirement already satisfied: scipy>=1.10 in /usr/local/lib/python3.10/dist-packages (from jax>=0.4.13->tensorflowjs) (1.13.1)\n",
            "Requirement already satisfied: absl-py>=1.0.0 in /usr/local/lib/python3.10/dist-packages (from tensorflow<3,>=2.13.0->tensorflowjs) (1.4.0)\n",
            "Requirement already satisfied: astunparse>=1.6.0 in /usr/local/lib/python3.10/dist-packages (from tensorflow<3,>=2.13.0->tensorflowjs) (1.6.3)\n",
            "Requirement already satisfied: flatbuffers>=24.3.25 in /usr/local/lib/python3.10/dist-packages (from tensorflow<3,>=2.13.0->tensorflowjs) (24.3.25)\n",
            "Requirement already satisfied: gast!=0.5.0,!=0.5.1,!=0.5.2,>=0.2.1 in /usr/local/lib/python3.10/dist-packages (from tensorflow<3,>=2.13.0->tensorflowjs) (0.6.0)\n",
            "Requirement already satisfied: google-pasta>=0.1.1 in /usr/local/lib/python3.10/dist-packages (from tensorflow<3,>=2.13.0->tensorflowjs) (0.2.0)\n",
            "Requirement already satisfied: h5py>=3.10.0 in /usr/local/lib/python3.10/dist-packages (from tensorflow<3,>=2.13.0->tensorflowjs) (3.12.1)\n",
            "Requirement already satisfied: libclang>=13.0.0 in /usr/local/lib/python3.10/dist-packages (from tensorflow<3,>=2.13.0->tensorflowjs) (18.1.1)\n",
            "Requirement already satisfied: protobuf!=4.21.0,!=4.21.1,!=4.21.2,!=4.21.3,!=4.21.4,!=4.21.5,<5.0.0dev,>=3.20.3 in /usr/local/lib/python3.10/dist-packages (from tensorflow<3,>=2.13.0->tensorflowjs) (4.25.5)\n",
            "Requirement already satisfied: requests<3,>=2.21.0 in /usr/local/lib/python3.10/dist-packages (from tensorflow<3,>=2.13.0->tensorflowjs) (2.32.3)\n",
            "Requirement already satisfied: setuptools in /usr/local/lib/python3.10/dist-packages (from tensorflow<3,>=2.13.0->tensorflowjs) (75.1.0)\n",
            "Requirement already satisfied: termcolor>=1.1.0 in /usr/local/lib/python3.10/dist-packages (from tensorflow<3,>=2.13.0->tensorflowjs) (2.5.0)\n",
            "Requirement already satisfied: wrapt>=1.11.0 in /usr/local/lib/python3.10/dist-packages (from tensorflow<3,>=2.13.0->tensorflowjs) (1.16.0)\n",
            "Requirement already satisfied: grpcio<2.0,>=1.24.3 in /usr/local/lib/python3.10/dist-packages (from tensorflow<3,>=2.13.0->tensorflowjs) (1.68.0)\n",
            "Requirement already satisfied: tensorboard<2.18,>=2.17 in /usr/local/lib/python3.10/dist-packages (from tensorflow<3,>=2.13.0->tensorflowjs) (2.17.1)\n",
            "Requirement already satisfied: keras>=3.2.0 in /usr/local/lib/python3.10/dist-packages (from tensorflow<3,>=2.13.0->tensorflowjs) (3.5.0)\n",
            "Requirement already satisfied: tensorflow-io-gcs-filesystem>=0.23.1 in /usr/local/lib/python3.10/dist-packages (from tensorflow<3,>=2.13.0->tensorflowjs) (0.37.1)\n",
            "Requirement already satisfied: pandas in /usr/local/lib/python3.10/dist-packages (from tensorflow-decision-forests>=1.5.0->tensorflowjs) (2.2.2)\n",
            "Collecting tensorflow<3,>=2.13.0 (from tensorflowjs)\n",
            "  Downloading tensorflow-2.18.0-cp310-cp310-manylinux_2_17_x86_64.manylinux2014_x86_64.whl.metadata (4.1 kB)\n",
            "Requirement already satisfied: wheel in /usr/local/lib/python3.10/dist-packages (from tensorflow-decision-forests>=1.5.0->tensorflowjs) (0.45.0)\n",
            "Collecting wurlitzer (from tensorflow-decision-forests>=1.5.0->tensorflowjs)\n",
            "  Downloading wurlitzer-3.1.1-py3-none-any.whl.metadata (2.5 kB)\n",
            "Collecting ydf (from tensorflow-decision-forests>=1.5.0->tensorflowjs)\n",
            "  Downloading ydf-0.8.0-cp310-cp310-manylinux_2_17_x86_64.manylinux2014_x86_64.whl.metadata (3.2 kB)\n",
            "Collecting tensorboard<2.19,>=2.18 (from tensorflow<3,>=2.13.0->tensorflowjs)\n",
            "  Downloading tensorboard-2.18.0-py3-none-any.whl.metadata (1.6 kB)\n",
            "INFO: pip is looking at multiple versions of tf-keras to determine which version is compatible with other requirements. This could take a while.\n",
            "Collecting tf-keras>=2.13.0 (from tensorflowjs)\n",
            "  Downloading tf_keras-2.18.0-py3-none-any.whl.metadata (1.6 kB)\n",
            "Requirement already satisfied: namex in /usr/local/lib/python3.10/dist-packages (from keras>=3.2.0->tensorflow<3,>=2.13.0->tensorflowjs) (0.0.8)\n",
            "Requirement already satisfied: optree in /usr/local/lib/python3.10/dist-packages (from keras>=3.2.0->tensorflow<3,>=2.13.0->tensorflowjs) (0.13.1)\n",
            "Requirement already satisfied: charset-normalizer<4,>=2 in /usr/local/lib/python3.10/dist-packages (from requests<3,>=2.21.0->tensorflow<3,>=2.13.0->tensorflowjs) (3.4.0)\n",
            "Requirement already satisfied: idna<4,>=2.5 in /usr/local/lib/python3.10/dist-packages (from requests<3,>=2.21.0->tensorflow<3,>=2.13.0->tensorflowjs) (3.10)\n",
            "Requirement already satisfied: urllib3<3,>=1.21.1 in /usr/local/lib/python3.10/dist-packages (from requests<3,>=2.21.0->tensorflow<3,>=2.13.0->tensorflowjs) (2.2.3)\n",
            "Requirement already satisfied: certifi>=2017.4.17 in /usr/local/lib/python3.10/dist-packages (from requests<3,>=2.21.0->tensorflow<3,>=2.13.0->tensorflowjs) (2024.8.30)\n",
            "Requirement already satisfied: markdown-it-py>=2.2.0 in /usr/local/lib/python3.10/dist-packages (from rich>=11.1->flax>=0.7.2->tensorflowjs) (3.0.0)\n",
            "Requirement already satisfied: pygments<3.0.0,>=2.13.0 in /usr/local/lib/python3.10/dist-packages (from rich>=11.1->flax>=0.7.2->tensorflowjs) (2.18.0)\n",
            "Requirement already satisfied: markdown>=2.6.8 in /usr/local/lib/python3.10/dist-packages (from tensorboard<2.19,>=2.18->tensorflow<3,>=2.13.0->tensorflowjs) (3.7)\n",
            "Requirement already satisfied: tensorboard-data-server<0.8.0,>=0.7.0 in /usr/local/lib/python3.10/dist-packages (from tensorboard<2.19,>=2.18->tensorflow<3,>=2.13.0->tensorflowjs) (0.7.2)\n",
            "Requirement already satisfied: werkzeug>=1.0.1 in /usr/local/lib/python3.10/dist-packages (from tensorboard<2.19,>=2.18->tensorflow<3,>=2.13.0->tensorflowjs) (3.1.3)\n",
            "Requirement already satisfied: chex>=0.1.87 in /usr/local/lib/python3.10/dist-packages (from optax->flax>=0.7.2->tensorflowjs) (0.1.87)\n",
            "Requirement already satisfied: etils[epy] in /usr/local/lib/python3.10/dist-packages (from optax->flax>=0.7.2->tensorflowjs) (1.10.0)\n",
            "Requirement already satisfied: nest_asyncio in /usr/local/lib/python3.10/dist-packages (from orbax-checkpoint->flax>=0.7.2->tensorflowjs) (1.6.0)\n",
            "Requirement already satisfied: humanize in /usr/local/lib/python3.10/dist-packages (from orbax-checkpoint->flax>=0.7.2->tensorflowjs) (4.11.0)\n",
            "Requirement already satisfied: python-dateutil>=2.8.2 in /usr/local/lib/python3.10/dist-packages (from pandas->tensorflow-decision-forests>=1.5.0->tensorflowjs) (2.8.2)\n",
            "Requirement already satisfied: pytz>=2020.1 in /usr/local/lib/python3.10/dist-packages (from pandas->tensorflow-decision-forests>=1.5.0->tensorflowjs) (2024.2)\n",
            "Requirement already satisfied: tzdata>=2022.7 in /usr/local/lib/python3.10/dist-packages (from pandas->tensorflow-decision-forests>=1.5.0->tensorflowjs) (2024.2)\n",
            "Requirement already satisfied: toolz>=0.9.0 in /usr/local/lib/python3.10/dist-packages (from chex>=0.1.87->optax->flax>=0.7.2->tensorflowjs) (0.12.1)\n",
            "Requirement already satisfied: mdurl~=0.1 in /usr/local/lib/python3.10/dist-packages (from markdown-it-py>=2.2.0->rich>=11.1->flax>=0.7.2->tensorflowjs) (0.1.2)\n",
            "Requirement already satisfied: MarkupSafe>=2.1.1 in /usr/local/lib/python3.10/dist-packages (from werkzeug>=1.0.1->tensorboard<2.19,>=2.18->tensorflow<3,>=2.13.0->tensorflowjs) (3.0.2)\n",
            "Requirement already satisfied: fsspec in /usr/local/lib/python3.10/dist-packages (from etils[epath,epy]->orbax-checkpoint->flax>=0.7.2->tensorflowjs) (2024.10.0)\n",
            "Requirement already satisfied: zipp in /usr/local/lib/python3.10/dist-packages (from etils[epath,epy]->orbax-checkpoint->flax>=0.7.2->tensorflowjs) (3.21.0)\n",
            "Downloading tensorflowjs-4.22.0-py3-none-any.whl (89 kB)\n",
            "\u001b[2K   \u001b[90m━━━━━━━━━━━━━━━━━━━━━━━━━━━━━━━━━━━━━━━━\u001b[0m \u001b[32m89.1/89.1 kB\u001b[0m \u001b[31m7.5 MB/s\u001b[0m eta \u001b[36m0:00:00\u001b[0m\n",
            "\u001b[?25hDownloading packaging-23.2-py3-none-any.whl (53 kB)\n",
            "\u001b[2K   \u001b[90m━━━━━━━━━━━━━━━━━━━━━━━━━━━━━━━━━━━━━━━━\u001b[0m \u001b[32m53.0/53.0 kB\u001b[0m \u001b[31m1.7 MB/s\u001b[0m eta \u001b[36m0:00:00\u001b[0m\n",
            "\u001b[?25hDownloading tensorflow_decision_forests-1.11.0-cp310-cp310-manylinux_2_17_x86_64.manylinux2014_x86_64.whl (15.9 MB)\n",
            "\u001b[2K   \u001b[90m━━━━━━━━━━━━━━━━━━━━━━━━━━━━━━━━━━━━━━━━\u001b[0m \u001b[32m15.9/15.9 MB\u001b[0m \u001b[31m17.9 MB/s\u001b[0m eta \u001b[36m0:00:00\u001b[0m\n",
            "\u001b[?25hDownloading tensorflow-2.18.0-cp310-cp310-manylinux_2_17_x86_64.manylinux2014_x86_64.whl (615.3 MB)\n",
            "\u001b[2K   \u001b[90m━━━━━━━━━━━━━━━━━━━━━━━━━━━━━━━━━━━━━━━━\u001b[0m \u001b[32m615.3/615.3 MB\u001b[0m \u001b[31m2.8 MB/s\u001b[0m eta \u001b[36m0:00:00\u001b[0m\n",
            "\u001b[?25hDownloading tf_keras-2.18.0-py3-none-any.whl (1.7 MB)\n",
            "\u001b[2K   \u001b[90m━━━━━━━━━━━━━━━━━━━━━━━━━━━━━━━━━━━━━━━━\u001b[0m \u001b[32m1.7/1.7 MB\u001b[0m \u001b[31m48.2 MB/s\u001b[0m eta \u001b[36m0:00:00\u001b[0m\n",
            "\u001b[?25hDownloading tensorboard-2.18.0-py3-none-any.whl (5.5 MB)\n",
            "\u001b[2K   \u001b[90m━━━━━━━━━━━━━━━━━━━━━━━━━━━━━━━━━━━━━━━━\u001b[0m \u001b[32m5.5/5.5 MB\u001b[0m \u001b[31m60.9 MB/s\u001b[0m eta \u001b[36m0:00:00\u001b[0m\n",
            "\u001b[?25hDownloading wurlitzer-3.1.1-py3-none-any.whl (8.6 kB)\n",
            "Downloading ydf-0.8.0-cp310-cp310-manylinux_2_17_x86_64.manylinux2014_x86_64.whl (9.3 MB)\n",
            "\u001b[2K   \u001b[90m━━━━━━━━━━━━━━━━━━━━━━━━━━━━━━━━━━━━━━━━\u001b[0m \u001b[32m9.3/9.3 MB\u001b[0m \u001b[31m61.4 MB/s\u001b[0m eta \u001b[36m0:00:00\u001b[0m\n",
            "\u001b[?25hInstalling collected packages: ydf, wurlitzer, packaging, tensorboard, tensorflow, tf-keras, tensorflow-decision-forests, tensorflowjs\n",
            "  Attempting uninstall: packaging\n",
            "    Found existing installation: packaging 24.2\n",
            "    Uninstalling packaging-24.2:\n",
            "      Successfully uninstalled packaging-24.2\n",
            "  Attempting uninstall: tensorboard\n",
            "    Found existing installation: tensorboard 2.17.1\n",
            "    Uninstalling tensorboard-2.17.1:\n",
            "      Successfully uninstalled tensorboard-2.17.1\n",
            "  Attempting uninstall: tensorflow\n",
            "    Found existing installation: tensorflow 2.17.1\n",
            "    Uninstalling tensorflow-2.17.1:\n",
            "      Successfully uninstalled tensorflow-2.17.1\n",
            "  Attempting uninstall: tf-keras\n",
            "    Found existing installation: tf_keras 2.17.0\n",
            "    Uninstalling tf_keras-2.17.0:\n",
            "      Successfully uninstalled tf_keras-2.17.0\n",
            "Successfully installed packaging-23.2 tensorboard-2.18.0 tensorflow-2.18.0 tensorflow-decision-forests-1.11.0 tensorflowjs-4.22.0 tf-keras-2.18.0 wurlitzer-3.1.1 ydf-0.8.0\n"
          ]
        }
      ]
    },
    {
      "cell_type": "code",
      "source": [
        "!pip install tensorflow==2.15.0"
      ],
      "metadata": {
        "colab": {
          "base_uri": "https://localhost:8080/"
        },
        "id": "W3KqIvHcRszA",
        "outputId": "54717c1c-512e-4fd2-ae75-ef60a2b461d9"
      },
      "id": "W3KqIvHcRszA",
      "execution_count": null,
      "outputs": [
        {
          "output_type": "stream",
          "name": "stdout",
          "text": [
            "Collecting tensorflow==2.15.0\n",
            "  Downloading tensorflow-2.15.0-cp310-cp310-manylinux_2_17_x86_64.manylinux2014_x86_64.whl.metadata (4.4 kB)\n",
            "Requirement already satisfied: absl-py>=1.0.0 in /usr/local/lib/python3.10/dist-packages (from tensorflow==2.15.0) (1.4.0)\n",
            "Requirement already satisfied: astunparse>=1.6.0 in /usr/local/lib/python3.10/dist-packages (from tensorflow==2.15.0) (1.6.3)\n",
            "Requirement already satisfied: flatbuffers>=23.5.26 in /usr/local/lib/python3.10/dist-packages (from tensorflow==2.15.0) (24.3.25)\n",
            "Requirement already satisfied: gast!=0.5.0,!=0.5.1,!=0.5.2,>=0.2.1 in /usr/local/lib/python3.10/dist-packages (from tensorflow==2.15.0) (0.6.0)\n",
            "Requirement already satisfied: google-pasta>=0.1.1 in /usr/local/lib/python3.10/dist-packages (from tensorflow==2.15.0) (0.2.0)\n",
            "Requirement already satisfied: h5py>=2.9.0 in /usr/local/lib/python3.10/dist-packages (from tensorflow==2.15.0) (3.12.1)\n",
            "Requirement already satisfied: libclang>=13.0.0 in /usr/local/lib/python3.10/dist-packages (from tensorflow==2.15.0) (18.1.1)\n",
            "Collecting ml-dtypes~=0.2.0 (from tensorflow==2.15.0)\n",
            "  Downloading ml_dtypes-0.2.0-cp310-cp310-manylinux_2_17_x86_64.manylinux2014_x86_64.whl.metadata (20 kB)\n",
            "Requirement already satisfied: numpy<2.0.0,>=1.23.5 in /usr/local/lib/python3.10/dist-packages (from tensorflow==2.15.0) (1.26.4)\n",
            "Requirement already satisfied: opt-einsum>=2.3.2 in /usr/local/lib/python3.10/dist-packages (from tensorflow==2.15.0) (3.4.0)\n",
            "Requirement already satisfied: packaging in /usr/local/lib/python3.10/dist-packages (from tensorflow==2.15.0) (23.2)\n",
            "Requirement already satisfied: protobuf!=4.21.0,!=4.21.1,!=4.21.2,!=4.21.3,!=4.21.4,!=4.21.5,<5.0.0dev,>=3.20.3 in /usr/local/lib/python3.10/dist-packages (from tensorflow==2.15.0) (4.25.5)\n",
            "Requirement already satisfied: setuptools in /usr/local/lib/python3.10/dist-packages (from tensorflow==2.15.0) (75.1.0)\n",
            "Requirement already satisfied: six>=1.12.0 in /usr/local/lib/python3.10/dist-packages (from tensorflow==2.15.0) (1.16.0)\n",
            "Requirement already satisfied: termcolor>=1.1.0 in /usr/local/lib/python3.10/dist-packages (from tensorflow==2.15.0) (2.5.0)\n",
            "Requirement already satisfied: typing-extensions>=3.6.6 in /usr/local/lib/python3.10/dist-packages (from tensorflow==2.15.0) (4.12.2)\n",
            "Collecting wrapt<1.15,>=1.11.0 (from tensorflow==2.15.0)\n",
            "  Downloading wrapt-1.14.1-cp310-cp310-manylinux_2_5_x86_64.manylinux1_x86_64.manylinux_2_17_x86_64.manylinux2014_x86_64.whl.metadata (6.7 kB)\n",
            "Requirement already satisfied: tensorflow-io-gcs-filesystem>=0.23.1 in /usr/local/lib/python3.10/dist-packages (from tensorflow==2.15.0) (0.37.1)\n",
            "Requirement already satisfied: grpcio<2.0,>=1.24.3 in /usr/local/lib/python3.10/dist-packages (from tensorflow==2.15.0) (1.68.0)\n",
            "Collecting tensorboard<2.16,>=2.15 (from tensorflow==2.15.0)\n",
            "  Downloading tensorboard-2.15.2-py3-none-any.whl.metadata (1.7 kB)\n",
            "Collecting tensorflow-estimator<2.16,>=2.15.0 (from tensorflow==2.15.0)\n",
            "  Downloading tensorflow_estimator-2.15.0-py2.py3-none-any.whl.metadata (1.3 kB)\n",
            "Collecting keras<2.16,>=2.15.0 (from tensorflow==2.15.0)\n",
            "  Downloading keras-2.15.0-py3-none-any.whl.metadata (2.4 kB)\n",
            "Requirement already satisfied: wheel<1.0,>=0.23.0 in /usr/local/lib/python3.10/dist-packages (from astunparse>=1.6.0->tensorflow==2.15.0) (0.45.0)\n",
            "Requirement already satisfied: google-auth<3,>=1.6.3 in /usr/local/lib/python3.10/dist-packages (from tensorboard<2.16,>=2.15->tensorflow==2.15.0) (2.27.0)\n",
            "Requirement already satisfied: google-auth-oauthlib<2,>=0.5 in /usr/local/lib/python3.10/dist-packages (from tensorboard<2.16,>=2.15->tensorflow==2.15.0) (1.2.1)\n",
            "Requirement already satisfied: markdown>=2.6.8 in /usr/local/lib/python3.10/dist-packages (from tensorboard<2.16,>=2.15->tensorflow==2.15.0) (3.7)\n",
            "Requirement already satisfied: requests<3,>=2.21.0 in /usr/local/lib/python3.10/dist-packages (from tensorboard<2.16,>=2.15->tensorflow==2.15.0) (2.32.3)\n",
            "Requirement already satisfied: tensorboard-data-server<0.8.0,>=0.7.0 in /usr/local/lib/python3.10/dist-packages (from tensorboard<2.16,>=2.15->tensorflow==2.15.0) (0.7.2)\n",
            "Requirement already satisfied: werkzeug>=1.0.1 in /usr/local/lib/python3.10/dist-packages (from tensorboard<2.16,>=2.15->tensorflow==2.15.0) (3.1.3)\n",
            "Requirement already satisfied: cachetools<6.0,>=2.0.0 in /usr/local/lib/python3.10/dist-packages (from google-auth<3,>=1.6.3->tensorboard<2.16,>=2.15->tensorflow==2.15.0) (5.5.0)\n",
            "Requirement already satisfied: pyasn1-modules>=0.2.1 in /usr/local/lib/python3.10/dist-packages (from google-auth<3,>=1.6.3->tensorboard<2.16,>=2.15->tensorflow==2.15.0) (0.4.1)\n",
            "Requirement already satisfied: rsa<5,>=3.1.4 in /usr/local/lib/python3.10/dist-packages (from google-auth<3,>=1.6.3->tensorboard<2.16,>=2.15->tensorflow==2.15.0) (4.9)\n",
            "Requirement already satisfied: requests-oauthlib>=0.7.0 in /usr/local/lib/python3.10/dist-packages (from google-auth-oauthlib<2,>=0.5->tensorboard<2.16,>=2.15->tensorflow==2.15.0) (1.3.1)\n",
            "Requirement already satisfied: charset-normalizer<4,>=2 in /usr/local/lib/python3.10/dist-packages (from requests<3,>=2.21.0->tensorboard<2.16,>=2.15->tensorflow==2.15.0) (3.4.0)\n",
            "Requirement already satisfied: idna<4,>=2.5 in /usr/local/lib/python3.10/dist-packages (from requests<3,>=2.21.0->tensorboard<2.16,>=2.15->tensorflow==2.15.0) (3.10)\n",
            "Requirement already satisfied: urllib3<3,>=1.21.1 in /usr/local/lib/python3.10/dist-packages (from requests<3,>=2.21.0->tensorboard<2.16,>=2.15->tensorflow==2.15.0) (2.2.3)\n",
            "Requirement already satisfied: certifi>=2017.4.17 in /usr/local/lib/python3.10/dist-packages (from requests<3,>=2.21.0->tensorboard<2.16,>=2.15->tensorflow==2.15.0) (2024.8.30)\n",
            "Requirement already satisfied: MarkupSafe>=2.1.1 in /usr/local/lib/python3.10/dist-packages (from werkzeug>=1.0.1->tensorboard<2.16,>=2.15->tensorflow==2.15.0) (3.0.2)\n",
            "Requirement already satisfied: pyasn1<0.7.0,>=0.4.6 in /usr/local/lib/python3.10/dist-packages (from pyasn1-modules>=0.2.1->google-auth<3,>=1.6.3->tensorboard<2.16,>=2.15->tensorflow==2.15.0) (0.6.1)\n",
            "Requirement already satisfied: oauthlib>=3.0.0 in /usr/local/lib/python3.10/dist-packages (from requests-oauthlib>=0.7.0->google-auth-oauthlib<2,>=0.5->tensorboard<2.16,>=2.15->tensorflow==2.15.0) (3.2.2)\n",
            "Downloading tensorflow-2.15.0-cp310-cp310-manylinux_2_17_x86_64.manylinux2014_x86_64.whl (475.2 MB)\n",
            "\u001b[2K   \u001b[90m━━━━━━━━━━━━━━━━━━━━━━━━━━━━━━━━━━━━━━━━\u001b[0m \u001b[32m475.2/475.2 MB\u001b[0m \u001b[31m3.9 MB/s\u001b[0m eta \u001b[36m0:00:00\u001b[0m\n",
            "\u001b[?25hDownloading keras-2.15.0-py3-none-any.whl (1.7 MB)\n",
            "\u001b[2K   \u001b[90m━━━━━━━━━━━━━━━━━━━━━━━━━━━━━━━━━━━━━━━━\u001b[0m \u001b[32m1.7/1.7 MB\u001b[0m \u001b[31m70.1 MB/s\u001b[0m eta \u001b[36m0:00:00\u001b[0m\n",
            "\u001b[?25hDownloading ml_dtypes-0.2.0-cp310-cp310-manylinux_2_17_x86_64.manylinux2014_x86_64.whl (1.0 MB)\n",
            "\u001b[2K   \u001b[90m━━━━━━━━━━━━━━━━━━━━━━━━━━━━━━━━━━━━━━━━\u001b[0m \u001b[32m1.0/1.0 MB\u001b[0m \u001b[31m57.8 MB/s\u001b[0m eta \u001b[36m0:00:00\u001b[0m\n",
            "\u001b[?25hDownloading tensorboard-2.15.2-py3-none-any.whl (5.5 MB)\n",
            "\u001b[2K   \u001b[90m━━━━━━━━━━━━━━━━━━━━━━━━━━━━━━━━━━━━━━━━\u001b[0m \u001b[32m5.5/5.5 MB\u001b[0m \u001b[31m99.9 MB/s\u001b[0m eta \u001b[36m0:00:00\u001b[0m\n",
            "\u001b[?25hDownloading tensorflow_estimator-2.15.0-py2.py3-none-any.whl (441 kB)\n",
            "\u001b[2K   \u001b[90m━━━━━━━━━━━━━━━━━━━━━━━━━━━━━━━━━━━━━━━━\u001b[0m \u001b[32m442.0/442.0 kB\u001b[0m \u001b[31m37.0 MB/s\u001b[0m eta \u001b[36m0:00:00\u001b[0m\n",
            "\u001b[?25hDownloading wrapt-1.14.1-cp310-cp310-manylinux_2_5_x86_64.manylinux1_x86_64.manylinux_2_17_x86_64.manylinux2014_x86_64.whl (77 kB)\n",
            "\u001b[2K   \u001b[90m━━━━━━━━━━━━━━━━━━━━━━━━━━━━━━━━━━━━━━━━\u001b[0m \u001b[32m77.9/77.9 kB\u001b[0m \u001b[31m6.3 MB/s\u001b[0m eta \u001b[36m0:00:00\u001b[0m\n",
            "\u001b[?25hInstalling collected packages: wrapt, tensorflow-estimator, ml-dtypes, keras, tensorboard, tensorflow\n",
            "  Attempting uninstall: wrapt\n",
            "    Found existing installation: wrapt 1.16.0\n",
            "    Uninstalling wrapt-1.16.0:\n",
            "      Successfully uninstalled wrapt-1.16.0\n",
            "  Attempting uninstall: ml-dtypes\n",
            "    Found existing installation: ml-dtypes 0.4.1\n",
            "    Uninstalling ml-dtypes-0.4.1:\n",
            "      Successfully uninstalled ml-dtypes-0.4.1\n",
            "  Attempting uninstall: keras\n",
            "    Found existing installation: keras 3.5.0\n",
            "    Uninstalling keras-3.5.0:\n",
            "      Successfully uninstalled keras-3.5.0\n",
            "  Attempting uninstall: tensorboard\n",
            "    Found existing installation: tensorboard 2.18.0\n",
            "    Uninstalling tensorboard-2.18.0:\n",
            "      Successfully uninstalled tensorboard-2.18.0\n",
            "  Attempting uninstall: tensorflow\n",
            "    Found existing installation: tensorflow 2.18.0\n",
            "    Uninstalling tensorflow-2.18.0:\n",
            "      Successfully uninstalled tensorflow-2.18.0\n",
            "\u001b[31mERROR: pip's dependency resolver does not currently take into account all the packages that are installed. This behaviour is the source of the following dependency conflicts.\n",
            "tensorflow-decision-forests 1.11.0 requires tensorflow==2.18.0, but you have tensorflow 2.15.0 which is incompatible.\n",
            "tensorstore 0.1.68 requires ml-dtypes>=0.3.1, but you have ml-dtypes 0.2.0 which is incompatible.\n",
            "tf-keras 2.18.0 requires tensorflow<2.19,>=2.18, but you have tensorflow 2.15.0 which is incompatible.\u001b[0m\u001b[31m\n",
            "\u001b[0mSuccessfully installed keras-2.15.0 ml-dtypes-0.2.0 tensorboard-2.15.2 tensorflow-2.15.0 tensorflow-estimator-2.15.0 wrapt-1.14.1\n"
          ]
        }
      ]
    },
    {
      "cell_type": "code",
      "source": [
        "!pip3 install tensorflow_decision_forests==1.8.1"
      ],
      "metadata": {
        "colab": {
          "base_uri": "https://localhost:8080/"
        },
        "id": "gEGDraXORxvt",
        "outputId": "54652e61-e770-49e7-a47c-fa81714ec47d"
      },
      "id": "gEGDraXORxvt",
      "execution_count": null,
      "outputs": [
        {
          "output_type": "stream",
          "name": "stdout",
          "text": [
            "Collecting tensorflow_decision_forests==1.8.1\n",
            "  Downloading tensorflow_decision_forests-1.8.1-cp310-cp310-manylinux_2_17_x86_64.manylinux2014_x86_64.whl.metadata (6.0 kB)\n",
            "Requirement already satisfied: numpy in /usr/local/lib/python3.10/dist-packages (from tensorflow_decision_forests==1.8.1) (1.26.4)\n",
            "Requirement already satisfied: pandas in /usr/local/lib/python3.10/dist-packages (from tensorflow_decision_forests==1.8.1) (2.2.2)\n",
            "Requirement already satisfied: tensorflow~=2.15.0 in /usr/local/lib/python3.10/dist-packages (from tensorflow_decision_forests==1.8.1) (2.15.0)\n",
            "Requirement already satisfied: six in /usr/local/lib/python3.10/dist-packages (from tensorflow_decision_forests==1.8.1) (1.16.0)\n",
            "Requirement already satisfied: absl-py in /usr/local/lib/python3.10/dist-packages (from tensorflow_decision_forests==1.8.1) (1.4.0)\n",
            "Requirement already satisfied: wheel in /usr/local/lib/python3.10/dist-packages (from tensorflow_decision_forests==1.8.1) (0.45.0)\n",
            "Requirement already satisfied: wurlitzer in /usr/local/lib/python3.10/dist-packages (from tensorflow_decision_forests==1.8.1) (3.1.1)\n",
            "Requirement already satisfied: astunparse>=1.6.0 in /usr/local/lib/python3.10/dist-packages (from tensorflow~=2.15.0->tensorflow_decision_forests==1.8.1) (1.6.3)\n",
            "Requirement already satisfied: flatbuffers>=23.5.26 in /usr/local/lib/python3.10/dist-packages (from tensorflow~=2.15.0->tensorflow_decision_forests==1.8.1) (24.3.25)\n",
            "Requirement already satisfied: gast!=0.5.0,!=0.5.1,!=0.5.2,>=0.2.1 in /usr/local/lib/python3.10/dist-packages (from tensorflow~=2.15.0->tensorflow_decision_forests==1.8.1) (0.6.0)\n",
            "Requirement already satisfied: google-pasta>=0.1.1 in /usr/local/lib/python3.10/dist-packages (from tensorflow~=2.15.0->tensorflow_decision_forests==1.8.1) (0.2.0)\n",
            "Requirement already satisfied: h5py>=2.9.0 in /usr/local/lib/python3.10/dist-packages (from tensorflow~=2.15.0->tensorflow_decision_forests==1.8.1) (3.12.1)\n",
            "Requirement already satisfied: libclang>=13.0.0 in /usr/local/lib/python3.10/dist-packages (from tensorflow~=2.15.0->tensorflow_decision_forests==1.8.1) (18.1.1)\n",
            "Requirement already satisfied: ml-dtypes~=0.2.0 in /usr/local/lib/python3.10/dist-packages (from tensorflow~=2.15.0->tensorflow_decision_forests==1.8.1) (0.2.0)\n",
            "Requirement already satisfied: opt-einsum>=2.3.2 in /usr/local/lib/python3.10/dist-packages (from tensorflow~=2.15.0->tensorflow_decision_forests==1.8.1) (3.4.0)\n",
            "Requirement already satisfied: packaging in /usr/local/lib/python3.10/dist-packages (from tensorflow~=2.15.0->tensorflow_decision_forests==1.8.1) (23.2)\n",
            "Requirement already satisfied: protobuf!=4.21.0,!=4.21.1,!=4.21.2,!=4.21.3,!=4.21.4,!=4.21.5,<5.0.0dev,>=3.20.3 in /usr/local/lib/python3.10/dist-packages (from tensorflow~=2.15.0->tensorflow_decision_forests==1.8.1) (4.25.5)\n",
            "Requirement already satisfied: setuptools in /usr/local/lib/python3.10/dist-packages (from tensorflow~=2.15.0->tensorflow_decision_forests==1.8.1) (75.1.0)\n",
            "Requirement already satisfied: termcolor>=1.1.0 in /usr/local/lib/python3.10/dist-packages (from tensorflow~=2.15.0->tensorflow_decision_forests==1.8.1) (2.5.0)\n",
            "Requirement already satisfied: typing-extensions>=3.6.6 in /usr/local/lib/python3.10/dist-packages (from tensorflow~=2.15.0->tensorflow_decision_forests==1.8.1) (4.12.2)\n",
            "Requirement already satisfied: wrapt<1.15,>=1.11.0 in /usr/local/lib/python3.10/dist-packages (from tensorflow~=2.15.0->tensorflow_decision_forests==1.8.1) (1.14.1)\n",
            "Requirement already satisfied: tensorflow-io-gcs-filesystem>=0.23.1 in /usr/local/lib/python3.10/dist-packages (from tensorflow~=2.15.0->tensorflow_decision_forests==1.8.1) (0.37.1)\n",
            "Requirement already satisfied: grpcio<2.0,>=1.24.3 in /usr/local/lib/python3.10/dist-packages (from tensorflow~=2.15.0->tensorflow_decision_forests==1.8.1) (1.68.0)\n",
            "Requirement already satisfied: tensorboard<2.16,>=2.15 in /usr/local/lib/python3.10/dist-packages (from tensorflow~=2.15.0->tensorflow_decision_forests==1.8.1) (2.15.2)\n",
            "Requirement already satisfied: tensorflow-estimator<2.16,>=2.15.0 in /usr/local/lib/python3.10/dist-packages (from tensorflow~=2.15.0->tensorflow_decision_forests==1.8.1) (2.15.0)\n",
            "Requirement already satisfied: keras<2.16,>=2.15.0 in /usr/local/lib/python3.10/dist-packages (from tensorflow~=2.15.0->tensorflow_decision_forests==1.8.1) (2.15.0)\n",
            "Requirement already satisfied: python-dateutil>=2.8.2 in /usr/local/lib/python3.10/dist-packages (from pandas->tensorflow_decision_forests==1.8.1) (2.8.2)\n",
            "Requirement already satisfied: pytz>=2020.1 in /usr/local/lib/python3.10/dist-packages (from pandas->tensorflow_decision_forests==1.8.1) (2024.2)\n",
            "Requirement already satisfied: tzdata>=2022.7 in /usr/local/lib/python3.10/dist-packages (from pandas->tensorflow_decision_forests==1.8.1) (2024.2)\n",
            "Requirement already satisfied: google-auth<3,>=1.6.3 in /usr/local/lib/python3.10/dist-packages (from tensorboard<2.16,>=2.15->tensorflow~=2.15.0->tensorflow_decision_forests==1.8.1) (2.27.0)\n",
            "Requirement already satisfied: google-auth-oauthlib<2,>=0.5 in /usr/local/lib/python3.10/dist-packages (from tensorboard<2.16,>=2.15->tensorflow~=2.15.0->tensorflow_decision_forests==1.8.1) (1.2.1)\n",
            "Requirement already satisfied: markdown>=2.6.8 in /usr/local/lib/python3.10/dist-packages (from tensorboard<2.16,>=2.15->tensorflow~=2.15.0->tensorflow_decision_forests==1.8.1) (3.7)\n",
            "Requirement already satisfied: requests<3,>=2.21.0 in /usr/local/lib/python3.10/dist-packages (from tensorboard<2.16,>=2.15->tensorflow~=2.15.0->tensorflow_decision_forests==1.8.1) (2.32.3)\n",
            "Requirement already satisfied: tensorboard-data-server<0.8.0,>=0.7.0 in /usr/local/lib/python3.10/dist-packages (from tensorboard<2.16,>=2.15->tensorflow~=2.15.0->tensorflow_decision_forests==1.8.1) (0.7.2)\n",
            "Requirement already satisfied: werkzeug>=1.0.1 in /usr/local/lib/python3.10/dist-packages (from tensorboard<2.16,>=2.15->tensorflow~=2.15.0->tensorflow_decision_forests==1.8.1) (3.1.3)\n",
            "Requirement already satisfied: cachetools<6.0,>=2.0.0 in /usr/local/lib/python3.10/dist-packages (from google-auth<3,>=1.6.3->tensorboard<2.16,>=2.15->tensorflow~=2.15.0->tensorflow_decision_forests==1.8.1) (5.5.0)\n",
            "Requirement already satisfied: pyasn1-modules>=0.2.1 in /usr/local/lib/python3.10/dist-packages (from google-auth<3,>=1.6.3->tensorboard<2.16,>=2.15->tensorflow~=2.15.0->tensorflow_decision_forests==1.8.1) (0.4.1)\n",
            "Requirement already satisfied: rsa<5,>=3.1.4 in /usr/local/lib/python3.10/dist-packages (from google-auth<3,>=1.6.3->tensorboard<2.16,>=2.15->tensorflow~=2.15.0->tensorflow_decision_forests==1.8.1) (4.9)\n",
            "Requirement already satisfied: requests-oauthlib>=0.7.0 in /usr/local/lib/python3.10/dist-packages (from google-auth-oauthlib<2,>=0.5->tensorboard<2.16,>=2.15->tensorflow~=2.15.0->tensorflow_decision_forests==1.8.1) (1.3.1)\n",
            "Requirement already satisfied: charset-normalizer<4,>=2 in /usr/local/lib/python3.10/dist-packages (from requests<3,>=2.21.0->tensorboard<2.16,>=2.15->tensorflow~=2.15.0->tensorflow_decision_forests==1.8.1) (3.4.0)\n",
            "Requirement already satisfied: idna<4,>=2.5 in /usr/local/lib/python3.10/dist-packages (from requests<3,>=2.21.0->tensorboard<2.16,>=2.15->tensorflow~=2.15.0->tensorflow_decision_forests==1.8.1) (3.10)\n",
            "Requirement already satisfied: urllib3<3,>=1.21.1 in /usr/local/lib/python3.10/dist-packages (from requests<3,>=2.21.0->tensorboard<2.16,>=2.15->tensorflow~=2.15.0->tensorflow_decision_forests==1.8.1) (2.2.3)\n",
            "Requirement already satisfied: certifi>=2017.4.17 in /usr/local/lib/python3.10/dist-packages (from requests<3,>=2.21.0->tensorboard<2.16,>=2.15->tensorflow~=2.15.0->tensorflow_decision_forests==1.8.1) (2024.8.30)\n",
            "Requirement already satisfied: MarkupSafe>=2.1.1 in /usr/local/lib/python3.10/dist-packages (from werkzeug>=1.0.1->tensorboard<2.16,>=2.15->tensorflow~=2.15.0->tensorflow_decision_forests==1.8.1) (3.0.2)\n",
            "Requirement already satisfied: pyasn1<0.7.0,>=0.4.6 in /usr/local/lib/python3.10/dist-packages (from pyasn1-modules>=0.2.1->google-auth<3,>=1.6.3->tensorboard<2.16,>=2.15->tensorflow~=2.15.0->tensorflow_decision_forests==1.8.1) (0.6.1)\n",
            "Requirement already satisfied: oauthlib>=3.0.0 in /usr/local/lib/python3.10/dist-packages (from requests-oauthlib>=0.7.0->google-auth-oauthlib<2,>=0.5->tensorboard<2.16,>=2.15->tensorflow~=2.15.0->tensorflow_decision_forests==1.8.1) (3.2.2)\n",
            "Downloading tensorflow_decision_forests-1.8.1-cp310-cp310-manylinux_2_17_x86_64.manylinux2014_x86_64.whl (15.3 MB)\n",
            "\u001b[2K   \u001b[90m━━━━━━━━━━━━━━━━━━━━━━━━━━━━━━━━━━━━━━━━\u001b[0m \u001b[32m15.3/15.3 MB\u001b[0m \u001b[31m54.6 MB/s\u001b[0m eta \u001b[36m0:00:00\u001b[0m\n",
            "\u001b[?25hInstalling collected packages: tensorflow_decision_forests\n",
            "  Attempting uninstall: tensorflow_decision_forests\n",
            "    Found existing installation: tensorflow_decision_forests 1.11.0\n",
            "    Uninstalling tensorflow_decision_forests-1.11.0:\n",
            "      Successfully uninstalled tensorflow_decision_forests-1.11.0\n",
            "Successfully installed tensorflow_decision_forests-1.8.1\n"
          ]
        }
      ]
    },
    {
      "cell_type": "code",
      "source": [
        "# Install TensorFlow 2.11.0 (compatible with TensorFlow.js)\n",
        "!pip install tensorflow==2.15.0\n",
        "\n",
        "!pip tensorflow_decision_forests==1.8.1\n",
        "# Install TensorFlow.js\n",
        "!pip install tensorflowjs"
      ],
      "metadata": {
        "colab": {
          "base_uri": "https://localhost:8080/",
          "height": 1000
        },
        "id": "Zs2VRB-fzpms",
        "outputId": "6da387b6-a97a-40aa-d33e-51c0450687b6"
      },
      "id": "Zs2VRB-fzpms",
      "execution_count": null,
      "outputs": [
        {
          "output_type": "stream",
          "name": "stdout",
          "text": [
            "Collecting tensorflow==2.15.0\n",
            "  Using cached tensorflow-2.15.0-cp310-cp310-manylinux_2_17_x86_64.manylinux2014_x86_64.whl.metadata (4.4 kB)\n",
            "Requirement already satisfied: absl-py>=1.0.0 in /usr/local/lib/python3.10/dist-packages (from tensorflow==2.15.0) (1.4.0)\n",
            "Requirement already satisfied: astunparse>=1.6.0 in /usr/local/lib/python3.10/dist-packages (from tensorflow==2.15.0) (1.6.3)\n",
            "Requirement already satisfied: flatbuffers>=23.5.26 in /usr/local/lib/python3.10/dist-packages (from tensorflow==2.15.0) (24.3.25)\n",
            "Requirement already satisfied: gast!=0.5.0,!=0.5.1,!=0.5.2,>=0.2.1 in /usr/local/lib/python3.10/dist-packages (from tensorflow==2.15.0) (0.6.0)\n",
            "Requirement already satisfied: google-pasta>=0.1.1 in /usr/local/lib/python3.10/dist-packages (from tensorflow==2.15.0) (0.2.0)\n",
            "Requirement already satisfied: h5py>=2.9.0 in /usr/local/lib/python3.10/dist-packages (from tensorflow==2.15.0) (3.12.1)\n",
            "Requirement already satisfied: libclang>=13.0.0 in /usr/local/lib/python3.10/dist-packages (from tensorflow==2.15.0) (18.1.1)\n",
            "Collecting ml-dtypes~=0.2.0 (from tensorflow==2.15.0)\n",
            "  Using cached ml_dtypes-0.2.0-cp310-cp310-manylinux_2_17_x86_64.manylinux2014_x86_64.whl.metadata (20 kB)\n",
            "Requirement already satisfied: numpy<2.0.0,>=1.23.5 in /usr/local/lib/python3.10/dist-packages (from tensorflow==2.15.0) (1.26.4)\n",
            "Requirement already satisfied: opt-einsum>=2.3.2 in /usr/local/lib/python3.10/dist-packages (from tensorflow==2.15.0) (3.4.0)\n",
            "Requirement already satisfied: packaging in /usr/local/lib/python3.10/dist-packages (from tensorflow==2.15.0) (23.2)\n",
            "Requirement already satisfied: protobuf!=4.21.0,!=4.21.1,!=4.21.2,!=4.21.3,!=4.21.4,!=4.21.5,<5.0.0dev,>=3.20.3 in /usr/local/lib/python3.10/dist-packages (from tensorflow==2.15.0) (4.25.5)\n",
            "Requirement already satisfied: setuptools in /usr/local/lib/python3.10/dist-packages (from tensorflow==2.15.0) (75.1.0)\n",
            "Requirement already satisfied: six>=1.12.0 in /usr/local/lib/python3.10/dist-packages (from tensorflow==2.15.0) (1.16.0)\n",
            "Requirement already satisfied: termcolor>=1.1.0 in /usr/local/lib/python3.10/dist-packages (from tensorflow==2.15.0) (2.5.0)\n",
            "Requirement already satisfied: typing-extensions>=3.6.6 in /usr/local/lib/python3.10/dist-packages (from tensorflow==2.15.0) (4.12.2)\n",
            "Requirement already satisfied: wrapt<1.15,>=1.11.0 in /usr/local/lib/python3.10/dist-packages (from tensorflow==2.15.0) (1.14.1)\n",
            "Requirement already satisfied: tensorflow-io-gcs-filesystem>=0.23.1 in /usr/local/lib/python3.10/dist-packages (from tensorflow==2.15.0) (0.37.1)\n",
            "Requirement already satisfied: grpcio<2.0,>=1.24.3 in /usr/local/lib/python3.10/dist-packages (from tensorflow==2.15.0) (1.68.0)\n",
            "Collecting tensorboard<2.16,>=2.15 (from tensorflow==2.15.0)\n",
            "  Using cached tensorboard-2.15.2-py3-none-any.whl.metadata (1.7 kB)\n",
            "Requirement already satisfied: tensorflow-estimator<2.16,>=2.15.0 in /usr/local/lib/python3.10/dist-packages (from tensorflow==2.15.0) (2.15.0)\n",
            "Collecting keras<2.16,>=2.15.0 (from tensorflow==2.15.0)\n",
            "  Using cached keras-2.15.0-py3-none-any.whl.metadata (2.4 kB)\n",
            "Requirement already satisfied: wheel<1.0,>=0.23.0 in /usr/local/lib/python3.10/dist-packages (from astunparse>=1.6.0->tensorflow==2.15.0) (0.45.0)\n",
            "Requirement already satisfied: google-auth<3,>=1.6.3 in /usr/local/lib/python3.10/dist-packages (from tensorboard<2.16,>=2.15->tensorflow==2.15.0) (2.27.0)\n",
            "Requirement already satisfied: google-auth-oauthlib<2,>=0.5 in /usr/local/lib/python3.10/dist-packages (from tensorboard<2.16,>=2.15->tensorflow==2.15.0) (1.2.1)\n",
            "Requirement already satisfied: markdown>=2.6.8 in /usr/local/lib/python3.10/dist-packages (from tensorboard<2.16,>=2.15->tensorflow==2.15.0) (3.7)\n",
            "Requirement already satisfied: requests<3,>=2.21.0 in /usr/local/lib/python3.10/dist-packages (from tensorboard<2.16,>=2.15->tensorflow==2.15.0) (2.32.3)\n",
            "Requirement already satisfied: tensorboard-data-server<0.8.0,>=0.7.0 in /usr/local/lib/python3.10/dist-packages (from tensorboard<2.16,>=2.15->tensorflow==2.15.0) (0.7.2)\n",
            "Requirement already satisfied: werkzeug>=1.0.1 in /usr/local/lib/python3.10/dist-packages (from tensorboard<2.16,>=2.15->tensorflow==2.15.0) (3.1.3)\n",
            "Requirement already satisfied: cachetools<6.0,>=2.0.0 in /usr/local/lib/python3.10/dist-packages (from google-auth<3,>=1.6.3->tensorboard<2.16,>=2.15->tensorflow==2.15.0) (5.5.0)\n",
            "Requirement already satisfied: pyasn1-modules>=0.2.1 in /usr/local/lib/python3.10/dist-packages (from google-auth<3,>=1.6.3->tensorboard<2.16,>=2.15->tensorflow==2.15.0) (0.4.1)\n",
            "Requirement already satisfied: rsa<5,>=3.1.4 in /usr/local/lib/python3.10/dist-packages (from google-auth<3,>=1.6.3->tensorboard<2.16,>=2.15->tensorflow==2.15.0) (4.9)\n",
            "Requirement already satisfied: requests-oauthlib>=0.7.0 in /usr/local/lib/python3.10/dist-packages (from google-auth-oauthlib<2,>=0.5->tensorboard<2.16,>=2.15->tensorflow==2.15.0) (1.3.1)\n",
            "Requirement already satisfied: charset-normalizer<4,>=2 in /usr/local/lib/python3.10/dist-packages (from requests<3,>=2.21.0->tensorboard<2.16,>=2.15->tensorflow==2.15.0) (3.4.0)\n",
            "Requirement already satisfied: idna<4,>=2.5 in /usr/local/lib/python3.10/dist-packages (from requests<3,>=2.21.0->tensorboard<2.16,>=2.15->tensorflow==2.15.0) (3.10)\n",
            "Requirement already satisfied: urllib3<3,>=1.21.1 in /usr/local/lib/python3.10/dist-packages (from requests<3,>=2.21.0->tensorboard<2.16,>=2.15->tensorflow==2.15.0) (2.2.3)\n",
            "Requirement already satisfied: certifi>=2017.4.17 in /usr/local/lib/python3.10/dist-packages (from requests<3,>=2.21.0->tensorboard<2.16,>=2.15->tensorflow==2.15.0) (2024.8.30)\n",
            "Requirement already satisfied: MarkupSafe>=2.1.1 in /usr/local/lib/python3.10/dist-packages (from werkzeug>=1.0.1->tensorboard<2.16,>=2.15->tensorflow==2.15.0) (3.0.2)\n",
            "Requirement already satisfied: pyasn1<0.7.0,>=0.4.6 in /usr/local/lib/python3.10/dist-packages (from pyasn1-modules>=0.2.1->google-auth<3,>=1.6.3->tensorboard<2.16,>=2.15->tensorflow==2.15.0) (0.6.1)\n",
            "Requirement already satisfied: oauthlib>=3.0.0 in /usr/local/lib/python3.10/dist-packages (from requests-oauthlib>=0.7.0->google-auth-oauthlib<2,>=0.5->tensorboard<2.16,>=2.15->tensorflow==2.15.0) (3.2.2)\n",
            "Using cached tensorflow-2.15.0-cp310-cp310-manylinux_2_17_x86_64.manylinux2014_x86_64.whl (475.2 MB)\n",
            "Using cached keras-2.15.0-py3-none-any.whl (1.7 MB)\n",
            "Using cached ml_dtypes-0.2.0-cp310-cp310-manylinux_2_17_x86_64.manylinux2014_x86_64.whl (1.0 MB)\n",
            "Using cached tensorboard-2.15.2-py3-none-any.whl (5.5 MB)\n",
            "Installing collected packages: ml-dtypes, keras, tensorboard, tensorflow\n",
            "  Attempting uninstall: ml-dtypes\n",
            "    Found existing installation: ml-dtypes 0.4.1\n",
            "    Uninstalling ml-dtypes-0.4.1:\n",
            "      Successfully uninstalled ml-dtypes-0.4.1\n",
            "  Attempting uninstall: keras\n",
            "    Found existing installation: keras 3.6.0\n",
            "    Uninstalling keras-3.6.0:\n",
            "      Successfully uninstalled keras-3.6.0\n",
            "  Attempting uninstall: tensorboard\n",
            "    Found existing installation: tensorboard 2.18.0\n",
            "    Uninstalling tensorboard-2.18.0:\n",
            "      Successfully uninstalled tensorboard-2.18.0\n",
            "  Attempting uninstall: tensorflow\n",
            "    Found existing installation: tensorflow 2.18.0\n",
            "    Uninstalling tensorflow-2.18.0:\n",
            "      Successfully uninstalled tensorflow-2.18.0\n",
            "\u001b[31mERROR: pip's dependency resolver does not currently take into account all the packages that are installed. This behaviour is the source of the following dependency conflicts.\n",
            "tensorflow-decision-forests 1.11.0 requires tensorflow==2.18.0, but you have tensorflow 2.15.0 which is incompatible.\n",
            "tensorstore 0.1.68 requires ml-dtypes>=0.3.1, but you have ml-dtypes 0.2.0 which is incompatible.\n",
            "tf-keras 2.18.0 requires tensorflow<2.19,>=2.18, but you have tensorflow 2.15.0 which is incompatible.\u001b[0m\u001b[31m\n",
            "\u001b[0mSuccessfully installed keras-2.15.0 ml-dtypes-0.2.0 tensorboard-2.15.2 tensorflow-2.15.0\n"
          ]
        },
        {
          "output_type": "display_data",
          "data": {
            "application/vnd.colab-display-data+json": {
              "pip_warning": {
                "packages": [
                  "keras",
                  "ml_dtypes",
                  "tensorflow"
                ]
              },
              "id": "e921b10d9222448b9876906db315c9ed"
            }
          },
          "metadata": {}
        },
        {
          "output_type": "stream",
          "name": "stdout",
          "text": [
            "ERROR: unknown command \"tensorflow_decision_forests==1.8.1\"\n",
            "Requirement already satisfied: tensorflowjs in /usr/local/lib/python3.10/dist-packages (4.22.0)\n",
            "Requirement already satisfied: flax>=0.7.2 in /usr/local/lib/python3.10/dist-packages (from tensorflowjs) (0.8.5)\n",
            "Requirement already satisfied: importlib_resources>=5.9.0 in /usr/local/lib/python3.10/dist-packages (from tensorflowjs) (6.4.5)\n",
            "Requirement already satisfied: jax>=0.4.13 in /usr/local/lib/python3.10/dist-packages (from tensorflowjs) (0.4.33)\n",
            "Requirement already satisfied: jaxlib>=0.4.13 in /usr/local/lib/python3.10/dist-packages (from tensorflowjs) (0.4.33)\n",
            "Requirement already satisfied: tensorflow<3,>=2.13.0 in /usr/local/lib/python3.10/dist-packages (from tensorflowjs) (2.15.0)\n",
            "Requirement already satisfied: tf-keras>=2.13.0 in /usr/local/lib/python3.10/dist-packages (from tensorflowjs) (2.18.0)\n",
            "Requirement already satisfied: tensorflow-decision-forests>=1.5.0 in /usr/local/lib/python3.10/dist-packages (from tensorflowjs) (1.11.0)\n",
            "Requirement already satisfied: six<2,>=1.16.0 in /usr/local/lib/python3.10/dist-packages (from tensorflowjs) (1.16.0)\n",
            "Requirement already satisfied: tensorflow-hub>=0.16.1 in /usr/local/lib/python3.10/dist-packages (from tensorflowjs) (0.16.1)\n",
            "Requirement already satisfied: packaging~=23.1 in /usr/local/lib/python3.10/dist-packages (from tensorflowjs) (23.2)\n",
            "Requirement already satisfied: numpy>=1.22 in /usr/local/lib/python3.10/dist-packages (from flax>=0.7.2->tensorflowjs) (1.26.4)\n",
            "Requirement already satisfied: msgpack in /usr/local/lib/python3.10/dist-packages (from flax>=0.7.2->tensorflowjs) (1.1.0)\n",
            "Requirement already satisfied: optax in /usr/local/lib/python3.10/dist-packages (from flax>=0.7.2->tensorflowjs) (0.2.4)\n",
            "Requirement already satisfied: orbax-checkpoint in /usr/local/lib/python3.10/dist-packages (from flax>=0.7.2->tensorflowjs) (0.6.4)\n",
            "Requirement already satisfied: tensorstore in /usr/local/lib/python3.10/dist-packages (from flax>=0.7.2->tensorflowjs) (0.1.68)\n",
            "Requirement already satisfied: rich>=11.1 in /usr/local/lib/python3.10/dist-packages (from flax>=0.7.2->tensorflowjs) (13.9.4)\n",
            "Requirement already satisfied: typing-extensions>=4.2 in /usr/local/lib/python3.10/dist-packages (from flax>=0.7.2->tensorflowjs) (4.12.2)\n",
            "Requirement already satisfied: PyYAML>=5.4.1 in /usr/local/lib/python3.10/dist-packages (from flax>=0.7.2->tensorflowjs) (6.0.2)\n",
            "Requirement already satisfied: ml-dtypes>=0.2.0 in /usr/local/lib/python3.10/dist-packages (from jax>=0.4.13->tensorflowjs) (0.2.0)\n",
            "Requirement already satisfied: opt-einsum in /usr/local/lib/python3.10/dist-packages (from jax>=0.4.13->tensorflowjs) (3.4.0)\n",
            "Requirement already satisfied: scipy>=1.10 in /usr/local/lib/python3.10/dist-packages (from jax>=0.4.13->tensorflowjs) (1.13.1)\n",
            "Requirement already satisfied: absl-py>=1.0.0 in /usr/local/lib/python3.10/dist-packages (from tensorflow<3,>=2.13.0->tensorflowjs) (1.4.0)\n",
            "Requirement already satisfied: astunparse>=1.6.0 in /usr/local/lib/python3.10/dist-packages (from tensorflow<3,>=2.13.0->tensorflowjs) (1.6.3)\n",
            "Requirement already satisfied: flatbuffers>=23.5.26 in /usr/local/lib/python3.10/dist-packages (from tensorflow<3,>=2.13.0->tensorflowjs) (24.3.25)\n",
            "Requirement already satisfied: gast!=0.5.0,!=0.5.1,!=0.5.2,>=0.2.1 in /usr/local/lib/python3.10/dist-packages (from tensorflow<3,>=2.13.0->tensorflowjs) (0.6.0)\n",
            "Requirement already satisfied: google-pasta>=0.1.1 in /usr/local/lib/python3.10/dist-packages (from tensorflow<3,>=2.13.0->tensorflowjs) (0.2.0)\n",
            "Requirement already satisfied: h5py>=2.9.0 in /usr/local/lib/python3.10/dist-packages (from tensorflow<3,>=2.13.0->tensorflowjs) (3.12.1)\n",
            "Requirement already satisfied: libclang>=13.0.0 in /usr/local/lib/python3.10/dist-packages (from tensorflow<3,>=2.13.0->tensorflowjs) (18.1.1)\n",
            "Requirement already satisfied: protobuf!=4.21.0,!=4.21.1,!=4.21.2,!=4.21.3,!=4.21.4,!=4.21.5,<5.0.0dev,>=3.20.3 in /usr/local/lib/python3.10/dist-packages (from tensorflow<3,>=2.13.0->tensorflowjs) (4.25.5)\n",
            "Requirement already satisfied: setuptools in /usr/local/lib/python3.10/dist-packages (from tensorflow<3,>=2.13.0->tensorflowjs) (75.1.0)\n",
            "Requirement already satisfied: termcolor>=1.1.0 in /usr/local/lib/python3.10/dist-packages (from tensorflow<3,>=2.13.0->tensorflowjs) (2.5.0)\n",
            "Requirement already satisfied: wrapt<1.15,>=1.11.0 in /usr/local/lib/python3.10/dist-packages (from tensorflow<3,>=2.13.0->tensorflowjs) (1.14.1)\n",
            "Requirement already satisfied: tensorflow-io-gcs-filesystem>=0.23.1 in /usr/local/lib/python3.10/dist-packages (from tensorflow<3,>=2.13.0->tensorflowjs) (0.37.1)\n",
            "Requirement already satisfied: grpcio<2.0,>=1.24.3 in /usr/local/lib/python3.10/dist-packages (from tensorflow<3,>=2.13.0->tensorflowjs) (1.68.0)\n",
            "Requirement already satisfied: tensorboard<2.16,>=2.15 in /usr/local/lib/python3.10/dist-packages (from tensorflow<3,>=2.13.0->tensorflowjs) (2.15.2)\n",
            "Requirement already satisfied: tensorflow-estimator<2.16,>=2.15.0 in /usr/local/lib/python3.10/dist-packages (from tensorflow<3,>=2.13.0->tensorflowjs) (2.15.0)\n",
            "Requirement already satisfied: keras<2.16,>=2.15.0 in /usr/local/lib/python3.10/dist-packages (from tensorflow<3,>=2.13.0->tensorflowjs) (2.15.0)\n",
            "Requirement already satisfied: pandas in /usr/local/lib/python3.10/dist-packages (from tensorflow-decision-forests>=1.5.0->tensorflowjs) (2.2.2)\n",
            "Collecting tensorflow<3,>=2.13.0 (from tensorflowjs)\n",
            "  Using cached tensorflow-2.18.0-cp310-cp310-manylinux_2_17_x86_64.manylinux2014_x86_64.whl.metadata (4.1 kB)\n",
            "Requirement already satisfied: wheel in /usr/local/lib/python3.10/dist-packages (from tensorflow-decision-forests>=1.5.0->tensorflowjs) (0.45.0)\n",
            "Requirement already satisfied: wurlitzer in /usr/local/lib/python3.10/dist-packages (from tensorflow-decision-forests>=1.5.0->tensorflowjs) (3.1.1)\n",
            "Requirement already satisfied: ydf in /usr/local/lib/python3.10/dist-packages (from tensorflow-decision-forests>=1.5.0->tensorflowjs) (0.8.0)\n",
            "Requirement already satisfied: requests<3,>=2.21.0 in /usr/local/lib/python3.10/dist-packages (from tensorflow<3,>=2.13.0->tensorflowjs) (2.32.3)\n",
            "Collecting tensorboard<2.19,>=2.18 (from tensorflow<3,>=2.13.0->tensorflowjs)\n",
            "  Using cached tensorboard-2.18.0-py3-none-any.whl.metadata (1.6 kB)\n",
            "Collecting keras>=3.5.0 (from tensorflow<3,>=2.13.0->tensorflowjs)\n",
            "  Using cached keras-3.6.0-py3-none-any.whl.metadata (5.8 kB)\n",
            "Collecting ml-dtypes>=0.2.0 (from jax>=0.4.13->tensorflowjs)\n",
            "  Using cached ml_dtypes-0.4.1-cp310-cp310-manylinux_2_17_x86_64.manylinux2014_x86_64.whl.metadata (20 kB)\n",
            "Requirement already satisfied: namex in /usr/local/lib/python3.10/dist-packages (from keras>=3.5.0->tensorflow<3,>=2.13.0->tensorflowjs) (0.0.8)\n",
            "Requirement already satisfied: optree in /usr/local/lib/python3.10/dist-packages (from keras>=3.5.0->tensorflow<3,>=2.13.0->tensorflowjs) (0.13.1)\n",
            "Requirement already satisfied: charset-normalizer<4,>=2 in /usr/local/lib/python3.10/dist-packages (from requests<3,>=2.21.0->tensorflow<3,>=2.13.0->tensorflowjs) (3.4.0)\n",
            "Requirement already satisfied: idna<4,>=2.5 in /usr/local/lib/python3.10/dist-packages (from requests<3,>=2.21.0->tensorflow<3,>=2.13.0->tensorflowjs) (3.10)\n",
            "Requirement already satisfied: urllib3<3,>=1.21.1 in /usr/local/lib/python3.10/dist-packages (from requests<3,>=2.21.0->tensorflow<3,>=2.13.0->tensorflowjs) (2.2.3)\n",
            "Requirement already satisfied: certifi>=2017.4.17 in /usr/local/lib/python3.10/dist-packages (from requests<3,>=2.21.0->tensorflow<3,>=2.13.0->tensorflowjs) (2024.8.30)\n",
            "Requirement already satisfied: markdown-it-py>=2.2.0 in /usr/local/lib/python3.10/dist-packages (from rich>=11.1->flax>=0.7.2->tensorflowjs) (3.0.0)\n",
            "Requirement already satisfied: pygments<3.0.0,>=2.13.0 in /usr/local/lib/python3.10/dist-packages (from rich>=11.1->flax>=0.7.2->tensorflowjs) (2.18.0)\n",
            "Requirement already satisfied: markdown>=2.6.8 in /usr/local/lib/python3.10/dist-packages (from tensorboard<2.19,>=2.18->tensorflow<3,>=2.13.0->tensorflowjs) (3.7)\n",
            "Requirement already satisfied: tensorboard-data-server<0.8.0,>=0.7.0 in /usr/local/lib/python3.10/dist-packages (from tensorboard<2.19,>=2.18->tensorflow<3,>=2.13.0->tensorflowjs) (0.7.2)\n",
            "Requirement already satisfied: werkzeug>=1.0.1 in /usr/local/lib/python3.10/dist-packages (from tensorboard<2.19,>=2.18->tensorflow<3,>=2.13.0->tensorflowjs) (3.1.3)\n",
            "Requirement already satisfied: chex>=0.1.87 in /usr/local/lib/python3.10/dist-packages (from optax->flax>=0.7.2->tensorflowjs) (0.1.87)\n",
            "Requirement already satisfied: etils[epy] in /usr/local/lib/python3.10/dist-packages (from optax->flax>=0.7.2->tensorflowjs) (1.10.0)\n",
            "Requirement already satisfied: nest_asyncio in /usr/local/lib/python3.10/dist-packages (from orbax-checkpoint->flax>=0.7.2->tensorflowjs) (1.6.0)\n",
            "Requirement already satisfied: humanize in /usr/local/lib/python3.10/dist-packages (from orbax-checkpoint->flax>=0.7.2->tensorflowjs) (4.11.0)\n",
            "Requirement already satisfied: python-dateutil>=2.8.2 in /usr/local/lib/python3.10/dist-packages (from pandas->tensorflow-decision-forests>=1.5.0->tensorflowjs) (2.8.2)\n",
            "Requirement already satisfied: pytz>=2020.1 in /usr/local/lib/python3.10/dist-packages (from pandas->tensorflow-decision-forests>=1.5.0->tensorflowjs) (2024.2)\n",
            "Requirement already satisfied: tzdata>=2022.7 in /usr/local/lib/python3.10/dist-packages (from pandas->tensorflow-decision-forests>=1.5.0->tensorflowjs) (2024.2)\n",
            "Requirement already satisfied: toolz>=0.9.0 in /usr/local/lib/python3.10/dist-packages (from chex>=0.1.87->optax->flax>=0.7.2->tensorflowjs) (0.12.1)\n",
            "Requirement already satisfied: mdurl~=0.1 in /usr/local/lib/python3.10/dist-packages (from markdown-it-py>=2.2.0->rich>=11.1->flax>=0.7.2->tensorflowjs) (0.1.2)\n",
            "Requirement already satisfied: MarkupSafe>=2.1.1 in /usr/local/lib/python3.10/dist-packages (from werkzeug>=1.0.1->tensorboard<2.19,>=2.18->tensorflow<3,>=2.13.0->tensorflowjs) (3.0.2)\n",
            "Requirement already satisfied: fsspec in /usr/local/lib/python3.10/dist-packages (from etils[epath,epy]->orbax-checkpoint->flax>=0.7.2->tensorflowjs) (2024.10.0)\n",
            "Requirement already satisfied: zipp in /usr/local/lib/python3.10/dist-packages (from etils[epath,epy]->orbax-checkpoint->flax>=0.7.2->tensorflowjs) (3.21.0)\n",
            "Using cached tensorflow-2.18.0-cp310-cp310-manylinux_2_17_x86_64.manylinux2014_x86_64.whl (615.3 MB)\n",
            "Using cached keras-3.6.0-py3-none-any.whl (1.2 MB)\n",
            "Using cached ml_dtypes-0.4.1-cp310-cp310-manylinux_2_17_x86_64.manylinux2014_x86_64.whl (2.2 MB)\n",
            "Using cached tensorboard-2.18.0-py3-none-any.whl (5.5 MB)\n",
            "Installing collected packages: ml-dtypes, tensorboard, keras, tensorflow\n",
            "  Attempting uninstall: ml-dtypes\n",
            "    Found existing installation: ml-dtypes 0.2.0\n",
            "    Uninstalling ml-dtypes-0.2.0:\n",
            "      Successfully uninstalled ml-dtypes-0.2.0\n",
            "  Attempting uninstall: tensorboard\n",
            "    Found existing installation: tensorboard 2.15.2\n",
            "    Uninstalling tensorboard-2.15.2:\n",
            "      Successfully uninstalled tensorboard-2.15.2\n",
            "  Attempting uninstall: keras\n",
            "    Found existing installation: keras 2.15.0\n",
            "    Uninstalling keras-2.15.0:\n",
            "      Successfully uninstalled keras-2.15.0\n",
            "  Attempting uninstall: tensorflow\n",
            "    Found existing installation: tensorflow 2.15.0\n",
            "    Uninstalling tensorflow-2.15.0:\n",
            "      Successfully uninstalled tensorflow-2.15.0\n",
            "Successfully installed keras-3.6.0 ml-dtypes-0.4.1 tensorboard-2.18.0 tensorflow-2.18.0\n"
          ]
        },
        {
          "output_type": "display_data",
          "data": {
            "application/vnd.colab-display-data+json": {
              "pip_warning": {
                "packages": [
                  "keras",
                  "ml_dtypes",
                  "tensorflow"
                ]
              },
              "id": "95398386561941a491fb1d8d46e8c888"
            }
          },
          "metadata": {}
        }
      ]
    },
    {
      "cell_type": "markdown",
      "id": "136136af-54a2-4222-a820-17a4fe36f063",
      "metadata": {
        "id": "136136af-54a2-4222-a820-17a4fe36f063"
      },
      "source": [
        "# **Library**"
      ]
    },
    {
      "cell_type": "code",
      "execution_count": null,
      "id": "1d56a9db-fd5e-46dc-97af-10755c8aedb9",
      "metadata": {
        "id": "1d56a9db-fd5e-46dc-97af-10755c8aedb9"
      },
      "outputs": [],
      "source": [
        "import cv2\n",
        "import os\n",
        "import random\n",
        "import numpy as np\n",
        "from matplotlib import pyplot as plt"
      ]
    },
    {
      "cell_type": "code",
      "execution_count": null,
      "id": "eb19191c-148c-4875-9ad1-fd2ec1433e37",
      "metadata": {
        "id": "eb19191c-148c-4875-9ad1-fd2ec1433e37"
      },
      "outputs": [],
      "source": [
        "from tensorflow.keras.models import Model\n",
        "from tensorflow.keras.layers import Layer, Conv2D, Dense, MaxPooling2D, Input, Flatten\n",
        "import tensorflow as tf\n",
        "import tensorflowjs as tfjs"
      ]
    },
    {
      "cell_type": "code",
      "execution_count": null,
      "id": "696c4848-ba84-42a5-bb41-b0824d737e1f",
      "metadata": {
        "colab": {
          "base_uri": "https://localhost:8080/"
        },
        "id": "696c4848-ba84-42a5-bb41-b0824d737e1f",
        "outputId": "1eac24a4-5d52-4e98-fb7d-0e60bfa4985f"
      },
      "outputs": [
        {
          "output_type": "stream",
          "name": "stdout",
          "text": [
            "Num GPUs Available:  1\n"
          ]
        }
      ],
      "source": [
        "print(\"Num GPUs Available: \", len(tf.config.experimental.list_physical_devices('GPU')))"
      ]
    },
    {
      "cell_type": "code",
      "execution_count": null,
      "id": "b45372bf-8187-4b61-8ea4-651e660acacd",
      "metadata": {
        "id": "b45372bf-8187-4b61-8ea4-651e660acacd"
      },
      "outputs": [],
      "source": [
        "Model(inputs=[inputgambar, verifikasigambar], output=[1,0])"
      ]
    },
    {
      "cell_type": "code",
      "source": [
        "from google.colab import drive\n",
        "drive.mount('/content/drive')"
      ],
      "metadata": {
        "colab": {
          "base_uri": "https://localhost:8080/"
        },
        "id": "44-ktv1V0_Mm",
        "outputId": "582bf028-d509-41e2-c0c4-eec9b2e7cb3b"
      },
      "id": "44-ktv1V0_Mm",
      "execution_count": null,
      "outputs": [
        {
          "output_type": "stream",
          "name": "stdout",
          "text": [
            "Mounted at /content/drive\n"
          ]
        }
      ]
    },
    {
      "cell_type": "markdown",
      "id": "a92f02b2-c296-4580-8c0b-7bb18204b8ae",
      "metadata": {
        "id": "a92f02b2-c296-4580-8c0b-7bb18204b8ae"
      },
      "source": [
        "# **Menentukan dan Membuat Direktori untuk Kelas Data Positif, Negatif, dan Anchor**"
      ]
    },
    {
      "cell_type": "markdown",
      "id": "c12114b4-4269-4a5f-8fbd-b92908e0f54c",
      "metadata": {
        "id": "c12114b4-4269-4a5f-8fbd-b92908e0f54c"
      },
      "source": [
        "Menentukan lokasi dan membuat direktori untuk tiga kategori data berbeda, yaitu positif, negatif, dan anchor. Ini bisa digunakan dalam banyak konteks, seperti klasifikasi gambar, pembelajaran mesin, atau jaringan syaraf dalam kasus Siamese Network"
      ]
    },
    {
      "cell_type": "code",
      "execution_count": null,
      "id": "aadfbaad-a3b8-4156-9025-08cd8fae7a02",
      "metadata": {
        "id": "aadfbaad-a3b8-4156-9025-08cd8fae7a02"
      },
      "outputs": [],
      "source": [
        "POS_PATH = os.path.join('/content/drive/MyDrive/FaceRegonition/positif')\n",
        "NEG_PATH = os.path.join('/content/drive/MyDrive/FaceRegonition/negatif')\n",
        "ANC_PATH = os.path.join('/content/drive/MyDrive/FaceRegonition/anchor')"
      ]
    },
    {
      "cell_type": "code",
      "execution_count": null,
      "id": "a43a83b6-b7d2-4308-9a48-1c742a62e70f",
      "metadata": {
        "id": "a43a83b6-b7d2-4308-9a48-1c742a62e70f",
        "colab": {
          "base_uri": "https://localhost:8080/",
          "height": 332
        },
        "outputId": "0dd0b2b1-59c2-4e54-d16f-bab1e21ddab1"
      },
      "outputs": [
        {
          "output_type": "error",
          "ename": "FileExistsError",
          "evalue": "[Errno 17] File exists: '/content/drive/MyDrive/FaceRegonition/positif'",
          "traceback": [
            "\u001b[0;31m---------------------------------------------------------------------------\u001b[0m",
            "\u001b[0;31mFileExistsError\u001b[0m                           Traceback (most recent call last)",
            "\u001b[0;32m<ipython-input-9-d93bfcc40a2c>\u001b[0m in \u001b[0;36m<cell line: 2>\u001b[0;34m()\u001b[0m\n\u001b[1;32m      1\u001b[0m \u001b[0;31m#membuat direktori\u001b[0m\u001b[0;34m\u001b[0m\u001b[0;34m\u001b[0m\u001b[0m\n\u001b[0;32m----> 2\u001b[0;31m \u001b[0mos\u001b[0m\u001b[0;34m.\u001b[0m\u001b[0mmakedirs\u001b[0m\u001b[0;34m(\u001b[0m\u001b[0mPOS_PATH\u001b[0m\u001b[0;34m)\u001b[0m\u001b[0;34m\u001b[0m\u001b[0;34m\u001b[0m\u001b[0m\n\u001b[0m\u001b[1;32m      3\u001b[0m \u001b[0mos\u001b[0m\u001b[0;34m.\u001b[0m\u001b[0mmakedirs\u001b[0m\u001b[0;34m(\u001b[0m\u001b[0mNEG_PATH\u001b[0m\u001b[0;34m)\u001b[0m\u001b[0;34m\u001b[0m\u001b[0;34m\u001b[0m\u001b[0m\n\u001b[1;32m      4\u001b[0m \u001b[0mos\u001b[0m\u001b[0;34m.\u001b[0m\u001b[0mmakedirs\u001b[0m\u001b[0;34m(\u001b[0m\u001b[0mANC_PATH\u001b[0m\u001b[0;34m)\u001b[0m\u001b[0;34m\u001b[0m\u001b[0;34m\u001b[0m\u001b[0m\n",
            "\u001b[0;32m/usr/lib/python3.10/os.py\u001b[0m in \u001b[0;36mmakedirs\u001b[0;34m(name, mode, exist_ok)\u001b[0m\n\u001b[1;32m    223\u001b[0m             \u001b[0;32mreturn\u001b[0m\u001b[0;34m\u001b[0m\u001b[0;34m\u001b[0m\u001b[0m\n\u001b[1;32m    224\u001b[0m     \u001b[0;32mtry\u001b[0m\u001b[0;34m:\u001b[0m\u001b[0;34m\u001b[0m\u001b[0;34m\u001b[0m\u001b[0m\n\u001b[0;32m--> 225\u001b[0;31m         \u001b[0mmkdir\u001b[0m\u001b[0;34m(\u001b[0m\u001b[0mname\u001b[0m\u001b[0;34m,\u001b[0m \u001b[0mmode\u001b[0m\u001b[0;34m)\u001b[0m\u001b[0;34m\u001b[0m\u001b[0;34m\u001b[0m\u001b[0m\n\u001b[0m\u001b[1;32m    226\u001b[0m     \u001b[0;32mexcept\u001b[0m \u001b[0mOSError\u001b[0m\u001b[0;34m:\u001b[0m\u001b[0;34m\u001b[0m\u001b[0;34m\u001b[0m\u001b[0m\n\u001b[1;32m    227\u001b[0m         \u001b[0;31m# Cannot rely on checking for EEXIST, since the operating system\u001b[0m\u001b[0;34m\u001b[0m\u001b[0;34m\u001b[0m\u001b[0m\n",
            "\u001b[0;31mFileExistsError\u001b[0m: [Errno 17] File exists: '/content/drive/MyDrive/FaceRegonition/positif'"
          ]
        }
      ],
      "source": [
        "#membuat direktori\n",
        "os.makedirs(POS_PATH)\n",
        "os.makedirs(NEG_PATH)\n",
        "os.makedirs(ANC_PATH)"
      ]
    },
    {
      "cell_type": "markdown",
      "id": "7b198185-7fff-45de-941a-1c27f99b10da",
      "metadata": {
        "id": "7b198185-7fff-45de-941a-1c27f99b10da"
      },
      "source": [
        "# Ekstraks Dataset Labeled Faces in the Wild (LFW) untuk Pengenalan Wajah"
      ]
    },
    {
      "cell_type": "markdown",
      "id": "f1b0b1d0-8325-46dd-8e16-401509aecb0e",
      "metadata": {
        "id": "f1b0b1d0-8325-46dd-8e16-401509aecb0e"
      },
      "source": [
        "# http://vis-www.cs.umass.edu/lfw/"
      ]
    },
    {
      "cell_type": "code",
      "execution_count": null,
      "id": "d7f84ace-5b9b-4062-822e-f90896061702",
      "metadata": {
        "id": "d7f84ace-5b9b-4062-822e-f90896061702"
      },
      "outputs": [],
      "source": [
        "!tar -xf /content/drive/MyDrive/FaceRegonition/lfw.tgz -C /content/drive/MyDrive/FaceRegonition"
      ]
    },
    {
      "cell_type": "code",
      "execution_count": null,
      "id": "251f20de-67fa-49c5-81aa-841ade9e904c",
      "metadata": {
        "scrolled": true,
        "id": "251f20de-67fa-49c5-81aa-841ade9e904c",
        "outputId": "4b843ea3-ffc7-4d12-c8e8-58f4cbb079bd"
      },
      "outputs": [
        {
          "data": {
            "text/plain": [
              "['Aaron_Eckhart',\n",
              " 'Aaron_Guiel',\n",
              " 'Aaron_Patterson',\n",
              " 'Aaron_Peirsol',\n",
              " 'Aaron_Pena',\n",
              " 'Aaron_Sorkin',\n",
              " 'Aaron_Tippin',\n",
              " 'Abbas_Kiarostami',\n",
              " 'Abba_Eban',\n",
              " 'Abdel_Aziz_Al-Hakim',\n",
              " 'Abdel_Madi_Shabneh',\n",
              " 'Abdel_Nasser_Assidi',\n",
              " 'Abdoulaye_Wade',\n",
              " 'Abdulaziz_Kamilov',\n",
              " 'Abdullah',\n",
              " 'Abdullah_Ahmad_Badawi',\n",
              " 'Abdullah_al-Attiyah',\n",
              " 'Abdullah_Gul',\n",
              " 'Abdullah_Nasseef',\n",
              " 'Abdullatif_Sener',\n",
              " 'Abdul_Majeed_Shobokshi',\n",
              " 'Abdul_Rahman',\n",
              " 'Abel_Aguilar',\n",
              " 'Abel_Pacheco',\n",
              " 'Abid_Hamid_Mahmud_Al-Tikriti',\n",
              " 'Abner_Martinez',\n",
              " 'Abraham_Foxman',\n",
              " 'Aby_Har-Even',\n",
              " 'Adam_Ant',\n",
              " 'Adam_Freier',\n",
              " 'Adam_Herbert',\n",
              " 'Adam_Kennedy',\n",
              " 'Adam_Mair',\n",
              " 'Adam_Rich',\n",
              " 'Adam_Sandler',\n",
              " 'Adam_Scott',\n",
              " 'Adelina_Avila',\n",
              " 'Adel_Al-Jubeir',\n",
              " 'Adisai_Bodharamik',\n",
              " 'Adolfo_Aguilar_Zinser',\n",
              " 'Adolfo_Rodriguez_Saa',\n",
              " 'Adoor_Gopalakarishnan',\n",
              " 'Adriana_Lima',\n",
              " 'Adriana_Perez_Navarro',\n",
              " 'Adrianna_Zuzic',\n",
              " 'Adrian_Annus',\n",
              " 'Adrian_Fernandez',\n",
              " 'Adrian_McPherson',\n",
              " 'Adrian_Murrell',\n",
              " 'Adrian_Nastase',\n",
              " 'Adrien_Brody',\n",
              " 'Afton_Smith',\n",
              " 'Agbani_Darego',\n",
              " 'Agnelo_Queiroz',\n",
              " 'Agnes_Bruckner',\n",
              " 'Ahmad_Jbarah',\n",
              " 'Ahmad_Masood',\n",
              " 'Ahmed_Ahmed',\n",
              " 'Ahmed_Chalabi',\n",
              " 'Ahmed_Ghazi',\n",
              " 'Ahmed_Ibrahim_Bilal',\n",
              " 'Ahmed_Lopez',\n",
              " 'Ahmed_Qureia',\n",
              " 'Ahmet_Demir',\n",
              " 'Ahmet_Necdet_Sezer',\n",
              " 'Aicha_El_Ouafi',\n",
              " 'Aidan_Quinn',\n",
              " 'Aileen_Riggin_Soule',\n",
              " 'Ainsworth_Dyer',\n",
              " 'Ain_Seppik',\n",
              " 'Aishwarya_Rai',\n",
              " 'Aitor_Gonzalez',\n",
              " 'Aiysha_Smith',\n",
              " 'Ai_Sugiyama',\n",
              " 'Ajit_Agarkar',\n",
              " 'AJ_Cook',\n",
              " 'AJ_Lamas',\n",
              " 'Akbar_Al_Baker',\n",
              " 'Akbar_Hashemi_Rafsanjani',\n",
              " 'Akhmed_Zakayev',\n",
              " 'Akiko_Morigami',\n",
              " 'Akmal_Taher',\n",
              " 'Alain_Cervantes',\n",
              " 'Alain_Ducasse',\n",
              " 'Alanis_Morissette',\n",
              " 'Alanna_Ubach',\n",
              " 'Alan_Ball',\n",
              " 'Alan_Dershowitz',\n",
              " 'Alan_Dreher',\n",
              " 'Alan_Greenspan',\n",
              " 'Alan_Greer',\n",
              " 'Alan_Jackson',\n",
              " 'Alan_Mulally',\n",
              " 'Alan_Stonecipher',\n",
              " 'Alan_Tang_Kwong-wing',\n",
              " 'Alan_Trammell',\n",
              " 'Alan_Zemaitis',\n",
              " 'Alastair_Campbell',\n",
              " 'Alastair_Johnston',\n",
              " 'Albaro_Recoba',\n",
              " 'Alberta_Lee',\n",
              " 'Alberto_Acosta',\n",
              " 'Alberto_Fujimori',\n",
              " 'Alberto_Gonzales',\n",
              " 'Alberto_Ruiz_Gallardon',\n",
              " 'Alberto_Sordi',\n",
              " 'Albert_Brooks',\n",
              " 'Albert_Costa',\n",
              " 'Albert_Montanes',\n",
              " 'Albert_Pujols',\n",
              " 'Albrecht_Mentz',\n",
              " 'Aldo_Paredes',\n",
              " 'Alecos_Markides',\n",
              " 'Alec_Baldwin',\n",
              " 'Alejandro_Atchugarry',\n",
              " 'Alejandro_Avila',\n",
              " 'Alejandro_Fernandez',\n",
              " 'Alejandro_Gonzalez_Inarritu',\n",
              " 'Alejandro_Lembo',\n",
              " 'Alejandro_Lerner',\n",
              " 'Alejandro_Lopez',\n",
              " 'Alejandro_Toledo',\n",
              " 'Aleksander_Kwasniewski',\n",
              " 'Aleksander_Voloshin',\n",
              " 'Alek_Wek',\n",
              " 'Alessandra_Cerna',\n",
              " 'Alessandro_Nesta',\n",
              " 'Alexander_Downer',\n",
              " 'Alexander_Losyukov',\n",
              " 'Alexander_Lukashenko',\n",
              " 'Alexander_Payne',\n",
              " 'Alexander_Rumyantsev',\n",
              " 'Alexandra_Jackson',\n",
              " 'Alexandra_Pelosi',\n",
              " 'Alexandra_Rozovskaya',\n",
              " 'Alexandra_Spann',\n",
              " 'Alexandra_Stevenson',\n",
              " 'Alexandra_Vodjanikova',\n",
              " 'Alexandre_Daigle',\n",
              " 'Alexandre_Despatie',\n",
              " 'Alexandre_Herchcovitch',\n",
              " 'Alexandre_Vinokourov',\n",
              " 'Alexa_Loren',\n",
              " 'Alexa_Vega',\n",
              " 'Alexis_Bledel',\n",
              " 'Alexis_Dennisoff',\n",
              " 'Alex_Barros',\n",
              " 'Alex_Cabrera',\n",
              " 'Alex_Cejka',\n",
              " 'Alex_Corretja',\n",
              " 'Alex_Ferguson',\n",
              " 'Alex_Gonzalez',\n",
              " 'Alex_Holmes',\n",
              " 'Alex_King',\n",
              " 'Alex_Penelas',\n",
              " 'Alex_Popov',\n",
              " 'Alex_Sink',\n",
              " 'Alex_Wallau',\n",
              " 'Alex_Zanardi',\n",
              " 'Alfonso_Cuaron',\n",
              " 'Alfonso_Portillo',\n",
              " 'Alfonso_Soriano',\n",
              " 'Alfredo_di_Stefano',\n",
              " 'Alfredo_Moreno',\n",
              " 'Alfredo_Pena',\n",
              " 'Alfred_Ford',\n",
              " 'Alfred_Sant',\n",
              " 'Alice_Fisher',\n",
              " 'Alicia_Hollowell',\n",
              " 'Alicia_Keys',\n",
              " 'Alicia_Molik',\n",
              " 'Alicia_Silverstone',\n",
              " 'Alicia_Witt',\n",
              " 'Alimzhan_Tokhtakhounov',\n",
              " 'Alina_Kabaeva',\n",
              " 'Aline_Chretien',\n",
              " 'Alisha_Richman',\n",
              " 'Alison_Krauss',\n",
              " 'Alison_Lohman',\n",
              " 'Alistair_MacDonald',\n",
              " 'Ali_Abbas',\n",
              " 'Ali_Abdullah_Saleh',\n",
              " 'Ali_Adbul_Karim_Madani',\n",
              " 'Ali_Ahmeti',\n",
              " 'Ali_Bin_Hussein',\n",
              " 'Ali_Fallahian',\n",
              " 'Ali_Hammoud',\n",
              " 'Ali_Khamenei',\n",
              " 'Ali_Mohammed_Maher',\n",
              " 'Ali_Naimi',\n",
              " 'Allan_Houston',\n",
              " 'Allan_Kemakeza',\n",
              " 'Allan_Wagner',\n",
              " 'Allen_Iverson',\n",
              " 'Allen_Rock',\n",
              " 'Allison_Janney',\n",
              " 'Allison_Searing',\n",
              " 'Allyson_Felix',\n",
              " 'Ally_Sheedy',\n",
              " 'Alma_Powell',\n",
              " 'Almeida_Baptista',\n",
              " 'Alonzo_Mourning',\n",
              " 'Alvaro_Noboa',\n",
              " 'Alvaro_Silva_Calderon',\n",
              " 'Alvaro_Uribe',\n",
              " 'Alyse_Beaupre',\n",
              " 'Alyson_Hannigan',\n",
              " 'Aly_Wagner',\n",
              " 'Al_Cardenas',\n",
              " 'Al_Davis',\n",
              " 'Al_Gore',\n",
              " 'Al_Leiter',\n",
              " 'Al_Pacino',\n",
              " 'Al_Sharpton',\n",
              " 'Amanda_Beard',\n",
              " 'Amanda_Bynes',\n",
              " 'Amanda_Coetzer',\n",
              " 'Amanda_Marsh',\n",
              " 'Amanda_Plumer',\n",
              " 'Amber_Frey',\n",
              " 'Amber_Tamblyn',\n",
              " 'Ambrose_Lee',\n",
              " 'Amelia_Vega',\n",
              " 'Amelie_Mauresmo',\n",
              " 'Amer_al-Saadi',\n",
              " 'Amporn_Falise',\n",
              " 'Amram_Mitzna',\n",
              " 'Amr_Moussa',\n",
              " 'Amy_Brenneman',\n",
              " 'Amy_Cotton',\n",
              " 'Amy_Gale',\n",
              " 'Amy_Pascal',\n",
              " 'Amy_Redford',\n",
              " 'Amy_Smart',\n",
              " 'Amy_Yasbeck',\n",
              " 'Anastasia_Kelesidou',\n",
              " 'Anastasia_Myskina',\n",
              " 'Anatoliy_Kinakh',\n",
              " 'Ana_Claudia_Talancon',\n",
              " 'Ana_Guevara',\n",
              " 'Ana_Isabel_Sanchez',\n",
              " 'Ana_Palacio',\n",
              " 'Ana_Paula_Gerard',\n",
              " 'Ana_Sebastiao',\n",
              " 'Anderson_Varejao',\n",
              " 'Anders_Ebbeson',\n",
              " 'Anders_Fogh_Rasmussen',\n",
              " 'Andreas_Vinciguerra',\n",
              " 'Andrea_Bocelli',\n",
              " 'Andrea_De_Cruz',\n",
              " 'Andrea_Kiser',\n",
              " 'Andrea_Yates',\n",
              " 'Andrei_Konchalovsky',\n",
              " 'Andrei_Mikhnevich',\n",
              " 'Andrei_Nikolishin',\n",
              " 'Andres_DAlessandro',\n",
              " 'Andres_Manuel_Lopez_Obrador',\n",
              " 'Andres_Pastrana',\n",
              " 'Andrew_Bernard',\n",
              " 'Andrew_Bunner',\n",
              " 'Andrew_Caldecott',\n",
              " 'Andrew_Cuomo',\n",
              " 'Andrew_Fastow',\n",
              " 'Andrew_Firestone',\n",
              " 'Andrew_Gilligan',\n",
              " 'Andrew_Jarecki',\n",
              " 'Andrew_Luster',\n",
              " 'Andrew_Niccol',\n",
              " 'Andrew_Sabey',\n",
              " 'Andrew_Shutley',\n",
              " 'Andrew_Weissmann',\n",
              " 'Andrew_Wetzler',\n",
              " 'Andre_Agassi',\n",
              " 'Andre_Bucher',\n",
              " 'Andre_Lange',\n",
              " 'Andre_Smith',\n",
              " 'Andre_Techine',\n",
              " 'Andrzej_Tyszkiewicz',\n",
              " 'Andy_Benes',\n",
              " 'Andy_Bryant',\n",
              " 'Andy_Dick',\n",
              " 'Andy_Garcia',\n",
              " 'Andy_Graves',\n",
              " 'Andy_Griffith',\n",
              " 'Andy_Griggs',\n",
              " 'Andy_Hebb',\n",
              " 'Andy_Lau',\n",
              " 'Andy_Madikians',\n",
              " 'Andy_North',\n",
              " 'Andy_Perez',\n",
              " 'Andy_Roddick',\n",
              " 'Andy_Rooney',\n",
              " 'Andy_Warhol',\n",
              " 'Andy_Wisecarver',\n",
              " 'Anette_Hosoi',\n",
              " 'AnFernce_Negron',\n",
              " 'Angela_Alvarado_Rosa',\n",
              " 'Angela_Bassett',\n",
              " 'Angela_Lansbury',\n",
              " 'Angela_Mascia-Frye',\n",
              " 'Angela_Merkel',\n",
              " 'Angelica_Romero',\n",
              " 'Angelina_Jolie',\n",
              " 'Angelo_Genova',\n",
              " 'Angelo_Reyes',\n",
              " 'Angel_Lockward',\n",
              " 'Angel_Maza',\n",
              " 'Angie_Arzola',\n",
              " 'Angie_Martinez',\n",
              " 'Anibal_Ibarra',\n",
              " 'Anil_Ramsook',\n",
              " 'Anita_DeFrantz',\n",
              " 'Anja_Paerson',\n",
              " 'Anjum_Hussain',\n",
              " 'Anna_Chicherova',\n",
              " 'Anna_Faris',\n",
              " 'Anna_Jones',\n",
              " 'Anna_Kournikova',\n",
              " 'Anna_Nicole_Smith',\n",
              " 'Anneli_Jaatteenmaki',\n",
              " 'Annette_Bening',\n",
              " 'Annette_Lu',\n",
              " 'Anne_Cavers',\n",
              " 'Anne_Donovan',\n",
              " 'Anne_Heche',\n",
              " 'Anne_Krueger',\n",
              " 'Anne_McLellan',\n",
              " 'Anne_ONeil',\n",
              " 'Annie-Jeanne_Reynaud',\n",
              " 'Annie_Chaplin',\n",
              " 'Annie_Machon',\n",
              " 'Annika_Sorenstam',\n",
              " 'Ann_Godbehere',\n",
              " 'Ann_Landers',\n",
              " 'Ann_Morgan',\n",
              " 'Ann_Veneman',\n",
              " 'Antanas_Valionis',\n",
              " 'Anthony_Carter',\n",
              " 'Anthony_Corso',\n",
              " 'Anthony_Ervin',\n",
              " 'Anthony_Fauci',\n",
              " 'Anthony_Garotinho',\n",
              " 'Anthony_Hazen',\n",
              " 'Anthony_Hopkins',\n",
              " 'Anthony_LaPaglia',\n",
              " 'Anthony_Lee_Johnson',\n",
              " 'Anthony_Mazur',\n",
              " 'Anthony_Pico',\n",
              " 'Anthony_Pisciotti',\n",
              " 'Anthony_Principi',\n",
              " 'Anthony_Rackauckas',\n",
              " 'Anthony_Scott_Miller',\n",
              " 'Antje_Buschschulte',\n",
              " 'Antonio_Banderas',\n",
              " 'Antonio_Bernardo',\n",
              " 'Antonio_Cassano',\n",
              " 'Antonio_Catania',\n",
              " 'Antonio_Elias_Saca',\n",
              " 'Antonio_Palocci',\n",
              " 'Antonio_Trillanes',\n",
              " 'Antony_Leung',\n",
              " 'Anton_Balasingham',\n",
              " 'Antwun_Echols',\n",
              " 'Anwar_Ibrahim',\n",
              " 'Anzori_Kikalishvili',\n",
              " 'Aparna_Pillai',\n",
              " 'Aram_Adler',\n",
              " 'Arantxa_Sanchez-Vicario',\n",
              " 'Aretha_Franklin',\n",
              " 'Arianna_Huffington',\n",
              " 'Ariel_Sharon',\n",
              " 'Arie_Haan',\n",
              " 'Arif_Mardin',\n",
              " 'Ari_Bousbib',\n",
              " 'Ari_Fleischer',\n",
              " 'Arlen_Specter',\n",
              " 'Armando_Avila_Panchame',\n",
              " 'Armando_Calderon_Sol',\n",
              " 'Armando_Carrillo',\n",
              " 'Armand_Sargen',\n",
              " 'Arminio_Fraga',\n",
              " 'Arnaud_Clement',\n",
              " 'Arnaud_Lagardere',\n",
              " 'Arnie_Boehm',\n",
              " 'Arnoldo_Aleman',\n",
              " 'Arnold_Palmer',\n",
              " 'Arnold_Schwarzenegger',\n",
              " 'Arnold_Scott',\n",
              " 'Aron_Ralston',\n",
              " 'Arsinee_Khanjian',\n",
              " 'Arthur_Johnson',\n",
              " 'Arthur_Martinez',\n",
              " 'Artieas_Shanks',\n",
              " 'Arturo_Gatti',\n",
              " 'Art_Cooper',\n",
              " 'Art_Hoffmann',\n",
              " 'Art_Howe',\n",
              " 'Art_Lopez',\n",
              " 'Arye_Mekel',\n",
              " 'Asa_Hutchinson',\n",
              " 'Ascencion_Barajas',\n",
              " 'Ashanti',\n",
              " 'Ashlea_Talbot',\n",
              " 'Ashley_Judd',\n",
              " 'Ashley_Olsen',\n",
              " 'Ashley_Postell',\n",
              " 'Ashraf_Alasmar',\n",
              " 'Ashraf_Ghani',\n",
              " 'Ashton_Kutcher',\n",
              " 'Asif_Ali_Zardari',\n",
              " 'Asif_Hanif',\n",
              " 'Askar_Akayev',\n",
              " 'Asmaa_Assad',\n",
              " 'Assad_Ahmadi',\n",
              " 'Astou_Ndiaye-Diatta',\n",
              " 'Astrid_Betancourt',\n",
              " 'Astrid_Eyzaguirre',\n",
              " 'Atal_Bihari_Vajpayee',\n",
              " 'Ataollah_Mohajerani',\n",
              " 'Atiabet_Ijan_Amabel',\n",
              " 'Atom_Egoyan',\n",
              " 'Atsushi_Sato',\n",
              " 'Audrey_Lacroix',\n",
              " 'Audrey_Sauret',\n",
              " 'Augustin_Calleri',\n",
              " 'Augusto_Pinochet',\n",
              " 'Augusto_Roa_Bastos',\n",
              " 'Aung_San_Suu_Kyi',\n",
              " 'Austin_Kearns',\n",
              " 'Avril_Lavigne',\n",
              " 'Azmi_Bishara',\n",
              " 'Azra_Akin',\n",
              " 'Babe_Ruth',\n",
              " 'Baburam_Bhattari',\n",
              " 'Bak_Chang-Ryun',\n",
              " 'Barbara_Bach',\n",
              " 'Barbara_Becker',\n",
              " 'Barbara_Bodine',\n",
              " 'Barbara_Boxer',\n",
              " 'Barbara_Brezigar',\n",
              " 'Barbara_De_Brun',\n",
              " 'Barbara_Esbin',\n",
              " 'Barbara_Felt-Miller',\n",
              " 'Barbara_Roberts',\n",
              " 'Barbara_Walters',\n",
              " 'Barbora_Strycova',\n",
              " 'Barbra_Streisand',\n",
              " 'Barrett_Jackman',\n",
              " 'Barry_Alvarez',\n",
              " 'Barry_Bonds',\n",
              " 'Barry_Collier',\n",
              " 'Barry_Diller',\n",
              " 'Barry_Ford',\n",
              " 'Barry_Hinson',\n",
              " 'Barry_Nakell',\n",
              " 'Barry_Switzer',\n",
              " 'Barry_Williams',\n",
              " 'Barry_Zito',\n",
              " 'Bartosz_Kizierowski',\n",
              " 'Bart_Freundlich',\n",
              " 'Bart_Hendricks',\n",
              " 'Barzan_al-Tikriti',\n",
              " 'Basdeo_Panday',\n",
              " 'Bashar_Assad',\n",
              " 'Baz_Luhrmann',\n",
              " 'BB_King',\n",
              " 'Beatrice_Dalle',\n",
              " 'Beatriz_Merino',\n",
              " 'Beecher_Ray_Kirby',\n",
              " 'Begum_Khaleda_Zia',\n",
              " 'Bela_Karolyi',\n",
              " 'Benazir_Bhutto',\n",
              " 'Benedita_da_Silva',\n",
              " 'Benicio_Del_Toro',\n",
              " 'Benito_Santiago',\n",
              " 'Benjamin_Bratt',\n",
              " 'Benjamin_Franklin',\n",
              " 'Benjamin_Martinez',\n",
              " 'Benjamin_McKenzie',\n",
              " 'Benjamin_Netanyahu',\n",
              " 'Benjamin_Neulander',\n",
              " 'Ben_Affleck',\n",
              " 'Ben_Betts',\n",
              " 'Ben_Braun',\n",
              " 'Ben_Broussard',\n",
              " 'Ben_Cahoon',\n",
              " 'Ben_Chandler',\n",
              " 'Ben_Cohen',\n",
              " 'Ben_Curtis',\n",
              " 'Ben_Davis',\n",
              " 'Ben_Glisan',\n",
              " 'Ben_Howland',\n",
              " 'Ben_Kingsley',\n",
              " 'Ben_Lee',\n",
              " 'Ben_Stein',\n",
              " 'Ben_Wallace',\n",
              " 'Bernadette_Peters',\n",
              " 'Bernardo_Segura',\n",
              " 'Bernard_Ebbers',\n",
              " 'Bernard_Giraudeau',\n",
              " 'Bernard_Kerik',\n",
              " 'Bernard_Landry',\n",
              " 'Bernard_Law',\n",
              " 'Bernard_Lord',\n",
              " 'Bernard_Siegel',\n",
              " 'Bernice_Wong',\n",
              " 'Bertie_Ahern',\n",
              " 'Bertrand_Bonello',\n",
              " 'Bertrand_Delanoe',\n",
              " 'Beth_Blough',\n",
              " 'Beth_Jones',\n",
              " 'Betsy_Coffin',\n",
              " 'Betsy_Smith',\n",
              " 'Bettina_Rheims',\n",
              " 'Betty_Garrison',\n",
              " 'Betty_Williams',\n",
              " 'Beyonce_Knowles',\n",
              " 'Bianca_Jagger',\n",
              " 'Bijan_Darvish',\n",
              " 'Bijan_Namdar_Zangeneh',\n",
              " 'Bilal_Erdogan',\n",
              " 'Biljana_Plavsic',\n",
              " 'Billy_Andrade',\n",
              " 'Billy_Beane',\n",
              " 'Billy_Bob_Thornton',\n",
              " 'Billy_Boyd',\n",
              " 'Billy_Crawford',\n",
              " 'Billy_Crystal',\n",
              " 'Billy_Donovan',\n",
              " 'Billy_Edelin',\n",
              " 'Billy_Gilman',\n",
              " 'Billy_Graham',\n",
              " 'Billy_Joel',\n",
              " 'Billy_Rork',\n",
              " 'Billy_Sollie',\n",
              " 'Billy_Tibbets',\n",
              " 'Bill_Belichick',\n",
              " 'Bill_Bradley',\n",
              " 'Bill_Butler',\n",
              " 'Bill_Byrne',\n",
              " 'Bill_Callahan',\n",
              " 'Bill_Carmody',\n",
              " 'Bill_Cartwright',\n",
              " 'Bill_Clancy',\n",
              " 'Bill_Clinton',\n",
              " 'Bill_Curry',\n",
              " 'Bill_Doba',\n",
              " 'Bill_Duffey',\n",
              " 'Bill_Elliott',\n",
              " 'Bill_Fennelly',\n",
              " 'Bill_Frist',\n",
              " 'Bill_Gates',\n",
              " 'Bill_Graham',\n",
              " 'Bill_Guerin',\n",
              " 'Bill_Herrion',\n",
              " 'Bill_Hughes',\n",
              " 'Bill_King',\n",
              " 'Bill_Kollar',\n",
              " 'Bill_Kong',\n",
              " 'Bill_Lerach',\n",
              " 'Bill_Maher',\n",
              " 'Bill_Mauldin',\n",
              " 'Bill_McBride',\n",
              " 'Bill_Nelson',\n",
              " 'Bill_OReilly',\n",
              " 'Bill_Parcells',\n",
              " 'Bill_Parsons',\n",
              " 'Bill_Paxton',\n",
              " 'Bill_Pryor',\n",
              " 'Bill_Rainer',\n",
              " 'Bill_Readdy',\n",
              " 'Bill_Richardson',\n",
              " 'Bill_Self',\n",
              " 'Bill_Simon',\n",
              " 'Bill_Sizemore',\n",
              " 'Bill_Stapleton',\n",
              " 'Bill_Stein',\n",
              " 'Bill_Walton',\n",
              " 'Bing_Crosby',\n",
              " 'Binyamin_Ben-Eliezer',\n",
              " 'Bison_Dele',\n",
              " 'Bixente_LIzarazu',\n",
              " 'BJ_Habibie',\n",
              " 'Blas_Ople',\n",
              " 'Blythe_Danner',\n",
              " 'Blythe_Hartley',\n",
              " 'Bobby_Bowden',\n",
              " 'Bobby_Goldwater',\n",
              " 'Bobby_Jackson',\n",
              " 'Bobby_Kielty',\n",
              " 'Bobby_Robson',\n",
              " 'Bobo_Balde',\n",
              " 'Bob_Alper',\n",
              " 'Bob_Beauprez',\n",
              " 'Bob_Bowlsby',\n",
              " 'Bob_Cantrell',\n",
              " 'Bob_Colvin',\n",
              " 'Bob_Crippen',\n",
              " 'Bob_Curtis',\n",
              " 'Bob_Dole',\n",
              " 'Bob_Eskridge',\n",
              " 'Bob_Ferguson',\n",
              " 'Bob_Geldof',\n",
              " 'Bob_Goldman',\n",
              " 'Bob_Graham',\n",
              " 'Bob_Guccione',\n",
              " 'Bob_Hartley',\n",
              " 'Bob_Hayes',\n",
              " 'Bob_Herz',\n",
              " 'Bob_Holden',\n",
              " 'Bob_Hope',\n",
              " 'Bob_Huggins',\n",
              " 'Bob_Iger',\n",
              " 'Bob_Krueger',\n",
              " 'Bob_Melvin',\n",
              " 'Bob_Menendez',\n",
              " 'Bob_Newhart',\n",
              " 'Bob_Petrino',\n",
              " 'Bob_Riley',\n",
              " 'Bob_Stoops',\n",
              " 'Bob_Sulkin',\n",
              " 'Bob_Taft',\n",
              " 'Bob_Wright',\n",
              " 'Bode_Miller',\n",
              " 'Bonnie_Fuller',\n",
              " 'Bonnie_Hunt',\n",
              " 'Bono',\n",
              " 'Boris_Becker',\n",
              " 'Boris_Berezovsky',\n",
              " 'Boris_Henry',\n",
              " 'Boris_Jordan',\n",
              " 'Boris_Trajkovski',\n",
              " 'Boris_Yeltsin',\n",
              " 'Boutros_Boutros_Ghali',\n",
              " 'Bo_Pelini',\n",
              " 'Bo_Ryan',\n",
              " 'Brady_Rodgers',\n",
              " 'Brad_Alexander_Smith',\n",
              " 'Brad_Banks',\n",
              " 'Brad_Brownell',\n",
              " 'Brad_Garrett',\n",
              " 'Brad_Gushue',\n",
              " 'Brad_Johnson',\n",
              " 'Brad_Miller',\n",
              " 'Brad_Pitt',\n",
              " 'Brad_Russ',\n",
              " 'Brad_Smith',\n",
              " 'Brad_Wilk',\n",
              " 'Brajesh_Mishra',\n",
              " 'Brandon_Boyd',\n",
              " 'Brandon_Fails',\n",
              " 'Brandon_Hammond',\n",
              " 'Brandon_Inge',\n",
              " 'Brandon_Jones',\n",
              " 'Brandon_Knight',\n",
              " 'Brandon_Larson',\n",
              " 'Brandon_Lloyd',\n",
              " 'Brandon_Robinson',\n",
              " 'Brandon_Spann',\n",
              " 'Brandon_Webb',\n",
              " 'Branko_Crvenkovski',\n",
              " 'Brawley_King',\n",
              " 'Brendan_Fraser',\n",
              " 'Brendan_Gaughan',\n",
              " 'Brendan_Hansen',\n",
              " 'Brendan_Stai',\n",
              " 'Brenda_Magana',\n",
              " 'Brenda_van_Dam',\n",
              " 'Brenda_Wilson',\n",
              " 'Brennon_Leighton',\n",
              " 'Brent_Coles',\n",
              " 'Brett_Boone',\n",
              " 'Brett_Hawke',\n",
              " 'Brett_Hull',\n",
              " 'Brett_Perry',\n",
              " 'Brian_Billick',\n",
              " 'Brian_Campbell',\n",
              " 'Brian_Cashman',\n",
              " 'Brian_Clemens',\n",
              " 'Brian_Cook',\n",
              " 'Brian_Cowen',\n",
              " 'Brian_De_Palma',\n",
              " 'Brian_Florence',\n",
              " 'Brian_Grazier',\n",
              " 'Brian_Gregory',\n",
              " 'Brian_Griese',\n",
              " 'Brian_Heidik',\n",
              " 'Brian_Henson',\n",
              " 'Brian_Jordan',\n",
              " 'Brian_Kerr',\n",
              " 'Brian_Lara',\n",
              " 'Brian_McIntyre',\n",
              " 'Brian_Meadors',\n",
              " 'Brian_Mulroney',\n",
              " 'Brian_Olson',\n",
              " 'Brian_Pavlich',\n",
              " 'Brian_Scalabrine',\n",
              " 'Brian_Schneider',\n",
              " 'Brian_StPierre',\n",
              " 'Brian_Van_Dusen',\n",
              " 'Brian_Weaver',\n",
              " 'Brian_Wells',\n",
              " 'Brian_Williams',\n",
              " 'Bridgette_Wilson-Sampras',\n",
              " 'Bridget_Fonda',\n",
              " 'Brigitte_Boisselier',\n",
              " 'Britney_Spears',\n",
              " 'Brittany_Snow',\n",
              " 'Brock_Berlin',\n",
              " 'Bronson_Arroyo',\n",
              " 'Brooke_Adams',\n",
              " 'Brooke_Gordon',\n",
              " 'Brooke_Shields',\n",
              " 'Brook_Robinson',\n",
              " 'Bruce_Arena',\n",
              " 'Bruce_Gebhardt',\n",
              " 'Bruce_Lunsford',\n",
              " 'Bruce_Paltrow',\n",
              " 'Bruce_Springsteen',\n",
              " 'Bruce_Van_De_Velde',\n",
              " 'Bruce_Weber',\n",
              " 'Bruce_Willis',\n",
              " 'Bruna_Colosio',\n",
              " 'Bruno_Junquiera',\n",
              " 'Bryant_Young',\n",
              " 'Bryan_Adams',\n",
              " 'Bryan_Chui',\n",
              " 'Bryan_Cooley',\n",
              " 'Bryan_Murray',\n",
              " 'Bryan_Thomas',\n",
              " 'Bryce_Carmine',\n",
              " 'Buck_Rodgers',\n",
              " 'Buddy_Ryan',\n",
              " 'Budd_Schulberg',\n",
              " 'Bud_Selig',\n",
              " 'Buford_Blount',\n",
              " 'Bulent_Ecevit',\n",
              " 'Bustam_A_Zedan_Aljanabi',\n",
              " 'Butch_Davis',\n",
              " 'Buzz_Hargrove',\n",
              " 'Byron_Scott',\n",
              " 'Cabas',\n",
              " 'Caio_Blat',\n",
              " 'Calbert_Cheaney',\n",
              " 'Calista_Flockhart',\n",
              " 'Calvin_Harrison',\n",
              " 'Calvin_Joseph_Coleman',\n",
              " 'Cameron_Diaz',\n",
              " 'Camilla_Parker_Bowles',\n",
              " 'Camille_Colvin',\n",
              " 'Camille_Lewis',\n",
              " 'Camryn_Manheim',\n",
              " 'Candace_Sutton',\n",
              " 'Candice_Beatty',\n",
              " 'Candice_Bergen',\n",
              " 'Candie_Kung',\n",
              " 'Carey_Lowell',\n",
              " 'Carina_Lau_Ka-ling',\n",
              " 'Carin_Koch',\n",
              " 'Cari_Davis',\n",
              " 'Carla_Del_Ponte',\n",
              " 'Carla_Gay_Balingit',\n",
              " 'Carla_Gugino',\n",
              " 'Carla_Moreno',\n",
              " 'Carla_Myers',\n",
              " 'Carla_Sullivan',\n",
              " 'Carla_Tricoli',\n",
              " 'Carlos_Alberto',\n",
              " 'Carlos_Alberto_Parreira',\n",
              " 'Carlos_Arroyo',\n",
              " 'Carlos_Barra',\n",
              " 'Carlos_Barragan',\n",
              " 'Carlos_Beltran',\n",
              " 'Carlos_Bianchi',\n",
              " 'Carlos_De_Abreu',\n",
              " 'Carlos_Fasciolo',\n",
              " 'Carlos_Ghosn',\n",
              " 'Carlos_Iturgaitz',\n",
              " 'Carlos_Juarez',\n",
              " 'Carlos_Lordkipanitse',\n",
              " 'Carlos_Manuel_Pruneda',\n",
              " 'Carlos_Menem',\n",
              " 'Carlos_Mesa',\n",
              " 'Carlos_Moya',\n",
              " 'Carlos_Ortega',\n",
              " 'Carlos_Paternina',\n",
              " 'Carlos_Queiroz',\n",
              " 'Carlos_Quintanilla_Schmidt',\n",
              " 'Carlos_Ruckauf',\n",
              " 'Carlos_Ruiz',\n",
              " 'Carlos_Salinas',\n",
              " 'Carlos_Savedra',\n",
              " 'Carlos_Vives',\n",
              " 'Carlo_Ancelotti',\n",
              " 'Carlo_Azeglio_Ciampi',\n",
              " 'Carlton_Baugh',\n",
              " 'Carlton_Dotson',\n",
              " 'Carly_Fiorina',\n",
              " 'Carly_Gullickson',\n",
              " 'Carl_Levin',\n",
              " 'Carl_Pope',\n",
              " 'Carl_Reiner',\n",
              " 'Carmen_Electra',\n",
              " 'Carolina_Barco',\n",
              " 'Carolina_Kluft',\n",
              " 'Carolina_Moraes',\n",
              " 'Caroline_Dhavernas',\n",
              " 'Caroline_Kennedy',\n",
              " 'Caroline_Link',\n",
              " 'Carolyn_Dawn_Johnson',\n",
              " 'Carolyn_Kuhl',\n",
              " 'Carol_Burnett',\n",
              " 'Carol_Carmody',\n",
              " 'Carol_Moseley_Braun',\n",
              " 'Carol_Niedermayer',\n",
              " 'Carol_Williams',\n",
              " 'Carrie-Anne_Moss',\n",
              " 'Carroll_Weimer',\n",
              " 'Carson_Daly',\n",
              " 'Carson_Palmer',\n",
              " 'Casey_Crowder',\n",
              " 'Casey_Mears',\n",
              " 'Cassandra_Heise',\n",
              " 'Cass_Ballenger',\n",
              " 'Casy_Preslar',\n",
              " 'Cate_Blanchett',\n",
              " 'Catherine_Bell',\n",
              " 'Catherine_Deneuve',\n",
              " 'Catherine_Donkers',\n",
              " 'Catherine_Ndereba',\n",
              " 'Catherine_Woodard',\n",
              " 'Catherine_Zeta-Jones',\n",
              " 'Cathryn_Crawford',\n",
              " 'Cathy_Chisholm',\n",
              " 'Cathy_Cunningham',\n",
              " 'Cathy_Freeman',\n",
              " 'Catriona_Le_May_Doan',\n",
              " 'Cecile_de_France',\n",
              " 'Cecilia_Bolocco',\n",
              " 'Cecilia_Chang',\n",
              " 'Cecilia_Cheung',\n",
              " 'Cedric_Benson',\n",
              " 'Celia_Cruz',\n",
              " 'Celine_Dion',\n",
              " 'Celso_Amorim',\n",
              " 'Celso_Lafer',\n",
              " 'Cemil_Cicek',\n",
              " 'Cesar_Gaviria',\n",
              " 'Cesar_Maia',\n",
              " 'Chadha_Gurinder',\n",
              " 'Chakib_Khelil',\n",
              " 'Chance_Mock',\n",
              " 'Chanda_Rubin',\n",
              " 'Chandrika_Kumaratunga',\n",
              " 'Chang_Dae-whan',\n",
              " 'Chang_Jae_On',\n",
              " 'Chang_Saio-yue',\n",
              " 'Chang_Sang',\n",
              " 'Chang_Tso',\n",
              " 'Chante_Jawan_Mallard',\n",
              " 'Chan_Choi',\n",
              " 'Chan_Gailey',\n",
              " 'Chan_Ho_Park',\n",
              " 'Charla_Moye',\n",
              " 'Charlene_Barshefsky',\n",
              " 'Charles_Bell',\n",
              " 'Charles_Bronson',\n",
              " 'Charles_Chandler_IV',\n",
              " 'Charles_Cope',\n",
              " 'Charles_Grassley',\n",
              " 'Charles_Holzner',\n",
              " 'Charles_Ingram',\n",
              " 'Charles_Kartman',\n",
              " 'Charles_Lebois',\n",
              " 'Charles_Mathews',\n",
              " 'Charles_Moose',\n",
              " 'Charles_Pickering',\n",
              " 'Charles_Pouty',\n",
              " 'Charles_Richardson',\n",
              " 'Charles_Rogers',\n",
              " 'Charles_Schumer',\n",
              " 'Charles_Tannok',\n",
              " 'Charles_Taylor',\n",
              " 'Charley_Armey',\n",
              " 'Charlie_Coles',\n",
              " 'Charlie_Deane',\n",
              " 'Charlie_Garner',\n",
              " 'Charlie_Hunnam',\n",
              " 'Charlie_Sheen',\n",
              " 'Charlie_Williams',\n",
              " 'Charlie_Zaa',\n",
              " 'Charlize_Theron',\n",
              " 'Charlotte_Casiraghi',\n",
              " 'Charlotte_Chambers',\n",
              " 'Charlotte_Church',\n",
              " 'Charlotte_Rampling',\n",
              " 'Charlton_Heston',\n",
              " 'Charmaine_Crooks',\n",
              " 'Chawki_Armali',\n",
              " 'Cha_Yung-gu',\n",
              " 'Chea_Sophara',\n",
              " 'Chelsea_Clinton',\n",
              " 'Chen_Kaige',\n",
              " 'Chen_Liang_Yu',\n",
              " 'Chen_Shui-bian',\n",
              " 'Chen_Tsai-chin',\n",
              " 'Cherie_Blair',\n",
              " 'Cherry_Jones',\n",
              " 'Cheryl_Ford',\n",
              " 'Cheryl_Hines',\n",
              " 'Cheryl_James',\n",
              " 'Cheryl_Little',\n",
              " 'Cheryl_Tiegs',\n",
              " 'Chhouk_Rin',\n",
              " 'Chick_Hearn',\n",
              " 'Chin-Feng_Chen',\n",
              " 'Chin-Hui_Tsao',\n",
              " 'Chip_Burrus',\n",
              " 'Chip_Ganassi',\n",
              " 'Chip_Knight',\n",
              " 'Chistian_Stahl',\n",
              " 'Chita_Rivera',\n",
              " 'Chloe_Sevigny',\n",
              " 'Choi_Sung-hong',\n",
              " 'Choi_Yun-yong',\n",
              " 'Chok_Tong_Goh',\n",
              " 'Cho_Myung-kyun',\n",
              " 'Christiane_Wulff',\n",
              " 'Christian_Bale',\n",
              " 'Christian_Fittipaldi',\n",
              " 'Christian_Gimenez',\n",
              " 'Christian_Lacroix',\n",
              " 'Christian_Lirette',\n",
              " 'Christian_Longo',\n",
              " 'Christian_Malcolm',\n",
              " 'Christian_Olsson',\n",
              " 'Christian_Patino',\n",
              " 'Christian_Von_Wernich',\n",
              " 'Christian_Wulff',\n",
              " 'Christina_Aguilera',\n",
              " 'Christina_Sawaya',\n",
              " 'Christine_Arron',\n",
              " 'Christine_Baumgartner',\n",
              " 'Christine_Ebersole',\n",
              " 'Christine_Gregoire',\n",
              " 'Christine_Rau',\n",
              " 'Christine_Todd_Whitman',\n",
              " 'Christopher_Amolsch',\n",
              " 'Christopher_Conyers',\n",
              " 'Christopher_Matero',\n",
              " 'Christopher_Patten',\n",
              " 'Christopher_Reeve',\n",
              " 'Christopher_Russell',\n",
              " 'Christopher_Speer',\n",
              " 'Christopher_Walken',\n",
              " 'Christopher_Whittle',\n",
              " 'Christoph_Daum',\n",
              " 'Christy_Ferer',\n",
              " 'Christy_Turlington',\n",
              " 'Chris_Andrews',\n",
              " 'Chris_Bell',\n",
              " 'Chris_Byrd',\n",
              " 'Chris_Cirino',\n",
              " 'Chris_Claiborne',\n",
              " 'Chris_Columbus',\n",
              " 'Chris_Cookson',\n",
              " 'Chris_Cooper',\n",
              " 'Chris_Cornell',\n",
              " 'Chris_Crocker',\n",
              " 'Chris_Dodd',\n",
              " 'Chris_Forsyth',\n",
              " 'Chris_Gratton',\n",
              " 'Chris_Hernandez',\n",
              " 'Chris_Klein',\n",
              " 'Chris_Kolanas',\n",
              " 'Chris_Matthews',\n",
              " 'Chris_Moore',\n",
              " 'Chris_Neil',\n",
              " 'Chris_Noth',\n",
              " 'Chris_Penn',\n",
              " 'Chris_Pronger',\n",
              " 'Chris_Reitsma',\n",
              " 'Chris_Rock',\n",
              " 'Chris_Simon',\n",
              " 'Chris_Swecker',\n",
              " 'Chris_Terry',\n",
              " 'Chris_Thomas',\n",
              " 'Chris_Tucker',\n",
              " 'Chris_Whitney',\n",
              " 'Chuanyun_Li',\n",
              " 'Chuck_Amato',\n",
              " 'Chuck_Bednarik',\n",
              " 'Chuck_Eidson',\n",
              " 'Chuck_Finley',\n",
              " 'Chuck_Hagel',\n",
              " 'Chuck_Woolery',\n",
              " 'Chuck_Yeager',\n",
              " 'Chung_Mong-hun',\n",
              " 'Chung_Mong-joon',\n",
              " 'Chyung_Dai-chul',\n",
              " ...]"
            ]
          },
          "execution_count": 24,
          "metadata": {},
          "output_type": "execute_result"
        }
      ],
      "source": [
        "os.listdir('lfw')"
      ]
    },
    {
      "cell_type": "markdown",
      "id": "74c1e7b6-6fb7-443c-8cda-5f1c9a729d8f",
      "metadata": {
        "id": "74c1e7b6-6fb7-443c-8cda-5f1c9a729d8f"
      },
      "source": [
        "Pindahkan semua file di lfw ke data\\negatif"
      ]
    },
    {
      "cell_type": "code",
      "execution_count": null,
      "id": "969b2efe-0076-483a-b9f6-8d4e89a8b3c8",
      "metadata": {
        "id": "969b2efe-0076-483a-b9f6-8d4e89a8b3c8"
      },
      "outputs": [],
      "source": [
        "for directory in os.listdir('/content/drive/MyDrive/FaceRegonition/lfw'):\n",
        "    for file in os.listdir(os.path.join('/content/drive/MyDrive/FaceRegonition/lfw', directory)):\n",
        "        EX_PATH = os.path.join('/content/drive/MyDrive/FaceRegonition/lfw', directory, file)\n",
        "        NEW_PATH = os.path.join(NEG_PATH, file)\n",
        "        os.replace(EX_PATH, NEW_PATH)"
      ]
    },
    {
      "cell_type": "markdown",
      "id": "c04b171e-6f68-4a9c-ac61-0d6a1d94a16f",
      "metadata": {
        "id": "c04b171e-6f68-4a9c-ac61-0d6a1d94a16f"
      },
      "source": [
        "# Ambil gambar menggunakan OpenCV"
      ]
    },
    {
      "cell_type": "code",
      "execution_count": null,
      "id": "e44b3502-5ffe-4df4-85fe-9a75c98ed376",
      "metadata": {
        "id": "e44b3502-5ffe-4df4-85fe-9a75c98ed376"
      },
      "outputs": [],
      "source": [
        "import uuid"
      ]
    },
    {
      "cell_type": "code",
      "execution_count": null,
      "id": "1a9409a5-6549-4aca-9f5b-5491ace668fa",
      "metadata": {
        "id": "1a9409a5-6549-4aca-9f5b-5491ace668fa",
        "outputId": "ef81a2dd-8de4-4d77-b281-3487ce8bc9bf"
      },
      "outputs": [
        {
          "data": {
            "text/plain": [
              "UUID('6d716606-a8ac-11ef-b8e3-90784112f6e6')"
            ]
          },
          "execution_count": 6,
          "metadata": {},
          "output_type": "execute_result"
        }
      ],
      "source": [
        "uuid.uuid1()"
      ]
    },
    {
      "cell_type": "code",
      "execution_count": null,
      "id": "5194dfa8-11c2-4e93-84ac-d3bb01c1d363",
      "metadata": {
        "id": "5194dfa8-11c2-4e93-84ac-d3bb01c1d363",
        "outputId": "5efdcdc2-c6de-4ca2-b491-3f386e6e7237"
      },
      "outputs": [
        {
          "name": "stdout",
          "output_type": "stream",
          "text": [
            "Anchor image saved: data\\anchor\\836e24b2-a8ac-11ef-9464-90784112f6e6.jpg\n",
            "Anchor image saved: data\\anchor\\85e4ab4f-a8ac-11ef-9fd2-90784112f6e6.jpg\n",
            "Anchor image saved: data\\anchor\\86ed09f0-a8ac-11ef-9e00-90784112f6e6.jpg\n",
            "Anchor image saved: data\\anchor\\8d6a6c07-a8ac-11ef-8567-90784112f6e6.jpg\n",
            "Anchor image saved: data\\anchor\\91737a07-a8ac-11ef-86cc-90784112f6e6.jpg\n",
            "Anchor image saved: data\\anchor\\917f58fb-a8ac-11ef-a43a-90784112f6e6.jpg\n",
            "Anchor image saved: data\\anchor\\918d9f5d-a8ac-11ef-8073-90784112f6e6.jpg\n",
            "Anchor image saved: data\\anchor\\919bb654-a8ac-11ef-b585-90784112f6e6.jpg\n",
            "Anchor image saved: data\\anchor\\91a67de1-a8ac-11ef-a378-90784112f6e6.jpg\n",
            "Anchor image saved: data\\anchor\\91ae9c58-a8ac-11ef-8fb7-90784112f6e6.jpg\n",
            "Anchor image saved: data\\anchor\\91baf1e3-a8ac-11ef-9648-90784112f6e6.jpg\n",
            "Anchor image saved: data\\anchor\\91bfc443-a8ac-11ef-a22c-90784112f6e6.jpg\n",
            "Anchor image saved: data\\anchor\\91cfd924-a8ac-11ef-8575-90784112f6e6.jpg\n",
            "Anchor image saved: data\\anchor\\91ea39f1-a8ac-11ef-86a8-90784112f6e6.jpg\n",
            "Anchor image saved: data\\anchor\\91f9e09b-a8ac-11ef-939b-90784112f6e6.jpg\n",
            "Anchor image saved: data\\anchor\\9204dd44-a8ac-11ef-bf9e-90784112f6e6.jpg\n",
            "Anchor image saved: data\\anchor\\92138446-a8ac-11ef-97a2-90784112f6e6.jpg\n",
            "Anchor image saved: data\\anchor\\922955a1-a8ac-11ef-a249-90784112f6e6.jpg\n",
            "Anchor image saved: data\\anchor\\9237e98f-a8ac-11ef-8045-90784112f6e6.jpg\n",
            "Anchor image saved: data\\anchor\\9249ceba-a8ac-11ef-a574-90784112f6e6.jpg\n",
            "Anchor image saved: data\\anchor\\92575721-a8ac-11ef-80a7-90784112f6e6.jpg\n",
            "Anchor image saved: data\\anchor\\9272da63-a8ac-11ef-b961-90784112f6e6.jpg\n",
            "Anchor image saved: data\\anchor\\92805c63-a8ac-11ef-85f4-90784112f6e6.jpg\n",
            "Anchor image saved: data\\anchor\\928e46ef-a8ac-11ef-9e18-90784112f6e6.jpg\n",
            "Anchor image saved: data\\anchor\\929aef27-a8ac-11ef-9c16-90784112f6e6.jpg\n",
            "Anchor image saved: data\\anchor\\92a8e690-a8ac-11ef-89fd-90784112f6e6.jpg\n",
            "Anchor image saved: data\\anchor\\92b0f7f6-a8ac-11ef-9107-90784112f6e6.jpg\n",
            "Anchor image saved: data\\anchor\\92b70710-a8ac-11ef-839f-90784112f6e6.jpg\n",
            "Anchor image saved: data\\anchor\\92c5805c-a8ac-11ef-8c2b-90784112f6e6.jpg\n",
            "Anchor image saved: data\\anchor\\92d7857b-a8ac-11ef-a197-90784112f6e6.jpg\n",
            "Anchor image saved: data\\anchor\\92dfb3a2-a8ac-11ef-ae9e-90784112f6e6.jpg\n",
            "Anchor image saved: data\\anchor\\92eda63e-a8ac-11ef-ac8a-90784112f6e6.jpg\n",
            "Anchor image saved: data\\anchor\\9301329a-a8ac-11ef-b41d-90784112f6e6.jpg\n",
            "Anchor image saved: data\\anchor\\930ec79c-a8ac-11ef-8b1a-90784112f6e6.jpg\n",
            "Anchor image saved: data\\anchor\\931d34ba-a8ac-11ef-a52d-90784112f6e6.jpg\n",
            "Anchor image saved: data\\anchor\\932b2014-a8ac-11ef-bb8a-90784112f6e6.jpg\n",
            "Anchor image saved: data\\anchor\\933299b5-a8ac-11ef-b67a-90784112f6e6.jpg\n",
            "Anchor image saved: data\\anchor\\93411761-a8ac-11ef-b54c-90784112f6e6.jpg\n",
            "Anchor image saved: data\\anchor\\934d6fa4-a8ac-11ef-ac62-90784112f6e6.jpg\n",
            "Anchor image saved: data\\anchor\\93525ace-a8ac-11ef-b62d-90784112f6e6.jpg\n",
            "Anchor image saved: data\\anchor\\9356a072-a8ac-11ef-8b39-90784112f6e6.jpg\n",
            "Anchor image saved: data\\anchor\\935b6304-a8ac-11ef-a4d0-90784112f6e6.jpg\n",
            "Anchor image saved: data\\anchor\\93600b10-a8ac-11ef-a33d-90784112f6e6.jpg\n",
            "Anchor image saved: data\\anchor\\93690481-a8ac-11ef-b192-90784112f6e6.jpg\n",
            "Anchor image saved: data\\anchor\\93771a89-a8ac-11ef-a8e8-90784112f6e6.jpg\n",
            "Anchor image saved: data\\anchor\\93859ff1-a8ac-11ef-985a-90784112f6e6.jpg\n",
            "Anchor image saved: data\\anchor\\938e84f0-a8ac-11ef-b013-90784112f6e6.jpg\n",
            "Anchor image saved: data\\anchor\\93969f50-a8ac-11ef-a44e-90784112f6e6.jpg\n",
            "Anchor image saved: data\\anchor\\93a5347e-a8ac-11ef-8e48-90784112f6e6.jpg\n",
            "Anchor image saved: data\\anchor\\93b8c71a-a8ac-11ef-bccc-90784112f6e6.jpg\n",
            "Anchor image saved: data\\anchor\\93bfcc19-a8ac-11ef-b610-90784112f6e6.jpg\n",
            "Anchor image saved: data\\anchor\\93cdf93d-a8ac-11ef-8b56-90784112f6e6.jpg\n",
            "Anchor image saved: data\\anchor\\93e1d9ee-a8ac-11ef-8321-90784112f6e6.jpg\n",
            "Anchor image saved: data\\anchor\\93ea8cbb-a8ac-11ef-b1ce-90784112f6e6.jpg\n",
            "Anchor image saved: data\\anchor\\93f6e3a8-a8ac-11ef-9dfb-90784112f6e6.jpg\n",
            "Anchor image saved: data\\anchor\\940897f0-a8ac-11ef-9af0-90784112f6e6.jpg\n",
            "Anchor image saved: data\\anchor\\940e56a4-a8ac-11ef-a9ac-90784112f6e6.jpg\n",
            "Anchor image saved: data\\anchor\\9421a5e5-a8ac-11ef-94ad-90784112f6e6.jpg\n",
            "Anchor image saved: data\\anchor\\94328d6f-a8ac-11ef-8743-90784112f6e6.jpg\n",
            "Anchor image saved: data\\anchor\\9440f9dd-a8ac-11ef-9a57-90784112f6e6.jpg\n",
            "Anchor image saved: data\\anchor\\944f2bc9-a8ac-11ef-9d95-90784112f6e6.jpg\n",
            "Anchor image saved: data\\anchor\\98e6f1c2-a8ac-11ef-87b9-90784112f6e6.jpg\n",
            "Anchor image saved: data\\anchor\\993ae7b0-a8ac-11ef-97ca-90784112f6e6.jpg\n",
            "Anchor image saved: data\\anchor\\994a0a37-a8ac-11ef-9203-90784112f6e6.jpg\n",
            "Anchor image saved: data\\anchor\\99575903-a8ac-11ef-ba4c-90784112f6e6.jpg\n",
            "Anchor image saved: data\\anchor\\99658959-a8ac-11ef-b16b-90784112f6e6.jpg\n",
            "Anchor image saved: data\\anchor\\9970f8d7-a8ac-11ef-a61e-90784112f6e6.jpg\n",
            "Anchor image saved: data\\anchor\\99769b69-a8ac-11ef-9d92-90784112f6e6.jpg\n",
            "Anchor image saved: data\\anchor\\9984ce98-a8ac-11ef-85c2-90784112f6e6.jpg\n",
            "Anchor image saved: data\\anchor\\999a8317-a8ac-11ef-a1b7-90784112f6e6.jpg\n",
            "Anchor image saved: data\\anchor\\99aac716-a8ac-11ef-9077-90784112f6e6.jpg\n",
            "Anchor image saved: data\\anchor\\99c3f6ef-a8ac-11ef-9fc7-90784112f6e6.jpg\n",
            "Anchor image saved: data\\anchor\\99c953f0-a8ac-11ef-b830-90784112f6e6.jpg\n",
            "Anchor image saved: data\\anchor\\99d7ab42-a8ac-11ef-a43d-90784112f6e6.jpg\n",
            "Anchor image saved: data\\anchor\\99eae10c-a8ac-11ef-9661-90784112f6e6.jpg\n",
            "Anchor image saved: data\\anchor\\99fbbc4b-a8ac-11ef-9e2b-90784112f6e6.jpg\n",
            "Anchor image saved: data\\anchor\\9a1596e6-a8ac-11ef-8565-90784112f6e6.jpg\n",
            "Anchor image saved: data\\anchor\\9a21b5a0-a8ac-11ef-87cf-90784112f6e6.jpg\n",
            "Anchor image saved: data\\anchor\\9a370739-a8ac-11ef-b6a7-90784112f6e6.jpg\n",
            "Anchor image saved: data\\anchor\\9a407dea-a8ac-11ef-8929-90784112f6e6.jpg\n",
            "Anchor image saved: data\\anchor\\9a4eeb12-a8ac-11ef-8c03-90784112f6e6.jpg\n",
            "Anchor image saved: data\\anchor\\9a5d2086-a8ac-11ef-92f7-90784112f6e6.jpg\n",
            "Anchor image saved: data\\anchor\\9a651092-a8ac-11ef-a7e3-90784112f6e6.jpg\n",
            "Anchor image saved: data\\anchor\\9a72ff86-a8ac-11ef-8948-90784112f6e6.jpg\n",
            "Anchor image saved: data\\anchor\\9a8e9863-a8ac-11ef-a74d-90784112f6e6.jpg\n",
            "Anchor image saved: data\\anchor\\9a9b9e0a-a8ac-11ef-942b-90784112f6e6.jpg\n",
            "Anchor image saved: data\\anchor\\9aa9e605-a8ac-11ef-9b2d-90784112f6e6.jpg\n",
            "Anchor image saved: data\\anchor\\9ab8066c-a8ac-11ef-8211-90784112f6e6.jpg\n",
            "Anchor image saved: data\\anchor\\9ac6504c-a8ac-11ef-b250-90784112f6e6.jpg\n",
            "Anchor image saved: data\\anchor\\9ad27e4e-a8ac-11ef-8863-90784112f6e6.jpg\n",
            "Anchor image saved: data\\anchor\\9ae055f4-a8ac-11ef-a050-90784112f6e6.jpg\n",
            "Anchor image saved: data\\anchor\\9aeea8c8-a8ac-11ef-8fd7-90784112f6e6.jpg\n",
            "Anchor image saved: data\\anchor\\9afd3a39-a8ac-11ef-a525-90784112f6e6.jpg\n",
            "Anchor image saved: data\\anchor\\9b0916c7-a8ac-11ef-9cf0-90784112f6e6.jpg\n",
            "Anchor image saved: data\\anchor\\9b0dda71-a8ac-11ef-b72e-90784112f6e6.jpg\n",
            "Anchor image saved: data\\anchor\\9b126a3f-a8ac-11ef-87c3-90784112f6e6.jpg\n",
            "Anchor image saved: data\\anchor\\9b170015-a8ac-11ef-9e99-90784112f6e6.jpg\n",
            "Anchor image saved: data\\anchor\\9b1c87e2-a8ac-11ef-9d11-90784112f6e6.jpg\n",
            "Anchor image saved: data\\anchor\\9b24d89d-a8ac-11ef-9ae5-90784112f6e6.jpg\n",
            "Anchor image saved: data\\anchor\\9b3346c0-a8ac-11ef-b3e2-90784112f6e6.jpg\n",
            "Anchor image saved: data\\anchor\\9b459204-a8ac-11ef-bf4b-90784112f6e6.jpg\n",
            "Anchor image saved: data\\anchor\\9b6566bd-a8ac-11ef-a704-90784112f6e6.jpg\n",
            "Anchor image saved: data\\anchor\\9b7707b5-a8ac-11ef-a4fc-90784112f6e6.jpg\n",
            "Anchor image saved: data\\anchor\\9b7b9b85-a8ac-11ef-a1ce-90784112f6e6.jpg\n",
            "Anchor image saved: data\\anchor\\9b89987b-a8ac-11ef-ba2d-90784112f6e6.jpg\n",
            "Anchor image saved: data\\anchor\\9bca776a-a8ac-11ef-88e8-90784112f6e6.jpg\n",
            "Anchor image saved: data\\anchor\\9bd6e7d4-a8ac-11ef-b82f-90784112f6e6.jpg\n",
            "Anchor image saved: data\\anchor\\9bdbc9ee-a8ac-11ef-aad4-90784112f6e6.jpg\n",
            "Anchor image saved: data\\anchor\\9c01c1fa-a8ac-11ef-a2b9-90784112f6e6.jpg\n",
            "Anchor image saved: data\\anchor\\9c327cac-a8ac-11ef-8272-90784112f6e6.jpg\n",
            "Anchor image saved: data\\anchor\\9c375ecb-a8ac-11ef-9632-90784112f6e6.jpg\n",
            "Anchor image saved: data\\anchor\\9c4dedd7-a8ac-11ef-a9bc-90784112f6e6.jpg\n",
            "Anchor image saved: data\\anchor\\9c58d78f-a8ac-11ef-b7db-90784112f6e6.jpg\n",
            "Anchor image saved: data\\anchor\\9c651086-a8ac-11ef-9c1a-90784112f6e6.jpg\n",
            "Anchor image saved: data\\anchor\\9c772cb1-a8ac-11ef-bf4c-90784112f6e6.jpg\n",
            "Anchor image saved: data\\anchor\\9c86582d-a8ac-11ef-9885-90784112f6e6.jpg\n",
            "Anchor image saved: data\\anchor\\9c9754a6-a8ac-11ef-8935-90784112f6e6.jpg\n",
            "Anchor image saved: data\\anchor\\9c9dbd52-a8ac-11ef-b3d7-90784112f6e6.jpg\n",
            "Anchor image saved: data\\anchor\\9caed7ec-a8ac-11ef-8d37-90784112f6e6.jpg\n",
            "Anchor image saved: data\\anchor\\9cbd12f2-a8ac-11ef-b661-90784112f6e6.jpg\n",
            "Anchor image saved: data\\anchor\\9cc7d5d3-a8ac-11ef-8940-90784112f6e6.jpg\n",
            "Anchor image saved: data\\anchor\\9cdc3bdc-a8ac-11ef-84b8-90784112f6e6.jpg\n",
            "Anchor image saved: data\\anchor\\9cf1267b-a8ac-11ef-8fa5-90784112f6e6.jpg\n",
            "Anchor image saved: data\\anchor\\9cf85e11-a8ac-11ef-b388-90784112f6e6.jpg\n",
            "Anchor image saved: data\\anchor\\9d06a3d2-a8ac-11ef-849e-90784112f6e6.jpg\n",
            "Anchor image saved: data\\anchor\\9d1a9fd0-a8ac-11ef-9056-90784112f6e6.jpg\n",
            "Anchor image saved: data\\anchor\\9d20e4cf-a8ac-11ef-8be3-90784112f6e6.jpg\n",
            "Anchor image saved: data\\anchor\\9d2eff93-a8ac-11ef-bfae-90784112f6e6.jpg\n",
            "Anchor image saved: data\\anchor\\9d3d7913-a8ac-11ef-9850-90784112f6e6.jpg\n",
            "Anchor image saved: data\\anchor\\9d577a1e-a8ac-11ef-acfd-90784112f6e6.jpg\n",
            "Anchor image saved: data\\anchor\\9d8212a2-a8ac-11ef-9cac-90784112f6e6.jpg\n",
            "Anchor image saved: data\\anchor\\9dcb7d01-a8ac-11ef-beeb-90784112f6e6.jpg\n",
            "Anchor image saved: data\\anchor\\9dd79f20-a8ac-11ef-a362-90784112f6e6.jpg\n",
            "Anchor image saved: data\\anchor\\9de60b74-a8ac-11ef-b8e8-90784112f6e6.jpg\n",
            "Anchor image saved: data\\anchor\\9df8bd2b-a8ac-11ef-8157-90784112f6e6.jpg\n",
            "Anchor image saved: data\\anchor\\9e05a265-a8ac-11ef-9c89-90784112f6e6.jpg\n",
            "Anchor image saved: data\\anchor\\9e140e8e-a8ac-11ef-8236-90784112f6e6.jpg\n",
            "Anchor image saved: data\\anchor\\9e223f9d-a8ac-11ef-bf37-90784112f6e6.jpg\n",
            "Anchor image saved: data\\anchor\\9e33be1d-a8ac-11ef-95b1-90784112f6e6.jpg\n",
            "Anchor image saved: data\\anchor\\9e4b798f-a8ac-11ef-82e3-90784112f6e6.jpg\n",
            "Anchor image saved: data\\anchor\\9e535632-a8ac-11ef-a3f7-90784112f6e6.jpg\n",
            "Anchor image saved: data\\anchor\\9e61e951-a8ac-11ef-a904-90784112f6e6.jpg\n",
            "Anchor image saved: data\\anchor\\9e72fac6-a8ac-11ef-ae79-90784112f6e6.jpg\n",
            "Anchor image saved: data\\anchor\\9e8166c7-a8ac-11ef-95ce-90784112f6e6.jpg\n",
            "Anchor image saved: data\\anchor\\9e8faba4-a8ac-11ef-b7a4-90784112f6e6.jpg\n",
            "Anchor image saved: data\\anchor\\9e9c5605-a8ac-11ef-876f-90784112f6e6.jpg\n",
            "Anchor image saved: data\\anchor\\9ea0aff1-a8ac-11ef-840d-90784112f6e6.jpg\n",
            "Anchor image saved: data\\anchor\\9eb355b0-a8ac-11ef-9aec-90784112f6e6.jpg\n",
            "Anchor image saved: data\\anchor\\9ec54445-a8ac-11ef-84c3-90784112f6e6.jpg\n",
            "Anchor image saved: data\\anchor\\9ed4cfc0-a8ac-11ef-b474-90784112f6e6.jpg\n",
            "Anchor image saved: data\\anchor\\9eed09af-a8ac-11ef-81a7-90784112f6e6.jpg\n",
            "Anchor image saved: data\\anchor\\9ef3f44d-a8ac-11ef-9057-90784112f6e6.jpg\n",
            "Anchor image saved: data\\anchor\\9f02360b-a8ac-11ef-8899-90784112f6e6.jpg\n",
            "Anchor image saved: data\\anchor\\9f0e8f62-a8ac-11ef-bb60-90784112f6e6.jpg\n",
            "Anchor image saved: data\\anchor\\9f17f24f-a8ac-11ef-9f18-90784112f6e6.jpg\n",
            "Anchor image saved: data\\anchor\\9f3012c4-a8ac-11ef-93ef-90784112f6e6.jpg\n",
            "Anchor image saved: data\\anchor\\9f3ff058-a8ac-11ef-ad79-90784112f6e6.jpg\n",
            "Anchor image saved: data\\anchor\\9f458362-a8ac-11ef-bc23-90784112f6e6.jpg\n",
            "Anchor image saved: data\\anchor\\9f5422b6-a8ac-11ef-945b-90784112f6e6.jpg\n",
            "Anchor image saved: data\\anchor\\9f675d28-a8ac-11ef-80a8-90784112f6e6.jpg\n",
            "Anchor image saved: data\\anchor\\9f7825c9-a8ac-11ef-ac3d-90784112f6e6.jpg\n",
            "Anchor image saved: data\\anchor\\9f862b87-a8ac-11ef-bc0d-90784112f6e6.jpg\n",
            "Anchor image saved: data\\anchor\\9f949e8e-a8ac-11ef-b827-90784112f6e6.jpg\n",
            "Anchor image saved: data\\anchor\\9fa3b8e1-a8ac-11ef-a447-90784112f6e6.jpg\n",
            "Anchor image saved: data\\anchor\\9faa664f-a8ac-11ef-8747-90784112f6e6.jpg\n",
            "Anchor image saved: data\\anchor\\9fb89a08-a8ac-11ef-98c1-90784112f6e6.jpg\n",
            "Anchor image saved: data\\anchor\\9fcdcf42-a8ac-11ef-b9a4-90784112f6e6.jpg\n",
            "Anchor image saved: data\\anchor\\9ff6f02b-a8ac-11ef-a9e8-90784112f6e6.jpg\n",
            "Anchor image saved: data\\anchor\\a0137079-a8ac-11ef-9443-90784112f6e6.jpg\n",
            "Anchor image saved: data\\anchor\\a02b5977-a8ac-11ef-af2b-90784112f6e6.jpg\n",
            "Anchor image saved: data\\anchor\\a03983d3-a8ac-11ef-84d9-90784112f6e6.jpg\n",
            "Anchor image saved: data\\anchor\\a053c3ba-a8ac-11ef-a01a-90784112f6e6.jpg\n",
            "Anchor image saved: data\\anchor\\a05d478e-a8ac-11ef-bbdf-90784112f6e6.jpg\n",
            "Anchor image saved: data\\anchor\\a06b4cb7-a8ac-11ef-b417-90784112f6e6.jpg\n",
            "Anchor image saved: data\\anchor\\a079497b-a8ac-11ef-9d12-90784112f6e6.jpg\n",
            "Anchor image saved: data\\anchor\\a087911e-a8ac-11ef-9bfe-90784112f6e6.jpg\n",
            "Anchor image saved: data\\anchor\\a097d28f-a8ac-11ef-bc36-90784112f6e6.jpg\n",
            "Anchor image saved: data\\anchor\\a0c1f2e2-a8ac-11ef-b72c-90784112f6e6.jpg\n",
            "Anchor image saved: data\\anchor\\a0c7d060-a8ac-11ef-9294-90784112f6e6.jpg\n",
            "Anchor image saved: data\\anchor\\a0dd1437-a8ac-11ef-83f9-90784112f6e6.jpg\n",
            "Anchor image saved: data\\anchor\\a0ec2288-a8ac-11ef-9185-90784112f6e6.jpg\n",
            "Anchor image saved: data\\anchor\\a0f9df7b-a8ac-11ef-a110-90784112f6e6.jpg\n",
            "Anchor image saved: data\\anchor\\a11270da-a8ac-11ef-809f-90784112f6e6.jpg\n",
            "Anchor image saved: data\\anchor\\a1194eab-a8ac-11ef-b7b0-90784112f6e6.jpg\n",
            "Anchor image saved: data\\anchor\\a122ffc7-a8ac-11ef-a674-90784112f6e6.jpg\n",
            "Anchor image saved: data\\anchor\\a12f3e60-a8ac-11ef-8dea-90784112f6e6.jpg\n",
            "Anchor image saved: data\\anchor\\a13c5cee-a8ac-11ef-be9b-90784112f6e6.jpg\n",
            "Anchor image saved: data\\anchor\\a1422757-a8ac-11ef-b251-90784112f6e6.jpg\n",
            "Anchor image saved: data\\anchor\\a150bae1-a8ac-11ef-9a62-90784112f6e6.jpg\n",
            "Anchor image saved: data\\anchor\\a165f33e-a8ac-11ef-85cf-90784112f6e6.jpg\n",
            "Anchor image saved: data\\anchor\\a16b3793-a8ac-11ef-9496-90784112f6e6.jpg\n",
            "Anchor image saved: data\\anchor\\a17e7432-a8ac-11ef-b945-90784112f6e6.jpg\n",
            "Anchor image saved: data\\anchor\\a1940e85-a8ac-11ef-956c-90784112f6e6.jpg\n",
            "Anchor image saved: data\\anchor\\bfae8ecc-a8ac-11ef-82fa-90784112f6e6.jpg\n",
            "Anchor image saved: data\\anchor\\bffd7b46-a8ac-11ef-b8cf-90784112f6e6.jpg\n",
            "Anchor image saved: data\\anchor\\c0036104-a8ac-11ef-a4ff-90784112f6e6.jpg\n",
            "Anchor image saved: data\\anchor\\c011565e-a8ac-11ef-a138-90784112f6e6.jpg\n",
            "Anchor image saved: data\\anchor\\c0268f99-a8ac-11ef-ae45-90784112f6e6.jpg\n",
            "Anchor image saved: data\\anchor\\c030620f-a8ac-11ef-af1b-90784112f6e6.jpg\n",
            "Anchor image saved: data\\anchor\\c03e54cc-a8ac-11ef-9e7f-90784112f6e6.jpg\n",
            "Anchor image saved: data\\anchor\\c050aa39-a8ac-11ef-8d01-90784112f6e6.jpg\n",
            "Anchor image saved: data\\anchor\\c056c4cf-a8ac-11ef-a88f-90784112f6e6.jpg\n",
            "Anchor image saved: data\\anchor\\c06c49fc-a8ac-11ef-87e9-90784112f6e6.jpg\n",
            "Anchor image saved: data\\anchor\\c077e113-a8ac-11ef-ae63-90784112f6e6.jpg\n",
            "Anchor image saved: data\\anchor\\c088e37e-a8ac-11ef-883b-90784112f6e6.jpg\n",
            "Anchor image saved: data\\anchor\\c0a1fcf4-a8ac-11ef-8c15-90784112f6e6.jpg\n",
            "Anchor image saved: data\\anchor\\c0a7b77d-a8ac-11ef-bbc6-90784112f6e6.jpg\n",
            "Anchor image saved: data\\anchor\\c0bb05c1-a8ac-11ef-bc45-90784112f6e6.jpg\n",
            "Anchor image saved: data\\anchor\\c0ca5c3e-a8ac-11ef-8638-90784112f6e6.jpg\n",
            "Anchor image saved: data\\anchor\\c0d0b30b-a8ac-11ef-8a7f-90784112f6e6.jpg\n",
            "Anchor image saved: data\\anchor\\c0def030-a8ac-11ef-9dcf-90784112f6e6.jpg\n",
            "Anchor image saved: data\\anchor\\c0f17bb5-a8ac-11ef-98a3-90784112f6e6.jpg\n",
            "Anchor image saved: data\\anchor\\c107eb1d-a8ac-11ef-b4f9-90784112f6e6.jpg\n",
            "Anchor image saved: data\\anchor\\c11ac411-a8ac-11ef-8e70-90784112f6e6.jpg\n",
            "Anchor image saved: data\\anchor\\c12777c4-a8ac-11ef-98c4-90784112f6e6.jpg\n",
            "Anchor image saved: data\\anchor\\c135bcf1-a8ac-11ef-a368-90784112f6e6.jpg\n",
            "Anchor image saved: data\\anchor\\c1451398-a8ac-11ef-a0cb-90784112f6e6.jpg\n",
            "Anchor image saved: data\\anchor\\c1507cd6-a8ac-11ef-b579-90784112f6e6.jpg\n",
            "Anchor image saved: data\\anchor\\c1552b82-a8ac-11ef-a44e-90784112f6e6.jpg\n",
            "Anchor image saved: data\\anchor\\c16c1ba3-a8ac-11ef-a582-90784112f6e6.jpg\n",
            "Anchor image saved: data\\anchor\\c17b724a-a8ac-11ef-a5fd-90784112f6e6.jpg\n",
            "Anchor image saved: data\\anchor\\c187c98f-a8ac-11ef-8a63-90784112f6e6.jpg\n",
            "Anchor image saved: data\\anchor\\c194eb2c-a8ac-11ef-9561-90784112f6e6.jpg\n",
            "Anchor image saved: data\\anchor\\c19a6d98-a8ac-11ef-8512-90784112f6e6.jpg\n",
            "Anchor image saved: data\\anchor\\c1a8e512-a8ac-11ef-96cb-90784112f6e6.jpg\n",
            "Anchor image saved: data\\anchor\\c1be5a56-a8ac-11ef-ab95-90784112f6e6.jpg\n",
            "Anchor image saved: data\\anchor\\c1cc6c12-a8ac-11ef-ada7-90784112f6e6.jpg\n",
            "Anchor image saved: data\\anchor\\c1dae6a0-a8ac-11ef-8d22-90784112f6e6.jpg\n",
            "Anchor image saved: data\\anchor\\c1e5bcc7-a8ac-11ef-be0c-90784112f6e6.jpg\n",
            "Anchor image saved: data\\anchor\\c1f0e0c2-a8ac-11ef-8905-90784112f6e6.jpg\n",
            "Anchor image saved: data\\anchor\\c1ff01f6-a8ac-11ef-a97b-90784112f6e6.jpg\n",
            "Anchor image saved: data\\anchor\\c20ef599-a8ac-11ef-be06-90784112f6e6.jpg\n",
            "Anchor image saved: data\\anchor\\c2172012-a8ac-11ef-a135-90784112f6e6.jpg\n",
            "Anchor image saved: data\\anchor\\c21e9a38-a8ac-11ef-a693-90784112f6e6.jpg\n",
            "Anchor image saved: data\\anchor\\c22cf7fc-a8ac-11ef-99af-90784112f6e6.jpg\n",
            "Anchor image saved: data\\anchor\\c238fd62-a8ac-11ef-a3ac-90784112f6e6.jpg\n",
            "Anchor image saved: data\\anchor\\c2402a69-a8ac-11ef-9a78-90784112f6e6.jpg\n",
            "Anchor image saved: data\\anchor\\c255b633-a8ac-11ef-8071-90784112f6e6.jpg\n",
            "Anchor image saved: data\\anchor\\c25fc8cd-a8ac-11ef-a30d-90784112f6e6.jpg\n",
            "Anchor image saved: data\\anchor\\c26dbfa9-a8ac-11ef-998e-90784112f6e6.jpg\n",
            "Anchor image saved: data\\anchor\\c27a3054-a8ac-11ef-b6bd-90784112f6e6.jpg\n",
            "Anchor image saved: data\\anchor\\c2896067-a8ac-11ef-b62c-90784112f6e6.jpg\n",
            "Anchor image saved: data\\anchor\\c296c8a5-a8ac-11ef-aa27-90784112f6e6.jpg\n",
            "Anchor image saved: data\\anchor\\c2a3448d-a8ac-11ef-bc89-90784112f6e6.jpg\n",
            "Anchor image saved: data\\anchor\\c2b2cc63-a8ac-11ef-af08-90784112f6e6.jpg\n",
            "Anchor image saved: data\\anchor\\c2bb0a0f-a8ac-11ef-b32f-90784112f6e6.jpg\n",
            "Anchor image saved: data\\anchor\\c2c99d59-a8ac-11ef-9b25-90784112f6e6.jpg\n",
            "Anchor image saved: data\\anchor\\c2d0dd8e-a8ac-11ef-a89a-90784112f6e6.jpg\n",
            "Anchor image saved: data\\anchor\\c2da5414-a8ac-11ef-85ae-90784112f6e6.jpg\n",
            "Anchor image saved: data\\anchor\\c2e90e6a-a8ac-11ef-8527-90784112f6e6.jpg\n",
            "Anchor image saved: data\\anchor\\c2f57f03-a8ac-11ef-8724-90784112f6e6.jpg\n",
            "Anchor image saved: data\\anchor\\c3033668-a8ac-11ef-8079-90784112f6e6.jpg\n",
            "Anchor image saved: data\\anchor\\c311de57-a8ac-11ef-b77f-90784112f6e6.jpg\n",
            "Anchor image saved: data\\anchor\\c32033af-a8ac-11ef-ad45-90784112f6e6.jpg\n",
            "Anchor image saved: data\\anchor\\c32c9037-a8ac-11ef-87cd-90784112f6e6.jpg\n",
            "Anchor image saved: data\\anchor\\c3311c59-a8ac-11ef-84ed-90784112f6e6.jpg\n",
            "Anchor image saved: data\\anchor\\c335bc97-a8ac-11ef-9b4f-90784112f6e6.jpg\n",
            "Anchor image saved: data\\anchor\\c3439a76-a8ac-11ef-9063-90784112f6e6.jpg\n",
            "Anchor image saved: data\\anchor\\c353ee15-a8ac-11ef-a3cd-90784112f6e6.jpg\n",
            "Anchor image saved: data\\anchor\\c35b5f3e-a8ac-11ef-ae46-90784112f6e6.jpg\n",
            "Anchor image saved: data\\anchor\\c369d559-a8ac-11ef-9128-90784112f6e6.jpg\n",
            "Anchor image saved: data\\anchor\\c37d19de-a8ac-11ef-b282-90784112f6e6.jpg\n",
            "Anchor image saved: data\\anchor\\c38473ca-a8ac-11ef-bfc9-90784112f6e6.jpg\n",
            "Anchor image saved: data\\anchor\\c395b1c7-a8ac-11ef-a2db-90784112f6e6.jpg\n",
            "Anchor image saved: data\\anchor\\c3a753ad-a8ac-11ef-91ec-90784112f6e6.jpg\n",
            "Anchor image saved: data\\anchor\\c3b27735-a8ac-11ef-9dcf-90784112f6e6.jpg\n",
            "Anchor image saved: data\\anchor\\c3c0a556-a8ac-11ef-a8ce-90784112f6e6.jpg\n",
            "Anchor image saved: data\\anchor\\c3cdec38-a8ac-11ef-8477-90784112f6e6.jpg\n",
            "Anchor image saved: data\\anchor\\c3db6e0c-a8ac-11ef-91ea-90784112f6e6.jpg\n",
            "Anchor image saved: data\\anchor\\c3ea0128-a8ac-11ef-b9b4-90784112f6e6.jpg\n",
            "Anchor image saved: data\\anchor\\c3f7a9e1-a8ac-11ef-a951-90784112f6e6.jpg\n",
            "Anchor image saved: data\\anchor\\c404b66b-a8ac-11ef-9699-90784112f6e6.jpg\n",
            "Anchor image saved: data\\anchor\\c4112716-a8ac-11ef-940f-90784112f6e6.jpg\n",
            "Anchor image saved: data\\anchor\\c4201f92-a8ac-11ef-932a-90784112f6e6.jpg\n",
            "Anchor image saved: data\\anchor\\c42dc853-a8ac-11ef-9056-90784112f6e6.jpg\n",
            "Anchor image saved: data\\anchor\\c43c4c45-a8ac-11ef-b22a-90784112f6e6.jpg\n",
            "Anchor image saved: data\\anchor\\c4480c47-a8ac-11ef-ab67-90784112f6e6.jpg\n",
            "Anchor image saved: data\\anchor\\c456c69b-a8ac-11ef-a81c-90784112f6e6.jpg\n",
            "Anchor image saved: data\\anchor\\c46559e3-a8ac-11ef-b3e8-90784112f6e6.jpg\n",
            "Anchor image saved: data\\anchor\\c472188c-a8ac-11ef-b9eb-90784112f6e6.jpg\n",
            "Anchor image saved: data\\anchor\\c4800fd5-a8ac-11ef-97ff-90784112f6e6.jpg\n",
            "Anchor image saved: data\\anchor\\c48ccdf6-a8ac-11ef-9344-90784112f6e6.jpg\n",
            "Anchor image saved: data\\anchor\\c49b12cb-a8ac-11ef-9d9e-90784112f6e6.jpg\n",
            "Anchor image saved: data\\anchor\\c4a957ff-a8ac-11ef-a5eb-90784112f6e6.jpg\n",
            "Anchor image saved: data\\anchor\\c4b7eb16-a8ac-11ef-a680-90784112f6e6.jpg\n",
            "Anchor image saved: data\\anchor\\c4c1d683-a8ac-11ef-96ab-90784112f6e6.jpg\n",
            "Anchor image saved: data\\anchor\\c4c8a149-a8ac-11ef-8e94-90784112f6e6.jpg\n",
            "Anchor image saved: data\\anchor\\c4d6bfa9-a8ac-11ef-8d18-90784112f6e6.jpg\n",
            "Anchor image saved: data\\anchor\\c4eb466d-a8ac-11ef-91b2-90784112f6e6.jpg\n",
            "Anchor image saved: data\\anchor\\c4f656fd-a8ac-11ef-ae0a-90784112f6e6.jpg\n",
            "Anchor image saved: data\\anchor\\c504f766-a8ac-11ef-9667-90784112f6e6.jpg\n",
            "Anchor image saved: data\\anchor\\c514fd5f-a8ac-11ef-b47d-90784112f6e6.jpg\n",
            "Anchor image saved: data\\anchor\\c528a759-a8ac-11ef-a669-90784112f6e6.jpg\n",
            "Anchor image saved: data\\anchor\\c53be100-a8ac-11ef-be35-90784112f6e6.jpg\n",
            "Anchor image saved: data\\anchor\\c549cf6a-a8ac-11ef-997e-90784112f6e6.jpg\n",
            "Anchor image saved: data\\anchor\\c55638d6-a8ac-11ef-87ff-90784112f6e6.jpg\n",
            "Anchor image saved: data\\anchor\\c565900c-a8ac-11ef-8efa-90784112f6e6.jpg\n",
            "Anchor image saved: data\\anchor\\c572ff3b-a8ac-11ef-9a12-90784112f6e6.jpg\n",
            "Anchor image saved: data\\anchor\\c57f48eb-a8ac-11ef-9ed8-90784112f6e6.jpg\n",
            "Anchor image saved: data\\anchor\\c58ee9e9-a8ac-11ef-a9b1-90784112f6e6.jpg\n",
            "Anchor image saved: data\\anchor\\c59c1daa-a8ac-11ef-b282-90784112f6e6.jpg\n",
            "Anchor image saved: data\\anchor\\c5aa6382-a8ac-11ef-ae15-90784112f6e6.jpg\n",
            "Anchor image saved: data\\anchor\\c5b67aa3-a8ac-11ef-be61-90784112f6e6.jpg\n",
            "Anchor image saved: data\\anchor\\c5bb0325-a8ac-11ef-8ebc-90784112f6e6.jpg\n",
            "Anchor image saved: data\\anchor\\c5bf9821-a8ac-11ef-a69f-90784112f6e6.jpg\n",
            "Anchor image saved: data\\anchor\\c5cda051-a8ac-11ef-b2fc-90784112f6e6.jpg\n",
            "Anchor image saved: data\\anchor\\c5db93f4-a8ac-11ef-8d39-90784112f6e6.jpg\n",
            "Anchor image saved: data\\anchor\\c5e99b84-a8ac-11ef-85d8-90784112f6e6.jpg\n",
            "Anchor image saved: data\\anchor\\c5f386d3-a8ac-11ef-abe2-90784112f6e6.jpg\n",
            "Anchor image saved: data\\anchor\\c5ffd001-a8ac-11ef-b323-90784112f6e6.jpg\n",
            "Anchor image saved: data\\anchor\\c60d79a2-a8ac-11ef-93bb-90784112f6e6.jpg\n",
            "Anchor image saved: data\\anchor\\c61cfff4-a8ac-11ef-9496-90784112f6e6.jpg\n",
            "Anchor image saved: data\\anchor\\c6299cca-a8ac-11ef-9321-90784112f6e6.jpg\n",
            "Anchor image saved: data\\anchor\\c638015b-a8ac-11ef-8962-90784112f6e6.jpg\n",
            "Anchor image saved: data\\anchor\\c64652df-a8ac-11ef-ab12-90784112f6e6.jpg\n",
            "Anchor image saved: data\\anchor\\c64df451-a8ac-11ef-8b76-90784112f6e6.jpg\n",
            "Anchor image saved: data\\anchor\\c6612d82-a8ac-11ef-b294-90784112f6e6.jpg\n",
            "Anchor image saved: data\\anchor\\c66d51a4-a8ac-11ef-aa1b-90784112f6e6.jpg\n",
            "Anchor image saved: data\\anchor\\c67b93b7-a8ac-11ef-afb9-90784112f6e6.jpg\n",
            "Anchor image saved: data\\anchor\\c689f6e6-a8ac-11ef-a405-90784112f6e6.jpg\n",
            "Anchor image saved: data\\anchor\\c69705da-a8ac-11ef-879f-90784112f6e6.jpg\n",
            "Anchor image saved: data\\anchor\\c6a90ccc-a8ac-11ef-8e24-90784112f6e6.jpg\n",
            "Anchor image saved: data\\anchor\\c6c04932-a8ac-11ef-83da-90784112f6e6.jpg\n",
            "Anchor image saved: data\\anchor\\c6cda40e-a8ac-11ef-856a-90784112f6e6.jpg\n",
            "Anchor image saved: data\\anchor\\c6dba7fc-a8ac-11ef-807e-90784112f6e6.jpg\n",
            "Anchor image saved: data\\anchor\\c6e73f45-a8ac-11ef-866c-90784112f6e6.jpg\n",
            "Anchor image saved: data\\anchor\\c6ef42a7-a8ac-11ef-b15e-90784112f6e6.jpg\n",
            "Anchor image saved: data\\anchor\\c6f66eca-a8ac-11ef-86af-90784112f6e6.jpg\n",
            "Anchor image saved: data\\anchor\\c704b406-a8ac-11ef-9ce4-90784112f6e6.jpg\n",
            "Anchor image saved: data\\anchor\\c710ef40-a8ac-11ef-ab02-90784112f6e6.jpg\n",
            "Anchor image saved: data\\anchor\\c7180c30-a8ac-11ef-a06d-90784112f6e6.jpg\n",
            "Anchor image saved: data\\anchor\\c724695a-a8ac-11ef-b64d-90784112f6e6.jpg\n",
            "Anchor image saved: data\\anchor\\c73adeb8-a8ac-11ef-8863-90784112f6e6.jpg\n",
            "Anchor image saved: data\\anchor\\c7409e4e-a8ac-11ef-81d5-90784112f6e6.jpg\n",
            "Anchor image saved: data\\anchor\\c74ee71d-a8ac-11ef-85cc-90784112f6e6.jpg\n",
            "Anchor image saved: data\\anchor\\c7617b05-a8ac-11ef-9643-90784112f6e6.jpg\n",
            "Anchor image saved: data\\anchor\\c7695648-a8ac-11ef-a970-90784112f6e6.jpg\n",
            "Anchor image saved: data\\anchor\\c777a7ed-a8ac-11ef-96b7-90784112f6e6.jpg\n",
            "Anchor image saved: data\\anchor\\c78b5298-a8ac-11ef-9eee-90784112f6e6.jpg\n",
            "Anchor image saved: data\\anchor\\c79244d3-a8ac-11ef-b312-90784112f6e6.jpg\n",
            "Anchor image saved: data\\anchor\\c7a0d834-a8ac-11ef-a649-90784112f6e6.jpg\n",
            "Anchor image saved: data\\anchor\\c7b4216a-a8ac-11ef-9bdc-90784112f6e6.jpg\n",
            "Anchor image saved: data\\anchor\\c7bb5161-a8ac-11ef-8aa1-90784112f6e6.jpg\n",
            "Anchor image saved: data\\anchor\\c7c99635-a8ac-11ef-b458-90784112f6e6.jpg\n",
            "Anchor image saved: data\\anchor\\c7db630c-a8ac-11ef-bab9-90784112f6e6.jpg\n",
            "Anchor image saved: data\\anchor\\c7e90d2e-a8ac-11ef-9b9d-90784112f6e6.jpg\n",
            "Anchor image saved: data\\anchor\\c7f75666-a8ac-11ef-add8-90784112f6e6.jpg\n",
            "Anchor image saved: data\\anchor\\c804d839-a8ac-11ef-9181-90784112f6e6.jpg\n",
            "Anchor image saved: data\\anchor\\c81232d5-a8ac-11ef-8868-90784112f6e6.jpg\n",
            "Anchor image saved: data\\anchor\\c81714ed-a8ac-11ef-be1a-90784112f6e6.jpg\n",
            "Anchor image saved: data\\anchor\\c82e39f6-a8ac-11ef-82a7-90784112f6e6.jpg\n",
            "Anchor image saved: data\\anchor\\c83ccba9-a8ac-11ef-bdf1-90784112f6e6.jpg\n",
            "Anchor image saved: data\\anchor\\c84904a0-a8ac-11ef-9c55-90784112f6e6.jpg\n",
            "Anchor image saved: data\\anchor\\c855b1bc-a8ac-11ef-bd1d-90784112f6e6.jpg\n",
            "Anchor image saved: data\\anchor\\c85bee73-a8ac-11ef-859c-90784112f6e6.jpg\n",
            "Anchor image saved: data\\anchor\\c86a748a-a8ac-11ef-8b1e-90784112f6e6.jpg\n",
            "Anchor image saved: data\\anchor\\c87f2f75-a8ac-11ef-8aa8-90784112f6e6.jpg\n",
            "Anchor image saved: data\\anchor\\c88490c6-a8ac-11ef-a157-90784112f6e6.jpg\n",
            "Anchor image saved: data\\anchor\\c892cddf-a8ac-11ef-8853-90784112f6e6.jpg\n",
            "Anchor image saved: data\\anchor\\c8a87d86-a8ac-11ef-a13d-90784112f6e6.jpg\n",
            "Anchor image saved: data\\anchor\\ca782216-a8ac-11ef-8a44-90784112f6e6.jpg\n",
            "Anchor image saved: data\\anchor\\ca844c7d-a8ac-11ef-9eea-90784112f6e6.jpg\n",
            "Anchor image saved: data\\anchor\\ca915947-a8ac-11ef-8f10-90784112f6e6.jpg\n",
            "Anchor image saved: data\\anchor\\ca9c69ea-a8ac-11ef-8e5b-90784112f6e6.jpg\n",
            "Anchor image saved: data\\anchor\\caaaae2c-a8ac-11ef-a9ac-90784112f6e6.jpg\n",
            "Anchor image saved: data\\anchor\\cab7f533-a8ac-11ef-948a-90784112f6e6.jpg\n",
            "Anchor image saved: data\\anchor\\cabff86f-a8ac-11ef-9ca6-90784112f6e6.jpg\n",
            "Anchor image saved: data\\anchor\\cace6ddc-a8ac-11ef-b4f8-90784112f6e6.jpg\n",
            "Anchor image saved: data\\anchor\\cae18639-a8ac-11ef-9431-90784112f6e6.jpg\n",
            "Anchor image saved: data\\anchor\\caf6f54a-a8ac-11ef-b2e0-90784112f6e6.jpg\n",
            "Anchor image saved: data\\anchor\\cb0ae7d7-a8ac-11ef-863c-90784112f6e6.jpg\n",
            "Anchor image saved: data\\anchor\\cb18b44e-a8ac-11ef-9fb2-90784112f6e6.jpg\n",
            "Anchor image saved: data\\anchor\\cb24d681-a8ac-11ef-9e87-90784112f6e6.jpg\n",
            "Anchor image saved: data\\anchor\\cb326b8c-a8ac-11ef-9d1c-90784112f6e6.jpg\n",
            "Anchor image saved: data\\anchor\\cb41a3cc-a8ac-11ef-9832-90784112f6e6.jpg\n",
            "Anchor image saved: data\\anchor\\cb48e4aa-a8ac-11ef-a6f4-90784112f6e6.jpg\n",
            "Anchor image saved: data\\anchor\\cb4dc6be-a8ac-11ef-ac86-90784112f6e6.jpg\n",
            "Anchor image saved: data\\anchor\\cb5c0c4d-a8ac-11ef-8116-90784112f6e6.jpg\n",
            "Anchor image saved: data\\anchor\\cb6ac6bb-a8ac-11ef-9743-90784112f6e6.jpg\n",
            "Anchor image saved: data\\anchor\\cb7206f5-a8ac-11ef-9f29-90784112f6e6.jpg\n",
            "Anchor image saved: data\\anchor\\cb84565b-a8ac-11ef-b67e-90784112f6e6.jpg\n",
            "Anchor image saved: data\\anchor\\cb8ee30d-a8ac-11ef-a7e1-90784112f6e6.jpg\n",
            "Anchor image saved: data\\anchor\\cb9d348d-a8ac-11ef-b89a-90784112f6e6.jpg\n",
            "Anchor image saved: data\\anchor\\cbac121d-a8ac-11ef-ac5a-90784112f6e6.jpg\n",
            "Anchor image saved: data\\anchor\\cbb71f2f-a8ac-11ef-98d0-90784112f6e6.jpg\n",
            "Anchor image saved: data\\anchor\\cbc57e6d-a8ac-11ef-881c-90784112f6e6.jpg\n",
            "Anchor image saved: data\\anchor\\cbd5814b-a8ac-11ef-b6cc-90784112f6e6.jpg\n",
            "Anchor image saved: data\\anchor\\cbdb61f5-a8ac-11ef-9205-90784112f6e6.jpg\n",
            "Anchor image saved: data\\anchor\\cbe9ba2a-a8ac-11ef-957b-90784112f6e6.jpg\n",
            "Anchor image saved: data\\anchor\\cbff181d-a8ac-11ef-a23f-90784112f6e6.jpg\n",
            "Anchor image saved: data\\anchor\\cc175167-a8ac-11ef-ad43-90784112f6e6.jpg\n",
            "Anchor image saved: data\\anchor\\cc264afa-a8ac-11ef-b30f-90784112f6e6.jpg\n",
            "Anchor image saved: data\\anchor\\cc341d58-a8ac-11ef-9f41-90784112f6e6.jpg\n",
            "Anchor image saved: data\\anchor\\cc3b8614-a8ac-11ef-bfe2-90784112f6e6.jpg\n",
            "Anchor image saved: data\\anchor\\cc4fac4b-a8ac-11ef-b9e6-90784112f6e6.jpg\n",
            "Anchor image saved: data\\anchor\\cc5d5542-a8ac-11ef-97c8-90784112f6e6.jpg\n",
            "Anchor image saved: data\\anchor\\cc64aa5f-a8ac-11ef-b659-90784112f6e6.jpg\n",
            "Anchor image saved: data\\anchor\\cc78d85e-a8ac-11ef-86ad-90784112f6e6.jpg\n",
            "Anchor image saved: data\\anchor\\cc8625c5-a8ac-11ef-a4ff-90784112f6e6.jpg\n",
            "Anchor image saved: data\\anchor\\cc9463a5-a8ac-11ef-b263-90784112f6e6.jpg\n",
            "Anchor image saved: data\\anchor\\cca06fc2-a8ac-11ef-ac0f-90784112f6e6.jpg\n",
            "Anchor image saved: data\\anchor\\ccae87b7-a8ac-11ef-9903-90784112f6e6.jpg\n",
            "Anchor image saved: data\\anchor\\ccbcaa97-a8ac-11ef-a2f0-90784112f6e6.jpg\n",
            "Anchor image saved: data\\anchor\\ccc97fb5-a8ac-11ef-ad3c-90784112f6e6.jpg\n",
            "Anchor image saved: data\\anchor\\cccf8488-a8ac-11ef-b473-90784112f6e6.jpg\n",
            "Anchor image saved: data\\anchor\\ccdbe24e-a8ac-11ef-9d90-90784112f6e6.jpg\n",
            "Anchor image saved: data\\anchor\\ccf3761e-a8ac-11ef-a170-90784112f6e6.jpg\n",
            "Anchor image saved: data\\anchor\\cd00357d-a8ac-11ef-96dc-90784112f6e6.jpg\n",
            "Anchor image saved: data\\anchor\\cd04ca75-a8ac-11ef-bfaa-90784112f6e6.jpg\n",
            "Anchor image saved: data\\anchor\\cd099db5-a8ac-11ef-80d9-90784112f6e6.jpg\n",
            "Anchor image saved: data\\anchor\\cd1afb25-a8ac-11ef-852b-90784112f6e6.jpg\n",
            "Anchor image saved: data\\anchor\\cd2ac6b1-a8ac-11ef-82ec-90784112f6e6.jpg\n",
            "Anchor image saved: data\\anchor\\cd374dfc-a8ac-11ef-a6c5-90784112f6e6.jpg\n",
            "Anchor image saved: data\\anchor\\cd454f46-a8ac-11ef-9ab0-90784112f6e6.jpg\n",
            "Anchor image saved: data\\anchor\\cd577207-a8ac-11ef-9aa7-90784112f6e6.jpg\n",
            "Anchor image saved: data\\anchor\\cd64d0e3-a8ac-11ef-89f5-90784112f6e6.jpg\n",
            "Anchor image saved: data\\anchor\\cd699ca5-a8ac-11ef-9365-90784112f6e6.jpg\n",
            "Anchor image saved: data\\anchor\\cd807151-a8ac-11ef-a75b-90784112f6e6.jpg\n",
            "Anchor image saved: data\\anchor\\cd8678cf-a8ac-11ef-b697-90784112f6e6.jpg\n",
            "Anchor image saved: data\\anchor\\cd972f3b-a8ac-11ef-85d9-90784112f6e6.jpg\n",
            "Anchor image saved: data\\anchor\\cdaa4b57-a8ac-11ef-be02-90784112f6e6.jpg\n",
            "Anchor image saved: data\\anchor\\cdb838d2-a8ac-11ef-ba37-90784112f6e6.jpg\n",
            "Anchor image saved: data\\anchor\\cdc6919a-a8ac-11ef-ba63-90784112f6e6.jpg\n",
            "Anchor image saved: data\\anchor\\cdd1a0fd-a8ac-11ef-b91c-90784112f6e6.jpg\n",
            "Anchor image saved: data\\anchor\\cde1180a-a8ac-11ef-b27e-90784112f6e6.jpg\n",
            "Anchor image saved: data\\anchor\\cdefabc0-a8ac-11ef-9bd3-90784112f6e6.jpg\n",
            "Anchor image saved: data\\anchor\\cdfabc97-a8ac-11ef-90bd-90784112f6e6.jpg\n",
            "Anchor image saved: data\\anchor\\ce057f2b-a8ac-11ef-a187-90784112f6e6.jpg\n",
            "Anchor image saved: data\\anchor\\ce142a82-a8ac-11ef-b4a0-90784112f6e6.jpg\n",
            "Anchor image saved: data\\anchor\\ce242c36-a8ac-11ef-ba56-90784112f6e6.jpg\n",
            "Anchor image saved: data\\anchor\\ce29f8b4-a8ac-11ef-b847-90784112f6e6.jpg\n",
            "Anchor image saved: data\\anchor\\ce385275-a8ac-11ef-ad85-90784112f6e6.jpg\n",
            "Anchor image saved: data\\anchor\\ce4b64c4-a8ac-11ef-b12e-90784112f6e6.jpg\n",
            "Anchor image saved: data\\anchor\\ce57720c-a8ac-11ef-a75d-90784112f6e6.jpg\n",
            "Anchor image saved: data\\anchor\\ce75087d-a8ac-11ef-8983-90784112f6e6.jpg\n",
            "Anchor image saved: data\\anchor\\ce8a4c32-a8ac-11ef-9c26-90784112f6e6.jpg\n",
            "Anchor image saved: data\\anchor\\ce93cfd5-a8ac-11ef-9baf-90784112f6e6.jpg\n",
            "Anchor image saved: data\\anchor\\ce9e3b15-a8ac-11ef-9f5b-90784112f6e6.jpg\n",
            "Anchor image saved: data\\anchor\\cea9f7c9-a8ac-11ef-90b4-90784112f6e6.jpg\n",
            "Anchor image saved: data\\anchor\\ceb7e950-a8ac-11ef-9ba9-90784112f6e6.jpg\n",
            "Anchor image saved: data\\anchor\\cec57bda-a8ac-11ef-958c-90784112f6e6.jpg\n",
            "Anchor image saved: data\\anchor\\ced49a24-a8ac-11ef-96f8-90784112f6e6.jpg\n",
            "Anchor image saved: data\\anchor\\cee0cbfd-a8ac-11ef-81dc-90784112f6e6.jpg\n",
            "Anchor image saved: data\\anchor\\ceef383f-a8ac-11ef-bf98-90784112f6e6.jpg\n",
            "Anchor image saved: data\\anchor\\cefda463-a8ac-11ef-a6c9-90784112f6e6.jpg\n",
            "Anchor image saved: data\\anchor\\cf09e07e-a8ac-11ef-b733-90784112f6e6.jpg\n",
            "Anchor image saved: data\\anchor\\cf18fb96-a8ac-11ef-a691-90784112f6e6.jpg\n",
            "Anchor image saved: data\\anchor\\cf265016-a8ac-11ef-b4e9-90784112f6e6.jpg\n",
            "Anchor image saved: data\\anchor\\cf34cce8-a8ac-11ef-8934-90784112f6e6.jpg\n",
            "Anchor image saved: data\\anchor\\cf3f8071-a8ac-11ef-b994-90784112f6e6.jpg\n",
            "Anchor image saved: data\\anchor\\cf4a44a3-a8ac-11ef-9b59-90784112f6e6.jpg\n",
            "Anchor image saved: data\\anchor\\cf58c2a4-a8ac-11ef-b907-90784112f6e6.jpg\n",
            "Anchor image saved: data\\anchor\\cf68e2bd-a8ac-11ef-85f8-90784112f6e6.jpg\n",
            "Anchor image saved: data\\anchor\\cf785027-a8ac-11ef-aaf1-90784112f6e6.jpg\n",
            "Anchor image saved: data\\anchor\\cf869575-a8ac-11ef-9efb-90784112f6e6.jpg\n",
            "Anchor image saved: data\\anchor\\cf926979-a8ac-11ef-9621-90784112f6e6.jpg\n",
            "Anchor image saved: data\\anchor\\cfa6249a-a8ac-11ef-a1fd-90784112f6e6.jpg\n",
            "Anchor image saved: data\\anchor\\cfb9e862-a8ac-11ef-88ac-90784112f6e6.jpg\n",
            "Anchor image saved: data\\anchor\\cfd4005f-a8ac-11ef-9191-90784112f6e6.jpg\n",
            "Anchor image saved: data\\anchor\\cfe38079-a8ac-11ef-86b3-90784112f6e6.jpg\n",
            "Anchor image saved: data\\anchor\\cfeecc69-a8ac-11ef-ad35-90784112f6e6.jpg\n",
            "Anchor image saved: data\\anchor\\cffce0de-a8ac-11ef-989a-90784112f6e6.jpg\n",
            "Anchor image saved: data\\anchor\\d00c5224-a8ac-11ef-81f3-90784112f6e6.jpg\n",
            "Anchor image saved: data\\anchor\\d01988c3-a8ac-11ef-8f4d-90784112f6e6.jpg\n",
            "Anchor image saved: data\\anchor\\d0343e50-a8ac-11ef-8bfd-90784112f6e6.jpg\n",
            "Anchor image saved: data\\anchor\\d042abb6-a8ac-11ef-b9cc-90784112f6e6.jpg\n",
            "Anchor image saved: data\\anchor\\d05d691d-a8ac-11ef-8e56-90784112f6e6.jpg\n",
            "Anchor image saved: data\\anchor\\d06b279d-a8ac-11ef-8e9a-90784112f6e6.jpg\n",
            "Anchor image saved: data\\anchor\\d0793a45-a8ac-11ef-a413-90784112f6e6.jpg\n",
            "Anchor image saved: data\\anchor\\d086e32c-a8ac-11ef-81a0-90784112f6e6.jpg\n",
            "Anchor image saved: data\\anchor\\d08ef982-a8ac-11ef-b708-90784112f6e6.jpg\n",
            "Anchor image saved: data\\anchor\\d09cd52b-a8ac-11ef-8249-90784112f6e6.jpg\n",
            "Anchor image saved: data\\anchor\\d0adf8df-a8ac-11ef-a39b-90784112f6e6.jpg\n",
            "Anchor image saved: data\\anchor\\d0be32cd-a8ac-11ef-9346-90784112f6e6.jpg\n",
            "Anchor image saved: data\\anchor\\d0ca493d-a8ac-11ef-b1b8-90784112f6e6.jpg\n",
            "Anchor image saved: data\\anchor\\d0cf29c6-a8ac-11ef-83d0-90784112f6e6.jpg\n",
            "Anchor image saved: data\\anchor\\d0dd0b1a-a8ac-11ef-a172-90784112f6e6.jpg\n",
            "Anchor image saved: data\\anchor\\d0eabe2a-a8ac-11ef-9592-90784112f6e6.jpg\n",
            "Anchor image saved: data\\anchor\\d0f9d09c-a8ac-11ef-bab3-90784112f6e6.jpg\n",
            "Anchor image saved: data\\anchor\\d105fe5c-a8ac-11ef-9dad-90784112f6e6.jpg\n",
            "Anchor image saved: data\\anchor\\d114442a-a8ac-11ef-ba39-90784112f6e6.jpg\n",
            "Anchor image saved: data\\anchor\\d12a65bd-a8ac-11ef-b962-90784112f6e6.jpg\n",
            "Anchor image saved: data\\anchor\\d13e00e0-a8ac-11ef-bcbd-90784112f6e6.jpg\n",
            "Anchor image saved: data\\anchor\\d14b6a42-a8ac-11ef-a267-90784112f6e6.jpg\n",
            "Anchor image saved: data\\anchor\\d159dac0-a8ac-11ef-98c7-90784112f6e6.jpg\n",
            "Anchor image saved: data\\anchor\\d1650a93-a8ac-11ef-9e9b-90784112f6e6.jpg\n",
            "Anchor image saved: data\\anchor\\d16a6ba3-a8ac-11ef-835e-90784112f6e6.jpg\n",
            "Anchor image saved: data\\anchor\\d178fdc0-a8ac-11ef-8df1-90784112f6e6.jpg\n",
            "Anchor image saved: data\\anchor\\d18e6f1f-a8ac-11ef-8c0e-90784112f6e6.jpg\n",
            "Anchor image saved: data\\anchor\\d19a1c50-a8ac-11ef-b019-90784112f6e6.jpg\n",
            "Anchor image saved: data\\anchor\\d1a63e9e-a8ac-11ef-8218-90784112f6e6.jpg\n",
            "Anchor image saved: data\\anchor\\d1b7f3d9-a8ac-11ef-b8ce-90784112f6e6.jpg\n",
            "Anchor image saved: data\\anchor\\d1c142eb-a8ac-11ef-912e-90784112f6e6.jpg\n",
            "Anchor image saved: data\\anchor\\d1c611f8-a8ac-11ef-943f-90784112f6e6.jpg\n",
            "Anchor image saved: data\\anchor\\d1d93937-a8ac-11ef-83be-90784112f6e6.jpg\n",
            "Anchor image saved: data\\anchor\\d1e7af61-a8ac-11ef-bb0d-90784112f6e6.jpg\n",
            "Anchor image saved: data\\anchor\\d1f4d1ce-a8ac-11ef-826d-90784112f6e6.jpg\n",
            "Anchor image saved: data\\anchor\\d201ee5b-a8ac-11ef-b7cf-90784112f6e6.jpg\n",
            "Anchor image saved: data\\anchor\\d21081a0-a8ac-11ef-a9a2-90784112f6e6.jpg\n",
            "Anchor image saved: data\\anchor\\d21c1add-a8ac-11ef-9d2e-90784112f6e6.jpg\n",
            "Anchor image saved: data\\anchor\\d22fca92-a8ac-11ef-b30e-90784112f6e6.jpg\n",
            "Anchor image saved: data\\anchor\\d2456d1a-a8ac-11ef-87a1-90784112f6e6.jpg\n",
            "Anchor image saved: data\\anchor\\d24f3a55-a8ac-11ef-b148-90784112f6e6.jpg\n",
            "Anchor image saved: data\\anchor\\d25d9157-a8ac-11ef-87ab-90784112f6e6.jpg\n",
            "Anchor image saved: data\\anchor\\d26f009a-a8ac-11ef-b641-90784112f6e6.jpg\n",
            "Anchor image saved: data\\anchor\\d27a100d-a8ac-11ef-b225-90784112f6e6.jpg\n",
            "Anchor image saved: data\\anchor\\d28164a6-a8ac-11ef-a62a-90784112f6e6.jpg\n",
            "Anchor image saved: data\\anchor\\d2963454-a8ac-11ef-819b-90784112f6e6.jpg\n",
            "Anchor image saved: data\\anchor\\d29e8624-a8ac-11ef-8ba6-90784112f6e6.jpg\n",
            "Anchor image saved: data\\anchor\\d2b43e09-a8ac-11ef-8fe4-90784112f6e6.jpg\n",
            "Anchor image saved: data\\anchor\\d2bf4a20-a8ac-11ef-9b0b-90784112f6e6.jpg\n",
            "Anchor image saved: data\\anchor\\d2c74f1a-a8ac-11ef-b599-90784112f6e6.jpg\n",
            "Anchor image saved: data\\anchor\\d2d5bf64-a8ac-11ef-a173-90784112f6e6.jpg\n",
            "Anchor image saved: data\\anchor\\d2dd13d9-a8ac-11ef-a247-90784112f6e6.jpg\n",
            "Anchor image saved: data\\anchor\\d2e8f364-a8ac-11ef-831d-90784112f6e6.jpg\n",
            "Anchor image saved: data\\anchor\\d2f00d49-a8ac-11ef-a58b-90784112f6e6.jpg\n",
            "Anchor image saved: data\\anchor\\d2feb353-a8ac-11ef-90c4-90784112f6e6.jpg\n",
            "Anchor image saved: data\\anchor\\d3103ff9-a8ac-11ef-b708-90784112f6e6.jpg\n",
            "Anchor image saved: data\\anchor\\d31e1eda-a8ac-11ef-a710-90784112f6e6.jpg\n",
            "Anchor image saved: data\\anchor\\d32c79b2-a8ac-11ef-883e-90784112f6e6.jpg\n",
            "Anchor image saved: data\\anchor\\d339fbb1-a8ac-11ef-a36e-90784112f6e6.jpg\n",
            "Anchor image saved: data\\anchor\\d3424d89-a8ac-11ef-a3b9-90784112f6e6.jpg\n",
            "Anchor image saved: data\\anchor\\d350a943-a8ac-11ef-9ce6-90784112f6e6.jpg\n",
            "Anchor image saved: data\\anchor\\d362e61c-a8ac-11ef-bd5c-90784112f6e6.jpg\n",
            "Anchor image saved: data\\anchor\\d374a243-a8ac-11ef-a10c-90784112f6e6.jpg\n",
            "Anchor image saved: data\\anchor\\d38a143e-a8ac-11ef-a40d-90784112f6e6.jpg\n",
            "Anchor image saved: data\\anchor\\d39dd8c4-a8ac-11ef-88ec-90784112f6e6.jpg\n",
            "Anchor image saved: data\\anchor\\d3b395e5-a8ac-11ef-a89c-90784112f6e6.jpg\n",
            "Anchor image saved: data\\anchor\\d3b88ddc-a8ac-11ef-90fe-90784112f6e6.jpg\n",
            "Anchor image saved: data\\anchor\\d574b760-a8ac-11ef-a634-90784112f6e6.jpg\n",
            "Anchor image saved: data\\anchor\\d582b480-a8ac-11ef-baa1-90784112f6e6.jpg\n",
            "Anchor image saved: data\\anchor\\d590881d-a8ac-11ef-b68f-90784112f6e6.jpg\n",
            "Anchor image saved: data\\anchor\\d59c8d57-a8ac-11ef-b3bc-90784112f6e6.jpg\n",
            "Anchor image saved: data\\anchor\\d5a179b4-a8ac-11ef-b230-90784112f6e6.jpg\n",
            "Anchor image saved: data\\anchor\\d5afa77f-a8ac-11ef-be95-90784112f6e6.jpg\n",
            "Anchor image saved: data\\anchor\\d5c5872b-a8ac-11ef-9787-90784112f6e6.jpg\n",
            "Anchor image saved: data\\anchor\\d5d1222e-a8ac-11ef-bcb6-90784112f6e6.jpg\n",
            "Anchor image saved: data\\anchor\\d5d87563-a8ac-11ef-8527-90784112f6e6.jpg\n",
            "Anchor image saved: data\\anchor\\d5ef4a85-a8ac-11ef-b56a-90784112f6e6.jpg\n",
            "Anchor image saved: data\\anchor\\d5f56adc-a8ac-11ef-9ff5-90784112f6e6.jpg\n",
            "Anchor image saved: data\\anchor\\d60b1ad9-a8ac-11ef-814c-90784112f6e6.jpg\n",
            "Anchor image saved: data\\anchor\\d616405a-a8ac-11ef-a12a-90784112f6e6.jpg\n",
            "Anchor image saved: data\\anchor\\d62323d6-a8ac-11ef-b171-90784112f6e6.jpg\n",
            "Anchor image saved: data\\anchor\\d62f82c7-a8ac-11ef-a86c-90784112f6e6.jpg\n",
            "Anchor image saved: data\\anchor\\d63f6506-a8ac-11ef-90f3-90784112f6e6.jpg\n",
            "Anchor image saved: data\\anchor\\d6477b92-a8ac-11ef-b7cf-90784112f6e6.jpg\n",
            "Anchor image saved: data\\anchor\\d6559fbb-a8ac-11ef-b0e4-90784112f6e6.jpg\n",
            "Anchor image saved: data\\anchor\\d668c8b0-a8ac-11ef-942d-90784112f6e6.jpg\n",
            "Anchor image saved: data\\anchor\\d6701bdc-a8ac-11ef-9ce9-90784112f6e6.jpg\n",
            "Anchor image saved: data\\anchor\\d67e6409-a8ac-11ef-82a1-90784112f6e6.jpg\n",
            "Anchor image saved: data\\anchor\\d6902b22-a8ac-11ef-8f7a-90784112f6e6.jpg\n",
            "Anchor image saved: data\\anchor\\d69dbdc6-a8ac-11ef-b680-90784112f6e6.jpg\n",
            "Anchor image saved: data\\anchor\\d6ac2ae3-a8ac-11ef-9199-90784112f6e6.jpg\n",
            "Anchor image saved: data\\anchor\\d6b9fac8-a8ac-11ef-be83-90784112f6e6.jpg\n",
            "Anchor image saved: data\\anchor\\d6c1b287-a8ac-11ef-bed3-90784112f6e6.jpg\n",
            "Anchor image saved: data\\anchor\\d6d007bf-a8ac-11ef-9ae9-90784112f6e6.jpg\n",
            "Anchor image saved: data\\anchor\\d6e2e6b8-a8ac-11ef-b827-90784112f6e6.jpg\n",
            "Anchor image saved: data\\anchor\\d6f9696e-a8ac-11ef-839a-90784112f6e6.jpg\n",
            "Anchor image saved: data\\anchor\\d70a1ec1-a8ac-11ef-90e8-90784112f6e6.jpg\n",
            "Anchor image saved: data\\anchor\\d713f68f-a8ac-11ef-ae04-90784112f6e6.jpg\n",
            "Anchor image saved: data\\anchor\\d718d019-a8ac-11ef-ae38-90784112f6e6.jpg\n",
            "Anchor image saved: data\\anchor\\d7221e23-a8ac-11ef-aef6-90784112f6e6.jpg\n",
            "Anchor image saved: data\\anchor\\d7307ada-a8ac-11ef-9a6a-90784112f6e6.jpg\n",
            "Anchor image saved: data\\anchor\\d73ea734-a8ac-11ef-b51c-90784112f6e6.jpg\n",
            "Anchor image saved: data\\anchor\\d7472b5a-a8ac-11ef-a427-90784112f6e6.jpg\n",
            "Anchor image saved: data\\anchor\\d74b079d-a8ac-11ef-b509-90784112f6e6.jpg\n",
            "Anchor image saved: data\\anchor\\d74f980f-a8ac-11ef-934e-90784112f6e6.jpg\n",
            "Anchor image saved: data\\anchor\\d75453bb-a8ac-11ef-81de-90784112f6e6.jpg\n",
            "Anchor image saved: data\\anchor\\d75d3fe6-a8ac-11ef-811c-90784112f6e6.jpg\n",
            "Anchor image saved: data\\anchor\\d76c2161-a8ac-11ef-a042-90784112f6e6.jpg\n",
            "Anchor image saved: data\\anchor\\d778a4fa-a8ac-11ef-b3f1-90784112f6e6.jpg\n",
            "Anchor image saved: data\\anchor\\d784d81c-a8ac-11ef-9233-90784112f6e6.jpg\n",
            "Anchor image saved: data\\anchor\\d78b0ca3-a8ac-11ef-90c1-90784112f6e6.jpg\n",
            "Anchor image saved: data\\anchor\\d7994321-a8ac-11ef-8686-90784112f6e6.jpg\n",
            "Anchor image saved: data\\anchor\\d7ada361-a8ac-11ef-a744-90784112f6e6.jpg\n",
            "Anchor image saved: data\\anchor\\d7b8dd6c-a8ac-11ef-9174-90784112f6e6.jpg\n",
            "Anchor image saved: data\\anchor\\d7c735f1-a8ac-11ef-b0c5-90784112f6e6.jpg\n",
            "Anchor image saved: data\\anchor\\d7d7c4c5-a8ac-11ef-ace7-90784112f6e6.jpg\n",
            "Anchor image saved: data\\anchor\\d7df29be-a8ac-11ef-8f80-90784112f6e6.jpg\n",
            "Anchor image saved: data\\anchor\\d7e67ebc-a8ac-11ef-9386-90784112f6e6.jpg\n",
            "Anchor image saved: data\\anchor\\d7f4d71c-a8ac-11ef-8fcc-90784112f6e6.jpg\n",
            "Anchor image saved: data\\anchor\\d7fe88f5-a8ac-11ef-9eb2-90784112f6e6.jpg\n",
            "Anchor image saved: data\\anchor\\d80d1cda-a8ac-11ef-9c3b-90784112f6e6.jpg\n",
            "Anchor image saved: data\\anchor\\d8192177-a8ac-11ef-8738-90784112f6e6.jpg\n",
            "Anchor image saved: data\\anchor\\d8280b1c-a8ac-11ef-ab8b-90784112f6e6.jpg\n",
            "Anchor image saved: data\\anchor\\d8356e81-a8ac-11ef-b710-90784112f6e6.jpg\n",
            "Anchor image saved: data\\anchor\\d843b717-a8ac-11ef-809d-90784112f6e6.jpg\n",
            "Anchor image saved: data\\anchor\\d8519e6c-a8ac-11ef-9722-90784112f6e6.jpg\n",
            "Anchor image saved: data\\anchor\\d85966e6-a8ac-11ef-adb2-90784112f6e6.jpg\n",
            "Anchor image saved: data\\anchor\\d867c794-a8ac-11ef-9d96-90784112f6e6.jpg\n",
            "Anchor image saved: data\\anchor\\d878cba9-a8ac-11ef-ac47-90784112f6e6.jpg\n",
            "Anchor image saved: data\\anchor\\d87daddc-a8ac-11ef-ba3b-90784112f6e6.jpg\n",
            "Anchor image saved: data\\anchor\\d88bf305-a8ac-11ef-8415-90784112f6e6.jpg\n",
            "Anchor image saved: data\\anchor\\d8a1f4a2-a8ac-11ef-a380-90784112f6e6.jpg\n",
            "Anchor image saved: data\\anchor\\d8a8ad43-a8ac-11ef-8336-90784112f6e6.jpg\n",
            "Anchor image saved: data\\anchor\\d8be4b47-a8ac-11ef-9e2f-90784112f6e6.jpg\n",
            "Anchor image saved: data\\anchor\\d8cb63b7-a8ac-11ef-b9a8-90784112f6e6.jpg\n",
            "Anchor image saved: data\\anchor\\d8d1a4a0-a8ac-11ef-9b74-90784112f6e6.jpg\n",
            "Positive image saved: data\\positif\\4107a2e8-a8ad-11ef-b65d-90784112f6e6.jpg\n",
            "Positive image saved: data\\positif\\411a8108-a8ad-11ef-bdb1-90784112f6e6.jpg\n",
            "Positive image saved: data\\positif\\4128d4d5-a8ad-11ef-ab48-90784112f6e6.jpg\n",
            "Positive image saved: data\\positif\\413e3adf-a8ad-11ef-9640-90784112f6e6.jpg\n",
            "Positive image saved: data\\positif\\414cb249-a8ad-11ef-b99c-90784112f6e6.jpg\n",
            "Positive image saved: data\\positif\\415b225b-a8ad-11ef-b289-90784112f6e6.jpg\n",
            "Positive image saved: data\\positif\\416c0bf6-a8ad-11ef-942b-90784112f6e6.jpg\n",
            "Positive image saved: data\\positif\\417a61ac-a8ad-11ef-ab87-90784112f6e6.jpg\n",
            "Positive image saved: data\\positif\\418907a9-a8ad-11ef-a747-90784112f6e6.jpg\n",
            "Positive image saved: data\\positif\\41a7fa30-a8ad-11ef-bb6c-90784112f6e6.jpg\n",
            "Positive image saved: data\\positif\\41b68d86-a8ad-11ef-bd89-90784112f6e6.jpg\n",
            "Positive image saved: data\\positif\\41d0db7c-a8ad-11ef-a9c1-90784112f6e6.jpg\n",
            "Positive image saved: data\\positif\\41d5bdf0-a8ad-11ef-8dc3-90784112f6e6.jpg\n",
            "Positive image saved: data\\positif\\41e4513c-a8ad-11ef-b342-90784112f6e6.jpg\n",
            "Positive image saved: data\\positif\\41fe6858-a8ad-11ef-bbae-90784112f6e6.jpg\n",
            "Positive image saved: data\\positif\\420cd51f-a8ad-11ef-80c3-90784112f6e6.jpg\n",
            "Positive image saved: data\\positif\\421b0ded-a8ad-11ef-a478-90784112f6e6.jpg\n",
            "Positive image saved: data\\positif\\4229a32b-a8ad-11ef-b07a-90784112f6e6.jpg\n",
            "Positive image saved: data\\positif\\4230f66d-a8ad-11ef-938c-90784112f6e6.jpg\n",
            "Positive image saved: data\\positif\\425ed72e-a8ad-11ef-8a93-90784112f6e6.jpg\n",
            "Positive image saved: data\\positif\\427b6d5f-a8ad-11ef-8009-90784112f6e6.jpg\n",
            "Positive image saved: data\\positif\\42894cc0-a8ad-11ef-bcdd-90784112f6e6.jpg\n",
            "Positive image saved: data\\positif\\42950fc3-a8ad-11ef-bd4d-90784112f6e6.jpg\n",
            "Positive image saved: data\\positif\\42a3b2eb-a8ad-11ef-b022-90784112f6e6.jpg\n",
            "Positive image saved: data\\positif\\42ad5ed5-a8ad-11ef-bf36-90784112f6e6.jpg\n",
            "Positive image saved: data\\positif\\42c31c5a-a8ad-11ef-b0ea-90784112f6e6.jpg\n",
            "Positive image saved: data\\positif\\42d16625-a8ad-11ef-bcf3-90784112f6e6.jpg\n",
            "Positive image saved: data\\positif\\42ee5bb4-a8ad-11ef-ac61-90784112f6e6.jpg\n",
            "Positive image saved: data\\positif\\42f5987e-a8ad-11ef-964c-90784112f6e6.jpg\n",
            "Positive image saved: data\\positif\\43044270-a8ad-11ef-85f1-90784112f6e6.jpg\n",
            "Positive image saved: data\\positif\\431ec4b2-a8ad-11ef-8912-90784112f6e6.jpg\n",
            "Positive image saved: data\\positif\\432ccc9a-a8ad-11ef-8115-90784112f6e6.jpg\n",
            "Positive image saved: data\\positif\\43400350-a8ad-11ef-a0dd-90784112f6e6.jpg\n",
            "Positive image saved: data\\positif\\4344e575-a8ad-11ef-9cb0-90784112f6e6.jpg\n",
            "Positive image saved: data\\positif\\4349b4c9-a8ad-11ef-a8f2-90784112f6e6.jpg\n",
            "Positive image saved: data\\positif\\435107df-a8ad-11ef-acec-90784112f6e6.jpg\n",
            "Positive image saved: data\\positif\\436925ef-a8ad-11ef-8e0d-90784112f6e6.jpg\n",
            "Positive image saved: data\\positif\\4377c384-a8ad-11ef-b881-90784112f6e6.jpg\n",
            "Positive image saved: data\\positif\\4396ea67-a8ad-11ef-a96c-90784112f6e6.jpg\n",
            "Positive image saved: data\\positif\\43a509cc-a8ad-11ef-a9ff-90784112f6e6.jpg\n",
            "Positive image saved: data\\positif\\43ba8d95-a8ad-11ef-ad5f-90784112f6e6.jpg\n",
            "Positive image saved: data\\positif\\43c920e6-a8ad-11ef-b6cb-90784112f6e6.jpg\n",
            "Positive image saved: data\\positif\\43e3d6d0-a8ad-11ef-ae2c-90784112f6e6.jpg\n",
            "Positive image saved: data\\positif\\43f23359-a8ad-11ef-ab03-90784112f6e6.jpg\n",
            "Positive image saved: data\\positif\\441195a8-a8ad-11ef-9461-90784112f6e6.jpg\n",
            "Positive image saved: data\\positif\\441fdd48-a8ad-11ef-8654-90784112f6e6.jpg\n",
            "Positive image saved: data\\positif\\443a4cc2-a8ad-11ef-b2b7-90784112f6e6.jpg\n",
            "Positive image saved: data\\positif\\444d6674-a8ad-11ef-a7ed-90784112f6e6.jpg\n",
            "Positive image saved: data\\positif\\445bfe40-a8ad-11ef-8c51-90784112f6e6.jpg\n",
            "Positive image saved: data\\positif\\4471e286-a8ad-11ef-baa2-90784112f6e6.jpg\n",
            "Positive image saved: data\\positif\\44804e87-a8ad-11ef-a9ef-90784112f6e6.jpg\n",
            "Positive image saved: data\\positif\\449aee47-a8ad-11ef-acae-90784112f6e6.jpg\n",
            "Positive image saved: data\\positif\\44a91b54-a8ad-11ef-8acc-90784112f6e6.jpg\n",
            "Positive image saved: data\\positif\\44c0e955-a8ad-11ef-abab-90784112f6e6.jpg\n",
            "Positive image saved: data\\positif\\44cc99e1-a8ad-11ef-9db3-90784112f6e6.jpg\n",
            "Positive image saved: data\\positif\\44e45486-a8ad-11ef-9484-90784112f6e6.jpg\n",
            "Positive image saved: data\\positif\\44f299f5-a8ad-11ef-8764-90784112f6e6.jpg\n",
            "Positive image saved: data\\positif\\44f77c0c-a8ad-11ef-a332-90784112f6e6.jpg\n",
            "Positive image saved: data\\positif\\450d5220-a8ad-11ef-bb47-90784112f6e6.jpg\n",
            "Positive image saved: data\\positif\\451ba0ea-a8ad-11ef-a668-90784112f6e6.jpg\n",
            "Positive image saved: data\\positif\\452a1fd0-a8ad-11ef-adc9-90784112f6e6.jpg\n",
            "Positive image saved: data\\positif\\453aadb5-a8ad-11ef-b4b6-90784112f6e6.jpg\n",
            "Positive image saved: data\\positif\\4548f41a-a8ad-11ef-95e0-90784112f6e6.jpg\n",
            "Positive image saved: data\\positif\\4563aaf4-a8ad-11ef-bc38-90784112f6e6.jpg\n",
            "Positive image saved: data\\positif\\45688d15-a8ad-11ef-b28a-90784112f6e6.jpg\n",
            "Positive image saved: data\\positif\\4577203a-a8ad-11ef-bf1f-90784112f6e6.jpg\n",
            "Positive image saved: data\\positif\\459630b4-a8ad-11ef-a9c8-90784112f6e6.jpg\n",
            "Positive image saved: data\\positif\\45a47a6f-a8ad-11ef-b7a8-90784112f6e6.jpg\n",
            "Positive image saved: data\\positif\\45bca106-a8ad-11ef-bd43-90784112f6e6.jpg\n",
            "Positive image saved: data\\positif\\45c3bf2f-a8ad-11ef-b216-90784112f6e6.jpg\n",
            "Positive image saved: data\\positif\\45e07c5c-a8ad-11ef-b351-90784112f6e6.jpg\n",
            "Positive image saved: data\\positif\\45e54b8e-a8ad-11ef-a06b-90784112f6e6.jpg\n",
            "Positive image saved: data\\positif\\45f180df-a8ad-11ef-86c7-90784112f6e6.jpg\n",
            "Positive image saved: data\\positif\\46094d9a-a8ad-11ef-8949-90784112f6e6.jpg\n",
            "Positive image saved: data\\positif\\4617a71a-a8ad-11ef-b16b-90784112f6e6.jpg\n",
            "Positive image saved: data\\positif\\4628334c-a8ad-11ef-9d91-90784112f6e6.jpg\n",
            "Positive image saved: data\\positif\\46365108-a8ad-11ef-8100-90784112f6e6.jpg\n",
            "Positive image saved: data\\positif\\46448bf8-a8ad-11ef-99ec-90784112f6e6.jpg\n",
            "Positive image saved: data\\positif\\4652a6d4-a8ad-11ef-a506-90784112f6e6.jpg\n",
            "Positive image saved: data\\positif\\4660d607-a8ad-11ef-af0b-90784112f6e6.jpg\n",
            "Positive image saved: data\\positif\\467a8fe4-a8ad-11ef-be89-90784112f6e6.jpg\n",
            "Positive image saved: data\\positif\\4689b9f2-a8ad-11ef-89b6-90784112f6e6.jpg\n",
            "Positive image saved: data\\positif\\46981e03-a8ad-11ef-a83a-90784112f6e6.jpg\n",
            "Positive image saved: data\\positif\\46a8b821-a8ad-11ef-9090-90784112f6e6.jpg\n",
            "Positive image saved: data\\positif\\46b72ae2-a8ad-11ef-9632-90784112f6e6.jpg\n",
            "Positive image saved: data\\positif\\46d6afa8-a8ad-11ef-80e1-90784112f6e6.jpg\n",
            "Positive image saved: data\\positif\\46db7ee1-a8ad-11ef-9486-90784112f6e6.jpg\n",
            "Positive image saved: data\\positif\\46e9fc1f-a8ad-11ef-b176-90784112f6e6.jpg\n",
            "Positive image saved: data\\positif\\47095ea3-a8ad-11ef-83d2-90784112f6e6.jpg\n",
            "Positive image saved: data\\positif\\4718195e-a8ad-11ef-99e4-90784112f6e6.jpg\n",
            "Positive image saved: data\\positif\\471cadd2-a8ad-11ef-82ad-90784112f6e6.jpg\n",
            "Positive image saved: data\\positif\\47329aa4-a8ad-11ef-bd3a-90784112f6e6.jpg\n",
            "Positive image saved: data\\positif\\4740c94b-a8ad-11ef-b027-90784112f6e6.jpg\n",
            "Positive image saved: data\\positif\\47459885-a8ad-11ef-ad53-90784112f6e6.jpg\n",
            "Positive image saved: data\\positif\\47603097-a8ad-11ef-8d5f-90784112f6e6.jpg\n",
            "Positive image saved: data\\positif\\476e94d9-a8ad-11ef-87f6-90784112f6e6.jpg\n",
            "Positive image saved: data\\positif\\4788d857-a8ad-11ef-beaa-90784112f6e6.jpg\n",
            "Positive image saved: data\\positif\\47976c6c-a8ad-11ef-86b1-90784112f6e6.jpg\n",
            "Positive image saved: data\\positif\\47ad4bb0-a8ad-11ef-8311-90784112f6e6.jpg\n",
            "Positive image saved: data\\positif\\47bb91ff-a8ad-11ef-96da-90784112f6e6.jpg\n",
            "Positive image saved: data\\positif\\47c02d24-a8ad-11ef-bd44-90784112f6e6.jpg\n",
            "Positive image saved: data\\positif\\47dfc6a2-a8ad-11ef-8fa3-90784112f6e6.jpg\n",
            "Positive image saved: data\\positif\\47edc3d3-a8ad-11ef-beda-90784112f6e6.jpg\n",
            "Positive image saved: data\\positif\\48056534-a8ad-11ef-877c-90784112f6e6.jpg\n",
            "Positive image saved: data\\positif\\4813d19c-a8ad-11ef-9e4e-90784112f6e6.jpg\n",
            "Positive image saved: data\\positif\\482dfec4-a8ad-11ef-8ea8-90784112f6e6.jpg\n",
            "Positive image saved: data\\positif\\483c817c-a8ad-11ef-932b-90784112f6e6.jpg\n",
            "Positive image saved: data\\positif\\484d85ce-a8ad-11ef-903e-90784112f6e6.jpg\n",
            "Positive image saved: data\\positif\\485bd4e2-a8ad-11ef-a04c-90784112f6e6.jpg\n",
            "Positive image saved: data\\positif\\486a0791-a8ad-11ef-9dd2-90784112f6e6.jpg\n",
            "Positive image saved: data\\positif\\488465f1-a8ad-11ef-8d83-90784112f6e6.jpg\n",
            "Positive image saved: data\\positif\\4892f2d0-a8ad-11ef-bddd-90784112f6e6.jpg\n",
            "Positive image saved: data\\positif\\48a18653-a8ad-11ef-af72-90784112f6e6.jpg\n",
            "Positive image saved: data\\positif\\48b2164f-a8ad-11ef-bd5b-90784112f6e6.jpg\n",
            "Positive image saved: data\\positif\\48cece4a-a8ad-11ef-bc20-90784112f6e6.jpg\n",
            "Positive image saved: data\\positif\\48e47ad4-a8ad-11ef-a324-90784112f6e6.jpg\n",
            "Positive image saved: data\\positif\\48f73ab1-a8ad-11ef-a550-90784112f6e6.jpg\n",
            "Positive image saved: data\\positif\\49056152-a8ad-11ef-b780-90784112f6e6.jpg\n",
            "Positive image saved: data\\positif\\491b2b94-a8ad-11ef-9b20-90784112f6e6.jpg\n",
            "Positive image saved: data\\positif\\49299057-a8ad-11ef-8697-90784112f6e6.jpg\n",
            "Positive image saved: data\\positif\\492e5fea-a8ad-11ef-b790-90784112f6e6.jpg\n",
            "Positive image saved: data\\positif\\49528493-a8ad-11ef-82bb-90784112f6e6.jpg\n",
            "Positive image saved: data\\positif\\4960bae7-a8ad-11ef-840b-90784112f6e6.jpg\n",
            "Positive image saved: data\\positif\\496f4777-a8ad-11ef-85bf-90784112f6e6.jpg\n",
            "Positive image saved: data\\positif\\4984b291-a8ad-11ef-b451-90784112f6e6.jpg\n",
            "Positive image saved: data\\positif\\49932292-a8ad-11ef-bcea-90784112f6e6.jpg\n",
            "Positive image saved: data\\positif\\4998047a-a8ad-11ef-ae67-90784112f6e6.jpg\n",
            "Positive image saved: data\\positif\\49afd60a-a8ad-11ef-9a8f-90784112f6e6.jpg\n",
            "Positive image saved: data\\positif\\49b71675-a8ad-11ef-8b50-90784112f6e6.jpg\n",
            "Positive image saved: data\\positif\\49c5aaf2-a8ad-11ef-842e-90784112f6e6.jpg\n",
            "Positive image saved: data\\positif\\49d88b8e-a8ad-11ef-a427-90784112f6e6.jpg\n",
            "Positive image saved: data\\positif\\49e47e61-a8ad-11ef-be6d-90784112f6e6.jpg\n",
            "Positive image saved: data\\positif\\4a006763-a8ad-11ef-ad8d-90784112f6e6.jpg\n",
            "Positive image saved: data\\positif\\4a0efbde-a8ad-11ef-8c20-90784112f6e6.jpg\n",
            "Positive image saved: data\\positif\\4b26ba94-a8ad-11ef-95d3-90784112f6e6.jpg\n",
            "Positive image saved: data\\positif\\4b40d1f5-a8ad-11ef-a6fe-90784112f6e6.jpg\n",
            "Positive image saved: data\\positif\\4b4f794f-a8ad-11ef-9108-90784112f6e6.jpg\n",
            "Positive image saved: data\\positif\\4b5d85fb-a8ad-11ef-b49d-90784112f6e6.jpg\n",
            "Positive image saved: data\\positif\\4b6e5701-a8ad-11ef-87a8-90784112f6e6.jpg\n",
            "Positive image saved: data\\positif\\4b7cfc00-a8ad-11ef-b0ef-90784112f6e6.jpg\n",
            "Positive image saved: data\\positif\\4b9c093b-a8ad-11ef-86b2-90784112f6e6.jpg\n",
            "Positive image saved: data\\positif\\4baa9d15-a8ad-11ef-829a-90784112f6e6.jpg\n",
            "Positive image saved: data\\positif\\4bc9e2ea-a8ad-11ef-a8bb-90784112f6e6.jpg\n",
            "Positive image saved: data\\positif\\4bd85763-a8ad-11ef-ae55-90784112f6e6.jpg\n",
            "Positive image saved: data\\positif\\4bf01f3d-a8ad-11ef-8b6f-90784112f6e6.jpg\n",
            "Positive image saved: data\\positif\\4bfc364f-a8ad-11ef-bf08-90784112f6e6.jpg\n",
            "Positive image saved: data\\positif\\4c194907-a8ad-11ef-adf0-90784112f6e6.jpg\n",
            "Positive image saved: data\\positif\\4c2552ab-a8ad-11ef-8e0a-90784112f6e6.jpg\n",
            "Positive image saved: data\\positif\\4c32ac91-a8ad-11ef-b37d-90784112f6e6.jpg\n",
            "Positive image saved: data\\positif\\4c41e0df-a8ad-11ef-a006-90784112f6e6.jpg\n",
            "Positive image saved: data\\positif\\4c507426-a8ad-11ef-95ae-90784112f6e6.jpg\n",
            "Positive image saved: data\\positif\\4c61787a-a8ad-11ef-b128-90784112f6e6.jpg\n",
            "Positive image saved: data\\positif\\4c70033f-a8ad-11ef-9ab4-90784112f6e6.jpg\n",
            "Positive image saved: data\\positif\\4c851851-a8ad-11ef-b42a-90784112f6e6.jpg\n",
            "Positive image saved: data\\positif\\4c931817-a8ad-11ef-a0c9-90784112f6e6.jpg\n",
            "Positive image saved: data\\positif\\4ca16825-a8ad-11ef-b3e4-90784112f6e6.jpg\n",
            "Positive image saved: data\\positif\\4cb4dfc9-a8ad-11ef-8382-90784112f6e6.jpg\n",
            "Positive image saved: data\\positif\\4cc56cb9-a8ad-11ef-a529-90784112f6e6.jpg\n",
            "Positive image saved: data\\positif\\4cdcbca7-a8ad-11ef-a4f5-90784112f6e6.jpg\n",
            "Positive image saved: data\\positif\\4ceb4feb-a8ad-11ef-8b0f-90784112f6e6.jpg\n",
            "Positive image saved: data\\positif\\4d0583bc-a8ad-11ef-806b-90784112f6e6.jpg\n",
            "Positive image saved: data\\positif\\4d139050-a8ad-11ef-9f5f-90784112f6e6.jpg\n",
            "Positive image saved: data\\positif\\4d2ff94b-a8ad-11ef-8be0-90784112f6e6.jpg\n",
            "Positive image saved: data\\positif\\4d3e35bf-a8ad-11ef-b4d9-90784112f6e6.jpg\n",
            "Positive image saved: data\\positif\\4d4e9b40-a8ad-11ef-b6e3-90784112f6e6.jpg\n",
            "Positive image saved: data\\positif\\4d5cc5b1-a8ad-11ef-b782-90784112f6e6.jpg\n",
            "Positive image saved: data\\positif\\4d6b12db-a8ad-11ef-b324-90784112f6e6.jpg\n",
            "Positive image saved: data\\positif\\4d877103-a8ad-11ef-83a6-90784112f6e6.jpg\n",
            "Positive image saved: data\\positif\\4daa7f4b-a8ad-11ef-b35e-90784112f6e6.jpg\n",
            "Positive image saved: data\\positif\\4daf6185-a8ad-11ef-b95e-90784112f6e6.jpg\n",
            "Positive image saved: data\\positif\\4dbdc3b2-a8ad-11ef-b473-90784112f6e6.jpg\n",
            "Positive image saved: data\\positif\\4dd7ded4-a8ad-11ef-84fe-90784112f6e6.jpg\n",
            "Positive image saved: data\\positif\\4de645ab-a8ad-11ef-995e-90784112f6e6.jpg\n",
            "Positive image saved: data\\positif\\4df99413-a8ad-11ef-9449-90784112f6e6.jpg\n",
            "Positive image saved: data\\positif\\4e0a46cf-a8ad-11ef-821c-90784112f6e6.jpg\n",
            "Positive image saved: data\\positif\\4e1d6578-a8ad-11ef-96a9-90784112f6e6.jpg\n",
            "Positive image saved: data\\positif\\4e2b8e1f-a8ad-11ef-9d1a-90784112f6e6.jpg\n",
            "Positive image saved: data\\positif\\4e39bdd0-a8ad-11ef-b5ba-90784112f6e6.jpg\n",
            "Positive image saved: data\\positif\\4e4acf89-a8ad-11ef-8d8e-90784112f6e6.jpg\n",
            "Positive image saved: data\\positif\\4e4f9ee2-a8ad-11ef-b9e4-90784112f6e6.jpg\n",
            "Positive image saved: data\\positif\\4e5e31d7-a8ad-11ef-823d-90784112f6e6.jpg\n",
            "Positive image saved: data\\positif\\4e73d451-a8ad-11ef-a814-90784112f6e6.jpg\n",
            "Positive image saved: data\\positif\\4e8240e4-a8ad-11ef-9d07-90784112f6e6.jpg\n",
            "Positive image saved: data\\positif\\4e97da01-a8ad-11ef-9ba3-90784112f6e6.jpg\n",
            "Positive image saved: data\\positif\\4ea63161-a8ad-11ef-93fd-90784112f6e6.jpg\n",
            "Positive image saved: data\\positif\\4eb41fdd-a8ad-11ef-8669-90784112f6e6.jpg\n",
            "Positive image saved: data\\positif\\4ebd9bf8-a8ad-11ef-b2dd-90784112f6e6.jpg\n",
            "Positive image saved: data\\positif\\4ecc458d-a8ad-11ef-8d49-90784112f6e6.jpg\n",
            "Positive image saved: data\\positif\\4ed34c4b-a8ad-11ef-a184-90784112f6e6.jpg\n",
            "Positive image saved: data\\positif\\4ed8230e-a8ad-11ef-839f-90784112f6e6.jpg\n",
            "Positive image saved: data\\positif\\4ef537d4-a8ad-11ef-9d08-90784112f6e6.jpg\n",
            "Positive image saved: data\\positif\\4f010906-a8ad-11ef-8ef4-90784112f6e6.jpg\n",
            "Positive image saved: data\\positif\\4f1de5eb-a8ad-11ef-893a-90784112f6e6.jpg\n",
            "Positive image saved: data\\positif\\4f2c56a1-a8ad-11ef-86c8-90784112f6e6.jpg\n",
            "Positive image saved: data\\positif\\4f38a019-a8ad-11ef-9448-90784112f6e6.jpg\n",
            "Positive image saved: data\\positif\\4f471872-a8ad-11ef-9f7a-90784112f6e6.jpg\n",
            "Positive image saved: data\\positif\\4f55be44-a8ad-11ef-b7a0-90784112f6e6.jpg\n",
            "Positive image saved: data\\positif\\4f61e0af-a8ad-11ef-a85c-90784112f6e6.jpg\n",
            "Positive image saved: data\\positif\\4f7073ff-a8ad-11ef-97ef-90784112f6e6.jpg\n",
            "Positive image saved: data\\positif\\4f8ac6fd-a8ad-11ef-9c04-90784112f6e6.jpg\n",
            "Positive image saved: data\\positif\\4f995ad6-a8ad-11ef-aebd-90784112f6e6.jpg\n",
            "Positive image saved: data\\positif\\4fa7ab81-a8ad-11ef-8366-90784112f6e6.jpg\n",
            "Positive image saved: data\\positif\\4fb84aa0-a8ad-11ef-b0f0-90784112f6e6.jpg\n",
            "Positive image saved: data\\positif\\4fc6636b-a8ad-11ef-8141-90784112f6e6.jpg\n",
            "Positive image saved: data\\positif\\4fe327cf-a8ad-11ef-8ca4-90784112f6e6.jpg\n",
            "Positive image saved: data\\positif\\4ff42c25-a8ad-11ef-b061-90784112f6e6.jpg\n",
            "Positive image saved: data\\positif\\500c2f93-a8ad-11ef-a111-90784112f6e6.jpg\n",
            "Positive image saved: data\\positif\\501a5b41-a8ad-11ef-abb7-90784112f6e6.jpg\n",
            "Positive image saved: data\\positif\\5039e5d6-a8ad-11ef-89a2-90784112f6e6.jpg\n",
            "Positive image saved: data\\positif\\5045f149-a8ad-11ef-99fe-90784112f6e6.jpg\n",
            "Positive image saved: data\\positif\\505d7369-a8ad-11ef-98ec-90784112f6e6.jpg\n",
            "Positive image saved: data\\positif\\506bdfce-a8ad-11ef-a568-90784112f6e6.jpg\n",
            "Positive image saved: data\\positif\\508695c5-a8ad-11ef-b95b-90784112f6e6.jpg\n",
            "Positive image saved: data\\positif\\5094fdc6-a8ad-11ef-b2a7-90784112f6e6.jpg\n",
            "Positive image saved: data\\positif\\50acda97-a8ad-11ef-94e7-90784112f6e6.jpg\n",
            "Positive image saved: data\\positif\\50b40484-a8ad-11ef-813d-90784112f6e6.jpg\n",
            "Positive image saved: data\\positif\\50c2811e-a8ad-11ef-96bb-90784112f6e6.jpg\n",
            "Positive image saved: data\\positif\\50d0d63f-a8ad-11ef-b2ed-90784112f6e6.jpg\n",
            "Positive image saved: data\\positif\\50def647-a8ad-11ef-b685-90784112f6e6.jpg\n",
            "Positive image saved: data\\positif\\50eadd4a-a8ad-11ef-8b64-90784112f6e6.jpg\n",
            "Positive image saved: data\\positif\\50f84c99-a8ad-11ef-8111-90784112f6e6.jpg\n",
            "Positive image saved: data\\positif\\5107f15e-a8ad-11ef-8c89-90784112f6e6.jpg\n",
            "Positive image saved: data\\positif\\51142b2e-a8ad-11ef-97b1-90784112f6e6.jpg\n",
            "Positive image saved: data\\positif\\51276699-a8ad-11ef-8338-90784112f6e6.jpg\n",
            "Positive image saved: data\\positif\\5135f34d-a8ad-11ef-b10b-90784112f6e6.jpg\n",
            "Positive image saved: data\\positif\\513cf9a1-a8ad-11ef-9586-90784112f6e6.jpg\n",
            "Positive image saved: data\\positif\\51501c61-a8ad-11ef-a9a3-90784112f6e6.jpg\n",
            "Positive image saved: data\\positif\\515e9c33-a8ad-11ef-989f-90784112f6e6.jpg\n",
            "Positive image saved: data\\positif\\51799fe5-a8ad-11ef-a697-90784112f6e6.jpg\n",
            "Positive image saved: data\\positif\\517e33e0-a8ad-11ef-9d7b-90784112f6e6.jpg\n",
            "Positive image saved: data\\positif\\518cc7a8-a8ad-11ef-a376-90784112f6e6.jpg\n",
            "Positive image saved: data\\positif\\51a2a29f-a8ad-11ef-9211-90784112f6e6.jpg\n",
            "Positive image saved: data\\positif\\51b10ef0-a8ad-11ef-8095-90784112f6e6.jpg\n",
            "Positive image saved: data\\positif\\51c20038-a8ad-11ef-9c06-90784112f6e6.jpg\n",
            "Positive image saved: data\\positif\\51d08285-a8ad-11ef-b479-90784112f6e6.jpg\n",
            "Positive image saved: data\\positif\\51df012e-a8ad-11ef-b32b-90784112f6e6.jpg\n",
            "Positive image saved: data\\positif\\51f499e6-a8ad-11ef-9a8d-90784112f6e6.jpg\n",
            "Positive image saved: data\\positif\\52035477-a8ad-11ef-a060-90784112f6e6.jpg\n",
            "Positive image saved: data\\positif\\521d5ab1-a8ad-11ef-935e-90784112f6e6.jpg\n",
            "Positive image saved: data\\positif\\522b9d5e-a8ad-11ef-a9a1-90784112f6e6.jpg\n",
            "Positive image saved: data\\positif\\5239f28d-a8ad-11ef-87d2-90784112f6e6.jpg\n",
            "Positive image saved: data\\positif\\5248717a-a8ad-11ef-b874-90784112f6e6.jpg\n",
            "Positive image saved: data\\positif\\524fa9a7-a8ad-11ef-8d90-90784112f6e6.jpg\n",
            "Positive image saved: data\\positif\\525e1cdb-a8ad-11ef-819d-90784112f6e6.jpg\n",
            "Positive image saved: data\\positif\\526caf20-a8ad-11ef-b879-90784112f6e6.jpg\n",
            "Positive image saved: data\\positif\\52825e79-a8ad-11ef-8303-90784112f6e6.jpg\n",
            "Positive image saved: data\\positif\\5290a575-a8ad-11ef-980f-90784112f6e6.jpg\n",
            "Positive image saved: data\\positif\\52ab3d26-a8ad-11ef-984a-90784112f6e6.jpg\n",
            "Positive image saved: data\\positif\\52b9837c-a8ad-11ef-8cda-90784112f6e6.jpg\n",
            "Positive image saved: data\\positif\\52be64dc-a8ad-11ef-83af-90784112f6e6.jpg\n",
            "Positive image saved: data\\positif\\52dd5895-a8ad-11ef-a4a5-90784112f6e6.jpg\n",
            "Positive image saved: data\\positif\\52f54065-a8ad-11ef-8e94-90784112f6e6.jpg\n",
            "Positive image saved: data\\positif\\5303b8e1-a8ad-11ef-8022-90784112f6e6.jpg\n",
            "Positive image saved: data\\positif\\531e2b9a-a8ad-11ef-8d7d-90784112f6e6.jpg\n",
            "Positive image saved: data\\positif\\532cac25-a8ad-11ef-8496-90784112f6e6.jpg\n",
            "Positive image saved: data\\positif\\53317b88-a8ad-11ef-bee6-90784112f6e6.jpg\n",
            "Positive image saved: data\\positif\\53557802-a8ad-11ef-8482-90784112f6e6.jpg\n",
            "Positive image saved: data\\positif\\5363fe4b-a8ad-11ef-ac6a-90784112f6e6.jpg\n",
            "Positive image saved: data\\positif\\536fd4cd-a8ad-11ef-bedc-90784112f6e6.jpg\n",
            "Positive image saved: data\\positif\\537e1a0a-a8ad-11ef-89d7-90784112f6e6.jpg\n",
            "Positive image saved: data\\positif\\5382fc42-a8ad-11ef-a0af-90784112f6e6.jpg\n",
            "Positive image saved: data\\positif\\539db27a-a8ad-11ef-ae3d-90784112f6e6.jpg\n",
            "Positive image saved: data\\positif\\53abf842-a8ad-11ef-ae77-90784112f6e6.jpg\n",
            "Positive image saved: data\\positif\\53c8d499-a8ad-11ef-9fb8-90784112f6e6.jpg\n",
            "Positive image saved: data\\positif\\53d023b8-a8ad-11ef-aa9c-90784112f6e6.jpg\n",
            "Positive image saved: data\\positif\\53de8d92-a8ad-11ef-bdce-90784112f6e6.jpg\n",
            "Positive image saved: data\\positif\\53f66f4b-a8ad-11ef-88a3-90784112f6e6.jpg\n",
            "Positive image saved: data\\positif\\54026550-a8ad-11ef-acf3-90784112f6e6.jpg\n",
            "Positive image saved: data\\positif\\541a86b0-a8ad-11ef-9713-90784112f6e6.jpg\n",
            "Positive image saved: data\\positif\\541f68be-a8ad-11ef-9144-90784112f6e6.jpg\n",
            "Positive image saved: data\\positif\\54243826-a8ad-11ef-b037-90784112f6e6.jpg\n",
            "Positive image saved: data\\positif\\54291a26-a8ad-11ef-b54a-90784112f6e6.jpg\n",
            "Positive image saved: data\\positif\\5443792d-a8ad-11ef-bac1-90784112f6e6.jpg\n",
            "Positive image saved: data\\positif\\5451d1a0-a8ad-11ef-aa47-90784112f6e6.jpg\n",
            "Positive image saved: data\\positif\\546292b5-a8ad-11ef-bd85-90784112f6e6.jpg\n",
            "Positive image saved: data\\positif\\5471384b-a8ad-11ef-9f33-90784112f6e6.jpg\n",
            "Positive image saved: data\\positif\\547fc6ab-a8ad-11ef-b36a-90784112f6e6.jpg\n",
            "Positive image saved: data\\positif\\548ba893-a8ad-11ef-8515-90784112f6e6.jpg\n",
            "Positive image saved: data\\positif\\5499edcc-a8ad-11ef-a304-90784112f6e6.jpg\n",
            "Positive image saved: data\\positif\\549ebd52-a8ad-11ef-817a-90784112f6e6.jpg\n",
            "Positive image saved: data\\positif\\54be10cd-a8ad-11ef-b877-90784112f6e6.jpg\n",
            "Positive image saved: data\\positif\\54cc5ce9-a8ad-11ef-85f3-90784112f6e6.jpg\n",
            "Positive image saved: data\\positif\\54e4652c-a8ad-11ef-a2fc-90784112f6e6.jpg\n",
            "Positive image saved: data\\positif\\54f065a8-a8ad-11ef-9b0c-90784112f6e6.jpg\n",
            "Positive image saved: data\\positif\\550d441c-a8ad-11ef-9cf9-90784112f6e6.jpg\n",
            "Positive image saved: data\\positif\\5522f7ce-a8ad-11ef-acc1-90784112f6e6.jpg\n",
            "Positive image saved: data\\positif\\55313d22-a8ad-11ef-8485-90784112f6e6.jpg\n",
            "Positive image saved: data\\positif\\553f9129-a8ad-11ef-800a-90784112f6e6.jpg\n",
            "Positive image saved: data\\positif\\554da3bb-a8ad-11ef-9c9e-90784112f6e6.jpg\n",
            "Positive image saved: data\\positif\\555e6f51-a8ad-11ef-8f2f-90784112f6e6.jpg\n",
            "Positive image saved: data\\positif\\556ce616-a8ad-11ef-b190-90784112f6e6.jpg\n",
            "Positive image saved: data\\positif\\558794cb-a8ad-11ef-9d02-90784112f6e6.jpg\n",
            "Positive image saved: data\\positif\\5595df97-a8ad-11ef-8907-90784112f6e6.jpg\n",
            "Positive image saved: data\\positif\\559a9aac-a8ad-11ef-8996-90784112f6e6.jpg\n",
            "Positive image saved: data\\positif\\55b24c61-a8ad-11ef-a2ea-90784112f6e6.jpg\n",
            "Positive image saved: data\\positif\\55be67c4-a8ad-11ef-9348-90784112f6e6.jpg\n",
            "Positive image saved: data\\positif\\55d15cb9-a8ad-11ef-a001-90784112f6e6.jpg\n",
            "Positive image saved: data\\positif\\55dfac31-a8ad-11ef-b1a1-90784112f6e6.jpg\n",
            "Positive image saved: data\\positif\\55ede98e-a8ad-11ef-ad00-90784112f6e6.jpg\n",
            "Positive image saved: data\\positif\\55f9b199-a8ad-11ef-baff-90784112f6e6.jpg\n",
            "Positive image saved: data\\positif\\56083c05-a8ad-11ef-b4ef-90784112f6e6.jpg\n",
            "Positive image saved: data\\positif\\5616421d-a8ad-11ef-982d-90784112f6e6.jpg\n",
            "Positive image saved: data\\positif\\5630b042-a8ad-11ef-9dd4-90784112f6e6.jpg\n",
            "Positive image saved: data\\positif\\56359266-a8ad-11ef-be08-90784112f6e6.jpg\n",
            "Positive image saved: data\\positif\\563a619a-a8ad-11ef-a915-90784112f6e6.jpg\n",
            "Positive image saved: data\\positif\\5652a462-a8ad-11ef-b7e4-90784112f6e6.jpg\n",
            "Positive image saved: data\\positif\\5659e4b0-a8ad-11ef-88ab-90784112f6e6.jpg\n",
            "Positive image saved: data\\positif\\56688019-a8ad-11ef-be79-90784112f6e6.jpg\n",
            "Positive image saved: data\\positif\\567b4233-a8ad-11ef-bb93-90784112f6e6.jpg\n",
            "Positive image saved: data\\positif\\56912a7a-a8ad-11ef-b38c-90784112f6e6.jpg\n",
            "Positive image saved: data\\positif\\569f9683-a8ad-11ef-8ab0-90784112f6e6.jpg\n",
            "Positive image saved: data\\positif\\56ae2bad-a8ad-11ef-995a-90784112f6e6.jpg\n",
            "Positive image saved: data\\positif\\56b52a42-a8ad-11ef-a2d5-90784112f6e6.jpg\n",
            "Positive image saved: data\\positif\\56cd340b-a8ad-11ef-9e50-90784112f6e6.jpg\n",
            "Positive image saved: data\\positif\\56db926f-a8ad-11ef-a294-90784112f6e6.jpg\n",
            "Positive image saved: data\\positif\\56f5de07-a8ad-11ef-8c0a-90784112f6e6.jpg\n",
            "Positive image saved: data\\positif\\570415a0-a8ad-11ef-9d41-90784112f6e6.jpg\n",
            "Positive image saved: data\\positif\\5727f3ca-a8ad-11ef-8833-90784112f6e6.jpg\n",
            "Positive image saved: data\\positif\\57363910-a8ad-11ef-aa3f-90784112f6e6.jpg\n",
            "Positive image saved: data\\positif\\574e1341-a8ad-11ef-8fcc-90784112f6e6.jpg\n",
            "Positive image saved: data\\positif\\575a0224-a8ad-11ef-af2f-90784112f6e6.jpg\n",
            "Positive image saved: data\\positif\\5776659a-a8ad-11ef-8373-90784112f6e6.jpg\n",
            "Positive image saved: data\\positif\\577b292a-a8ad-11ef-89d7-90784112f6e6.jpg\n",
            "Positive image saved: data\\positif\\579a17be-a8ad-11ef-9f7e-90784112f6e6.jpg\n",
            "Positive image saved: data\\positif\\57a89bfc-a8ad-11ef-a0c1-90784112f6e6.jpg\n",
            "Positive image saved: data\\positif\\57be825e-a8ad-11ef-ad99-90784112f6e6.jpg\n",
            "Positive image saved: data\\positif\\57cd15d7-a8ad-11ef-8aae-90784112f6e6.jpg\n",
            "Positive image saved: data\\positif\\57e9f17f-a8ad-11ef-bf08-90784112f6e6.jpg\n",
            "Positive image saved: data\\positif\\57f113ef-a8ad-11ef-a83c-90784112f6e6.jpg\n",
            "Positive image saved: data\\positif\\57ff6ace-a8ad-11ef-bffe-90784112f6e6.jpg\n",
            "Positive image saved: data\\positif\\580d8cd2-a8ad-11ef-91c9-90784112f6e6.jpg\n",
            "Positive image saved: data\\positif\\581bfd20-a8ad-11ef-acaa-90784112f6e6.jpg\n",
            "Positive image saved: data\\positif\\58280b14-a8ad-11ef-914c-90784112f6e6.jpg\n",
            "Positive image saved: data\\positif\\583b6ce2-a8ad-11ef-9ec4-90784112f6e6.jpg\n",
            "Positive image saved: data\\positif\\58404f26-a8ad-11ef-84cf-90784112f6e6.jpg\n",
            "Positive image saved: data\\positif\\5864b6ff-a8ad-11ef-9432-90784112f6e6.jpg\n",
            "Positive image saved: data\\positif\\587314c6-a8ad-11ef-96e8-90784112f6e6.jpg\n",
            "Positive image saved: data\\positif\\587a52fb-a8ad-11ef-80e3-90784112f6e6.jpg\n",
            "Positive image saved: data\\positif\\588daff3-a8ad-11ef-ae4b-90784112f6e6.jpg\n",
            "Positive image saved: data\\positif\\589c582b-a8ad-11ef-8c8f-90784112f6e6.jpg\n",
            "Positive image saved: data\\positif\\58bbb838-a8ad-11ef-96b9-90784112f6e6.jpg\n",
            "Positive image saved: data\\positif\\58c9a11e-a8ad-11ef-8573-90784112f6e6.jpg\n",
            "Positive image saved: data\\positif\\58df471e-a8ad-11ef-b22a-90784112f6e6.jpg\n",
            "Positive image saved: data\\positif\\58e4292b-a8ad-11ef-a557-90784112f6e6.jpg\n",
            "Positive image saved: data\\positif\\58f2ae11-a8ad-11ef-b317-90784112f6e6.jpg\n",
            "Positive image saved: data\\positif\\591bb372-a8ad-11ef-9305-90784112f6e6.jpg\n",
            "Positive image saved: data\\positif\\594429bd-a8ad-11ef-aecb-90784112f6e6.jpg\n",
            "Positive image saved: data\\positif\\5948f93b-a8ad-11ef-abf6-90784112f6e6.jpg\n",
            "Positive image saved: data\\positif\\59578ce8-a8ad-11ef-bb34-90784112f6e6.jpg\n",
            "Positive image saved: data\\positif\\5963c25f-a8ad-11ef-aa03-90784112f6e6.jpg\n",
            "Positive image saved: data\\positif\\59726671-a8ad-11ef-8669-90784112f6e6.jpg\n",
            "Positive image saved: data\\positif\\5980d2b4-a8ad-11ef-9b6c-90784112f6e6.jpg\n",
            "Positive image saved: data\\positif\\59966860-a8ad-11ef-90c4-90784112f6e6.jpg\n",
            "Positive image saved: data\\positif\\59a4bff3-a8ad-11ef-9aaf-90784112f6e6.jpg\n",
            "Positive image saved: data\\positif\\59bf1ae9-a8ad-11ef-8a78-90784112f6e6.jpg\n",
            "Positive image saved: data\\positif\\59c3fe18-a8ad-11ef-a7f1-90784112f6e6.jpg\n",
            "Positive image saved: data\\positif\\59d28460-a8ad-11ef-b5dc-90784112f6e6.jpg\n",
            "Positive image saved: data\\positif\\59e55b2e-a8ad-11ef-a7fd-90784112f6e6.jpg\n",
            "Positive image saved: data\\positif\\59f18069-a8ad-11ef-b850-90784112f6e6.jpg\n",
            "Positive image saved: data\\positif\\5a0900a7-a8ad-11ef-9411-90784112f6e6.jpg\n",
            "Positive image saved: data\\positif\\5a174637-a8ad-11ef-87a3-90784112f6e6.jpg\n",
            "Positive image saved: data\\positif\\5a1c158c-a8ad-11ef-a1f3-90784112f6e6.jpg\n",
            "Positive image saved: data\\positif\\5a31fc4b-a8ad-11ef-83f5-90784112f6e6.jpg\n",
            "Positive image saved: data\\positif\\5a407d3e-a8ad-11ef-b351-90784112f6e6.jpg\n",
            "Positive image saved: data\\positif\\5a4effc4-a8ad-11ef-8086-90784112f6e6.jpg\n",
            "Positive image saved: data\\positif\\5a5ad414-a8ad-11ef-95af-90784112f6e6.jpg\n",
            "Positive image saved: data\\positif\\5a5fb62a-a8ad-11ef-888a-90784112f6e6.jpg\n",
            "Positive image saved: data\\positif\\5a6e4956-a8ad-11ef-9f1c-90784112f6e6.jpg\n",
            "Positive image saved: data\\positif\\5a83d1b6-a8ad-11ef-adbf-90784112f6e6.jpg\n",
            "Positive image saved: data\\positif\\5a91deee-a8ad-11ef-a86c-90784112f6e6.jpg\n",
            "Positive image saved: data\\positif\\5a9ff2d6-a8ad-11ef-bb20-90784112f6e6.jpg\n",
            "Positive image saved: data\\positif\\5ab32921-a8ad-11ef-b617-90784112f6e6.jpg\n",
            "Positive image saved: data\\positif\\5abf1081-a8ad-11ef-b84e-90784112f6e6.jpg\n",
            "Positive image saved: data\\positif\\5ac3df82-a8ad-11ef-9290-90784112f6e6.jpg\n",
            "Positive image saved: data\\positif\\5ae03fb4-a8ad-11ef-8791-90784112f6e6.jpg\n",
            "Positive image saved: data\\positif\\5aeee9dc-a8ad-11ef-89ff-90784112f6e6.jpg\n",
            "Positive image saved: data\\positif\\5b04bdb4-a8ad-11ef-a5d3-90784112f6e6.jpg\n",
            "Positive image saved: data\\positif\\5b131cec-a8ad-11ef-a115-90784112f6e6.jpg\n",
            "Positive image saved: data\\positif\\5b2dc262-a8ad-11ef-bcf5-90784112f6e6.jpg\n",
            "Positive image saved: data\\positif\\5b3c3ba0-a8ad-11ef-9bdf-90784112f6e6.jpg\n",
            "Positive image saved: data\\positif\\5b4d36d7-a8ad-11ef-909c-90784112f6e6.jpg\n",
            "Positive image saved: data\\positif\\5b5b5f80-a8ad-11ef-821a-90784112f6e6.jpg\n",
            "Positive image saved: data\\positif\\5b698ff1-a8ad-11ef-a134-90784112f6e6.jpg\n",
            "Positive image saved: data\\positif\\5b846fc6-a8ad-11ef-85fa-90784112f6e6.jpg\n",
            "Positive image saved: data\\positif\\5b92f598-a8ad-11ef-aaa5-90784112f6e6.jpg\n",
            "Positive image saved: data\\positif\\5ba3e6e3-a8ad-11ef-a88d-90784112f6e6.jpg\n",
            "Positive image saved: data\\positif\\5bb25d16-a8ad-11ef-97e7-90784112f6e6.jpg\n",
            "Positive image saved: data\\positif\\5bcef2f5-a8ad-11ef-9c39-90784112f6e6.jpg\n",
            "Positive image saved: data\\positif\\5bdfae82-a8ad-11ef-96f1-90784112f6e6.jpg\n",
            "Positive image saved: data\\positif\\5bedf1b3-a8ad-11ef-9f8b-90784112f6e6.jpg\n",
            "Positive image saved: data\\positif\\5bf2ace0-a8ad-11ef-a95a-90784112f6e6.jpg\n",
            "Positive image saved: data\\positif\\5bf77bfc-a8ad-11ef-aa80-90784112f6e6.jpg\n",
            "Positive image saved: data\\positif\\5c121a9d-a8ad-11ef-b471-90784112f6e6.jpg\n",
            "Positive image saved: data\\positif\\5c20af2e-a8ad-11ef-9820-90784112f6e6.jpg\n",
            "Positive image saved: data\\positif\\5c31b4fc-a8ad-11ef-a1f4-90784112f6e6.jpg\n",
            "Positive image saved: data\\positif\\5c3696ff-a8ad-11ef-825f-90784112f6e6.jpg\n",
            "Positive image saved: data\\positif\\5c45033b-a8ad-11ef-8dcd-90784112f6e6.jpg\n",
            "Positive image saved: data\\positif\\5c57fa3a-a8ad-11ef-ac16-90784112f6e6.jpg\n",
            "Positive image saved: data\\positif\\5c663fed-a8ad-11ef-a41d-90784112f6e6.jpg\n",
            "Positive image saved: data\\positif\\5c6d8022-a8ad-11ef-be74-90784112f6e6.jpg\n",
            "Positive image saved: data\\positif\\5c853e09-a8ad-11ef-8376-90784112f6e6.jpg\n",
            "Positive image saved: data\\positif\\5c93d15c-a8ad-11ef-a159-90784112f6e6.jpg\n",
            "Positive image saved: data\\positif\\5cae77f0-a8ad-11ef-8e55-90784112f6e6.jpg\n",
            "Positive image saved: data\\positif\\5cbcfa99-a8ad-11ef-bd1d-90784112f6e6.jpg\n",
            "Positive image saved: data\\positif\\5cd2b7a3-a8ad-11ef-aac4-90784112f6e6.jpg\n",
            "Positive image saved: data\\positif\\5cd772bb-a8ad-11ef-9213-90784112f6e6.jpg\n",
            "Positive image saved: data\\positif\\5cdc3709-a8ad-11ef-9260-90784112f6e6.jpg\n",
            "Positive image saved: data\\positif\\5cea8ffb-a8ad-11ef-b3df-90784112f6e6.jpg\n",
            "Positive image saved: data\\positif\\5d005640-a8ad-11ef-83fd-90784112f6e6.jpg\n",
            "Positive image saved: data\\positif\\5d0ec28c-a8ad-11ef-9b0a-90784112f6e6.jpg\n",
            "Positive image saved: data\\positif\\5d2907a2-a8ad-11ef-8ddb-90784112f6e6.jpg\n",
            "Positive image saved: data\\positif\\5d378610-a8ad-11ef-a3a2-90784112f6e6.jpg\n",
            "Positive image saved: data\\positif\\5d589402-a8ad-11ef-935d-90784112f6e6.jpg\n",
            "Positive image saved: data\\positif\\5d5fe73a-a8ad-11ef-b4dd-90784112f6e6.jpg\n",
            "Positive image saved: data\\positif\\5d72c1fa-a8ad-11ef-9868-90784112f6e6.jpg\n",
            "Positive image saved: data\\positif\\5d81092b-a8ad-11ef-ab7f-90784112f6e6.jpg\n",
            "Positive image saved: data\\positif\\5d8f9c61-a8ad-11ef-ae98-90784112f6e6.jpg\n",
            "Positive image saved: data\\positif\\5d9bc459-a8ad-11ef-ae71-90784112f6e6.jpg\n",
            "Positive image saved: data\\positif\\5da9f9c6-a8ad-11ef-8cbf-90784112f6e6.jpg\n",
            "Positive image saved: data\\positif\\5db7e61a-a8ad-11ef-ae1b-90784112f6e6.jpg\n",
            "Positive image saved: data\\positif\\5dc65263-a8ad-11ef-8e56-90784112f6e6.jpg\n",
            "Positive image saved: data\\positif\\5dd24d64-a8ad-11ef-a654-90784112f6e6.jpg\n",
            "Positive image saved: data\\positif\\5de0e2eb-a8ad-11ef-9c93-90784112f6e6.jpg\n",
            "Positive image saved: data\\positif\\5df1e78b-a8ad-11ef-8ad6-90784112f6e6.jpg\n",
            "Positive image saved: data\\positif\\5e007b57-a8ad-11ef-a13d-90784112f6e6.jpg\n",
            "Positive image saved: data\\positif\\5e24f50e-a8ad-11ef-8f63-90784112f6e6.jpg\n",
            "Positive image saved: data\\positif\\5e33685b-a8ad-11ef-8561-90784112f6e6.jpg\n",
            "Positive image saved: data\\positif\\5e467151-a8ad-11ef-b43b-90784112f6e6.jpg\n",
            "Positive image saved: data\\positif\\5e52a67f-a8ad-11ef-93ad-90784112f6e6.jpg\n",
            "Positive image saved: data\\positif\\5e576d0e-a8ad-11ef-b2bd-90784112f6e6.jpg\n",
            "Positive image saved: data\\positif\\5e7bac00-a8ad-11ef-827f-90784112f6e6.jpg\n",
            "Positive image saved: data\\positif\\5ea4f292-a8ad-11ef-8784-90784112f6e6.jpg\n",
            "Positive image saved: data\\positif\\5ec14017-a8ad-11ef-aed9-90784112f6e6.jpg\n",
            "Positive image saved: data\\positif\\5ecf2fac-a8ad-11ef-8b69-90784112f6e6.jpg\n",
            "Positive image saved: data\\positif\\5eddc5be-a8ad-11ef-afa5-90784112f6e6.jpg\n",
            "Positive image saved: data\\positif\\5ee9a069-a8ad-11ef-8b3b-90784112f6e6.jpg\n",
            "Positive image saved: data\\positif\\5ef7da56-a8ad-11ef-82e6-90784112f6e6.jpg\n",
            "Positive image saved: data\\positif\\5f0a8a40-a8ad-11ef-9d0c-90784112f6e6.jpg\n",
            "Positive image saved: data\\positif\\5f190aa3-a8ad-11ef-a766-90784112f6e6.jpg\n",
            "Positive image saved: data\\positif\\5f255489-a8ad-11ef-9bb7-90784112f6e6.jpg\n",
            "Positive image saved: data\\positif\\5f33e86b-a8ad-11ef-820b-90784112f6e6.jpg\n",
            "Positive image saved: data\\positif\\5f42507f-a8ad-11ef-8c1c-90784112f6e6.jpg\n",
            "Positive image saved: data\\positif\\5f4e0bfd-a8ad-11ef-af2f-90784112f6e6.jpg\n",
            "Positive image saved: data\\positif\\5f613741-a8ad-11ef-b430-90784112f6e6.jpg\n",
            "Positive image saved: data\\positif\\5f6fa525-a8ad-11ef-a8ba-90784112f6e6.jpg\n",
            "Positive image saved: data\\positif\\5f76fa03-a8ad-11ef-a461-90784112f6e6.jpg\n",
            "Positive image saved: data\\positif\\5f8a3a7f-a8ad-11ef-98a7-90784112f6e6.jpg\n",
            "Positive image saved: data\\positif\\5f8f1c9a-a8ad-11ef-a133-90784112f6e6.jpg\n",
            "Positive image saved: data\\positif\\5f93fe90-a8ad-11ef-a68a-90784112f6e6.jpg\n",
            "Positive image saved: data\\positif\\5faeae6e-a8ad-11ef-ace9-90784112f6e6.jpg\n",
            "Positive image saved: data\\positif\\5fbcf3ed-a8ad-11ef-ac7a-90784112f6e6.jpg\n",
            "Positive image saved: data\\positif\\5fcb870f-a8ad-11ef-9744-90784112f6e6.jpg\n",
            "Positive image saved: data\\positif\\5fdc3f59-a8ad-11ef-a6f9-90784112f6e6.jpg\n",
            "Positive image saved: data\\positif\\5fea7afd-a8ad-11ef-b1b8-90784112f6e6.jpg\n",
            "Positive image saved: data\\positif\\6009b0ba-a8ad-11ef-b85f-90784112f6e6.jpg\n",
            "Positive image saved: data\\positif\\6017f0eb-a8ad-11ef-85b5-90784112f6e6.jpg\n",
            "Positive image saved: data\\positif\\6037482c-a8ad-11ef-b878-90784112f6e6.jpg\n",
            "Positive image saved: data\\positif\\6045e111-a8ad-11ef-9e8f-90784112f6e6.jpg\n",
            "Positive image saved: data\\positif\\604f744a-a8ad-11ef-ac1b-90784112f6e6.jpg\n",
            "Positive image saved: data\\positif\\605dd88c-a8ad-11ef-963e-90784112f6e6.jpg\n",
            "Positive image saved: data\\positif\\606a0e4b-a8ad-11ef-b856-90784112f6e6.jpg\n",
            "Positive image saved: data\\positif\\60787ea4-a8ad-11ef-aed4-90784112f6e6.jpg\n",
            "Positive image saved: data\\positif\\60872729-a8ad-11ef-a14a-90784112f6e6.jpg\n",
            "Positive image saved: data\\positif\\60932f88-a8ad-11ef-aad1-90784112f6e6.jpg\n",
            "Positive image saved: data\\positif\\60afe311-a8ad-11ef-9bbd-90784112f6e6.jpg\n",
            "Positive image saved: data\\positif\\60cf438b-a8ad-11ef-907e-90784112f6e6.jpg\n",
            "Positive image saved: data\\positif\\60dd8124-a8ad-11ef-b44a-90784112f6e6.jpg\n",
            "Positive image saved: data\\positif\\60f2dc68-a8ad-11ef-a12e-90784112f6e6.jpg\n",
            "Positive image saved: data\\positif\\61013696-a8ad-11ef-926e-90784112f6e6.jpg\n",
            "Positive image saved: data\\positif\\61062cf1-a8ad-11ef-bda4-90784112f6e6.jpg\n",
            "Positive image saved: data\\positif\\610ac0e8-a8ad-11ef-ab93-90784112f6e6.jpg\n",
            "Positive image saved: data\\positif\\61226d20-a8ad-11ef-ba61-90784112f6e6.jpg\n",
            "Positive image saved: data\\positif\\612e80e1-a8ad-11ef-8d42-90784112f6e6.jpg\n",
            "Positive image saved: data\\positif\\614ae72f-a8ad-11ef-80f4-90784112f6e6.jpg\n",
            "Positive image saved: data\\positif\\61597b78-a8ad-11ef-a4d5-90784112f6e6.jpg\n",
            "Positive image saved: data\\positif\\8a77bf16-a8ad-11ef-97ba-90784112f6e6.jpg\n",
            "Positive image saved: data\\positif\\8acc097a-a8ad-11ef-b3ef-90784112f6e6.jpg\n",
            "Positive image saved: data\\positif\\8ada8f29-a8ad-11ef-876a-90784112f6e6.jpg\n",
            "Positive image saved: data\\positif\\8af0393d-a8ad-11ef-b8aa-90784112f6e6.jpg\n",
            "Positive image saved: data\\positif\\8afeaefe-a8ad-11ef-bb1c-90784112f6e6.jpg\n",
            "Positive image saved: data\\positif\\8b1fc2d3-a8ad-11ef-90f5-90784112f6e6.jpg\n",
            "Positive image saved: data\\positif\\8b439cd3-a8ad-11ef-a2bd-90784112f6e6.jpg\n",
            "Positive image saved: data\\positif\\8b51ed72-a8ad-11ef-81fd-90784112f6e6.jpg\n",
            "Positive image saved: data\\positif\\8b6bf056-a8ad-11ef-8bb6-90784112f6e6.jpg\n",
            "Positive image saved: data\\positif\\8b7a840d-a8ad-11ef-93e6-90784112f6e6.jpg\n",
            "Positive image saved: data\\positif\\8b891724-a8ad-11ef-9199-90784112f6e6.jpg\n",
            "Positive image saved: data\\positif\\8b953906-a8ad-11ef-ba70-90784112f6e6.jpg\n",
            "Positive image saved: data\\positif\\8c239f27-a8ad-11ef-811e-90784112f6e6.jpg\n",
            "Positive image saved: data\\positif\\8c322f17-a8ad-11ef-bd74-90784112f6e6.jpg\n",
            "Positive image saved: data\\positif\\8c42ce7f-a8ad-11ef-8d23-90784112f6e6.jpg\n",
            "Positive image saved: data\\positif\\8c5114f0-a8ad-11ef-8089-90784112f6e6.jpg\n",
            "Positive image saved: data\\positif\\8c5f4a01-a8ad-11ef-9cbb-90784112f6e6.jpg\n",
            "Positive image saved: data\\positif\\8c6d62e0-a8ad-11ef-a73b-90784112f6e6.jpg\n",
            "Positive image saved: data\\positif\\8c7e5bc1-a8ad-11ef-b591-90784112f6e6.jpg\n",
            "Positive image saved: data\\positif\\8c9a7343-a8ad-11ef-89ec-90784112f6e6.jpg\n",
            "Positive image saved: data\\positif\\8ca90734-a8ad-11ef-a317-90784112f6e6.jpg\n",
            "Positive image saved: data\\positif\\8cc36114-a8ad-11ef-8d0a-90784112f6e6.jpg\n",
            "Positive image saved: data\\positif\\8cd1dff9-a8ad-11ef-9ad2-90784112f6e6.jpg\n",
            "Positive image saved: data\\positif\\8ce78de1-a8ad-11ef-a8c7-90784112f6e6.jpg\n",
            "Positive image saved: data\\positif\\8cf63834-a8ad-11ef-b406-90784112f6e6.jpg\n",
            "Positive image saved: data\\positif\\8cfb1a50-a8ad-11ef-8f20-90784112f6e6.jpg\n",
            "Positive image saved: data\\positif\\8cffdb64-a8ad-11ef-99e1-90784112f6e6.jpg\n",
            "Positive image saved: data\\positif\\8d1ed3f7-a8ad-11ef-a6cb-90784112f6e6.jpg\n",
            "Positive image saved: data\\positif\\8d2d60e3-a8ad-11ef-b91e-90784112f6e6.jpg\n",
            "Positive image saved: data\\positif\\8d3bf41e-a8ad-11ef-82bb-90784112f6e6.jpg\n",
            "Positive image saved: data\\positif\\8d42f924-a8ad-11ef-a23f-90784112f6e6.jpg\n",
            "Positive image saved: data\\positif\\8d518c1a-a8ad-11ef-9adf-90784112f6e6.jpg\n",
            "Positive image saved: data\\positif\\8d5fff33-a8ad-11ef-ac92-90784112f6e6.jpg\n",
            "Positive image saved: data\\positif\\8d75843e-a8ad-11ef-83eb-90784112f6e6.jpg\n",
            "Positive image saved: data\\positif\\8d8402e8-a8ad-11ef-80f7-90784112f6e6.jpg\n",
            "Positive image saved: data\\positif\\8d925b2a-a8ad-11ef-8727-90784112f6e6.jpg\n",
            "Positive image saved: data\\positif\\8d9e7d90-a8ad-11ef-a9bf-90784112f6e6.jpg\n",
            "Positive image saved: data\\positif\\8dad115c-a8ad-11ef-a5c8-90784112f6e6.jpg\n",
            "Positive image saved: data\\positif\\8dbba4f3-a8ad-11ef-9c2c-90784112f6e6.jpg\n",
            "Positive image saved: data\\positif\\8dd106ca-a8ad-11ef-b595-90784112f6e6.jpg\n",
            "Positive image saved: data\\positif\\8ddf6047-a8ad-11ef-b273-90784112f6e6.jpg\n",
            "Positive image saved: data\\positif\\8dfc0d1c-a8ad-11ef-b770-90784112f6e6.jpg\n",
            "Positive image saved: data\\positif\\8e1fe083-a8ad-11ef-aaf4-90784112f6e6.jpg\n",
            "Positive image saved: data\\positif\\8e2e73f4-a8ad-11ef-ad38-90784112f6e6.jpg\n",
            "Positive image saved: data\\positif\\8e3f3e6f-a8ad-11ef-9849-90784112f6e6.jpg\n",
            "Positive image saved: data\\positif\\8ea88c08-a8ad-11ef-8637-90784112f6e6.jpg\n",
            "Positive image saved: data\\positif\\8eb97525-a8ad-11ef-a4cb-90784112f6e6.jpg\n",
            "Positive image saved: data\\positif\\8ebe573f-a8ad-11ef-b107-90784112f6e6.jpg\n",
            "Positive image saved: data\\positif\\8ecc9d52-a8ad-11ef-b10a-90784112f6e6.jpg\n",
            "Positive image saved: data\\positif\\8ed17f6a-a8ad-11ef-b033-90784112f6e6.jpg\n",
            "Positive image saved: data\\positif\\8ee9145a-a8ad-11ef-8f3e-90784112f6e6.jpg\n",
            "Positive image saved: data\\positif\\8efe5ec3-a8ad-11ef-b2a7-90784112f6e6.jpg\n",
            "Positive image saved: data\\positif\\8f0cc5c5-a8ad-11ef-ad6f-90784112f6e6.jpg\n",
            "Positive image saved: data\\positif\\8f2e0299-a8ad-11ef-8b65-90784112f6e6.jpg\n",
            "Positive image saved: data\\positif\\8f34fb73-a8ad-11ef-989a-90784112f6e6.jpg\n",
            "Positive image saved: data\\positif\\8f56c6f3-a8ad-11ef-87d6-90784112f6e6.jpg\n",
            "Positive image saved: data\\positif\\8f62e8dc-a8ad-11ef-862e-90784112f6e6.jpg\n",
            "Positive image saved: data\\positif\\8f718546-a8ad-11ef-9009-90784112f6e6.jpg\n",
            "Positive image saved: data\\positif\\8f7fbce3-a8ad-11ef-b00c-90784112f6e6.jpg\n",
            "Positive image saved: data\\positif\\8f8de663-a8ad-11ef-8238-90784112f6e6.jpg\n",
            "Positive image saved: data\\positif\\8f99b42f-a8ad-11ef-8480-90784112f6e6.jpg\n",
            "Positive image saved: data\\positif\\8fa8488d-a8ad-11ef-88b3-90784112f6e6.jpg\n",
            "Positive image saved: data\\positif\\8fb6a8e2-a8ad-11ef-b247-90784112f6e6.jpg\n",
            "Positive image saved: data\\positif\\8fc962fa-a8ad-11ef-a2dc-90784112f6e6.jpg\n",
            "Positive image saved: data\\positif\\8fd58529-a8ad-11ef-bb3d-90784112f6e6.jpg\n",
            "Positive image saved: data\\positif\\906bbbe5-a8ad-11ef-b683-90784112f6e6.jpg\n",
            "Positive image saved: data\\positif\\9079eb19-a8ad-11ef-a113-90784112f6e6.jpg\n",
            "Positive image saved: data\\positif\\9094457e-a8ad-11ef-ab55-90784112f6e6.jpg\n",
            "Positive image saved: data\\positif\\90a29af8-a8ad-11ef-9d3e-90784112f6e6.jpg\n",
            "Positive image saved: data\\positif\\90bf30ac-a8ad-11ef-92a2-90784112f6e6.jpg\n",
            "Positive image saved: data\\positif\\90c653ce-a8ad-11ef-8ec1-90784112f6e6.jpg\n",
            "Positive image saved: data\\positif\\90d4e73a-a8ad-11ef-be1f-90784112f6e6.jpg\n",
            "Positive image saved: data\\positif\\90ecf141-a8ad-11ef-bace-90784112f6e6.jpg\n",
            "Positive image saved: data\\positif\\90f431a3-a8ad-11ef-8f64-90784112f6e6.jpg\n",
            "Positive image saved: data\\positif\\9115c3a3-a8ad-11ef-945b-90784112f6e6.jpg\n",
            "Positive image saved: data\\positif\\9121b109-a8ad-11ef-9d81-90784112f6e6.jpg\n",
            "Positive image saved: data\\positif\\9139af58-a8ad-11ef-99b1-90784112f6e6.jpg\n",
            "Positive image saved: data\\positif\\91480671-a8ad-11ef-beae-90784112f6e6.jpg\n",
            "Positive image saved: data\\positif\\91626a77-a8ad-11ef-b9d0-90784112f6e6.jpg\n",
            "Positive image saved: data\\positif\\9170c864-a8ad-11ef-9497-90784112f6e6.jpg\n",
            "Positive image saved: data\\positif\\9181cce0-a8ad-11ef-8670-90784112f6e6.jpg\n",
            "Positive image saved: data\\positif\\91869bb3-a8ad-11ef-88f4-90784112f6e6.jpg\n",
            "Positive image saved: data\\positif\\91951e3d-a8ad-11ef-bbd5-90784112f6e6.jpg\n",
            "Positive image saved: data\\positif\\91aac471-a8ad-11ef-aa7d-90784112f6e6.jpg\n",
            "Positive image saved: data\\positif\\91b8fc22-a8ad-11ef-9704-90784112f6e6.jpg\n",
            "Positive image saved: data\\positif\\91c751c9-a8ad-11ef-a3d4-90784112f6e6.jpg\n",
            "Positive image saved: data\\positif\\91d5b2c4-a8ad-11ef-8326-90784112f6e6.jpg\n",
            "Positive image saved: data\\positif\\91e6a6c7-a8ad-11ef-a765-90784112f6e6.jpg\n",
            "Positive image saved: data\\positif\\9203785d-a8ad-11ef-bf26-90784112f6e6.jpg\n",
            "Positive image saved: data\\positif\\92147cbe-a8ad-11ef-a3ea-90784112f6e6.jpg\n",
            "Positive image saved: data\\positif\\922cd457-a8ad-11ef-b647-90784112f6e6.jpg\n",
            "Positive image saved: data\\positif\\9238dcc4-a8ad-11ef-8d4b-90784112f6e6.jpg\n",
            "Positive image saved: data\\positif\\9255eaa8-a8ad-11ef-8270-90784112f6e6.jpg\n",
            "Positive image saved: data\\positif\\92620819-a8ad-11ef-9686-90784112f6e6.jpg\n",
            "Positive image saved: data\\positif\\9283aba0-a8ad-11ef-aa30-90784112f6e6.jpg\n",
            "Positive image saved: data\\positif\\92a7826e-a8ad-11ef-adff-90784112f6e6.jpg\n",
            "Positive image saved: data\\positif\\92b578f8-a8ad-11ef-89dc-90784112f6e6.jpg\n",
            "Positive image saved: data\\positif\\92d00338-a8ad-11ef-a155-90784112f6e6.jpg\n",
            "Positive image saved: data\\positif\\92de669f-a8ad-11ef-8645-90784112f6e6.jpg\n",
            "Positive image saved: data\\positif\\92e3165f-a8ad-11ef-8e52-90784112f6e6.jpg\n",
            "Positive image saved: data\\positif\\92f65d57-a8ad-11ef-b404-90784112f6e6.jpg\n",
            "Positive image saved: data\\positif\\92fdb14e-a8ad-11ef-81ba-90784112f6e6.jpg\n",
            "Positive image saved: data\\positif\\930c5a71-a8ad-11ef-a69f-90784112f6e6.jpg\n",
            "Positive image saved: data\\positif\\931a9b6e-a8ad-11ef-9562-90784112f6e6.jpg\n",
            "Positive image saved: data\\positif\\9321ee9f-a8ad-11ef-a36b-90784112f6e6.jpg\n",
            "Positive image saved: data\\positif\\93300525-a8ad-11ef-b297-90784112f6e6.jpg\n",
            "Positive image saved: data\\positif\\93421aa5-a8ad-11ef-b4c9-90784112f6e6.jpg\n",
            "Positive image saved: data\\positif\\9351967b-a8ad-11ef-b99b-90784112f6e6.jpg\n",
            "Positive image saved: data\\positif\\935dcbb6-a8ad-11ef-96a7-90784112f6e6.jpg\n",
            "Positive image saved: data\\positif\\93712ac4-a8ad-11ef-8d68-90784112f6e6.jpg\n",
            "Positive image saved: data\\positif\\937fab23-a8ad-11ef-b9d1-90784112f6e6.jpg\n",
            "Keluar dari kamera.\n"
          ]
        }
      ],
      "source": [
        "cam = cv2.VideoCapture(0)\n",
        "while cam.isOpened():\n",
        "    ret, frame = cam.read()\n",
        "    if not ret:\n",
        "        print(\"Gagal mengambil frame dari kamera\")\n",
        "        break\n",
        "    # Menampilkan frame dari kamera\n",
        "\n",
        "    frame = frame[120:120+250,210:210+250, :]\n",
        "\n",
        "    if cv2.waitKey(1) & 0xFF == ord('a'):  # Press 'a' to save as anchor image\n",
        "        imgname = os.path.join(ANC_PATH, '{}.jpg'.format(uuid.uuid1()))\n",
        "        cv2.imwrite(imgname, frame)\n",
        "        print(f\"Anchor image saved: {imgname}\")\n",
        "\n",
        "    if cv2.waitKey(1) & 0xFF == ord('p'):  # Press 'p' to save as positive image\n",
        "        imgname = os.path.join(POS_PATH, '{}.jpg'.format(uuid.uuid1()))\n",
        "        cv2.imwrite(imgname, frame)\n",
        "        print(f\"Positive image saved: {imgname}\")\n",
        "\n",
        "    cv2.imshow('Ambil Gambar', frame)\n",
        "    # Menunggu input tombol dan memeriksa apakah tombol 'q' ditekan untuk keluar\n",
        "    if cv2.waitKey(1) & 0xFF == ord('q'):  # Tekan 'q' untuk keluar\n",
        "        print(\"Keluar dari kamera.\")\n",
        "        break\n",
        "# Menutup kamera dan jendela tampilan\n",
        "cam.release()\n",
        "cv2.destroyAllWindows()"
      ]
    },
    {
      "cell_type": "code",
      "execution_count": null,
      "id": "25673900-e5c4-4bd5-ac9b-ebfd68b02579",
      "metadata": {
        "id": "25673900-e5c4-4bd5-ac9b-ebfd68b02579",
        "outputId": "e0d3ba80-d65f-49bd-a317-ff55499ad22e"
      },
      "outputs": [
        {
          "data": {
            "text/plain": [
              "(250, 250, 3)"
            ]
          },
          "execution_count": 52,
          "metadata": {},
          "output_type": "execute_result"
        }
      ],
      "source": [
        "frame.shape"
      ]
    },
    {
      "cell_type": "code",
      "execution_count": null,
      "id": "6cbe9e38-8b0c-4cd0-96e8-122508c6312b",
      "metadata": {
        "id": "6cbe9e38-8b0c-4cd0-96e8-122508c6312b",
        "outputId": "30858a0a-d763-4491-e425-d7d87eee728c"
      },
      "outputs": [
        {
          "data": {
            "text/plain": [
              "<matplotlib.image.AxesImage at 0x19f30874500>"
            ]
          },
          "execution_count": 53,
          "metadata": {},
          "output_type": "execute_result"
        },
        {
          "data": {
            "image/png": "[encoded data removed]",
            "text/plain": [
              "<Figure size 640x480 with 1 Axes>"
            ]
          },
          "metadata": {},
          "output_type": "display_data"
        }
      ],
      "source": [
        "plt.imshow(frame)"
      ]
    },
    {
      "cell_type": "markdown",
      "id": "44b42dc7-1831-4ad0-bae4-2285fd31f58e",
      "metadata": {
        "id": "44b42dc7-1831-4ad0-bae4-2285fd31f58e"
      },
      "source": [
        "harus 250x250"
      ]
    },
    {
      "cell_type": "code",
      "execution_count": null,
      "id": "1fd9ff6c-466b-4d20-ba33-ba49e4c8ea18",
      "metadata": {
        "id": "1fd9ff6c-466b-4d20-ba33-ba49e4c8ea18",
        "outputId": "2760da91-88af-4708-d0d8-5b5ccb1bcbec"
      },
      "outputs": [
        {
          "data": {
            "text/plain": [
              "<matplotlib.image.AxesImage at 0x19f3080e390>"
            ]
          },
          "execution_count": 40,
          "metadata": {},
          "output_type": "execute_result"
        },
        {
          "data": {
            "image/png": "[encoded data removed]",
            "text/plain": [
              "<Figure size 640x480 with 1 Axes>"
            ]
          },
          "metadata": {},
          "output_type": "display_data"
        }
      ],
      "source": [
        "plt.imshow(frame[80:80+250,150:150+250, :])"
      ]
    },
    {
      "cell_type": "markdown",
      "id": "778eacb5-5db8-407b-ab32-ab947036329f",
      "metadata": {
        "id": "778eacb5-5db8-407b-ab32-ab947036329f"
      },
      "source": [
        "# **Memuat dan Memproses Gambar**"
      ]
    },
    {
      "cell_type": "markdown",
      "id": "2b8a1df3-e590-4252-94ec-1170ea11b2a8",
      "metadata": {
        "id": "2b8a1df3-e590-4252-94ec-1170ea11b2a8"
      },
      "source": [
        "Memuat Dataset Gambar dengan TensorFlow menggunakan list_files\n",
        "\n",
        "memungkinkan kita untuk membaca semua file gambar yang memiliki ekstensi .jpg dari folder yang ditentukan (ANC_PATH, POS_PATH, NEG_PATH) dan membatasi jumlah file yang diambil hingga 500 gambar dari masing-masing folder."
      ]
    },
    {
      "cell_type": "code",
      "execution_count": null,
      "id": "661e080c-fc63-4bd6-bdf9-b65bd21f2f18",
      "metadata": {
        "id": "661e080c-fc63-4bd6-bdf9-b65bd21f2f18"
      },
      "outputs": [],
      "source": [
        "anchor = tf.data.Dataset.list_files(ANC_PATH+'/*.jpg').take(500)\n",
        "positif = tf.data.Dataset.list_files(POS_PATH+'/*.jpg').take(500)\n",
        "negatif = tf.data.Dataset.list_files(NEG_PATH+'/*.jpg').take(500)"
      ]
    },
    {
      "cell_type": "code",
      "execution_count": null,
      "id": "c09ef9dd-6fc1-4b31-81d5-18ea1356dc09",
      "metadata": {
        "id": "c09ef9dd-6fc1-4b31-81d5-18ea1356dc09"
      },
      "outputs": [],
      "source": [
        "dir_test = anchor.as_numpy_iterator()"
      ]
    },
    {
      "cell_type": "code",
      "execution_count": null,
      "id": "91f97cb5-7272-457a-851a-fa866d1f174b",
      "metadata": {
        "colab": {
          "base_uri": "https://localhost:8080/"
        },
        "id": "91f97cb5-7272-457a-851a-fa866d1f174b",
        "outputId": "666efba2-5b18-4002-8a48-20be659607f0"
      },
      "outputs": [
        {
          "output_type": "execute_result",
          "data": {
            "text/plain": [
              "b'/content/drive/MyDrive/FaceRegonition/anchor/d5d87563-a8ac-11ef-8527-90784112f6e6.jpg'"
            ]
          },
          "metadata": {},
          "execution_count": 12
        }
      ],
      "source": [
        "dir_test.next()"
      ]
    },
    {
      "cell_type": "markdown",
      "id": "0bbf0c7d-93b4-410d-a5c5-a67f6c1a1c92",
      "metadata": {
        "id": "0bbf0c7d-93b4-410d-a5c5-a67f6c1a1c92"
      },
      "source": [
        "# **Preprocessing (Scale dan Resize)**"
      ]
    },
    {
      "cell_type": "markdown",
      "id": "f2fb96b0-fa58-4d06-b88c-aa25929f5ca8",
      "metadata": {
        "id": "f2fb96b0-fa58-4d06-b88c-aa25929f5ca8"
      },
      "source": [
        "![image.png](attachment:39984785-32ae-40ea-bcdd-482c9e2a63b5.png)"
      ]
    },
    {
      "cell_type": "code",
      "execution_count": null,
      "id": "8f7bdc12-324b-4eac-a711-b90361648c78",
      "metadata": {
        "id": "8f7bdc12-324b-4eac-a711-b90361648c78"
      },
      "outputs": [],
      "source": [
        "def preprocessing(file_path):\n",
        "    img_byte = tf.io.read_file(file_path)\n",
        "    #load gambar\n",
        "    img = tf.io.decode_jpeg(img_byte)\n",
        "    #preprocessing dan resize 105x105x3\n",
        "    img = tf.image.resize(img, (105,105))\n",
        "    img = img / 255.0\n",
        "    return img"
      ]
    },
    {
      "cell_type": "code",
      "execution_count": null,
      "id": "58f48b17-7ae9-412b-a761-e102c0cf1e43",
      "metadata": {
        "colab": {
          "base_uri": "https://localhost:8080/"
        },
        "id": "58f48b17-7ae9-412b-a761-e102c0cf1e43",
        "outputId": "885e9d89-83a2-4c6d-9ca8-38256bb923c9"
      },
      "outputs": [
        {
          "output_type": "execute_result",
          "data": {
            "text/plain": [
              "<tf.Tensor: shape=(105, 105, 3), dtype=float32, numpy=\n",
              "array([[[0.59384197, 0.6134498 , 0.5899204 ],\n",
              "        [0.5420101 , 0.56077766, 0.53808856],\n",
              "        [0.5028834 , 0.5107265 , 0.50250983],\n",
              "        ...,\n",
              "        [0.4063603 , 0.40850785, 0.3814304 ],\n",
              "        [0.40877685, 0.41269842, 0.39281046],\n",
              "        [0.4067249 , 0.41456804, 0.40280333]],\n",
              "\n",
              "       [[0.59729224, 0.6048553 , 0.58524746],\n",
              "        [0.53809524, 0.54677874, 0.527451  ],\n",
              "        [0.47865146, 0.49661195, 0.48586768],\n",
              "        ...,\n",
              "        [0.4019274 , 0.40364146, 0.37709755],\n",
              "        [0.3997599 , 0.40364146, 0.38351342],\n",
              "        [0.39635855, 0.40392157, 0.38431373]],\n",
              "\n",
              "       [[0.5957983 , 0.59794587, 0.5836602 ],\n",
              "        [0.53824866, 0.5469321 , 0.53089905],\n",
              "        [0.4697301 , 0.4901405 , 0.47445422],\n",
              "        ...,\n",
              "        [0.39822596, 0.3943044 , 0.37469655],\n",
              "        [0.39623183, 0.39629853, 0.37469655],\n",
              "        [0.39822596, 0.40214753, 0.38076565]],\n",
              "\n",
              "       ...,\n",
              "\n",
              "       [[0.44491127, 0.49981326, 0.51157796],\n",
              "        [0.4409897 , 0.49573827, 0.5079632 ],\n",
              "        [0.44216576, 0.4968632 , 0.514099  ],\n",
              "        ...,\n",
              "        [0.42610598, 0.48332444, 0.5037348 ],\n",
              "        [0.41574627, 0.4745698 , 0.49417764],\n",
              "        [0.4056956 , 0.4645191 , 0.48412696]],\n",
              "\n",
              "       [[0.43165267, 0.49019608, 0.5092437 ],\n",
              "        [0.43139255, 0.48991597, 0.5090236 ],\n",
              "        [0.43358007, 0.4920968 , 0.51185805],\n",
              "        ...,\n",
              "        [0.42138186, 0.4802054 , 0.49981326],\n",
              "        [0.40840334, 0.46722686, 0.4868347 ],\n",
              "        [0.3997199 , 0.45854342, 0.47815126]],\n",
              "\n",
              "       [[0.44192344, 0.50074697, 0.5203548 ],\n",
              "        [0.44164333, 0.5004669 , 0.5200747 ],\n",
              "        [0.43015873, 0.48898226, 0.5121381 ],\n",
              "        ...,\n",
              "        [0.4123249 , 0.47114843, 0.4985994 ],\n",
              "        [0.40662932, 0.46545285, 0.49290383],\n",
              "        [0.40662932, 0.46545285, 0.49290383]]], dtype=float32)>"
            ]
          },
          "metadata": {},
          "execution_count": 14
        }
      ],
      "source": [
        "preprocessing('/content/drive/MyDrive/FaceRegonition/anchor/9a9b9e0a-a8ac-11ef-942b-90784112f6e6.jpg')"
      ]
    },
    {
      "cell_type": "code",
      "execution_count": null,
      "id": "f8bd21de-f656-442c-a79a-c8a41b552c72",
      "metadata": {
        "id": "f8bd21de-f656-442c-a79a-c8a41b552c72"
      },
      "outputs": [],
      "source": [
        "img = preprocessing('/content/drive/MyDrive/FaceRegonition/anchor/9a9b9e0a-a8ac-11ef-942b-90784112f6e6.jpg')"
      ]
    },
    {
      "cell_type": "code",
      "execution_count": null,
      "id": "d116464d-6f71-41df-b852-c33c4e60b485",
      "metadata": {
        "colab": {
          "base_uri": "https://localhost:8080/",
          "height": 452
        },
        "id": "d116464d-6f71-41df-b852-c33c4e60b485",
        "outputId": "ba2d0e05-cf9e-49a8-bb7f-d3e3355b4321"
      },
      "outputs": [
        {
          "output_type": "execute_result",
          "data": {
            "text/plain": [
              "<matplotlib.image.AxesImage at 0x7e07f68cee30>"
            ]
          },
          "metadata": {},
          "execution_count": 16
        },
        {
          "output_type": "display_data",
          "data": {
            "text/plain": [
              "<Figure size 640x480 with 1 Axes>"
            ],
            "image/png": "[encoded data removed]"
          },
          "metadata": {}
        }
      ],
      "source": [
        "plt.imshow(img)"
      ]
    },
    {
      "cell_type": "code",
      "execution_count": null,
      "id": "e91a36f0-d996-42d1-ad25-1f7935d6f3bc",
      "metadata": {
        "colab": {
          "base_uri": "https://localhost:8080/"
        },
        "id": "e91a36f0-d996-42d1-ad25-1f7935d6f3bc",
        "outputId": "3a2dfe00-1281-40f7-f14c-8293ee48fe84"
      },
      "outputs": [
        {
          "output_type": "execute_result",
          "data": {
            "text/plain": [
              "0.2576097"
            ]
          },
          "metadata": {},
          "execution_count": 17
        }
      ],
      "source": [
        "img.numpy().min()"
      ]
    },
    {
      "cell_type": "code",
      "execution_count": null,
      "id": "4fee1d10-6e8e-4ce6-bc42-f537a429f17a",
      "metadata": {
        "colab": {
          "base_uri": "https://localhost:8080/"
        },
        "id": "4fee1d10-6e8e-4ce6-bc42-f537a429f17a",
        "outputId": "59cc77b2-d074-4ca3-e771-f5fa5772fb36"
      },
      "outputs": [
        {
          "output_type": "execute_result",
          "data": {
            "text/plain": [
              "0.94943976"
            ]
          },
          "metadata": {},
          "execution_count": 18
        }
      ],
      "source": [
        "img.numpy().max()"
      ]
    },
    {
      "cell_type": "markdown",
      "id": "33ce6740-88c5-44b0-a1e5-caebd7292f08",
      "metadata": {
        "id": "33ce6740-88c5-44b0-a1e5-caebd7292f08"
      },
      "source": [
        "# Buat label dataset"
      ]
    },
    {
      "cell_type": "code",
      "execution_count": null,
      "id": "0264626b-5197-4b35-985b-2d27bc09f41a",
      "metadata": {
        "id": "0264626b-5197-4b35-985b-2d27bc09f41a"
      },
      "outputs": [],
      "source": [
        "# (anchor, positif) => 1,1,1,1,1\n",
        "# (anchor, negatif) => 0,0,0,0,0"
      ]
    },
    {
      "cell_type": "code",
      "execution_count": null,
      "id": "25cf621f-0f27-4509-80fe-2b7308b65f9f",
      "metadata": {
        "colab": {
          "base_uri": "https://localhost:8080/"
        },
        "id": "25cf621f-0f27-4509-80fe-2b7308b65f9f",
        "outputId": "c85d5b15-670c-4224-91ad-8b9b4da58083"
      },
      "outputs": [
        {
          "output_type": "execute_result",
          "data": {
            "text/plain": [
              "<tf.Tensor: shape=(500,), dtype=float32, numpy=\n",
              "array([1., 1., 1., 1., 1., 1., 1., 1., 1., 1., 1., 1., 1., 1., 1., 1., 1.,\n",
              "       1., 1., 1., 1., 1., 1., 1., 1., 1., 1., 1., 1., 1., 1., 1., 1., 1.,\n",
              "       1., 1., 1., 1., 1., 1., 1., 1., 1., 1., 1., 1., 1., 1., 1., 1., 1.,\n",
              "       1., 1., 1., 1., 1., 1., 1., 1., 1., 1., 1., 1., 1., 1., 1., 1., 1.,\n",
              "       1., 1., 1., 1., 1., 1., 1., 1., 1., 1., 1., 1., 1., 1., 1., 1., 1.,\n",
              "       1., 1., 1., 1., 1., 1., 1., 1., 1., 1., 1., 1., 1., 1., 1., 1., 1.,\n",
              "       1., 1., 1., 1., 1., 1., 1., 1., 1., 1., 1., 1., 1., 1., 1., 1., 1.,\n",
              "       1., 1., 1., 1., 1., 1., 1., 1., 1., 1., 1., 1., 1., 1., 1., 1., 1.,\n",
              "       1., 1., 1., 1., 1., 1., 1., 1., 1., 1., 1., 1., 1., 1., 1., 1., 1.,\n",
              "       1., 1., 1., 1., 1., 1., 1., 1., 1., 1., 1., 1., 1., 1., 1., 1., 1.,\n",
              "       1., 1., 1., 1., 1., 1., 1., 1., 1., 1., 1., 1., 1., 1., 1., 1., 1.,\n",
              "       1., 1., 1., 1., 1., 1., 1., 1., 1., 1., 1., 1., 1., 1., 1., 1., 1.,\n",
              "       1., 1., 1., 1., 1., 1., 1., 1., 1., 1., 1., 1., 1., 1., 1., 1., 1.,\n",
              "       1., 1., 1., 1., 1., 1., 1., 1., 1., 1., 1., 1., 1., 1., 1., 1., 1.,\n",
              "       1., 1., 1., 1., 1., 1., 1., 1., 1., 1., 1., 1., 1., 1., 1., 1., 1.,\n",
              "       1., 1., 1., 1., 1., 1., 1., 1., 1., 1., 1., 1., 1., 1., 1., 1., 1.,\n",
              "       1., 1., 1., 1., 1., 1., 1., 1., 1., 1., 1., 1., 1., 1., 1., 1., 1.,\n",
              "       1., 1., 1., 1., 1., 1., 1., 1., 1., 1., 1., 1., 1., 1., 1., 1., 1.,\n",
              "       1., 1., 1., 1., 1., 1., 1., 1., 1., 1., 1., 1., 1., 1., 1., 1., 1.,\n",
              "       1., 1., 1., 1., 1., 1., 1., 1., 1., 1., 1., 1., 1., 1., 1., 1., 1.,\n",
              "       1., 1., 1., 1., 1., 1., 1., 1., 1., 1., 1., 1., 1., 1., 1., 1., 1.,\n",
              "       1., 1., 1., 1., 1., 1., 1., 1., 1., 1., 1., 1., 1., 1., 1., 1., 1.,\n",
              "       1., 1., 1., 1., 1., 1., 1., 1., 1., 1., 1., 1., 1., 1., 1., 1., 1.,\n",
              "       1., 1., 1., 1., 1., 1., 1., 1., 1., 1., 1., 1., 1., 1., 1., 1., 1.,\n",
              "       1., 1., 1., 1., 1., 1., 1., 1., 1., 1., 1., 1., 1., 1., 1., 1., 1.,\n",
              "       1., 1., 1., 1., 1., 1., 1., 1., 1., 1., 1., 1., 1., 1., 1., 1., 1.,\n",
              "       1., 1., 1., 1., 1., 1., 1., 1., 1., 1., 1., 1., 1., 1., 1., 1., 1.,\n",
              "       1., 1., 1., 1., 1., 1., 1., 1., 1., 1., 1., 1., 1., 1., 1., 1., 1.,\n",
              "       1., 1., 1., 1., 1., 1., 1., 1., 1., 1., 1., 1., 1., 1., 1., 1., 1.,\n",
              "       1., 1., 1., 1., 1., 1., 1.], dtype=float32)>"
            ]
          },
          "metadata": {},
          "execution_count": 25
        }
      ],
      "source": [
        "tf.ones(len(anchor))"
      ]
    },
    {
      "cell_type": "code",
      "execution_count": null,
      "id": "003cddd5-2dc4-4355-a4dd-f37d93b20f6b",
      "metadata": {
        "colab": {
          "base_uri": "https://localhost:8080/"
        },
        "id": "003cddd5-2dc4-4355-a4dd-f37d93b20f6b",
        "outputId": "572adf06-bba0-42b8-a382-60cc35e97b96"
      },
      "outputs": [
        {
          "output_type": "execute_result",
          "data": {
            "text/plain": [
              "<tf.Tensor: shape=(500,), dtype=float32, numpy=\n",
              "array([0., 0., 0., 0., 0., 0., 0., 0., 0., 0., 0., 0., 0., 0., 0., 0., 0.,\n",
              "       0., 0., 0., 0., 0., 0., 0., 0., 0., 0., 0., 0., 0., 0., 0., 0., 0.,\n",
              "       0., 0., 0., 0., 0., 0., 0., 0., 0., 0., 0., 0., 0., 0., 0., 0., 0.,\n",
              "       0., 0., 0., 0., 0., 0., 0., 0., 0., 0., 0., 0., 0., 0., 0., 0., 0.,\n",
              "       0., 0., 0., 0., 0., 0., 0., 0., 0., 0., 0., 0., 0., 0., 0., 0., 0.,\n",
              "       0., 0., 0., 0., 0., 0., 0., 0., 0., 0., 0., 0., 0., 0., 0., 0., 0.,\n",
              "       0., 0., 0., 0., 0., 0., 0., 0., 0., 0., 0., 0., 0., 0., 0., 0., 0.,\n",
              "       0., 0., 0., 0., 0., 0., 0., 0., 0., 0., 0., 0., 0., 0., 0., 0., 0.,\n",
              "       0., 0., 0., 0., 0., 0., 0., 0., 0., 0., 0., 0., 0., 0., 0., 0., 0.,\n",
              "       0., 0., 0., 0., 0., 0., 0., 0., 0., 0., 0., 0., 0., 0., 0., 0., 0.,\n",
              "       0., 0., 0., 0., 0., 0., 0., 0., 0., 0., 0., 0., 0., 0., 0., 0., 0.,\n",
              "       0., 0., 0., 0., 0., 0., 0., 0., 0., 0., 0., 0., 0., 0., 0., 0., 0.,\n",
              "       0., 0., 0., 0., 0., 0., 0., 0., 0., 0., 0., 0., 0., 0., 0., 0., 0.,\n",
              "       0., 0., 0., 0., 0., 0., 0., 0., 0., 0., 0., 0., 0., 0., 0., 0., 0.,\n",
              "       0., 0., 0., 0., 0., 0., 0., 0., 0., 0., 0., 0., 0., 0., 0., 0., 0.,\n",
              "       0., 0., 0., 0., 0., 0., 0., 0., 0., 0., 0., 0., 0., 0., 0., 0., 0.,\n",
              "       0., 0., 0., 0., 0., 0., 0., 0., 0., 0., 0., 0., 0., 0., 0., 0., 0.,\n",
              "       0., 0., 0., 0., 0., 0., 0., 0., 0., 0., 0., 0., 0., 0., 0., 0., 0.,\n",
              "       0., 0., 0., 0., 0., 0., 0., 0., 0., 0., 0., 0., 0., 0., 0., 0., 0.,\n",
              "       0., 0., 0., 0., 0., 0., 0., 0., 0., 0., 0., 0., 0., 0., 0., 0., 0.,\n",
              "       0., 0., 0., 0., 0., 0., 0., 0., 0., 0., 0., 0., 0., 0., 0., 0., 0.,\n",
              "       0., 0., 0., 0., 0., 0., 0., 0., 0., 0., 0., 0., 0., 0., 0., 0., 0.,\n",
              "       0., 0., 0., 0., 0., 0., 0., 0., 0., 0., 0., 0., 0., 0., 0., 0., 0.,\n",
              "       0., 0., 0., 0., 0., 0., 0., 0., 0., 0., 0., 0., 0., 0., 0., 0., 0.,\n",
              "       0., 0., 0., 0., 0., 0., 0., 0., 0., 0., 0., 0., 0., 0., 0., 0., 0.,\n",
              "       0., 0., 0., 0., 0., 0., 0., 0., 0., 0., 0., 0., 0., 0., 0., 0., 0.,\n",
              "       0., 0., 0., 0., 0., 0., 0., 0., 0., 0., 0., 0., 0., 0., 0., 0., 0.,\n",
              "       0., 0., 0., 0., 0., 0., 0., 0., 0., 0., 0., 0., 0., 0., 0., 0., 0.,\n",
              "       0., 0., 0., 0., 0., 0., 0., 0., 0., 0., 0., 0., 0., 0., 0., 0., 0.,\n",
              "       0., 0., 0., 0., 0., 0., 0.], dtype=float32)>"
            ]
          },
          "metadata": {},
          "execution_count": 26
        }
      ],
      "source": [
        "tf.zeros(len(anchor))"
      ]
    },
    {
      "cell_type": "code",
      "execution_count": null,
      "id": "4d6e2906-4118-492d-9a20-4a73e9588fc2",
      "metadata": {
        "id": "4d6e2906-4118-492d-9a20-4a73e9588fc2"
      },
      "outputs": [],
      "source": [
        "class_labels = tf.data.Dataset.from_tensor_slices(tf.ones(len(anchor)))"
      ]
    },
    {
      "cell_type": "code",
      "execution_count": null,
      "id": "097cc179-4683-4ebc-9a5b-ed5b867f1a63",
      "metadata": {
        "id": "097cc179-4683-4ebc-9a5b-ed5b867f1a63"
      },
      "outputs": [],
      "source": [
        "iterator_labs = class_labels.as_numpy_iterator()"
      ]
    },
    {
      "cell_type": "code",
      "execution_count": null,
      "id": "49ddb7d4-5c31-49b7-b215-71609eb4930a",
      "metadata": {
        "colab": {
          "base_uri": "https://localhost:8080/"
        },
        "id": "49ddb7d4-5c31-49b7-b215-71609eb4930a",
        "outputId": "b4ea25b3-a76c-4d24-cc1a-8a2717dbd9a8"
      },
      "outputs": [
        {
          "output_type": "execute_result",
          "data": {
            "text/plain": [
              "1.0"
            ]
          },
          "metadata": {},
          "execution_count": 21
        }
      ],
      "source": [
        "iterator_labs.next()"
      ]
    },
    {
      "cell_type": "markdown",
      "id": "3324e0ad-b1c1-47a6-8e8d-25c459cb662c",
      "metadata": {
        "id": "3324e0ad-b1c1-47a6-8e8d-25c459cb662c"
      },
      "source": [
        "UTAMA INI"
      ]
    },
    {
      "cell_type": "code",
      "execution_count": null,
      "id": "e8e24f87-ed0d-4b3d-b2d6-485c8a8326e6",
      "metadata": {
        "id": "e8e24f87-ed0d-4b3d-b2d6-485c8a8326e6"
      },
      "outputs": [],
      "source": [
        "positives = tf.data.Dataset.zip((anchor, positif, tf.data.Dataset.from_tensor_slices(tf.ones(len(anchor)))))\n",
        "negatives = tf.data.Dataset.zip((anchor, negatif, tf.data.Dataset.from_tensor_slices(tf.zeros(len(anchor)))))\n",
        "data = positives.concatenate(negatives)"
      ]
    },
    {
      "cell_type": "code",
      "execution_count": null,
      "id": "75b681b0-f38b-4243-94ab-caddc8791867",
      "metadata": {
        "id": "75b681b0-f38b-4243-94ab-caddc8791867"
      },
      "outputs": [],
      "source": [
        "samples = data.as_numpy_iterator()"
      ]
    },
    {
      "cell_type": "code",
      "execution_count": null,
      "id": "faea65c0-89b7-42e6-b299-241d3e0cab5e",
      "metadata": {
        "id": "faea65c0-89b7-42e6-b299-241d3e0cab5e"
      },
      "outputs": [],
      "source": [
        "example = samples.next()"
      ]
    },
    {
      "cell_type": "code",
      "execution_count": null,
      "id": "344738bf-ff82-4ffa-9853-2330adb58fe8",
      "metadata": {
        "colab": {
          "base_uri": "https://localhost:8080/"
        },
        "id": "344738bf-ff82-4ffa-9853-2330adb58fe8",
        "outputId": "ff574c9e-31c1-4d3e-d7ac-f2eb5d71c71e"
      },
      "outputs": [
        {
          "output_type": "execute_result",
          "data": {
            "text/plain": [
              "(b'/content/drive/MyDrive/FaceRegonition/anchor/c2c99d59-a8ac-11ef-9b25-90784112f6e6.jpg',\n",
              " b'/content/drive/MyDrive/FaceRegonition/positif/90c653ce-a8ad-11ef-8ec1-90784112f6e6.jpg',\n",
              " 1.0)"
            ]
          },
          "metadata": {},
          "execution_count": 25
        }
      ],
      "source": [
        "example"
      ]
    },
    {
      "cell_type": "markdown",
      "id": "c6b6d1d2-32e4-4505-a898-5698e4242462",
      "metadata": {
        "id": "c6b6d1d2-32e4-4505-a898-5698e4242462"
      },
      "source": [
        "Membuat Train dan Test Partisi"
      ]
    },
    {
      "cell_type": "code",
      "execution_count": null,
      "id": "d525bf7b-1390-459b-962e-82d88cc33f29",
      "metadata": {
        "id": "d525bf7b-1390-459b-962e-82d88cc33f29"
      },
      "outputs": [],
      "source": [
        "def preprocessing_twin(input_img, val_img, label):\n",
        "    return(preprocessing(input_img), preprocessing(val_img), label)"
      ]
    },
    {
      "cell_type": "code",
      "execution_count": null,
      "id": "30e58e36-152a-4f13-ace0-98e57ab67ce7",
      "metadata": {
        "id": "30e58e36-152a-4f13-ace0-98e57ab67ce7"
      },
      "outputs": [],
      "source": [
        "res = preprocessing_twin(*example)"
      ]
    },
    {
      "cell_type": "code",
      "execution_count": null,
      "id": "4ba4c3ad-3a38-4b23-8733-1aab44c1e79e",
      "metadata": {
        "colab": {
          "base_uri": "https://localhost:8080/",
          "height": 452
        },
        "id": "4ba4c3ad-3a38-4b23-8733-1aab44c1e79e",
        "outputId": "55982fd5-80b6-4b72-ee33-ca7b9834b2aa"
      },
      "outputs": [
        {
          "output_type": "execute_result",
          "data": {
            "text/plain": [
              "<matplotlib.image.AxesImage at 0x7e07e4114eb0>"
            ]
          },
          "metadata": {},
          "execution_count": 28
        },
        {
          "output_type": "display_data",
          "data": {
            "text/plain": [
              "<Figure size 640x480 with 1 Axes>"
            ],
            "image/png": "[encoded data removed]"
          },
          "metadata": {}
        }
      ],
      "source": [
        "plt.imshow(res[1])"
      ]
    },
    {
      "cell_type": "code",
      "execution_count": null,
      "id": "5fd6b3ac-4d07-4b9d-a226-1f17b0dcb8ad",
      "metadata": {
        "colab": {
          "base_uri": "https://localhost:8080/"
        },
        "id": "5fd6b3ac-4d07-4b9d-a226-1f17b0dcb8ad",
        "outputId": "c7f30474-b37c-4a42-dd78-8eb29dffc3dc"
      },
      "outputs": [
        {
          "output_type": "execute_result",
          "data": {
            "text/plain": [
              "1.0"
            ]
          },
          "metadata": {},
          "execution_count": 29
        }
      ],
      "source": [
        "res[2]"
      ]
    },
    {
      "cell_type": "code",
      "execution_count": null,
      "id": "be89c212-7fcc-4141-af1c-63ef4643a1a4",
      "metadata": {
        "id": "be89c212-7fcc-4141-af1c-63ef4643a1a4"
      },
      "outputs": [],
      "source": [
        "# buat dataloader untuk pipeline\n",
        "data = data.map(preprocessing_twin)\n",
        "data = data.cache()\n",
        "data = data.shuffle(buffer_size=1024)"
      ]
    },
    {
      "cell_type": "code",
      "execution_count": null,
      "id": "21ed013a-b902-41d7-ba9a-0394488a5415",
      "metadata": {
        "id": "21ed013a-b902-41d7-ba9a-0394488a5415"
      },
      "outputs": [],
      "source": [
        "samples = data.as_numpy_iterator()"
      ]
    },
    {
      "cell_type": "code",
      "execution_count": null,
      "id": "e667e01b-3e8b-4e60-bf90-a473e3743c57",
      "metadata": {
        "colab": {
          "base_uri": "https://localhost:8080/"
        },
        "id": "e667e01b-3e8b-4e60-bf90-a473e3743c57",
        "outputId": "6cb82fc4-3836-4b1d-bb23-ca36e1b8a69e"
      },
      "outputs": [
        {
          "output_type": "execute_result",
          "data": {
            "text/plain": [
              "3"
            ]
          },
          "metadata": {},
          "execution_count": 32
        }
      ],
      "source": [
        "len(samples.next())"
      ]
    },
    {
      "cell_type": "code",
      "execution_count": null,
      "id": "ef70ef36-8867-4e65-8d34-03621f517f76",
      "metadata": {
        "id": "ef70ef36-8867-4e65-8d34-03621f517f76"
      },
      "outputs": [],
      "source": [
        "samp = samples.next()"
      ]
    },
    {
      "cell_type": "code",
      "execution_count": null,
      "id": "7994891f-7520-4bc1-8bd7-7c42094d4c61",
      "metadata": {
        "colab": {
          "base_uri": "https://localhost:8080/",
          "height": 452
        },
        "id": "7994891f-7520-4bc1-8bd7-7c42094d4c61",
        "outputId": "f37c2c07-61a0-4766-ad17-40e3158c7eae"
      },
      "outputs": [
        {
          "output_type": "execute_result",
          "data": {
            "text/plain": [
              "<matplotlib.image.AxesImage at 0x7e07e4133250>"
            ]
          },
          "metadata": {},
          "execution_count": 34
        },
        {
          "output_type": "display_data",
          "data": {
            "text/plain": [
              "<Figure size 640x480 with 1 Axes>"
            ],
            "image/png": "[encoded data removed]"
          },
          "metadata": {}
        }
      ],
      "source": [
        "plt.imshow(samp[0])"
      ]
    },
    {
      "cell_type": "code",
      "execution_count": null,
      "id": "34c878da-e956-4135-9df8-29ddee7cc7dc",
      "metadata": {
        "colab": {
          "base_uri": "https://localhost:8080/",
          "height": 452
        },
        "id": "34c878da-e956-4135-9df8-29ddee7cc7dc",
        "outputId": "f3f85010-ea9d-46fe-9c79-266477ec110a"
      },
      "outputs": [
        {
          "output_type": "execute_result",
          "data": {
            "text/plain": [
              "<matplotlib.image.AxesImage at 0x7e07e415bd60>"
            ]
          },
          "metadata": {},
          "execution_count": 35
        },
        {
          "output_type": "display_data",
          "data": {
            "text/plain": [
              "<Figure size 640x480 with 1 Axes>"
            ],
            "image/png": "[encoded data removed]"
          },
          "metadata": {}
        }
      ],
      "source": [
        "plt.imshow(samp[1])"
      ]
    },
    {
      "cell_type": "code",
      "execution_count": null,
      "id": "88a02622-5569-49ab-9228-cf621000f062",
      "metadata": {
        "colab": {
          "base_uri": "https://localhost:8080/"
        },
        "id": "88a02622-5569-49ab-9228-cf621000f062",
        "outputId": "f71f54a0-122f-4dcf-924d-ba9cba4344b4"
      },
      "outputs": [
        {
          "output_type": "execute_result",
          "data": {
            "text/plain": [
              "1.0"
            ]
          },
          "metadata": {},
          "execution_count": 36
        }
      ],
      "source": [
        "samp[2]"
      ]
    },
    {
      "cell_type": "code",
      "execution_count": null,
      "id": "64f2b39e-348e-48eb-a09c-2d04f09962ea",
      "metadata": {
        "colab": {
          "base_uri": "https://localhost:8080/"
        },
        "id": "64f2b39e-348e-48eb-a09c-2d04f09962ea",
        "outputId": "b84ddb46-5828-4c3b-c957-d58adad224a3"
      },
      "outputs": [
        {
          "output_type": "execute_result",
          "data": {
            "text/plain": [
              "700"
            ]
          },
          "metadata": {},
          "execution_count": 37
        }
      ],
      "source": [
        "round(len(data)*.7)"
      ]
    },
    {
      "cell_type": "code",
      "execution_count": null,
      "id": "93fbc1da-98d7-4930-8516-f15550af627c",
      "metadata": {
        "colab": {
          "base_uri": "https://localhost:8080/"
        },
        "id": "93fbc1da-98d7-4930-8516-f15550af627c",
        "outputId": "34c85478-39c3-4371-c28d-714b28324b55"
      },
      "outputs": [
        {
          "output_type": "execute_result",
          "data": {
            "text/plain": [
              "<_ShuffleDataset element_spec=(TensorSpec(shape=(105, 105, None), dtype=tf.float32, name=None), TensorSpec(shape=(105, 105, None), dtype=tf.float32, name=None), TensorSpec(shape=(), dtype=tf.float32, name=None))>"
            ]
          },
          "metadata": {},
          "execution_count": 38
        }
      ],
      "source": [
        "data"
      ]
    },
    {
      "cell_type": "code",
      "execution_count": null,
      "id": "6f04000c-e5e2-4332-80fe-0f10d8df826a",
      "metadata": {
        "id": "6f04000c-e5e2-4332-80fe-0f10d8df826a"
      },
      "outputs": [],
      "source": [
        "#membuat traning partisi\n",
        "train_data = data.take(round(len(data)*.7))\n",
        "train_data = train_data.batch(16)\n",
        "train_data = train_data.prefetch(8)"
      ]
    },
    {
      "cell_type": "code",
      "execution_count": null,
      "id": "e8f6d4c6-c225-47e5-8e29-6ce9d20a3109",
      "metadata": {
        "id": "e8f6d4c6-c225-47e5-8e29-6ce9d20a3109"
      },
      "outputs": [],
      "source": [
        "train_samples = train_data.as_numpy_iterator()"
      ]
    },
    {
      "cell_type": "code",
      "execution_count": null,
      "id": "6394b764-d217-42c1-8577-dad8d5b71503",
      "metadata": {
        "id": "6394b764-d217-42c1-8577-dad8d5b71503"
      },
      "outputs": [],
      "source": [
        "train_sample = train_samples.next()"
      ]
    },
    {
      "cell_type": "code",
      "execution_count": null,
      "id": "de2a600a-8cbc-4b65-a98b-a8a8db283d9c",
      "metadata": {
        "colab": {
          "base_uri": "https://localhost:8080/"
        },
        "id": "de2a600a-8cbc-4b65-a98b-a8a8db283d9c",
        "outputId": "ad006fc6-e924-4979-a96c-ef2af4e90726"
      },
      "outputs": [
        {
          "output_type": "execute_result",
          "data": {
            "text/plain": [
              "16"
            ]
          },
          "metadata": {},
          "execution_count": 42
        }
      ],
      "source": [
        "len(train_sample[0])"
      ]
    },
    {
      "cell_type": "code",
      "execution_count": null,
      "id": "925748fb-0bd7-4656-b112-922210c708b8",
      "metadata": {
        "colab": {
          "base_uri": "https://localhost:8080/"
        },
        "id": "925748fb-0bd7-4656-b112-922210c708b8",
        "outputId": "c7463ec7-c40e-45cf-bee8-6beddab7411d"
      },
      "outputs": [
        {
          "output_type": "execute_result",
          "data": {
            "text/plain": [
              "300"
            ]
          },
          "metadata": {},
          "execution_count": 43
        }
      ],
      "source": [
        "round(len(data)*.3)"
      ]
    },
    {
      "cell_type": "code",
      "execution_count": null,
      "id": "42047178-c058-4fb9-a7bb-22c45bde7bcf",
      "metadata": {
        "id": "42047178-c058-4fb9-a7bb-22c45bde7bcf"
      },
      "outputs": [],
      "source": [
        "#membuat testing partisi\n",
        "test_data = data.skip(round(len(data)*.7))\n",
        "test_data = test_data.take(round(len(data)*.3))\n",
        "test_data = test_data.batch(16)\n",
        "test_data = test_data.prefetch(8)"
      ]
    },
    {
      "cell_type": "markdown",
      "id": "90d3ddbe-ce8d-4f4c-a7c2-d15cff9b9595",
      "metadata": {
        "id": "90d3ddbe-ce8d-4f4c-a7c2-d15cff9b9595"
      },
      "source": [
        "# **MODEL ENGINEERING**"
      ]
    },
    {
      "cell_type": "markdown",
      "id": "01e770ff-79d7-45e4-80c7-e915716c3a5a",
      "metadata": {
        "id": "01e770ff-79d7-45e4-80c7-e915716c3a5a"
      },
      "source": [
        "![image.png](attachment:95d04a3c-f50b-4ed5-8dc5-e113ce293365.png)"
      ]
    },
    {
      "cell_type": "code",
      "execution_count": null,
      "id": "f38d02c9-c166-403b-b624-a6290210d61b",
      "metadata": {
        "colab": {
          "base_uri": "https://localhost:8080/"
        },
        "id": "f38d02c9-c166-403b-b624-a6290210d61b",
        "outputId": "0c8742b9-0ffe-4904-a5b2-414373e59ff1"
      },
      "outputs": [
        {
          "output_type": "execute_result",
          "data": {
            "text/plain": [
              "<KerasTensor shape=(None, 105, 105, 3), dtype=float32, sparse=False, name=input_gambar>"
            ]
          },
          "metadata": {},
          "execution_count": 60
        }
      ],
      "source": [
        "inpt = Input(shape=(105,105,3), name='input_gambar')\n",
        "inpt"
      ]
    },
    {
      "cell_type": "code",
      "execution_count": null,
      "id": "c65b62cc-dac4-44b7-b41d-78920b15bd37",
      "metadata": {
        "colab": {
          "base_uri": "https://localhost:8080/"
        },
        "id": "c65b62cc-dac4-44b7-b41d-78920b15bd37",
        "outputId": "4c0ab484-2645-47be-ffd2-4a6755e19f29"
      },
      "outputs": [
        {
          "output_type": "execute_result",
          "data": {
            "text/plain": [
              "<KerasTensor shape=(None, 96, 96, 64), dtype=float32, sparse=False, name=keras_tensor_1>"
            ]
          },
          "metadata": {},
          "execution_count": 61
        }
      ],
      "source": [
        "conv1 = Conv2D(64, (10,10), activation='relu')(inpt)\n",
        "conv1"
      ]
    },
    {
      "cell_type": "code",
      "execution_count": null,
      "id": "35a1dacf-8b52-4092-8048-c335e2aadaf8",
      "metadata": {
        "colab": {
          "base_uri": "https://localhost:8080/"
        },
        "id": "35a1dacf-8b52-4092-8048-c335e2aadaf8",
        "outputId": "01f5be05-cf1c-4786-a172-fe00563b3c62"
      },
      "outputs": [
        {
          "output_type": "execute_result",
          "data": {
            "text/plain": [
              "<KerasTensor shape=(None, 48, 48, 64), dtype=float32, sparse=False, name=keras_tensor_2>"
            ]
          },
          "metadata": {},
          "execution_count": 62
        }
      ],
      "source": [
        "maxp1 = MaxPooling2D(64, (2,2), padding='same')(conv1)\n",
        "maxp1"
      ]
    },
    {
      "cell_type": "code",
      "execution_count": null,
      "id": "f009b97f-bf6b-4eb4-a52f-f04b450de54f",
      "metadata": {
        "colab": {
          "base_uri": "https://localhost:8080/"
        },
        "id": "f009b97f-bf6b-4eb4-a52f-f04b450de54f",
        "outputId": "0f469c21-69c5-438e-c0f2-08c14827cc4d"
      },
      "outputs": [
        {
          "output_type": "execute_result",
          "data": {
            "text/plain": [
              "<KerasTensor shape=(None, 42, 42, 128), dtype=float32, sparse=False, name=keras_tensor_3>"
            ]
          },
          "metadata": {},
          "execution_count": 63
        }
      ],
      "source": [
        "conv2 = Conv2D(128, (7,7), activation='relu')(maxp1)\n",
        "conv2"
      ]
    },
    {
      "cell_type": "code",
      "execution_count": null,
      "id": "8fcbef67-fa6e-461e-9589-e91451381a64",
      "metadata": {
        "colab": {
          "base_uri": "https://localhost:8080/"
        },
        "id": "8fcbef67-fa6e-461e-9589-e91451381a64",
        "outputId": "4739f545-50bf-49c9-e976-1f9679f25152"
      },
      "outputs": [
        {
          "output_type": "execute_result",
          "data": {
            "text/plain": [
              "<KerasTensor shape=(None, 21, 21, 128), dtype=float32, sparse=False, name=keras_tensor_4>"
            ]
          },
          "metadata": {},
          "execution_count": 64
        }
      ],
      "source": [
        "maxp2 = MaxPooling2D(64, (2,2), padding='same')(conv2)\n",
        "maxp2"
      ]
    },
    {
      "cell_type": "code",
      "execution_count": null,
      "id": "cc990c58-e668-4ec1-a44d-4d9c00d697d0",
      "metadata": {
        "colab": {
          "base_uri": "https://localhost:8080/"
        },
        "id": "cc990c58-e668-4ec1-a44d-4d9c00d697d0",
        "outputId": "b724fbd7-aca0-491e-8b7a-70d2d801c222"
      },
      "outputs": [
        {
          "output_type": "execute_result",
          "data": {
            "text/plain": [
              "<KerasTensor shape=(None, 18, 18, 128), dtype=float32, sparse=False, name=keras_tensor_5>"
            ]
          },
          "metadata": {},
          "execution_count": 65
        }
      ],
      "source": [
        "conv3 = Conv2D(128, (4,4), activation='relu')(maxp2)\n",
        "conv3"
      ]
    },
    {
      "cell_type": "code",
      "execution_count": null,
      "id": "a01af346-699f-4acc-b1fe-1f46cdaeb830",
      "metadata": {
        "colab": {
          "base_uri": "https://localhost:8080/"
        },
        "id": "a01af346-699f-4acc-b1fe-1f46cdaeb830",
        "outputId": "fef0abe7-445e-41ac-ec81-119b093d2cc7"
      },
      "outputs": [
        {
          "output_type": "execute_result",
          "data": {
            "text/plain": [
              "<KerasTensor shape=(None, 9, 9, 128), dtype=float32, sparse=False, name=keras_tensor_6>"
            ]
          },
          "metadata": {},
          "execution_count": 66
        }
      ],
      "source": [
        "maxp3 = MaxPooling2D(64, (2,2), padding='same')(conv3)\n",
        "maxp3"
      ]
    },
    {
      "cell_type": "code",
      "execution_count": null,
      "id": "a5fdc087-3009-4067-926a-8c6a2a4762f7",
      "metadata": {
        "colab": {
          "base_uri": "https://localhost:8080/"
        },
        "id": "a5fdc087-3009-4067-926a-8c6a2a4762f7",
        "outputId": "a31bca4e-3c15-4a74-b557-1050b2e6ba48"
      },
      "outputs": [
        {
          "output_type": "execute_result",
          "data": {
            "text/plain": [
              "<KerasTensor shape=(None, 6, 6, 256), dtype=float32, sparse=False, name=keras_tensor_7>"
            ]
          },
          "metadata": {},
          "execution_count": 67
        }
      ],
      "source": [
        "conv4 = Conv2D(256, (4,4), activation='relu')(maxp3)\n",
        "conv4"
      ]
    },
    {
      "cell_type": "code",
      "execution_count": null,
      "id": "7256c82f-8ed2-44e5-82cd-a12403cc6fce",
      "metadata": {
        "colab": {
          "base_uri": "https://localhost:8080/"
        },
        "id": "7256c82f-8ed2-44e5-82cd-a12403cc6fce",
        "outputId": "dde30027-418a-4c6b-c941-915b3f9ecb42"
      },
      "outputs": [
        {
          "output_type": "execute_result",
          "data": {
            "text/plain": [
              "<KerasTensor shape=(None, 9216), dtype=float32, sparse=False, name=keras_tensor_8>"
            ]
          },
          "metadata": {},
          "execution_count": 68
        }
      ],
      "source": [
        "flat1 = Flatten()(conv4)\n",
        "flat1"
      ]
    },
    {
      "cell_type": "code",
      "execution_count": null,
      "id": "16ad792c-2a83-41af-91dc-73bed749d1c1",
      "metadata": {
        "colab": {
          "base_uri": "https://localhost:8080/"
        },
        "id": "16ad792c-2a83-41af-91dc-73bed749d1c1",
        "outputId": "5b8bd375-ee25-4153-b341-9af8512eb46d"
      },
      "outputs": [
        {
          "output_type": "execute_result",
          "data": {
            "text/plain": [
              "<KerasTensor shape=(None, 4096), dtype=float32, sparse=False, name=keras_tensor_9>"
            ]
          },
          "metadata": {},
          "execution_count": 69
        }
      ],
      "source": [
        "dens = Dense(4096, activation='sigmoid')(flat1)\n",
        "dens"
      ]
    },
    {
      "cell_type": "code",
      "execution_count": null,
      "id": "92d9bd2d-8067-4e3e-821b-5b6eebd32b3c",
      "metadata": {
        "colab": {
          "base_uri": "https://localhost:8080/",
          "height": 471
        },
        "id": "92d9bd2d-8067-4e3e-821b-5b6eebd32b3c",
        "outputId": "f685d29c-2807-47c8-f9c2-a96d3db906dd"
      },
      "outputs": [
        {
          "output_type": "display_data",
          "data": {
            "text/plain": [
              "\u001b[1mModel: \"embedding\"\u001b[0m\n"
            ],
            "text/html": [
              "<pre style=\"white-space:pre;overflow-x:auto;line-height:normal;font-family:Menlo,'DejaVu Sans Mono',consolas,'Courier New',monospace\"><span style=\"font-weight: bold\">Model: \"embedding\"</span>\n",
              "</pre>\n"
            ]
          },
          "metadata": {}
        },
        {
          "output_type": "display_data",
          "data": {
            "text/plain": [
              "┏━━━━━━━━━━━━━━━━━━━━━━━━━━━━━━━━━━━━━━┳━━━━━━━━━━━━━━━━━━━━━━━━━━━━━┳━━━━━━━━━━━━━━━━━┓\n",
              "┃\u001b[1m \u001b[0m\u001b[1mLayer (type)                        \u001b[0m\u001b[1m \u001b[0m┃\u001b[1m \u001b[0m\u001b[1mOutput Shape               \u001b[0m\u001b[1m \u001b[0m┃\u001b[1m \u001b[0m\u001b[1m        Param #\u001b[0m\u001b[1m \u001b[0m┃\n",
              "┡━━━━━━━━━━━━━━━━━━━━━━━━━━━━━━━━━━━━━━╇━━━━━━━━━━━━━━━━━━━━━━━━━━━━━╇━━━━━━━━━━━━━━━━━┩\n",
              "│ input_gambar (\u001b[38;5;33mInputLayer\u001b[0m)            │ (\u001b[38;5;45mNone\u001b[0m, \u001b[38;5;34m105\u001b[0m, \u001b[38;5;34m105\u001b[0m, \u001b[38;5;34m3\u001b[0m)         │               \u001b[38;5;34m0\u001b[0m │\n",
              "├──────────────────────────────────────┼─────────────────────────────┼─────────────────┤\n",
              "│ conv2d_3 (\u001b[38;5;33mConv2D\u001b[0m)                    │ (\u001b[38;5;45mNone\u001b[0m, \u001b[38;5;34m96\u001b[0m, \u001b[38;5;34m96\u001b[0m, \u001b[38;5;34m64\u001b[0m)          │          \u001b[38;5;34m19,264\u001b[0m │\n",
              "├──────────────────────────────────────┼─────────────────────────────┼─────────────────┤\n",
              "│ max_pooling2d_2 (\u001b[38;5;33mMaxPooling2D\u001b[0m)       │ (\u001b[38;5;45mNone\u001b[0m, \u001b[38;5;34m48\u001b[0m, \u001b[38;5;34m48\u001b[0m, \u001b[38;5;34m64\u001b[0m)          │               \u001b[38;5;34m0\u001b[0m │\n",
              "├──────────────────────────────────────┼─────────────────────────────┼─────────────────┤\n",
              "│ conv2d_4 (\u001b[38;5;33mConv2D\u001b[0m)                    │ (\u001b[38;5;45mNone\u001b[0m, \u001b[38;5;34m42\u001b[0m, \u001b[38;5;34m42\u001b[0m, \u001b[38;5;34m128\u001b[0m)         │         \u001b[38;5;34m401,536\u001b[0m │\n",
              "├──────────────────────────────────────┼─────────────────────────────┼─────────────────┤\n",
              "│ max_pooling2d_3 (\u001b[38;5;33mMaxPooling2D\u001b[0m)       │ (\u001b[38;5;45mNone\u001b[0m, \u001b[38;5;34m21\u001b[0m, \u001b[38;5;34m21\u001b[0m, \u001b[38;5;34m128\u001b[0m)         │               \u001b[38;5;34m0\u001b[0m │\n",
              "├──────────────────────────────────────┼─────────────────────────────┼─────────────────┤\n",
              "│ conv2d_5 (\u001b[38;5;33mConv2D\u001b[0m)                    │ (\u001b[38;5;45mNone\u001b[0m, \u001b[38;5;34m18\u001b[0m, \u001b[38;5;34m18\u001b[0m, \u001b[38;5;34m128\u001b[0m)         │         \u001b[38;5;34m262,272\u001b[0m │\n",
              "├──────────────────────────────────────┼─────────────────────────────┼─────────────────┤\n",
              "│ max_pooling2d_4 (\u001b[38;5;33mMaxPooling2D\u001b[0m)       │ (\u001b[38;5;45mNone\u001b[0m, \u001b[38;5;34m9\u001b[0m, \u001b[38;5;34m9\u001b[0m, \u001b[38;5;34m128\u001b[0m)           │               \u001b[38;5;34m0\u001b[0m │\n",
              "├──────────────────────────────────────┼─────────────────────────────┼─────────────────┤\n",
              "│ conv2d_6 (\u001b[38;5;33mConv2D\u001b[0m)                    │ (\u001b[38;5;45mNone\u001b[0m, \u001b[38;5;34m6\u001b[0m, \u001b[38;5;34m6\u001b[0m, \u001b[38;5;34m256\u001b[0m)           │         \u001b[38;5;34m524,544\u001b[0m │\n",
              "├──────────────────────────────────────┼─────────────────────────────┼─────────────────┤\n",
              "│ flatten (\u001b[38;5;33mFlatten\u001b[0m)                    │ (\u001b[38;5;45mNone\u001b[0m, \u001b[38;5;34m9216\u001b[0m)                │               \u001b[38;5;34m0\u001b[0m │\n",
              "├──────────────────────────────────────┼─────────────────────────────┼─────────────────┤\n",
              "│ dense (\u001b[38;5;33mDense\u001b[0m)                        │ (\u001b[38;5;45mNone\u001b[0m, \u001b[38;5;34m4096\u001b[0m)                │      \u001b[38;5;34m37,752,832\u001b[0m │\n",
              "└──────────────────────────────────────┴─────────────────────────────┴─────────────────┘\n"
            ],
            "text/html": [
              "<pre style=\"white-space:pre;overflow-x:auto;line-height:normal;font-family:Menlo,'DejaVu Sans Mono',consolas,'Courier New',monospace\">┏━━━━━━━━━━━━━━━━━━━━━━━━━━━━━━━━━━━━━━┳━━━━━━━━━━━━━━━━━━━━━━━━━━━━━┳━━━━━━━━━━━━━━━━━┓\n",
              "┃<span style=\"font-weight: bold\"> Layer (type)                         </span>┃<span style=\"font-weight: bold\"> Output Shape                </span>┃<span style=\"font-weight: bold\">         Param # </span>┃\n",
              "┡━━━━━━━━━━━━━━━━━━━━━━━━━━━━━━━━━━━━━━╇━━━━━━━━━━━━━━━━━━━━━━━━━━━━━╇━━━━━━━━━━━━━━━━━┩\n",
              "│ input_gambar (<span style=\"color: #0087ff; text-decoration-color: #0087ff\">InputLayer</span>)            │ (<span style=\"color: #00d7ff; text-decoration-color: #00d7ff\">None</span>, <span style=\"color: #00af00; text-decoration-color: #00af00\">105</span>, <span style=\"color: #00af00; text-decoration-color: #00af00\">105</span>, <span style=\"color: #00af00; text-decoration-color: #00af00\">3</span>)         │               <span style=\"color: #00af00; text-decoration-color: #00af00\">0</span> │\n",
              "├──────────────────────────────────────┼─────────────────────────────┼─────────────────┤\n",
              "│ conv2d_3 (<span style=\"color: #0087ff; text-decoration-color: #0087ff\">Conv2D</span>)                    │ (<span style=\"color: #00d7ff; text-decoration-color: #00d7ff\">None</span>, <span style=\"color: #00af00; text-decoration-color: #00af00\">96</span>, <span style=\"color: #00af00; text-decoration-color: #00af00\">96</span>, <span style=\"color: #00af00; text-decoration-color: #00af00\">64</span>)          │          <span style=\"color: #00af00; text-decoration-color: #00af00\">19,264</span> │\n",
              "├──────────────────────────────────────┼─────────────────────────────┼─────────────────┤\n",
              "│ max_pooling2d_2 (<span style=\"color: #0087ff; text-decoration-color: #0087ff\">MaxPooling2D</span>)       │ (<span style=\"color: #00d7ff; text-decoration-color: #00d7ff\">None</span>, <span style=\"color: #00af00; text-decoration-color: #00af00\">48</span>, <span style=\"color: #00af00; text-decoration-color: #00af00\">48</span>, <span style=\"color: #00af00; text-decoration-color: #00af00\">64</span>)          │               <span style=\"color: #00af00; text-decoration-color: #00af00\">0</span> │\n",
              "├──────────────────────────────────────┼─────────────────────────────┼─────────────────┤\n",
              "│ conv2d_4 (<span style=\"color: #0087ff; text-decoration-color: #0087ff\">Conv2D</span>)                    │ (<span style=\"color: #00d7ff; text-decoration-color: #00d7ff\">None</span>, <span style=\"color: #00af00; text-decoration-color: #00af00\">42</span>, <span style=\"color: #00af00; text-decoration-color: #00af00\">42</span>, <span style=\"color: #00af00; text-decoration-color: #00af00\">128</span>)         │         <span style=\"color: #00af00; text-decoration-color: #00af00\">401,536</span> │\n",
              "├──────────────────────────────────────┼─────────────────────────────┼─────────────────┤\n",
              "│ max_pooling2d_3 (<span style=\"color: #0087ff; text-decoration-color: #0087ff\">MaxPooling2D</span>)       │ (<span style=\"color: #00d7ff; text-decoration-color: #00d7ff\">None</span>, <span style=\"color: #00af00; text-decoration-color: #00af00\">21</span>, <span style=\"color: #00af00; text-decoration-color: #00af00\">21</span>, <span style=\"color: #00af00; text-decoration-color: #00af00\">128</span>)         │               <span style=\"color: #00af00; text-decoration-color: #00af00\">0</span> │\n",
              "├──────────────────────────────────────┼─────────────────────────────┼─────────────────┤\n",
              "│ conv2d_5 (<span style=\"color: #0087ff; text-decoration-color: #0087ff\">Conv2D</span>)                    │ (<span style=\"color: #00d7ff; text-decoration-color: #00d7ff\">None</span>, <span style=\"color: #00af00; text-decoration-color: #00af00\">18</span>, <span style=\"color: #00af00; text-decoration-color: #00af00\">18</span>, <span style=\"color: #00af00; text-decoration-color: #00af00\">128</span>)         │         <span style=\"color: #00af00; text-decoration-color: #00af00\">262,272</span> │\n",
              "├──────────────────────────────────────┼─────────────────────────────┼─────────────────┤\n",
              "│ max_pooling2d_4 (<span style=\"color: #0087ff; text-decoration-color: #0087ff\">MaxPooling2D</span>)       │ (<span style=\"color: #00d7ff; text-decoration-color: #00d7ff\">None</span>, <span style=\"color: #00af00; text-decoration-color: #00af00\">9</span>, <span style=\"color: #00af00; text-decoration-color: #00af00\">9</span>, <span style=\"color: #00af00; text-decoration-color: #00af00\">128</span>)           │               <span style=\"color: #00af00; text-decoration-color: #00af00\">0</span> │\n",
              "├──────────────────────────────────────┼─────────────────────────────┼─────────────────┤\n",
              "│ conv2d_6 (<span style=\"color: #0087ff; text-decoration-color: #0087ff\">Conv2D</span>)                    │ (<span style=\"color: #00d7ff; text-decoration-color: #00d7ff\">None</span>, <span style=\"color: #00af00; text-decoration-color: #00af00\">6</span>, <span style=\"color: #00af00; text-decoration-color: #00af00\">6</span>, <span style=\"color: #00af00; text-decoration-color: #00af00\">256</span>)           │         <span style=\"color: #00af00; text-decoration-color: #00af00\">524,544</span> │\n",
              "├──────────────────────────────────────┼─────────────────────────────┼─────────────────┤\n",
              "│ flatten (<span style=\"color: #0087ff; text-decoration-color: #0087ff\">Flatten</span>)                    │ (<span style=\"color: #00d7ff; text-decoration-color: #00d7ff\">None</span>, <span style=\"color: #00af00; text-decoration-color: #00af00\">9216</span>)                │               <span style=\"color: #00af00; text-decoration-color: #00af00\">0</span> │\n",
              "├──────────────────────────────────────┼─────────────────────────────┼─────────────────┤\n",
              "│ dense (<span style=\"color: #0087ff; text-decoration-color: #0087ff\">Dense</span>)                        │ (<span style=\"color: #00d7ff; text-decoration-color: #00d7ff\">None</span>, <span style=\"color: #00af00; text-decoration-color: #00af00\">4096</span>)                │      <span style=\"color: #00af00; text-decoration-color: #00af00\">37,752,832</span> │\n",
              "└──────────────────────────────────────┴─────────────────────────────┴─────────────────┘\n",
              "</pre>\n"
            ]
          },
          "metadata": {}
        },
        {
          "output_type": "display_data",
          "data": {
            "text/plain": [
              "\u001b[1m Total params: \u001b[0m\u001b[38;5;34m38,960,448\u001b[0m (148.62 MB)\n"
            ],
            "text/html": [
              "<pre style=\"white-space:pre;overflow-x:auto;line-height:normal;font-family:Menlo,'DejaVu Sans Mono',consolas,'Courier New',monospace\"><span style=\"font-weight: bold\"> Total params: </span><span style=\"color: #00af00; text-decoration-color: #00af00\">38,960,448</span> (148.62 MB)\n",
              "</pre>\n"
            ]
          },
          "metadata": {}
        },
        {
          "output_type": "display_data",
          "data": {
            "text/plain": [
              "\u001b[1m Trainable params: \u001b[0m\u001b[38;5;34m38,960,448\u001b[0m (148.62 MB)\n"
            ],
            "text/html": [
              "<pre style=\"white-space:pre;overflow-x:auto;line-height:normal;font-family:Menlo,'DejaVu Sans Mono',consolas,'Courier New',monospace\"><span style=\"font-weight: bold\"> Trainable params: </span><span style=\"color: #00af00; text-decoration-color: #00af00\">38,960,448</span> (148.62 MB)\n",
              "</pre>\n"
            ]
          },
          "metadata": {}
        },
        {
          "output_type": "display_data",
          "data": {
            "text/plain": [
              "\u001b[1m Non-trainable params: \u001b[0m\u001b[38;5;34m0\u001b[0m (0.00 B)\n"
            ],
            "text/html": [
              "<pre style=\"white-space:pre;overflow-x:auto;line-height:normal;font-family:Menlo,'DejaVu Sans Mono',consolas,'Courier New',monospace\"><span style=\"font-weight: bold\"> Non-trainable params: </span><span style=\"color: #00af00; text-decoration-color: #00af00\">0</span> (0.00 B)\n",
              "</pre>\n"
            ]
          },
          "metadata": {}
        }
      ],
      "source": [
        "mod = Model(inputs=[inpt], outputs=[dens], name='embedding')\n",
        "mod.summary()"
      ]
    },
    {
      "cell_type": "code",
      "execution_count": null,
      "id": "2a08a67b-41bf-4ae2-a987-db9c07bd1898",
      "metadata": {
        "id": "2a08a67b-41bf-4ae2-a987-db9c07bd1898"
      },
      "outputs": [],
      "source": [
        "#membuat embedding layer\n",
        "def make_embedding():\n",
        "    inpt = Input(shape=(105,105,3), name='input_gambar')\n",
        "\n",
        "    #blok pertama\n",
        "    conv1 = Conv2D(64, (10,10), activation='relu')(inpt)\n",
        "    maxp1 = MaxPooling2D(64, (2,2), padding='same')(conv1)\n",
        "\n",
        "    #blok pertama\n",
        "    conv2 = Conv2D(128, (7,7), activation='relu')(maxp1)\n",
        "    maxp2 = MaxPooling2D(64, (2,2), padding='same')(conv2)\n",
        "\n",
        "    #blok pertama\n",
        "    conv3 = Conv2D(128, (4,4), activation='relu')(maxp2)\n",
        "    maxp3 = MaxPooling2D(64, (2,2), padding='same')(conv3)\n",
        "\n",
        "    #final embedding blok\n",
        "    conv4 = Conv2D(256, (4,4), activation='relu')(maxp3)\n",
        "    flat1 = Flatten()(conv4)\n",
        "    dens = Dense(4096, activation='sigmoid')(flat1)\n",
        "\n",
        "    return Model(inputs=[inpt], outputs=[dens], name='embedding')"
      ]
    },
    {
      "cell_type": "code",
      "execution_count": null,
      "id": "5c1c61d9-a4ec-4daf-b496-b16267bb3333",
      "metadata": {
        "id": "5c1c61d9-a4ec-4daf-b496-b16267bb3333"
      },
      "outputs": [],
      "source": [
        "embedding = make_embedding()"
      ]
    },
    {
      "cell_type": "code",
      "execution_count": null,
      "id": "fc24cc09-bc62-48ed-87d9-83ca9c60bd15",
      "metadata": {
        "colab": {
          "base_uri": "https://localhost:8080/"
        },
        "id": "fc24cc09-bc62-48ed-87d9-83ca9c60bd15",
        "outputId": "df56facf-d570-4d5d-ee8a-d7034aadba1a"
      },
      "outputs": [
        {
          "output_type": "stream",
          "name": "stdout",
          "text": [
            "Model: \"embedding\"\n",
            "_________________________________________________________________\n",
            " Layer (type)                Output Shape              Param #   \n",
            "=================================================================\n",
            " input_gambar (InputLayer)   [(None, 105, 105, 3)]     0         \n",
            "                                                                 \n",
            " conv2d_4 (Conv2D)           (None, 96, 96, 64)        19264     \n",
            "                                                                 \n",
            " max_pooling2d_3 (MaxPoolin  (None, 48, 48, 64)        0         \n",
            " g2D)                                                            \n",
            "                                                                 \n",
            " conv2d_5 (Conv2D)           (None, 42, 42, 128)       401536    \n",
            "                                                                 \n",
            " max_pooling2d_4 (MaxPoolin  (None, 21, 21, 128)       0         \n",
            " g2D)                                                            \n",
            "                                                                 \n",
            " conv2d_6 (Conv2D)           (None, 18, 18, 128)       262272    \n",
            "                                                                 \n",
            " max_pooling2d_5 (MaxPoolin  (None, 9, 9, 128)         0         \n",
            " g2D)                                                            \n",
            "                                                                 \n",
            " conv2d_7 (Conv2D)           (None, 6, 6, 256)         524544    \n",
            "                                                                 \n",
            " flatten_1 (Flatten)         (None, 9216)              0         \n",
            "                                                                 \n",
            " dense_2 (Dense)             (None, 4096)              37752832  \n",
            "                                                                 \n",
            "=================================================================\n",
            "Total params: 38960448 (148.62 MB)\n",
            "Trainable params: 38960448 (148.62 MB)\n",
            "Non-trainable params: 0 (0.00 Byte)\n",
            "_________________________________________________________________\n"
          ]
        }
      ],
      "source": [
        "embedding.summary()"
      ]
    },
    {
      "cell_type": "code",
      "execution_count": null,
      "id": "18041447-c4cf-4f4b-8038-69a25f8ea031",
      "metadata": {
        "id": "18041447-c4cf-4f4b-8038-69a25f8ea031"
      },
      "outputs": [],
      "source": [
        "class L1Dist(tf.keras.layers.Layer):\n",
        "    def __init__(self, **kwargs):\n",
        "        # Pass any additional keyword arguments to the base Layer class\n",
        "        super(L1Dist, self).__init__(**kwargs)\n",
        "\n",
        "    def call(self, input_embedding, validation_embedding):\n",
        "        # Ensure embeddings are single tensors if wrapped in lists\n",
        "        input_embedding = input_embedding[0] if isinstance(input_embedding, list) else input_embedding\n",
        "        validation_embedding = validation_embedding[0] if isinstance(validation_embedding, list) else validation_embedding\n",
        "\n",
        "        # Compute the L1 distance\n",
        "        return tf.math.abs(input_embedding - validation_embedding)"
      ]
    },
    {
      "cell_type": "code",
      "execution_count": null,
      "id": "130393d8-f9be-4779-b88a-bf7aa48c60f3",
      "metadata": {
        "colab": {
          "base_uri": "https://localhost:8080/",
          "height": 141
        },
        "id": "130393d8-f9be-4779-b88a-bf7aa48c60f3",
        "outputId": "2d49b66f-8e44-4dac-f382-0b37882b3b73"
      },
      "outputs": [
        {
          "output_type": "error",
          "ename": "NameError",
          "evalue": "name 'l1' is not defined",
          "traceback": [
            "\u001b[0;31m---------------------------------------------------------------------------\u001b[0m",
            "\u001b[0;31mNameError\u001b[0m                                 Traceback (most recent call last)",
            "\u001b[0;32m<ipython-input-76-6cf485bc2797>\u001b[0m in \u001b[0;36m<cell line: 1>\u001b[0;34m()\u001b[0m\n\u001b[0;32m----> 1\u001b[0;31m \u001b[0ml1\u001b[0m\u001b[0;34m\u001b[0m\u001b[0;34m\u001b[0m\u001b[0m\n\u001b[0m",
            "\u001b[0;31mNameError\u001b[0m: name 'l1' is not defined"
          ]
        }
      ],
      "source": [
        "l1"
      ]
    },
    {
      "cell_type": "code",
      "execution_count": null,
      "id": "5e48090b-8ab4-4054-b5d4-79cd2ecbddd4",
      "metadata": {
        "id": "5e48090b-8ab4-4054-b5d4-79cd2ecbddd4"
      },
      "outputs": [],
      "source": [
        "# l1(anchor_embedding, val_embedding)"
      ]
    },
    {
      "cell_type": "markdown",
      "id": "f7d0cebf-9cc6-4333-961d-7a6bba54adb0",
      "metadata": {
        "id": "f7d0cebf-9cc6-4333-961d-7a6bba54adb0"
      },
      "source": [
        "# **Membuat Model Siamese**"
      ]
    },
    {
      "cell_type": "code",
      "execution_count": null,
      "id": "5da6d4c5-7846-476f-a663-cd9524d28cf0",
      "metadata": {
        "id": "5da6d4c5-7846-476f-a663-cd9524d28cf0"
      },
      "outputs": [],
      "source": [
        "input_image = Input(name='input_img', shape=(105,105,3))\n",
        "val_image = Input(name='val_img', shape=(105,105,3))"
      ]
    },
    {
      "cell_type": "code",
      "execution_count": null,
      "id": "1fb1b6b3-add1-4962-8363-2c09379586f5",
      "metadata": {
        "id": "1fb1b6b3-add1-4962-8363-2c09379586f5"
      },
      "outputs": [],
      "source": [
        "inp_embedding = embedding(input_image)\n",
        "val_embedding = embedding(val_image)"
      ]
    },
    {
      "cell_type": "code",
      "execution_count": null,
      "id": "ed88603d-2268-4173-99be-9f0d16e97352",
      "metadata": {
        "colab": {
          "base_uri": "https://localhost:8080/"
        },
        "id": "ed88603d-2268-4173-99be-9f0d16e97352",
        "outputId": "9b58bc9d-631e-4063-8efe-49086c1a55b0"
      },
      "outputs": [
        {
          "output_type": "execute_result",
          "data": {
            "text/plain": [
              "<KerasTensor: shape=(None, 4096) dtype=float32 (created by layer 'embedding')>"
            ]
          },
          "metadata": {},
          "execution_count": 59
        }
      ],
      "source": [
        "inp_embedding"
      ]
    },
    {
      "cell_type": "code",
      "execution_count": null,
      "id": "6ebd412a-0220-4dda-8402-008ba1fd8704",
      "metadata": {
        "colab": {
          "base_uri": "https://localhost:8080/"
        },
        "id": "6ebd412a-0220-4dda-8402-008ba1fd8704",
        "outputId": "00c05c2a-eaf9-4d2c-e914-b7213af4ca3f"
      },
      "outputs": [
        {
          "output_type": "execute_result",
          "data": {
            "text/plain": [
              "<KerasTensor: shape=(None, 4096) dtype=float32 (created by layer 'embedding')>"
            ]
          },
          "metadata": {},
          "execution_count": 60
        }
      ],
      "source": [
        "val_embedding"
      ]
    },
    {
      "cell_type": "code",
      "execution_count": null,
      "id": "ce0d6337-3981-4f88-a552-20924186c0ec",
      "metadata": {
        "id": "ce0d6337-3981-4f88-a552-20924186c0ec"
      },
      "outputs": [],
      "source": [
        "siamese_layer = L1Dist()"
      ]
    },
    {
      "cell_type": "code",
      "execution_count": null,
      "id": "41bffa6c-f31b-4c17-b91b-cd0236581130",
      "metadata": {
        "id": "41bffa6c-f31b-4c17-b91b-cd0236581130"
      },
      "outputs": [],
      "source": [
        "distances = siamese_layer(inp_embedding, val_embedding)"
      ]
    },
    {
      "cell_type": "code",
      "execution_count": null,
      "id": "44abe476-a761-4453-83f5-fdc004983ddc",
      "metadata": {
        "colab": {
          "base_uri": "https://localhost:8080/"
        },
        "id": "44abe476-a761-4453-83f5-fdc004983ddc",
        "outputId": "ee95898f-4b0c-4d50-d846-54956f641e51"
      },
      "outputs": [
        {
          "output_type": "execute_result",
          "data": {
            "text/plain": [
              "<KerasTensor: shape=(None, 1) dtype=float32 (created by layer 'dense_1')>"
            ]
          },
          "metadata": {},
          "execution_count": 64
        }
      ],
      "source": [
        "classifier = Dense(1, activation='sigmoid')(distances)\n",
        "classifier"
      ]
    },
    {
      "cell_type": "code",
      "execution_count": null,
      "id": "3c058063-a659-4765-9cb3-e2c86902dff8",
      "metadata": {
        "id": "3c058063-a659-4765-9cb3-e2c86902dff8"
      },
      "outputs": [],
      "source": [
        "siamese_network = Model(inputs=[input_image, val_image], outputs=classifier, name='SiameseNetwork')"
      ]
    },
    {
      "cell_type": "code",
      "execution_count": null,
      "id": "a2ae2fab-e83e-4af6-8f94-6079f5dc88a6",
      "metadata": {
        "colab": {
          "base_uri": "https://localhost:8080/"
        },
        "id": "a2ae2fab-e83e-4af6-8f94-6079f5dc88a6",
        "outputId": "7f1e666e-aca4-4bbf-e8af-e1de54961fcc"
      },
      "outputs": [
        {
          "output_type": "stream",
          "name": "stdout",
          "text": [
            "Model: \"SiameseNetwork\"\n",
            "__________________________________________________________________________________________________\n",
            " Layer (type)                Output Shape                 Param #   Connected to                  \n",
            "==================================================================================================\n",
            " input_img (InputLayer)      [(None, 105, 105, 3)]        0         []                            \n",
            "                                                                                                  \n",
            " val_img (InputLayer)        [(None, 105, 105, 3)]        0         []                            \n",
            "                                                                                                  \n",
            " embedding (Functional)      (None, 4096)                 3896044   ['input_img[0][0]',           \n",
            "                                                          8          'val_img[0][0]']             \n",
            "                                                                                                  \n",
            " l1_dist_5 (L1Dist)          (None, 4096)                 0         ['embedding[0][0]',           \n",
            "                                                                     'embedding[1][0]']           \n",
            "                                                                                                  \n",
            " dense_1 (Dense)             (None, 1)                    4097      ['l1_dist_5[0][0]']           \n",
            "                                                                                                  \n",
            "==================================================================================================\n",
            "Total params: 38964545 (148.64 MB)\n",
            "Trainable params: 38964545 (148.64 MB)\n",
            "Non-trainable params: 0 (0.00 Byte)\n",
            "__________________________________________________________________________________________________\n"
          ]
        }
      ],
      "source": [
        "siamese_network.summary()"
      ]
    },
    {
      "cell_type": "code",
      "execution_count": null,
      "id": "77e3e15a-18d0-4a50-8ded-5a1e91ffa3cc",
      "metadata": {
        "id": "77e3e15a-18d0-4a50-8ded-5a1e91ffa3cc"
      },
      "outputs": [],
      "source": [
        "def make_siamese_model():\n",
        "    # Handle input\n",
        "    input_image = Input(name='input_img', shape=(105, 105, 3))\n",
        "    val_image = Input(name='val_img', shape=(105, 105, 3))\n",
        "\n",
        "    # Siamese distance calculation\n",
        "    siamese_layer = L1Dist(name='distance')  # Set the name during initialization\n",
        "    distances = siamese_layer(embedding(input_image), embedding(val_image))\n",
        "\n",
        "    # Classification layer\n",
        "    classifier = Dense(1, activation='sigmoid')(distances)\n",
        "\n",
        "    # Create and return the model\n",
        "    return Model(inputs=[input_image, val_image], outputs=classifier, name='SiameseNetwork')"
      ]
    },
    {
      "cell_type": "code",
      "execution_count": null,
      "id": "bf4c28a3-a8fa-4b73-a5a4-849a163464b0",
      "metadata": {
        "id": "bf4c28a3-a8fa-4b73-a5a4-849a163464b0"
      },
      "outputs": [],
      "source": [
        "siamese_model = make_siamese_model()"
      ]
    },
    {
      "cell_type": "code",
      "execution_count": null,
      "id": "11aa94bf-7890-4102-b2bd-bdeba53b1329",
      "metadata": {
        "colab": {
          "base_uri": "https://localhost:8080/"
        },
        "id": "11aa94bf-7890-4102-b2bd-bdeba53b1329",
        "outputId": "b2e47ed4-859a-42cb-b4f8-fb3d89d73d46"
      },
      "outputs": [
        {
          "output_type": "stream",
          "name": "stdout",
          "text": [
            "Model: \"SiameseNetwork\"\n",
            "__________________________________________________________________________________________________\n",
            " Layer (type)                Output Shape                 Param #   Connected to                  \n",
            "==================================================================================================\n",
            " input_img (InputLayer)      [(None, 105, 105, 3)]        0         []                            \n",
            "                                                                                                  \n",
            " val_img (InputLayer)        [(None, 105, 105, 3)]        0         []                            \n",
            "                                                                                                  \n",
            " embedding (Functional)      (None, 4096)                 3896044   ['input_img[0][0]',           \n",
            "                                                          8          'val_img[0][0]']             \n",
            "                                                                                                  \n",
            " distance (L1Dist)           (None, 4096)                 0         ['embedding[0][0]',           \n",
            "                                                                     'embedding[1][0]']           \n",
            "                                                                                                  \n",
            " dense_3 (Dense)             (None, 1)                    4097      ['distance[0][0]']            \n",
            "                                                                                                  \n",
            "==================================================================================================\n",
            "Total params: 38964545 (148.64 MB)\n",
            "Trainable params: 38964545 (148.64 MB)\n",
            "Non-trainable params: 0 (0.00 Byte)\n",
            "__________________________________________________________________________________________________\n"
          ]
        }
      ],
      "source": [
        "siamese_model.summary()"
      ]
    },
    {
      "cell_type": "markdown",
      "id": "288b4aa1-4f71-4fde-9f10-9c6a02aea082",
      "metadata": {
        "id": "288b4aa1-4f71-4fde-9f10-9c6a02aea082"
      },
      "source": [
        "# **TRAINING**"
      ]
    },
    {
      "cell_type": "markdown",
      "id": "41a89924-541b-499c-88c3-bfb33e221f1b",
      "metadata": {
        "id": "41a89924-541b-499c-88c3-bfb33e221f1b"
      },
      "source": [
        "Setup loss dan optimized"
      ]
    },
    {
      "cell_type": "code",
      "execution_count": null,
      "id": "3084ae23-2e03-4881-9052-fb51c1f01893",
      "metadata": {
        "id": "3084ae23-2e03-4881-9052-fb51c1f01893"
      },
      "outputs": [],
      "source": [
        "binary_cross_loss = tf.losses.BinaryCrossentropy()"
      ]
    },
    {
      "cell_type": "code",
      "execution_count": null,
      "id": "d9902a6e-5644-4d18-ac6b-f6a5c21f76f8",
      "metadata": {
        "id": "d9902a6e-5644-4d18-ac6b-f6a5c21f76f8"
      },
      "outputs": [],
      "source": [
        "opt = tf.keras.optimizers.Adam(1e-4)"
      ]
    },
    {
      "cell_type": "markdown",
      "id": "53a427f0-b04b-43c5-a0b9-5b41c1e4cda1",
      "metadata": {
        "id": "53a427f0-b04b-43c5-a0b9-5b41c1e4cda1"
      },
      "source": [
        "Establish Checkpoints"
      ]
    },
    {
      "cell_type": "code",
      "execution_count": null,
      "id": "e6a7d7ee-d165-43d8-b4bf-685909857710",
      "metadata": {
        "id": "e6a7d7ee-d165-43d8-b4bf-685909857710"
      },
      "outputs": [],
      "source": [
        "checkpoint_dir = './training_checkpoints'\n",
        "checkpoint_prefix = os.path.join(checkpoint_dir, 'ckpt')\n",
        "checkpoint = tf.train.Checkpoint(opt=opt, siamese_model=siamese_model)"
      ]
    },
    {
      "cell_type": "markdown",
      "id": "072da2c8-6f66-48f3-8bec-9fe89e6d6899",
      "metadata": {
        "id": "072da2c8-6f66-48f3-8bec-9fe89e6d6899"
      },
      "source": [
        "Build Train Step Function"
      ]
    },
    {
      "cell_type": "code",
      "execution_count": null,
      "id": "021f450a-5aee-4661-8251-4773fbdcb9ba",
      "metadata": {
        "id": "021f450a-5aee-4661-8251-4773fbdcb9ba"
      },
      "outputs": [],
      "source": [
        "test_batch = train_data.as_numpy_iterator()"
      ]
    },
    {
      "cell_type": "code",
      "execution_count": null,
      "id": "50cfa483-2ba5-4637-a2a5-eb11556a0ce6",
      "metadata": {
        "id": "50cfa483-2ba5-4637-a2a5-eb11556a0ce6"
      },
      "outputs": [],
      "source": [
        "batch_1 = test_batch.next()"
      ]
    },
    {
      "cell_type": "code",
      "execution_count": null,
      "id": "4531a825-bce8-4904-b3d7-65deef5dfc85",
      "metadata": {
        "colab": {
          "base_uri": "https://localhost:8080/"
        },
        "id": "4531a825-bce8-4904-b3d7-65deef5dfc85",
        "outputId": "21252f4b-40c9-425c-d73d-f9ad146039c9"
      },
      "outputs": [
        {
          "output_type": "execute_result",
          "data": {
            "text/plain": [
              "3"
            ]
          },
          "metadata": {},
          "execution_count": 86
        }
      ],
      "source": [
        "len(batch_1)"
      ]
    },
    {
      "cell_type": "code",
      "execution_count": null,
      "id": "7f00f973-45cf-4c23-9c2c-d3de03354fa1",
      "metadata": {
        "colab": {
          "base_uri": "https://localhost:8080/"
        },
        "id": "7f00f973-45cf-4c23-9c2c-d3de03354fa1",
        "outputId": "16d31089-b2d6-4638-b424-1786b08b567b"
      },
      "outputs": [
        {
          "output_type": "execute_result",
          "data": {
            "text/plain": [
              "(2, 16, 105, 105, 3)"
            ]
          },
          "metadata": {},
          "execution_count": 87
        }
      ],
      "source": [
        "X = batch_1[:2]\n",
        "np.array(X).shape"
      ]
    },
    {
      "cell_type": "code",
      "execution_count": null,
      "id": "8413151b-f696-44d1-a86a-f7070a9c349f",
      "metadata": {
        "id": "8413151b-f696-44d1-a86a-f7070a9c349f"
      },
      "outputs": [],
      "source": [
        "y = batch_1[2]"
      ]
    },
    {
      "cell_type": "code",
      "execution_count": null,
      "id": "a4bbaf45-f114-4a2e-bb9e-04294b558872",
      "metadata": {
        "colab": {
          "base_uri": "https://localhost:8080/"
        },
        "id": "a4bbaf45-f114-4a2e-bb9e-04294b558872",
        "outputId": "0c3b56a4-ccde-4bc1-e8d1-8c524ed3cbbe"
      },
      "outputs": [
        {
          "output_type": "execute_result",
          "data": {
            "text/plain": [
              "array([1., 1., 1., 0., 0., 0., 1., 1., 1., 0., 1., 1., 0., 1., 0., 1.],\n",
              "      dtype=float32)"
            ]
          },
          "metadata": {},
          "execution_count": 89
        }
      ],
      "source": [
        "y"
      ]
    },
    {
      "cell_type": "code",
      "execution_count": null,
      "id": "144f6359-9b27-4fe9-9132-9722ffe606e2",
      "metadata": {
        "id": "144f6359-9b27-4fe9-9132-9722ffe606e2"
      },
      "outputs": [],
      "source": [
        "@tf.function\n",
        "def train_step(batch):\n",
        "    with tf.GradientTape() as tape:\n",
        "        # Ambil anchor dan positif/negatif gambar\n",
        "        x = batch[:2]  # x[0] is the input image, x[1] is the validation image\n",
        "        y = batch[2]   # y is the label (1 for similar, 0 for dissimilar)\n",
        "\n",
        "        # Forward pass: Lakukan prediksi dengan model Siamese\n",
        "        yhat = siamese_model(x, training=True)\n",
        "\n",
        "        # Kalkulasi loss: Menggunakan binary cross-entropy loss\n",
        "        loss = tf.keras.losses.BinaryCrossentropy()(y, yhat)\n",
        "\n",
        "    print(\"Loss:\", loss)\n",
        "\n",
        "    # Kalkulasi gradients\n",
        "    grad = tape.gradient(loss, siamese_model.trainable_variables)\n",
        "\n",
        "    # Update weights dan terapkan ke siamese model\n",
        "    opt.apply_gradients(zip(grad, siamese_model.trainable_variables))\n",
        "\n",
        "    # Return loss untuk monitoring\n",
        "    return loss"
      ]
    },
    {
      "cell_type": "markdown",
      "id": "79b53bed-bd0a-470e-9133-2d795f48a991",
      "metadata": {
        "id": "79b53bed-bd0a-470e-9133-2d795f48a991"
      },
      "source": [
        "building training loop"
      ]
    },
    {
      "cell_type": "code",
      "execution_count": null,
      "id": "dda6abb4-31b3-40c8-b0b1-b12c2de876d4",
      "metadata": {
        "id": "dda6abb4-31b3-40c8-b0b1-b12c2de876d4"
      },
      "outputs": [],
      "source": [
        "def train(data, EPOCHS):\n",
        "    for epoch in range(1, EPOCHS+1):\n",
        "        print('\\n Epoch {}/{}'.format(epoch, EPOCHS))\n",
        "        progbar = tf.keras.utils.Progbar(len(data))\n",
        "\n",
        "        for idx, batch in enumerate(data):\n",
        "            # Run train step here\n",
        "            train_step(batch)\n",
        "            progbar.update(idx+1)\n",
        "\n",
        "        # Save checkpoints\n",
        "        if epoch % 10 == 0:\n",
        "            checkpoint.save(file_prefix=checkpoint_prefix)"
      ]
    },
    {
      "cell_type": "markdown",
      "id": "b8e06e5c-aafb-4efa-9b9e-84d8148ca0e1",
      "metadata": {
        "id": "b8e06e5c-aafb-4efa-9b9e-84d8148ca0e1"
      },
      "source": [
        "# Train model"
      ]
    },
    {
      "cell_type": "code",
      "execution_count": null,
      "id": "33e63bac-1137-4125-9a63-b55324f1b4f2",
      "metadata": {
        "id": "33e63bac-1137-4125-9a63-b55324f1b4f2"
      },
      "outputs": [],
      "source": [
        "EPOCHS = 50"
      ]
    },
    {
      "cell_type": "code",
      "execution_count": null,
      "id": "e7b19741-6789-4475-bada-0a722e907047",
      "metadata": {
        "colab": {
          "base_uri": "https://localhost:8080/"
        },
        "id": "e7b19741-6789-4475-bada-0a722e907047",
        "outputId": "125ca77b-41ae-4b3b-f2b3-cdc21169b093"
      },
      "outputs": [
        {
          "output_type": "stream",
          "name": "stdout",
          "text": [
            "\n",
            " Epoch 1/50\n",
            "Loss: Tensor(\"binary_crossentropy/weighted_loss/value:0\", shape=(), dtype=float32)\n",
            "Loss: Tensor(\"binary_crossentropy/weighted_loss/value:0\", shape=(), dtype=float32)\n",
            "43/44 [============================>.] - ETA: 0sLoss: Tensor(\"binary_crossentropy/weighted_loss/value:0\", shape=(), dtype=float32)\n",
            "44/44 [==============================] - 18s 222ms/step\n",
            "\n",
            " Epoch 2/50\n",
            "44/44 [==============================] - 8s 190ms/step\n",
            "\n",
            " Epoch 3/50\n",
            "44/44 [==============================] - 8s 190ms/step\n",
            "\n",
            " Epoch 4/50\n",
            "44/44 [==============================] - 8s 189ms/step\n",
            "\n",
            " Epoch 5/50\n",
            "44/44 [==============================] - 8s 182ms/step\n",
            "\n",
            " Epoch 6/50\n",
            "44/44 [==============================] - 8s 182ms/step\n",
            "\n",
            " Epoch 7/50\n",
            "44/44 [==============================] - 8s 182ms/step\n",
            "\n",
            " Epoch 8/50\n",
            "44/44 [==============================] - 8s 183ms/step\n",
            "\n",
            " Epoch 9/50\n",
            "44/44 [==============================] - 8s 177ms/step\n",
            "\n",
            " Epoch 10/50\n",
            "44/44 [==============================] - 8s 177ms/step\n",
            "\n",
            " Epoch 11/50\n",
            "44/44 [==============================] - 8s 179ms/step\n",
            "\n",
            " Epoch 12/50\n",
            "44/44 [==============================] - 8s 178ms/step\n",
            "\n",
            " Epoch 13/50\n",
            "44/44 [==============================] - 8s 178ms/step\n",
            "\n",
            " Epoch 14/50\n",
            "44/44 [==============================] - 8s 179ms/step\n",
            "\n",
            " Epoch 15/50\n",
            "44/44 [==============================] - 8s 179ms/step\n",
            "\n",
            " Epoch 16/50\n",
            "44/44 [==============================] - 8s 179ms/step\n",
            "\n",
            " Epoch 17/50\n",
            "44/44 [==============================] - 8s 178ms/step\n",
            "\n",
            " Epoch 18/50\n",
            "44/44 [==============================] - 8s 178ms/step\n",
            "\n",
            " Epoch 19/50\n",
            "44/44 [==============================] - 8s 177ms/step\n",
            "\n",
            " Epoch 20/50\n",
            "44/44 [==============================] - 8s 177ms/step\n",
            "\n",
            " Epoch 21/50\n",
            "44/44 [==============================] - 8s 186ms/step\n",
            "\n",
            " Epoch 22/50\n",
            "44/44 [==============================] - 8s 191ms/step\n",
            "\n",
            " Epoch 23/50\n",
            "44/44 [==============================] - 8s 192ms/step\n",
            "\n",
            " Epoch 24/50\n",
            "44/44 [==============================] - 8s 192ms/step\n",
            "\n",
            " Epoch 25/50\n",
            "44/44 [==============================] - 8s 192ms/step\n",
            "\n",
            " Epoch 26/50\n",
            "44/44 [==============================] - 8s 192ms/step\n",
            "\n",
            " Epoch 27/50\n",
            "44/44 [==============================] - 8s 192ms/step\n",
            "\n",
            " Epoch 28/50\n",
            "44/44 [==============================] - 8s 192ms/step\n",
            "\n",
            " Epoch 29/50\n",
            "44/44 [==============================] - 8s 192ms/step\n",
            "\n",
            " Epoch 30/50\n",
            "44/44 [==============================] - 8s 191ms/step\n",
            "\n",
            " Epoch 31/50\n",
            "44/44 [==============================] - 8s 191ms/step\n",
            "\n",
            " Epoch 32/50\n",
            "44/44 [==============================] - 8s 192ms/step\n",
            "\n",
            " Epoch 33/50\n",
            "44/44 [==============================] - 8s 192ms/step\n",
            "\n",
            " Epoch 34/50\n",
            "44/44 [==============================] - 8s 192ms/step\n",
            "\n",
            " Epoch 35/50\n",
            "44/44 [==============================] - 8s 192ms/step\n",
            "\n",
            " Epoch 36/50\n",
            "44/44 [==============================] - 8s 192ms/step\n",
            "\n",
            " Epoch 37/50\n",
            "44/44 [==============================] - 8s 192ms/step\n",
            "\n",
            " Epoch 38/50\n",
            "44/44 [==============================] - 8s 192ms/step\n",
            "\n",
            " Epoch 39/50\n",
            "44/44 [==============================] - 8s 192ms/step\n",
            "\n",
            " Epoch 40/50\n",
            "44/44 [==============================] - 8s 192ms/step\n",
            "\n",
            " Epoch 41/50\n",
            "44/44 [==============================] - 8s 191ms/step\n",
            "\n",
            " Epoch 42/50\n",
            "44/44 [==============================] - 8s 191ms/step\n",
            "\n",
            " Epoch 43/50\n",
            "44/44 [==============================] - 8s 192ms/step\n",
            "\n",
            " Epoch 44/50\n",
            "44/44 [==============================] - 8s 192ms/step\n",
            "\n",
            " Epoch 45/50\n",
            "44/44 [==============================] - 8s 192ms/step\n",
            "\n",
            " Epoch 46/50\n",
            "44/44 [==============================] - 8s 191ms/step\n",
            "\n",
            " Epoch 47/50\n",
            "44/44 [==============================] - 8s 192ms/step\n",
            "\n",
            " Epoch 48/50\n",
            "44/44 [==============================] - 8s 192ms/step\n",
            "\n",
            " Epoch 49/50\n",
            "44/44 [==============================] - 8s 192ms/step\n",
            "\n",
            " Epoch 50/50\n",
            "44/44 [==============================] - 8s 192ms/step\n"
          ]
        }
      ],
      "source": [
        "train(train_data, EPOCHS)"
      ]
    },
    {
      "cell_type": "code",
      "execution_count": null,
      "id": "3bfb5f1a-506a-415e-a39a-d301621117a3",
      "metadata": {
        "id": "3bfb5f1a-506a-415e-a39a-d301621117a3"
      },
      "outputs": [],
      "source": [
        "from tensorflow.keras.metrics import Precision, Recall"
      ]
    },
    {
      "cell_type": "code",
      "execution_count": null,
      "id": "8c07b109-aca5-4109-80cf-790f212e2929",
      "metadata": {
        "id": "8c07b109-aca5-4109-80cf-790f212e2929"
      },
      "outputs": [],
      "source": [
        "test_input, test_val, y_true = test_data.as_numpy_iterator().next()"
      ]
    },
    {
      "cell_type": "code",
      "execution_count": null,
      "id": "14d169b1-55f3-4480-836b-239be2c1f0d9",
      "metadata": {
        "colab": {
          "base_uri": "https://localhost:8080/"
        },
        "id": "14d169b1-55f3-4480-836b-239be2c1f0d9",
        "outputId": "e30b5150-0c44-4a88-e20d-555bf3047758"
      },
      "outputs": [
        {
          "output_type": "stream",
          "name": "stdout",
          "text": [
            "1/1 [==============================] - 0s 154ms/step\n"
          ]
        },
        {
          "output_type": "execute_result",
          "data": {
            "text/plain": [
              "array([[0.5056733],\n",
              "       [0.5056733],\n",
              "       [0.5056733],\n",
              "       [0.5056733],\n",
              "       [0.5056733],\n",
              "       [0.5056733],\n",
              "       [0.5056733],\n",
              "       [0.5056733],\n",
              "       [0.5056733],\n",
              "       [0.5056733],\n",
              "       [0.5056733],\n",
              "       [0.5056733],\n",
              "       [0.5056733],\n",
              "       [0.5056733],\n",
              "       [0.5056733],\n",
              "       [0.5056733]], dtype=float32)"
            ]
          },
          "metadata": {},
          "execution_count": 96
        }
      ],
      "source": [
        "# Make predictions\n",
        "y_hat = siamese_model.predict([test_input, test_val])\n",
        "y_hat"
      ]
    },
    {
      "cell_type": "code",
      "execution_count": null,
      "id": "b8f43d07-e4ef-439f-9666-fc239d444b8f",
      "metadata": {
        "colab": {
          "base_uri": "https://localhost:8080/"
        },
        "id": "b8f43d07-e4ef-439f-9666-fc239d444b8f",
        "outputId": "c1fd6c52-bb79-4966-f9f1-8e3d371d523d"
      },
      "outputs": [
        {
          "output_type": "execute_result",
          "data": {
            "text/plain": [
              "[1, 1, 1, 1, 1, 1, 1, 1, 1, 1, 1, 1, 1, 1, 1, 1]"
            ]
          },
          "metadata": {},
          "execution_count": 97
        }
      ],
      "source": [
        "[1 if prediction > 0.5 else 0 for prediction in y_hat ]"
      ]
    },
    {
      "cell_type": "code",
      "execution_count": null,
      "id": "695f6a39-53db-4efc-80e3-df59e53af5d4",
      "metadata": {
        "colab": {
          "base_uri": "https://localhost:8080/"
        },
        "id": "695f6a39-53db-4efc-80e3-df59e53af5d4",
        "outputId": "29cd160b-1702-450c-91d2-ec98090f3f89"
      },
      "outputs": [
        {
          "output_type": "execute_result",
          "data": {
            "text/plain": [
              "array([0., 0., 0., 0., 0., 1., 1., 1., 0., 1., 0., 1., 1., 0., 1., 0.],\n",
              "      dtype=float32)"
            ]
          },
          "metadata": {},
          "execution_count": 98
        }
      ],
      "source": [
        "y_true"
      ]
    },
    {
      "cell_type": "code",
      "execution_count": null,
      "id": "aaa8ad66-b8a7-4ce2-864a-d2f319ebc951",
      "metadata": {
        "colab": {
          "base_uri": "https://localhost:8080/"
        },
        "id": "aaa8ad66-b8a7-4ce2-864a-d2f319ebc951",
        "outputId": "7749afc7-c699-4350-e158-5d0d4895fc66"
      },
      "outputs": [
        {
          "output_type": "execute_result",
          "data": {
            "text/plain": [
              "1.0"
            ]
          },
          "metadata": {},
          "execution_count": 99
        }
      ],
      "source": [
        "# Creating a metric object\n",
        "m = Recall()\n",
        "\n",
        "# Calculating the recall value\n",
        "m.update_state(y_true, y_hat)\n",
        "\n",
        "# Return Recall Result\n",
        "m.result().numpy()"
      ]
    },
    {
      "cell_type": "code",
      "execution_count": null,
      "id": "ca05cb60-da9a-4442-8f85-9bf7a1248d3f",
      "metadata": {
        "colab": {
          "base_uri": "https://localhost:8080/"
        },
        "id": "ca05cb60-da9a-4442-8f85-9bf7a1248d3f",
        "outputId": "6f3670e3-b414-42d7-e2ea-4f684a359ca0"
      },
      "outputs": [
        {
          "output_type": "execute_result",
          "data": {
            "text/plain": [
              "0.4375"
            ]
          },
          "metadata": {},
          "execution_count": 100
        }
      ],
      "source": [
        "# Creating a metric object\n",
        "m = Precision()\n",
        "\n",
        "# Calculating the recall value\n",
        "m.update_state(y_true, y_hat)\n",
        "\n",
        "# Return Recall Result\n",
        "m.result().numpy()"
      ]
    },
    {
      "cell_type": "code",
      "execution_count": null,
      "id": "3efb3e0c-6478-49f5-a4da-77e07146a248",
      "metadata": {
        "colab": {
          "base_uri": "https://localhost:8080/",
          "height": 416
        },
        "id": "3efb3e0c-6478-49f5-a4da-77e07146a248",
        "outputId": "aee41e47-5adc-474b-b4cb-0a435a0568ab"
      },
      "outputs": [
        {
          "output_type": "display_data",
          "data": {
            "text/plain": [
              "<Figure size 1000x800 with 2 Axes>"
            ],
            "image/png": "[encoded data removed]"
          },
          "metadata": {}
        }
      ],
      "source": [
        "# Set plot size\n",
        "plt.figure(figsize=(10,8))\n",
        "\n",
        "# Set first subplot\n",
        "plt.subplot(1,2,1)\n",
        "plt.imshow(test_input[1])\n",
        "\n",
        "# Set second subplot\n",
        "plt.subplot(1,2,2)\n",
        "plt.imshow(test_val[1])\n",
        "\n",
        "# Renders cleanly\n",
        "plt.show()"
      ]
    },
    {
      "cell_type": "code",
      "execution_count": null,
      "id": "832600e7-e26d-4dc8-98b4-6457790d2be0",
      "metadata": {
        "colab": {
          "base_uri": "https://localhost:8080/"
        },
        "id": "832600e7-e26d-4dc8-98b4-6457790d2be0",
        "outputId": "0a313863-575f-4a88-b404-863229dcd066"
      },
      "outputs": [
        {
          "output_type": "stream",
          "name": "stderr",
          "text": [
            "/usr/local/lib/python3.10/dist-packages/keras/src/engine/training.py:3103: UserWarning: You are saving your model as an HDF5 file via `model.save()`. This file format is considered legacy. We recommend using instead the native Keras format, e.g. `model.save('my_model.keras')`.\n",
            "  saving_api.save_model(\n",
            "WARNING:tensorflow:Compiled the loaded model, but the compiled metrics have yet to be built. `model.compile_metrics` will be empty until you train or evaluate the model.\n"
          ]
        }
      ],
      "source": [
        "# Save weights\n",
        "siamese_model.save('modelfotoilham.h5')"
      ]
    },
    {
      "cell_type": "code",
      "execution_count": null,
      "id": "7be428e5-f5f2-4968-bfa8-ad7007a514d2",
      "metadata": {
        "colab": {
          "base_uri": "https://localhost:8080/",
          "height": 187
        },
        "id": "7be428e5-f5f2-4968-bfa8-ad7007a514d2",
        "outputId": "b899872d-6a8a-4e9f-95b1-caac17d5fb0d"
      },
      "outputs": [
        {
          "output_type": "execute_result",
          "data": {
            "text/plain": [
              "__main__.L1Dist"
            ],
            "text/html": [
              "<div style=\"max-width:800px; border: 1px solid var(--colab-border-color);\"><style>\n",
              "      pre.function-repr-contents {\n",
              "        overflow-x: auto;\n",
              "        padding: 8px 12px;\n",
              "        max-height: 500px;\n",
              "      }\n",
              "\n",
              "      pre.function-repr-contents.function-repr-contents-collapsed {\n",
              "        cursor: pointer;\n",
              "        max-height: 100px;\n",
              "      }\n",
              "    </style>\n",
              "    <pre style=\"white-space: initial; background:\n",
              "         var(--colab-secondary-surface-color); padding: 8px 12px;\n",
              "         border-bottom: 1px solid var(--colab-border-color);\"><b>L1Dist</b><br/>def error_handler(*args, **kwargs)</pre><pre class=\"function-repr-contents function-repr-contents-collapsed\" style=\"\"><a class=\"filepath\" style=\"display:none\" href=\"#\"></a>This is the class from which all layers inherit.\n",
              "\n",
              "A layer is a callable object that takes as input one or more tensors and\n",
              "that outputs one or more tensors. It involves *computation*, defined\n",
              "in the `call()` method, and a *state* (weight variables). State can be\n",
              "created:\n",
              "\n",
              "* in `__init__()`, for instance via `self.add_weight()`;\n",
              "* in the optional `build()` method, which is invoked by the first\n",
              "  `__call__()` to the layer, and supplies the shape(s) of the input(s),\n",
              "  which may not have been known at initialization time.\n",
              "\n",
              "Layers are recursively composable: If you assign a Layer instance as an\n",
              "attribute of another Layer, the outer layer will start tracking the weights\n",
              "created by the inner layer. Nested layers should be instantiated in the\n",
              "`__init__()` method or `build()` method.\n",
              "\n",
              "Users will just instantiate a layer and then treat it as a callable.\n",
              "\n",
              "Args:\n",
              "    trainable: Boolean, whether the layer&#x27;s variables should be trainable.\n",
              "    name: String name of the layer.\n",
              "    dtype: The dtype of the layer&#x27;s computations and weights. Can also be a\n",
              "        `keras.DTypePolicy`,\n",
              "        which allows the computation and\n",
              "        weight dtype to differ. Defaults to `None`. `None` means to use\n",
              "        `keras.config.dtype_policy()`,\n",
              "        which is a `float32` policy unless set to different value\n",
              "        (via `keras.config.set_dtype_policy()`).\n",
              "\n",
              "Attributes:\n",
              "    name: The name of the layer (string).\n",
              "    dtype: Dtype of the layer&#x27;s weights. Alias of `layer.variable_dtype`.\n",
              "    variable_dtype: Dtype of the layer&#x27;s weights.\n",
              "    compute_dtype: The dtype of the layer&#x27;s computations.\n",
              "        Layers automatically cast inputs to this dtype, which causes\n",
              "        the computations and output to also be in this dtype.\n",
              "        When mixed precision is used with a\n",
              "        `keras.DTypePolicy`, this will be different\n",
              "        than `variable_dtype`.\n",
              "    trainable_weights: List of variables to be included in backprop.\n",
              "    non_trainable_weights: List of variables that should not be\n",
              "        included in backprop.\n",
              "    weights: The concatenation of the lists trainable_weights and\n",
              "        non_trainable_weights (in this order).\n",
              "    trainable: Whether the layer should be trained (boolean), i.e.\n",
              "        whether its potentially-trainable weights should be returned\n",
              "        as part of `layer.trainable_weights`.\n",
              "    input_spec: Optional (list of) `InputSpec` object(s) specifying the\n",
              "        constraints on inputs that can be accepted by the layer.\n",
              "\n",
              "We recommend that descendants of `Layer` implement the following methods:\n",
              "\n",
              "* `__init__()`: Defines custom layer attributes, and creates layer weights\n",
              "    that do not depend on input shapes, using `add_weight()`,\n",
              "    or other state.\n",
              "* `build(self, input_shape)`: This method can be used to create weights that\n",
              "    depend on the shape(s) of the input(s), using `add_weight()`, or other\n",
              "    state. `__call__()` will automatically build the layer\n",
              "    (if it has not been built yet) by calling `build()`.\n",
              "* `call(self, *args, **kwargs)`: Called in `__call__` after making\n",
              "    sure `build()` has been called. `call()` performs the logic of applying\n",
              "    the layer to the input arguments.\n",
              "    Two reserved keyword arguments you can optionally use in `call()` are:\n",
              "        1. `training` (boolean, whether the call is in inference mode or\n",
              "            training mode).\n",
              "        2. `mask` (boolean tensor encoding masked timesteps in the input,\n",
              "            used e.g. in RNN layers).\n",
              "    A typical signature for this method is `call(self, inputs)`, and user\n",
              "    could optionally add `training` and `mask` if the layer need them.\n",
              "* `get_config(self)`: Returns a dictionary containing the configuration\n",
              "    used to initialize this layer. If the keys differ from the arguments\n",
              "    in `__init__()`, then override `from_config(self)` as well.\n",
              "    This method is used when saving\n",
              "    the layer or a model that contains this layer.\n",
              "\n",
              "Examples:\n",
              "\n",
              "Here&#x27;s a basic example: a layer with two variables, `w` and `b`,\n",
              "that returns `y = w . x + b`.\n",
              "It shows how to implement `build()` and `call()`.\n",
              "Variables set as attributes of a layer are tracked as weights\n",
              "of the layers (in `layer.weights`).\n",
              "\n",
              "```python\n",
              "class SimpleDense(Layer):\n",
              "    def __init__(self, units=32):\n",
              "        super().__init__()\n",
              "        self.units = units\n",
              "\n",
              "    # Create the state of the layer (weights)\n",
              "    def build(self, input_shape):\n",
              "        self.kernel = self.add_weight(\n",
              "            shape=(input_shape[-1], self.units),\n",
              "            initializer=&quot;glorot_uniform&quot;,\n",
              "            trainable=True,\n",
              "            name=&quot;kernel&quot;,\n",
              "        )\n",
              "        self.bias = self.add_weight(\n",
              "            shape=(self.units,),\n",
              "            initializer=&quot;zeros&quot;,\n",
              "            trainable=True,\n",
              "            name=&quot;bias&quot;,\n",
              "        )\n",
              "\n",
              "    # Defines the computation\n",
              "    def call(self, inputs):\n",
              "        return ops.matmul(inputs, self.kernel) + self.bias\n",
              "\n",
              "# Instantiates the layer.\n",
              "linear_layer = SimpleDense(4)\n",
              "\n",
              "# This will also call `build(input_shape)` and create the weights.\n",
              "y = linear_layer(ops.ones((2, 2)))\n",
              "assert len(linear_layer.weights) == 2\n",
              "\n",
              "# These weights are trainable, so they&#x27;re listed in `trainable_weights`:\n",
              "assert len(linear_layer.trainable_weights) == 2\n",
              "```\n",
              "\n",
              "Besides trainable weights, updated via backpropagation during training,\n",
              "layers can also have non-trainable weights. These weights are meant to\n",
              "be updated manually during `call()`. Here&#x27;s a example layer that computes\n",
              "the running sum of its inputs:\n",
              "\n",
              "```python\n",
              "class ComputeSum(Layer):\n",
              "\n",
              "  def __init__(self, input_dim):\n",
              "      super(ComputeSum, self).__init__()\n",
              "      # Create a non-trainable weight.\n",
              "      self.total = self.add_weight(\n",
              "        shape=(),\n",
              "        initializer=&quot;zeros&quot;,\n",
              "        trainable=False,\n",
              "        name=&quot;total&quot;,\n",
              "      )\n",
              "\n",
              "  def call(self, inputs):\n",
              "      self.total.assign(self.total + ops.sum(inputs))\n",
              "      return self.total\n",
              "\n",
              "my_sum = ComputeSum(2)\n",
              "x = ops.ones((2, 2))\n",
              "y = my_sum(x)\n",
              "\n",
              "assert my_sum.weights == [my_sum.total]\n",
              "assert my_sum.non_trainable_weights == [my_sum.total]\n",
              "assert my_sum.trainable_weights == []\n",
              "```</pre></div>"
            ]
          },
          "metadata": {},
          "execution_count": 115
        }
      ],
      "source": [
        "L1Dist"
      ]
    },
    {
      "cell_type": "code",
      "execution_count": null,
      "id": "077c607d-a5cf-4c52-9680-966e6f6b1098",
      "metadata": {
        "colab": {
          "base_uri": "https://localhost:8080/"
        },
        "id": "077c607d-a5cf-4c52-9680-966e6f6b1098",
        "outputId": "bd0c7e39-2613-4425-bc2d-fb723cac8513"
      },
      "outputs": [
        {
          "output_type": "stream",
          "name": "stderr",
          "text": [
            "WARNING:tensorflow:No training configuration found in the save file, so the model was *not* compiled. Compile it manually.\n"
          ]
        }
      ],
      "source": [
        "# Reload model\n",
        "model = tf.keras.models.load_model('modelfotoilham.h5',\n",
        "                                   custom_objects={'L1Dist':L1Dist, 'BinaryCrossentropy':tf.losses.BinaryCrossentropy})"
      ]
    },
    {
      "cell_type": "code",
      "source": [
        "# Save weights\n",
        "model.save('modelfinal.h5')"
      ],
      "metadata": {
        "colab": {
          "base_uri": "https://localhost:8080/"
        },
        "id": "Vgx1PFyoCuYa",
        "outputId": "5c1859e2-c99b-4b5e-bb54-cff51092715b"
      },
      "id": "Vgx1PFyoCuYa",
      "execution_count": null,
      "outputs": [
        {
          "output_type": "stream",
          "name": "stderr",
          "text": [
            "WARNING:tensorflow:Compiled the loaded model, but the compiled metrics have yet to be built. `model.compile_metrics` will be empty until you train or evaluate the model.\n"
          ]
        }
      ]
    },
    {
      "cell_type": "code",
      "source": [
        "from tensorflow.keras.models import load_model\n",
        "\n",
        "try:\n",
        "    model = load_model(\"modelfinal.h5\")\n",
        "    print(\"Model loaded successfully!\")\n",
        "except Exception as e:\n",
        "    print(f\"Error: {e}\")\n"
      ],
      "metadata": {
        "colab": {
          "base_uri": "https://localhost:8080/"
        },
        "id": "Z0ov-ZmdCF0B",
        "outputId": "2211e92d-5264-46ae-9fe4-37e1cee75a28"
      },
      "id": "Z0ov-ZmdCF0B",
      "execution_count": null,
      "outputs": [
        {
          "output_type": "stream",
          "name": "stdout",
          "text": [
            "Error: Unknown layer: 'L1Dist'. Please ensure you are using a `keras.utils.custom_object_scope` and that this object is included in the scope. See https://www.tensorflow.org/guide/keras/save_and_serialize#registering_the_custom_object for details.\n"
          ]
        }
      ]
    },
    {
      "cell_type": "code",
      "source": [
        "!tensorflowjs_converter --input_format=keras modelfinal.h5 /content/drive/MyDrive/FaceRegonition/tfjs_model_2"
      ],
      "metadata": {
        "colab": {
          "base_uri": "https://localhost:8080/"
        },
        "id": "_aBJcmA29fyn",
        "outputId": "9e0befbd-f640-4f77-cc7a-a0b7fb850da5"
      },
      "id": "_aBJcmA29fyn",
      "execution_count": null,
      "outputs": [
        {
          "output_type": "stream",
          "name": "stdout",
          "text": [
            "2024-11-25 12:57:47.560106: E external/local_xla/xla/stream_executor/cuda/cuda_dnn.cc:9261] Unable to register cuDNN factory: Attempting to register factory for plugin cuDNN when one has already been registered\n",
            "2024-11-25 12:57:47.560150: E external/local_xla/xla/stream_executor/cuda/cuda_fft.cc:607] Unable to register cuFFT factory: Attempting to register factory for plugin cuFFT when one has already been registered\n",
            "2024-11-25 12:57:47.561351: E external/local_xla/xla/stream_executor/cuda/cuda_blas.cc:1515] Unable to register cuBLAS factory: Attempting to register factory for plugin cuBLAS when one has already been registered\n",
            "2024-11-25 12:57:48.595492: W tensorflow/compiler/tf2tensorrt/utils/py_utils.cc:38] TF-TRT Warning: Could not find TensorRT\n"
          ]
        }
      ]
    },
    {
      "cell_type": "code",
      "execution_count": null,
      "id": "6981a98e-17c3-4dde-a4cd-65e917b31777",
      "metadata": {
        "id": "6981a98e-17c3-4dde-a4cd-65e917b31777",
        "outputId": "fad932f3-942a-4d67-a9d0-7b721d9d34cb"
      },
      "outputs": [
        {
          "name": "stdout",
          "output_type": "stream",
          "text": [
            "\u001b[1m1/1\u001b[0m \u001b[32m━━━━━━━━━━━━━━━━━━━━\u001b[0m\u001b[37m\u001b[0m \u001b[1m54s\u001b[0m 54s/step\n"
          ]
        },
        {
          "data": {
            "text/plain": [
              "array([[4.6509704e-06],\n",
              "       [9.9999475e-01],\n",
              "       [7.7007036e-07],\n",
              "       [8.0262062e-08],\n",
              "       [1.4083795e-07],\n",
              "       [9.9448353e-01],\n",
              "       [4.2043422e-07],\n",
              "       [3.3130573e-06],\n",
              "       [9.9998868e-01],\n",
              "       [4.0631335e-07],\n",
              "       [9.8342913e-01],\n",
              "       [9.9999326e-01],\n",
              "       [1.1723928e-06],\n",
              "       [9.9993563e-01],\n",
              "       [2.0979878e-06],\n",
              "       [3.3246151e-03]], dtype=float32)"
            ]
          },
          "execution_count": 606,
          "metadata": {},
          "output_type": "execute_result"
        }
      ],
      "source": [
        "# Make predictions with reloaded model\n",
        "model.predict([test_input, test_val])"
      ]
    },
    {
      "cell_type": "code",
      "execution_count": null,
      "id": "d9060087-da62-4029-b13e-c44e65b7beda",
      "metadata": {
        "id": "d9060087-da62-4029-b13e-c44e65b7beda",
        "outputId": "ed2bb034-ac8f-4ea3-9d39-3122bde2b401"
      },
      "outputs": [
        {
          "data": {
            "text/html": [
              "<pre style=\"white-space:pre;overflow-x:auto;line-height:normal;font-family:Menlo,'DejaVu Sans Mono',consolas,'Courier New',monospace\"><span style=\"font-weight: bold\">Model: \"SiameseNetwork\"</span>\n",
              "</pre>\n"
            ],
            "text/plain": [
              "\u001b[1mModel: \"SiameseNetwork\"\u001b[0m\n"
            ]
          },
          "metadata": {},
          "output_type": "display_data"
        },
        {
          "data": {
            "text/html": [
              "<pre style=\"white-space:pre;overflow-x:auto;line-height:normal;font-family:Menlo,'DejaVu Sans Mono',consolas,'Courier New',monospace\">┏━━━━━━━━━━━━━━━━━━━━━━━━━━━━━━━┳━━━━━━━━━━━━━━━━━━━━━━━━━━━┳━━━━━━━━━━━━━━━━━┳━━━━━━━━━━━━━━━━━━━━━━━━━━━━┓\n",
              "┃<span style=\"font-weight: bold\"> Layer (type)                  </span>┃<span style=\"font-weight: bold\"> Output Shape              </span>┃<span style=\"font-weight: bold\">         Param # </span>┃<span style=\"font-weight: bold\"> Connected to               </span>┃\n",
              "┡━━━━━━━━━━━━━━━━━━━━━━━━━━━━━━━╇━━━━━━━━━━━━━━━━━━━━━━━━━━━╇━━━━━━━━━━━━━━━━━╇━━━━━━━━━━━━━━━━━━━━━━━━━━━━┩\n",
              "│ input_img (<span style=\"color: #0087ff; text-decoration-color: #0087ff\">InputLayer</span>)        │ (<span style=\"color: #00d7ff; text-decoration-color: #00d7ff\">None</span>, <span style=\"color: #00af00; text-decoration-color: #00af00\">105</span>, <span style=\"color: #00af00; text-decoration-color: #00af00\">105</span>, <span style=\"color: #00af00; text-decoration-color: #00af00\">3</span>)       │               <span style=\"color: #00af00; text-decoration-color: #00af00\">0</span> │ -                          │\n",
              "├───────────────────────────────┼───────────────────────────┼─────────────────┼────────────────────────────┤\n",
              "│ val_img (<span style=\"color: #0087ff; text-decoration-color: #0087ff\">InputLayer</span>)          │ (<span style=\"color: #00d7ff; text-decoration-color: #00d7ff\">None</span>, <span style=\"color: #00af00; text-decoration-color: #00af00\">105</span>, <span style=\"color: #00af00; text-decoration-color: #00af00\">105</span>, <span style=\"color: #00af00; text-decoration-color: #00af00\">3</span>)       │               <span style=\"color: #00af00; text-decoration-color: #00af00\">0</span> │ -                          │\n",
              "├───────────────────────────────┼───────────────────────────┼─────────────────┼────────────────────────────┤\n",
              "│ embedding (<span style=\"color: #0087ff; text-decoration-color: #0087ff\">Functional</span>)        │ (<span style=\"color: #00d7ff; text-decoration-color: #00d7ff\">None</span>, <span style=\"color: #00af00; text-decoration-color: #00af00\">4096</span>)              │      <span style=\"color: #00af00; text-decoration-color: #00af00\">38,960,448</span> │ input_img[<span style=\"color: #00af00; text-decoration-color: #00af00\">0</span>][<span style=\"color: #00af00; text-decoration-color: #00af00\">0</span>],           │\n",
              "│                               │                           │                 │ val_img[<span style=\"color: #00af00; text-decoration-color: #00af00\">0</span>][<span style=\"color: #00af00; text-decoration-color: #00af00\">0</span>]              │\n",
              "├───────────────────────────────┼───────────────────────────┼─────────────────┼────────────────────────────┤\n",
              "│ l1_dist_7 (<span style=\"color: #0087ff; text-decoration-color: #0087ff\">L1Dist</span>)            │ (<span style=\"color: #00d7ff; text-decoration-color: #00d7ff\">None</span>, <span style=\"color: #00af00; text-decoration-color: #00af00\">4096</span>)              │               <span style=\"color: #00af00; text-decoration-color: #00af00\">0</span> │ embedding[<span style=\"color: #00af00; text-decoration-color: #00af00\">0</span>][<span style=\"color: #00af00; text-decoration-color: #00af00\">0</span>],           │\n",
              "│                               │                           │                 │ embedding[<span style=\"color: #00af00; text-decoration-color: #00af00\">1</span>][<span style=\"color: #00af00; text-decoration-color: #00af00\">0</span>]            │\n",
              "├───────────────────────────────┼───────────────────────────┼─────────────────┼────────────────────────────┤\n",
              "│ dense_7 (<span style=\"color: #0087ff; text-decoration-color: #0087ff\">Dense</span>)               │ (<span style=\"color: #00d7ff; text-decoration-color: #00d7ff\">None</span>, <span style=\"color: #00af00; text-decoration-color: #00af00\">1</span>)                 │           <span style=\"color: #00af00; text-decoration-color: #00af00\">4,097</span> │ l1_dist_7[<span style=\"color: #00af00; text-decoration-color: #00af00\">0</span>][<span style=\"color: #00af00; text-decoration-color: #00af00\">0</span>]            │\n",
              "└───────────────────────────────┴───────────────────────────┴─────────────────┴────────────────────────────┘\n",
              "</pre>\n"
            ],
            "text/plain": [
              "┏━━━━━━━━━━━━━━━━━━━━━━━━━━━━━━━┳━━━━━━━━━━━━━━━━━━━━━━━━━━━┳━━━━━━━━━━━━━━━━━┳━━━━━━━━━━━━━━━━━━━━━━━━━━━━┓\n",
              "┃\u001b[1m \u001b[0m\u001b[1mLayer (type)                 \u001b[0m\u001b[1m \u001b[0m┃\u001b[1m \u001b[0m\u001b[1mOutput Shape             \u001b[0m\u001b[1m \u001b[0m┃\u001b[1m \u001b[0m\u001b[1m        Param #\u001b[0m\u001b[1m \u001b[0m┃\u001b[1m \u001b[0m\u001b[1mConnected to              \u001b[0m\u001b[1m \u001b[0m┃\n",
              "┡━━━━━━━━━━━━━━━━━━━━━━━━━━━━━━━╇━━━━━━━━━━━━━━━━━━━━━━━━━━━╇━━━━━━━━━━━━━━━━━╇━━━━━━━━━━━━━━━━━━━━━━━━━━━━┩\n",
              "│ input_img (\u001b[38;5;33mInputLayer\u001b[0m)        │ (\u001b[38;5;45mNone\u001b[0m, \u001b[38;5;34m105\u001b[0m, \u001b[38;5;34m105\u001b[0m, \u001b[38;5;34m3\u001b[0m)       │               \u001b[38;5;34m0\u001b[0m │ -                          │\n",
              "├───────────────────────────────┼───────────────────────────┼─────────────────┼────────────────────────────┤\n",
              "│ val_img (\u001b[38;5;33mInputLayer\u001b[0m)          │ (\u001b[38;5;45mNone\u001b[0m, \u001b[38;5;34m105\u001b[0m, \u001b[38;5;34m105\u001b[0m, \u001b[38;5;34m3\u001b[0m)       │               \u001b[38;5;34m0\u001b[0m │ -                          │\n",
              "├───────────────────────────────┼───────────────────────────┼─────────────────┼────────────────────────────┤\n",
              "│ embedding (\u001b[38;5;33mFunctional\u001b[0m)        │ (\u001b[38;5;45mNone\u001b[0m, \u001b[38;5;34m4096\u001b[0m)              │      \u001b[38;5;34m38,960,448\u001b[0m │ input_img[\u001b[38;5;34m0\u001b[0m][\u001b[38;5;34m0\u001b[0m],           │\n",
              "│                               │                           │                 │ val_img[\u001b[38;5;34m0\u001b[0m][\u001b[38;5;34m0\u001b[0m]              │\n",
              "├───────────────────────────────┼───────────────────────────┼─────────────────┼────────────────────────────┤\n",
              "│ l1_dist_7 (\u001b[38;5;33mL1Dist\u001b[0m)            │ (\u001b[38;5;45mNone\u001b[0m, \u001b[38;5;34m4096\u001b[0m)              │               \u001b[38;5;34m0\u001b[0m │ embedding[\u001b[38;5;34m0\u001b[0m][\u001b[38;5;34m0\u001b[0m],           │\n",
              "│                               │                           │                 │ embedding[\u001b[38;5;34m1\u001b[0m][\u001b[38;5;34m0\u001b[0m]            │\n",
              "├───────────────────────────────┼───────────────────────────┼─────────────────┼────────────────────────────┤\n",
              "│ dense_7 (\u001b[38;5;33mDense\u001b[0m)               │ (\u001b[38;5;45mNone\u001b[0m, \u001b[38;5;34m1\u001b[0m)                 │           \u001b[38;5;34m4,097\u001b[0m │ l1_dist_7[\u001b[38;5;34m0\u001b[0m][\u001b[38;5;34m0\u001b[0m]            │\n",
              "└───────────────────────────────┴───────────────────────────┴─────────────────┴────────────────────────────┘\n"
            ]
          },
          "metadata": {},
          "output_type": "display_data"
        },
        {
          "data": {
            "text/html": [
              "<pre style=\"white-space:pre;overflow-x:auto;line-height:normal;font-family:Menlo,'DejaVu Sans Mono',consolas,'Courier New',monospace\"><span style=\"font-weight: bold\"> Total params: </span><span style=\"color: #00af00; text-decoration-color: #00af00\">38,964,545</span> (148.64 MB)\n",
              "</pre>\n"
            ],
            "text/plain": [
              "\u001b[1m Total params: \u001b[0m\u001b[38;5;34m38,964,545\u001b[0m (148.64 MB)\n"
            ]
          },
          "metadata": {},
          "output_type": "display_data"
        },
        {
          "data": {
            "text/html": [
              "<pre style=\"white-space:pre;overflow-x:auto;line-height:normal;font-family:Menlo,'DejaVu Sans Mono',consolas,'Courier New',monospace\"><span style=\"font-weight: bold\"> Trainable params: </span><span style=\"color: #00af00; text-decoration-color: #00af00\">38,964,545</span> (148.64 MB)\n",
              "</pre>\n"
            ],
            "text/plain": [
              "\u001b[1m Trainable params: \u001b[0m\u001b[38;5;34m38,964,545\u001b[0m (148.64 MB)\n"
            ]
          },
          "metadata": {},
          "output_type": "display_data"
        },
        {
          "data": {
            "text/html": [
              "<pre style=\"white-space:pre;overflow-x:auto;line-height:normal;font-family:Menlo,'DejaVu Sans Mono',consolas,'Courier New',monospace\"><span style=\"font-weight: bold\"> Non-trainable params: </span><span style=\"color: #00af00; text-decoration-color: #00af00\">0</span> (0.00 B)\n",
              "</pre>\n"
            ],
            "text/plain": [
              "\u001b[1m Non-trainable params: \u001b[0m\u001b[38;5;34m0\u001b[0m (0.00 B)\n"
            ]
          },
          "metadata": {},
          "output_type": "display_data"
        }
      ],
      "source": [
        "# View model summary\n",
        "model.summary()"
      ]
    },
    {
      "cell_type": "markdown",
      "id": "9d9e3aa5-5368-40b5-ac28-3b3540f55f88",
      "metadata": {
        "id": "9d9e3aa5-5368-40b5-ac28-3b3540f55f88"
      },
      "source": [
        "# **REAL TIME TEST**"
      ]
    },
    {
      "cell_type": "code",
      "execution_count": null,
      "id": "87490cbc-5614-443b-841f-e49114578536",
      "metadata": {
        "id": "87490cbc-5614-443b-841f-e49114578536"
      },
      "outputs": [],
      "source": [
        "application_data\\verification_images"
      ]
    },
    {
      "cell_type": "code",
      "execution_count": null,
      "id": "f648bc61-7515-4c77-aa86-1078e087826c",
      "metadata": {
        "id": "f648bc61-7515-4c77-aa86-1078e087826c",
        "outputId": "7c2516fb-a40b-4c04-fe43-9e7cb8617995"
      },
      "outputs": [
        {
          "data": {
            "text/plain": [
              "['4b26ba94-a8ad-11ef-95d3-90784112f6e6 - Copy.jpg',\n",
              " '4b26ba94-a8ad-11ef-95d3-90784112f6e6.jpg',\n",
              " '4b40d1f5-a8ad-11ef-a6fe-90784112f6e6 - Copy.jpg',\n",
              " '4b4f794f-a8ad-11ef-9108-90784112f6e6.jpg',\n",
              " '4b5d85fb-a8ad-11ef-b49d-90784112f6e6 - Copy.jpg',\n",
              " '4b5d85fb-a8ad-11ef-b49d-90784112f6e6.jpg',\n",
              " '4b6e5701-a8ad-11ef-87a8-90784112f6e6 - Copy.jpg',\n",
              " '4b6e5701-a8ad-11ef-87a8-90784112f6e6.jpg',\n",
              " '4bc9e2ea-a8ad-11ef-a8bb-90784112f6e6.jpg',\n",
              " '4bd85763-a8ad-11ef-ae55-90784112f6e6 - Copy.jpg',\n",
              " '4bd85763-a8ad-11ef-ae55-90784112f6e6.jpg',\n",
              " '4bfc364f-a8ad-11ef-bf08-90784112f6e6.jpg',\n",
              " '4c194907-a8ad-11ef-adf0-90784112f6e6.jpg',\n",
              " '4c2552ab-a8ad-11ef-8e0a-90784112f6e6.jpg',\n",
              " '4c41e0df-a8ad-11ef-a006-90784112f6e6.jpg',\n",
              " '4c507426-a8ad-11ef-95ae-90784112f6e6.jpg',\n",
              " '4c61787a-a8ad-11ef-b128-90784112f6e6 - Copy.jpg',\n",
              " '4c61787a-a8ad-11ef-b128-90784112f6e6.jpg',\n",
              " '4c851851-a8ad-11ef-b42a-90784112f6e6 - Copy.jpg',\n",
              " '4ca16825-a8ad-11ef-b3e4-90784112f6e6 - Copy.jpg',\n",
              " '4f38a019-a8ad-11ef-9448-90784112f6e6 - Copy - Copy.jpg',\n",
              " '4f471872-a8ad-11ef-9f7a-90784112f6e6 - Copy - Copy.jpg',\n",
              " '4f55be44-a8ad-11ef-b7a0-90784112f6e6 - Copy - Copy.jpg',\n",
              " '4f61e0af-a8ad-11ef-a85c-90784112f6e6 - Copy - Copy.jpg',\n",
              " '4f8ac6fd-a8ad-11ef-9c04-90784112f6e6 - Copy - Copy.jpg',\n",
              " '5a1c158c-a8ad-11ef-a1f3-90784112f6e6 - Copy - Copy.jpg',\n",
              " '5a407d3e-a8ad-11ef-b351-90784112f6e6 - Copy - Copy.jpg',\n",
              " '5a5fb62a-a8ad-11ef-888a-90784112f6e6 - Copy - Copy.jpg',\n",
              " '5a6e4956-a8ad-11ef-9f1c-90784112f6e6 - Copy - Copy.jpg',\n",
              " '5a91deee-a8ad-11ef-a86c-90784112f6e6 - Copy - Copy.jpg',\n",
              " '5b3c3ba0-a8ad-11ef-9bdf-90784112f6e6 - Copy - Copy.jpg',\n",
              " '5eddc5be-a8ad-11ef-afa5-90784112f6e6 - Copy.jpg',\n",
              " '5ee9a069-a8ad-11ef-8b3b-90784112f6e6 - Copy.jpg',\n",
              " '5f0a8a40-a8ad-11ef-9d0c-90784112f6e6 - Copy.jpg',\n",
              " '5f255489-a8ad-11ef-9bb7-90784112f6e6 - Copy.jpg',\n",
              " '5f42507f-a8ad-11ef-8c1c-90784112f6e6 - Copy.jpg',\n",
              " '5f6fa525-a8ad-11ef-a8ba-90784112f6e6 - Copy.jpg',\n",
              " '5f76fa03-a8ad-11ef-a461-90784112f6e6 - Copy.jpg',\n",
              " '5f8a3a7f-a8ad-11ef-98a7-90784112f6e6 - Copy.jpg',\n",
              " '5fdc3f59-a8ad-11ef-a6f9-90784112f6e6 - Copy.jpg',\n",
              " '8acc097a-a8ad-11ef-b3ef-90784112f6e6 - Copy.jpg',\n",
              " '8ada8f29-a8ad-11ef-876a-90784112f6e6 - Copy.jpg',\n",
              " '8afeaefe-a8ad-11ef-bb1c-90784112f6e6 - Copy.jpg',\n",
              " '8b7a840d-a8ad-11ef-93e6-90784112f6e6 - Copy.jpg',\n",
              " '8c322f17-a8ad-11ef-bd74-90784112f6e6 - Copy.jpg',\n",
              " '8c5114f0-a8ad-11ef-8089-90784112f6e6 - Copy.jpg',\n",
              " '8c5f4a01-a8ad-11ef-9cbb-90784112f6e6 - Copy.jpg',\n",
              " '8c6d62e0-a8ad-11ef-a73b-90784112f6e6 - Copy.jpg',\n",
              " '8c9a7343-a8ad-11ef-89ec-90784112f6e6 - Copy.jpg',\n",
              " '8cc36114-a8ad-11ef-8d0a-90784112f6e6 - Copy.jpg',\n",
              " '8cd1dff9-a8ad-11ef-9ad2-90784112f6e6 - Copy.jpg']"
            ]
          },
          "execution_count": 611,
          "metadata": {},
          "output_type": "execute_result"
        }
      ],
      "source": [
        "os.listdir(os.path.join('application_data', 'verification_images'))"
      ]
    },
    {
      "cell_type": "code",
      "execution_count": null,
      "id": "c909c50f-325d-407b-b9a9-86ed6ec98346",
      "metadata": {
        "id": "c909c50f-325d-407b-b9a9-86ed6ec98346",
        "outputId": "5143ad2f-6d6b-48bb-d473-b1a1f9f3a1fe"
      },
      "outputs": [
        {
          "data": {
            "text/plain": [
              "'application_data\\\\input_image\\\\input_image.jpg'"
            ]
          },
          "execution_count": 612,
          "metadata": {},
          "output_type": "execute_result"
        }
      ],
      "source": [
        "os.path.join('application_data', 'input_image', 'input_image.jpg')"
      ]
    },
    {
      "cell_type": "code",
      "execution_count": null,
      "id": "36b8739e-9185-44af-96f5-d2ba888ce3f3",
      "metadata": {
        "id": "36b8739e-9185-44af-96f5-d2ba888ce3f3",
        "outputId": "f0e467fe-da85-4e84-bf80-c1e45452008e"
      },
      "outputs": [
        {
          "name": "stdout",
          "output_type": "stream",
          "text": [
            "application_data\\verification_images\\4b26ba94-a8ad-11ef-95d3-90784112f6e6 - Copy.jpg\n",
            "application_data\\verification_images\\4b26ba94-a8ad-11ef-95d3-90784112f6e6.jpg\n",
            "application_data\\verification_images\\4b40d1f5-a8ad-11ef-a6fe-90784112f6e6 - Copy.jpg\n",
            "application_data\\verification_images\\4b4f794f-a8ad-11ef-9108-90784112f6e6.jpg\n",
            "application_data\\verification_images\\4b5d85fb-a8ad-11ef-b49d-90784112f6e6 - Copy.jpg\n",
            "application_data\\verification_images\\4b5d85fb-a8ad-11ef-b49d-90784112f6e6.jpg\n",
            "application_data\\verification_images\\4b6e5701-a8ad-11ef-87a8-90784112f6e6 - Copy.jpg\n",
            "application_data\\verification_images\\4b6e5701-a8ad-11ef-87a8-90784112f6e6.jpg\n",
            "application_data\\verification_images\\4bc9e2ea-a8ad-11ef-a8bb-90784112f6e6.jpg\n",
            "application_data\\verification_images\\4bd85763-a8ad-11ef-ae55-90784112f6e6 - Copy.jpg\n",
            "application_data\\verification_images\\4bd85763-a8ad-11ef-ae55-90784112f6e6.jpg\n",
            "application_data\\verification_images\\4bfc364f-a8ad-11ef-bf08-90784112f6e6.jpg\n",
            "application_data\\verification_images\\4c194907-a8ad-11ef-adf0-90784112f6e6.jpg\n",
            "application_data\\verification_images\\4c2552ab-a8ad-11ef-8e0a-90784112f6e6.jpg\n",
            "application_data\\verification_images\\4c41e0df-a8ad-11ef-a006-90784112f6e6.jpg\n",
            "application_data\\verification_images\\4c507426-a8ad-11ef-95ae-90784112f6e6.jpg\n",
            "application_data\\verification_images\\4c61787a-a8ad-11ef-b128-90784112f6e6 - Copy.jpg\n",
            "application_data\\verification_images\\4c61787a-a8ad-11ef-b128-90784112f6e6.jpg\n",
            "application_data\\verification_images\\4c851851-a8ad-11ef-b42a-90784112f6e6 - Copy.jpg\n",
            "application_data\\verification_images\\4ca16825-a8ad-11ef-b3e4-90784112f6e6 - Copy.jpg\n",
            "application_data\\verification_images\\4f38a019-a8ad-11ef-9448-90784112f6e6 - Copy - Copy.jpg\n",
            "application_data\\verification_images\\4f471872-a8ad-11ef-9f7a-90784112f6e6 - Copy - Copy.jpg\n",
            "application_data\\verification_images\\4f55be44-a8ad-11ef-b7a0-90784112f6e6 - Copy - Copy.jpg\n",
            "application_data\\verification_images\\4f61e0af-a8ad-11ef-a85c-90784112f6e6 - Copy - Copy.jpg\n",
            "application_data\\verification_images\\4f8ac6fd-a8ad-11ef-9c04-90784112f6e6 - Copy - Copy.jpg\n",
            "application_data\\verification_images\\5a1c158c-a8ad-11ef-a1f3-90784112f6e6 - Copy - Copy.jpg\n",
            "application_data\\verification_images\\5a407d3e-a8ad-11ef-b351-90784112f6e6 - Copy - Copy.jpg\n",
            "application_data\\verification_images\\5a5fb62a-a8ad-11ef-888a-90784112f6e6 - Copy - Copy.jpg\n",
            "application_data\\verification_images\\5a6e4956-a8ad-11ef-9f1c-90784112f6e6 - Copy - Copy.jpg\n",
            "application_data\\verification_images\\5a91deee-a8ad-11ef-a86c-90784112f6e6 - Copy - Copy.jpg\n",
            "application_data\\verification_images\\5b3c3ba0-a8ad-11ef-9bdf-90784112f6e6 - Copy - Copy.jpg\n",
            "application_data\\verification_images\\5eddc5be-a8ad-11ef-afa5-90784112f6e6 - Copy.jpg\n",
            "application_data\\verification_images\\5ee9a069-a8ad-11ef-8b3b-90784112f6e6 - Copy.jpg\n",
            "application_data\\verification_images\\5f0a8a40-a8ad-11ef-9d0c-90784112f6e6 - Copy.jpg\n",
            "application_data\\verification_images\\5f255489-a8ad-11ef-9bb7-90784112f6e6 - Copy.jpg\n",
            "application_data\\verification_images\\5f42507f-a8ad-11ef-8c1c-90784112f6e6 - Copy.jpg\n",
            "application_data\\verification_images\\5f6fa525-a8ad-11ef-a8ba-90784112f6e6 - Copy.jpg\n",
            "application_data\\verification_images\\5f76fa03-a8ad-11ef-a461-90784112f6e6 - Copy.jpg\n",
            "application_data\\verification_images\\5f8a3a7f-a8ad-11ef-98a7-90784112f6e6 - Copy.jpg\n",
            "application_data\\verification_images\\5fdc3f59-a8ad-11ef-a6f9-90784112f6e6 - Copy.jpg\n",
            "application_data\\verification_images\\8acc097a-a8ad-11ef-b3ef-90784112f6e6 - Copy.jpg\n",
            "application_data\\verification_images\\8ada8f29-a8ad-11ef-876a-90784112f6e6 - Copy.jpg\n",
            "application_data\\verification_images\\8afeaefe-a8ad-11ef-bb1c-90784112f6e6 - Copy.jpg\n",
            "application_data\\verification_images\\8b7a840d-a8ad-11ef-93e6-90784112f6e6 - Copy.jpg\n",
            "application_data\\verification_images\\8c322f17-a8ad-11ef-bd74-90784112f6e6 - Copy.jpg\n",
            "application_data\\verification_images\\8c5114f0-a8ad-11ef-8089-90784112f6e6 - Copy.jpg\n",
            "application_data\\verification_images\\8c5f4a01-a8ad-11ef-9cbb-90784112f6e6 - Copy.jpg\n",
            "application_data\\verification_images\\8c6d62e0-a8ad-11ef-a73b-90784112f6e6 - Copy.jpg\n",
            "application_data\\verification_images\\8c9a7343-a8ad-11ef-89ec-90784112f6e6 - Copy.jpg\n",
            "application_data\\verification_images\\8cc36114-a8ad-11ef-8d0a-90784112f6e6 - Copy.jpg\n",
            "application_data\\verification_images\\8cd1dff9-a8ad-11ef-9ad2-90784112f6e6 - Copy.jpg\n"
          ]
        }
      ],
      "source": [
        "for image in os.listdir(os.path.join('application_data', 'verification_images')):\n",
        "    validation_img = os.path.join('application_data', 'verification_images', image)\n",
        "    print(validation_img)"
      ]
    },
    {
      "cell_type": "code",
      "execution_count": null,
      "id": "c54cbd1e-db34-4a49-9eca-96fb6b656b56",
      "metadata": {
        "id": "c54cbd1e-db34-4a49-9eca-96fb6b656b56"
      },
      "outputs": [],
      "source": [
        "def verify(model, detection_threshold, verification_threshold):\n",
        "    # Build results array\n",
        "    results = []\n",
        "    for image in os.listdir(os.path.join('application_data', 'verification_images')):\n",
        "        input_img = preprocess(os.path.join('application_data', 'input_image', 'input_image.jpg'))\n",
        "        validation_img = preprocess(os.path.join('application_data', 'verification_images', image))\n",
        "\n",
        "        # Make Predictions\n",
        "        result = model.predict(list(np.expand_dims([input_img, validation_img], axis=1)))\n",
        "        results.append(result)\n",
        "\n",
        "    # Detection Threshold: Metric above which a prediciton is considered positive\n",
        "    detection = np.sum(np.array(results) > detection_threshold)\n",
        "\n",
        "    # Verification Threshold: Proportion of positive predictions / total positive samples\n",
        "    verification = detection / len(os.listdir(os.path.join('application_data', 'verification_images')))\n",
        "    verified = verification > verification_threshold\n",
        "\n",
        "    return results, verified"
      ]
    },
    {
      "cell_type": "markdown",
      "id": "720a709d-2b0a-481f-b2b0-c0d8adf98db4",
      "metadata": {
        "id": "720a709d-2b0a-481f-b2b0-c0d8adf98db4"
      },
      "source": [
        "OpenCV Real Time Verif"
      ]
    },
    {
      "cell_type": "code",
      "execution_count": null,
      "id": "22cbaa1d-4862-4e75-994e-3c30871ae886",
      "metadata": {
        "id": "22cbaa1d-4862-4e75-994e-3c30871ae886",
        "outputId": "b783f23e-73ad-4007-a622-be2f358d9f1f"
      },
      "outputs": [
        {
          "ename": "NameError",
          "evalue": "name 'model' is not defined",
          "output_type": "error",
          "traceback": [
            "\u001b[1;31m---------------------------------------------------------------------------\u001b[0m",
            "\u001b[1;31mNameError\u001b[0m                                 Traceback (most recent call last)",
            "Cell \u001b[1;32mIn[6], line 13\u001b[0m\n\u001b[0;32m     11\u001b[0m     cv2\u001b[38;5;241m.\u001b[39mimwrite(os\u001b[38;5;241m.\u001b[39mpath\u001b[38;5;241m.\u001b[39mjoin(\u001b[38;5;124m'\u001b[39m\u001b[38;5;124mapplication_data\u001b[39m\u001b[38;5;124m'\u001b[39m, \u001b[38;5;124m'\u001b[39m\u001b[38;5;124minput_image\u001b[39m\u001b[38;5;124m'\u001b[39m, \u001b[38;5;124m'\u001b[39m\u001b[38;5;124minput_image.jpg\u001b[39m\u001b[38;5;124m'\u001b[39m), frame)\n\u001b[0;32m     12\u001b[0m     \u001b[38;5;66;03m# Run verification\u001b[39;00m\n\u001b[1;32m---> 13\u001b[0m     results, verified \u001b[38;5;241m=\u001b[39m verify(\u001b[43mmodel\u001b[49m, \u001b[38;5;241m0.9\u001b[39m, \u001b[38;5;241m0.7\u001b[39m)\n\u001b[0;32m     14\u001b[0m     \u001b[38;5;28mprint\u001b[39m(verified)\n\u001b[0;32m     16\u001b[0m \u001b[38;5;28;01mif\u001b[39;00m cv2\u001b[38;5;241m.\u001b[39mwaitKey(\u001b[38;5;241m10\u001b[39m) \u001b[38;5;241m&\u001b[39m \u001b[38;5;241m0xFF\u001b[39m \u001b[38;5;241m==\u001b[39m \u001b[38;5;28mord\u001b[39m(\u001b[38;5;124m'\u001b[39m\u001b[38;5;124mq\u001b[39m\u001b[38;5;124m'\u001b[39m):\n",
            "\u001b[1;31mNameError\u001b[0m: name 'model' is not defined"
          ]
        }
      ],
      "source": [
        "cap = cv2.VideoCapture(0)\n",
        "while cap.isOpened():\n",
        "    ret, frame = cap.read()\n",
        "    frame = frame[120:120+250,200:200+250, :]\n",
        "\n",
        "    cv2.imshow('Verification', frame)\n",
        "\n",
        "    # Verification trigger\n",
        "    if cv2.waitKey(10) & 0xFF == ord('v'):\n",
        "        # Save input image to application_data/input_image folder\n",
        "        cv2.imwrite(os.path.join('application_data', 'input_image', 'input_image.jpg'), frame)\n",
        "        # Run verification\n",
        "        results, verified = verify(model, 0.9, 0.7)\n",
        "        print(verified)\n",
        "\n",
        "    if cv2.waitKey(10) & 0xFF == ord('q'):\n",
        "        break\n",
        "cap.release()\n",
        "cv2.destroyAllWindows()"
      ]
    },
    {
      "cell_type": "code",
      "execution_count": null,
      "id": "326c88da-df67-46d8-8850-1c2493ae1ee6",
      "metadata": {
        "id": "326c88da-df67-46d8-8850-1c2493ae1ee6"
      },
      "outputs": [],
      "source": [
        "np.sum(np.squeeze(results) > 0.9)"
      ]
    },
    {
      "cell_type": "code",
      "execution_count": null,
      "id": "aade9ba5-f011-4581-bed5-5edc861b4b42",
      "metadata": {
        "id": "aade9ba5-f011-4581-bed5-5edc861b4b42",
        "outputId": "7099961a-864f-4a95-e19d-8d7988c90a3e"
      },
      "outputs": [
        {
          "data": {
            "text/plain": [
              "0.64"
            ]
          },
          "execution_count": 609,
          "metadata": {},
          "output_type": "execute_result"
        }
      ],
      "source": [
        "32/50"
      ]
    },
    {
      "cell_type": "code",
      "execution_count": null,
      "id": "4eefb16f-b5f6-469e-8ea3-f78a60120950",
      "metadata": {
        "id": "4eefb16f-b5f6-469e-8ea3-f78a60120950"
      },
      "outputs": [],
      "source": []
    }
  ],
  "metadata": {
    "kernelspec": {
      "display_name": "Python 3",
      "name": "python3"
    },
    "language_info": {
      "codemirror_mode": {
        "name": "ipython",
        "version": 3
      },
      "file_extension": ".py",
      "mimetype": "text/x-python",
      "name": "python",
      "nbconvert_exporter": "python",
      "pygments_lexer": "ipython3",
      "version": "3.12.3"
    },
    "colab": {
      "provenance": [],
      "gpuType": "T4"
    },
    "accelerator": "GPU"
  },
  "nbformat": 4,
  "nbformat_minor": 5
}