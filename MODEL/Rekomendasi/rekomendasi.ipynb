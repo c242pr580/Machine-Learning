{
  "nbformat": 4,
  "nbformat_minor": 0,
  "metadata": {
    "colab": {
      "provenance": []
    },
    "kernelspec": {
      "name": "python3",
      "display_name": "Python 3"
    },
    "language_info": {
      "name": "python"
    }
  },
  "cells": [
    {
      "cell_type": "markdown",
      "source": [
        "# **Recommendation System**"
      ],
      "metadata": {
        "id": "y0RtKhRcVu0s"
      }
    },
    {
      "cell_type": "markdown",
      "source": [
        "**Data Loading**"
      ],
      "metadata": {
        "id": "bISwCGxoV6ZA"
      }
    },
    {
      "cell_type": "markdown",
      "source": [
        "Import Library\n"
      ],
      "metadata": {
        "id": "Vsc7xRSwV-Nw"
      }
    },
    {
      "cell_type": "code",
      "execution_count": null,
      "metadata": {
        "id": "P8RAPdrJVrd1"
      },
      "outputs": [],
      "source": [
        "import os\n",
        "import numpy as np\n",
        "import pandas as pd\n",
        "import seaborn as sns\n",
        "import matplotlib.pyplot as plt\n",
        "import nltk\n",
        "from sklearn.feature_extraction.text import TfidfVectorizer\n",
        "from sklearn.metrics.pairwise import cosine_similarity\n",
        "from nltk.corpus import stopwords\n",
        "from sklearn.metrics import mean_squared_error\n",
        "from sklearn.preprocessing import MinMaxScaler\n",
        "\n",
        "import zipfile\n",
        "import tensorflow as tf\n",
        "from tensorflow import keras\n",
        "from tensorflow.keras import layers\n",
        "from keras.callbacks import EarlyStopping\n",
        "%matplotlib inline\n",
        "\n",
        "from google.colab import files\n",
        "from sklearn.feature_extraction.text import TfidfVectorizer\n",
        "from sklearn.metrics.pairwise import cosine_similarity\n"
      ]
    },
    {
      "cell_type": "markdown",
      "source": [
        "Connect ke GDRIVE"
      ],
      "metadata": {
        "id": "eRp7qfz2WQ9A"
      }
    },
    {
      "cell_type": "code",
      "source": [
        "from google.colab import drive\n",
        "drive.mount('/content/drive')"
      ],
      "metadata": {
        "colab": {
          "base_uri": "https://localhost:8080/"
        },
        "id": "axhUHCyCVtER",
        "outputId": "5e1c1124-f64f-4d83-a060-4185aed685f2"
      },
      "execution_count": null,
      "outputs": [
        {
          "output_type": "stream",
          "name": "stdout",
          "text": [
            "Mounted at /content/drive\n"
          ]
        }
      ]
    },
    {
      "cell_type": "markdown",
      "source": [
        "Read Dataset"
      ],
      "metadata": {
        "id": "hnqAhuRsWVQA"
      }
    },
    {
      "cell_type": "code",
      "source": [
        "riwayat_pekerjaan = pd.read_csv('/content/drive/MyDrive/mitrav3/gabung_riwayat_pekerjaan.csv')\n",
        "\n",
        "riwayat_pekerjaan.head()"
      ],
      "metadata": {
        "id": "oyHbKeGBWTlR",
        "colab": {
          "base_uri": "https://localhost:8080/",
          "height": 293
        },
        "outputId": "ede02ef6-a1af-4a06-d336-b07cb65ff863"
      },
      "execution_count": null,
      "outputs": [
        {
          "output_type": "execute_result",
          "data": {
            "text/plain": [
              "   id_job  id_mitra  user_id                         job_title  \\\n",
              "0     255         1       37  Jasa Penyusunan Curriculum Vitae   \n",
              "1     199         1       40                      Perbaikan TV   \n",
              "2     277         1        9         Perbaikan Alat Elektronik   \n",
              "3      98         1       39                 Instalasi Listrik   \n",
              "4     877         1       44            Pemasangan Kamar Mandi   \n",
              "\n",
              "                                     job_description  job_rating source_folder  \n",
              "0                   Membantu menulis dan menyusun CV           5       mitra 1  \n",
              "1                Memperbaiki kerusakan pada televisi           5       mitra 1  \n",
              "2                  Memperbaiki alat elektronik rumah           1       mitra 1  \n",
              "3                    Pemasangan stop kontak di rumah           2       mitra 1  \n",
              "4  Instalasi perangkat kamar mandi seperti wastaf...           1       mitra 1  "
            ],
            "text/html": [
              "\n",
              "  <div id=\"df-d17adb9c-27a5-43e0-8da9-421bafb40323\" class=\"colab-df-container\">\n",
              "    <div>\n",
              "<style scoped>\n",
              "    .dataframe tbody tr th:only-of-type {\n",
              "        vertical-align: middle;\n",
              "    }\n",
              "\n",
              "    .dataframe tbody tr th {\n",
              "        vertical-align: top;\n",
              "    }\n",
              "\n",
              "    .dataframe thead th {\n",
              "        text-align: right;\n",
              "    }\n",
              "</style>\n",
              "<table border=\"1\" class=\"dataframe\">\n",
              "  <thead>\n",
              "    <tr style=\"text-align: right;\">\n",
              "      <th></th>\n",
              "      <th>id_job</th>\n",
              "      <th>id_mitra</th>\n",
              "      <th>user_id</th>\n",
              "      <th>job_title</th>\n",
              "      <th>job_description</th>\n",
              "      <th>job_rating</th>\n",
              "      <th>source_folder</th>\n",
              "    </tr>\n",
              "  </thead>\n",
              "  <tbody>\n",
              "    <tr>\n",
              "      <th>0</th>\n",
              "      <td>255</td>\n",
              "      <td>1</td>\n",
              "      <td>37</td>\n",
              "      <td>Jasa Penyusunan Curriculum Vitae</td>\n",
              "      <td>Membantu menulis dan menyusun CV</td>\n",
              "      <td>5</td>\n",
              "      <td>mitra 1</td>\n",
              "    </tr>\n",
              "    <tr>\n",
              "      <th>1</th>\n",
              "      <td>199</td>\n",
              "      <td>1</td>\n",
              "      <td>40</td>\n",
              "      <td>Perbaikan TV</td>\n",
              "      <td>Memperbaiki kerusakan pada televisi</td>\n",
              "      <td>5</td>\n",
              "      <td>mitra 1</td>\n",
              "    </tr>\n",
              "    <tr>\n",
              "      <th>2</th>\n",
              "      <td>277</td>\n",
              "      <td>1</td>\n",
              "      <td>9</td>\n",
              "      <td>Perbaikan Alat Elektronik</td>\n",
              "      <td>Memperbaiki alat elektronik rumah</td>\n",
              "      <td>1</td>\n",
              "      <td>mitra 1</td>\n",
              "    </tr>\n",
              "    <tr>\n",
              "      <th>3</th>\n",
              "      <td>98</td>\n",
              "      <td>1</td>\n",
              "      <td>39</td>\n",
              "      <td>Instalasi Listrik</td>\n",
              "      <td>Pemasangan stop kontak di rumah</td>\n",
              "      <td>2</td>\n",
              "      <td>mitra 1</td>\n",
              "    </tr>\n",
              "    <tr>\n",
              "      <th>4</th>\n",
              "      <td>877</td>\n",
              "      <td>1</td>\n",
              "      <td>44</td>\n",
              "      <td>Pemasangan Kamar Mandi</td>\n",
              "      <td>Instalasi perangkat kamar mandi seperti wastaf...</td>\n",
              "      <td>1</td>\n",
              "      <td>mitra 1</td>\n",
              "    </tr>\n",
              "  </tbody>\n",
              "</table>\n",
              "</div>\n",
              "    <div class=\"colab-df-buttons\">\n",
              "\n",
              "  <div class=\"colab-df-container\">\n",
              "    <button class=\"colab-df-convert\" onclick=\"convertToInteractive('df-d17adb9c-27a5-43e0-8da9-421bafb40323')\"\n",
              "            title=\"Convert this dataframe to an interactive table.\"\n",
              "            style=\"display:none;\">\n",
              "\n",
              "  <svg xmlns=\"http://www.w3.org/2000/svg\" height=\"24px\" viewBox=\"0 -960 960 960\">\n",
              "    <path d=\"M120-120v-720h720v720H120Zm60-500h600v-160H180v160Zm220 220h160v-160H400v160Zm0 220h160v-160H400v160ZM180-400h160v-160H180v160Zm440 0h160v-160H620v160ZM180-180h160v-160H180v160Zm440 0h160v-160H620v160Z\"/>\n",
              "  </svg>\n",
              "    </button>\n",
              "\n",
              "  <style>\n",
              "    .colab-df-container {\n",
              "      display:flex;\n",
              "      gap: 12px;\n",
              "    }\n",
              "\n",
              "    .colab-df-convert {\n",
              "      background-color: #E8F0FE;\n",
              "      border: none;\n",
              "      border-radius: 50%;\n",
              "      cursor: pointer;\n",
              "      display: none;\n",
              "      fill: #1967D2;\n",
              "      height: 32px;\n",
              "      padding: 0 0 0 0;\n",
              "      width: 32px;\n",
              "    }\n",
              "\n",
              "    .colab-df-convert:hover {\n",
              "      background-color: #E2EBFA;\n",
              "      box-shadow: 0px 1px 2px rgba(60, 64, 67, 0.3), 0px 1px 3px 1px rgba(60, 64, 67, 0.15);\n",
              "      fill: #174EA6;\n",
              "    }\n",
              "\n",
              "    .colab-df-buttons div {\n",
              "      margin-bottom: 4px;\n",
              "    }\n",
              "\n",
              "    [theme=dark] .colab-df-convert {\n",
              "      background-color: #3B4455;\n",
              "      fill: #D2E3FC;\n",
              "    }\n",
              "\n",
              "    [theme=dark] .colab-df-convert:hover {\n",
              "      background-color: #434B5C;\n",
              "      box-shadow: 0px 1px 3px 1px rgba(0, 0, 0, 0.15);\n",
              "      filter: drop-shadow(0px 1px 2px rgba(0, 0, 0, 0.3));\n",
              "      fill: #FFFFFF;\n",
              "    }\n",
              "  </style>\n",
              "\n",
              "    <script>\n",
              "      const buttonEl =\n",
              "        document.querySelector('#df-d17adb9c-27a5-43e0-8da9-421bafb40323 button.colab-df-convert');\n",
              "      buttonEl.style.display =\n",
              "        google.colab.kernel.accessAllowed ? 'block' : 'none';\n",
              "\n",
              "      async function convertToInteractive(key) {\n",
              "        const element = document.querySelector('#df-d17adb9c-27a5-43e0-8da9-421bafb40323');\n",
              "        const dataTable =\n",
              "          await google.colab.kernel.invokeFunction('convertToInteractive',\n",
              "                                                    [key], {});\n",
              "        if (!dataTable) return;\n",
              "\n",
              "        const docLinkHtml = 'Like what you see? Visit the ' +\n",
              "          '<a target=\"_blank\" href=https://colab.research.google.com/notebooks/data_table.ipynb>data table notebook</a>'\n",
              "          + ' to learn more about interactive tables.';\n",
              "        element.innerHTML = '';\n",
              "        dataTable['output_type'] = 'display_data';\n",
              "        await google.colab.output.renderOutput(dataTable, element);\n",
              "        const docLink = document.createElement('div');\n",
              "        docLink.innerHTML = docLinkHtml;\n",
              "        element.appendChild(docLink);\n",
              "      }\n",
              "    </script>\n",
              "  </div>\n",
              "\n",
              "\n",
              "<div id=\"df-5bdcb94e-1af2-4c6a-afdc-5e32d8731092\">\n",
              "  <button class=\"colab-df-quickchart\" onclick=\"quickchart('df-5bdcb94e-1af2-4c6a-afdc-5e32d8731092')\"\n",
              "            title=\"Suggest charts\"\n",
              "            style=\"display:none;\">\n",
              "\n",
              "<svg xmlns=\"http://www.w3.org/2000/svg\" height=\"24px\"viewBox=\"0 0 24 24\"\n",
              "     width=\"24px\">\n",
              "    <g>\n",
              "        <path d=\"M19 3H5c-1.1 0-2 .9-2 2v14c0 1.1.9 2 2 2h14c1.1 0 2-.9 2-2V5c0-1.1-.9-2-2-2zM9 17H7v-7h2v7zm4 0h-2V7h2v10zm4 0h-2v-4h2v4z\"/>\n",
              "    </g>\n",
              "</svg>\n",
              "  </button>\n",
              "\n",
              "<style>\n",
              "  .colab-df-quickchart {\n",
              "      --bg-color: #E8F0FE;\n",
              "      --fill-color: #1967D2;\n",
              "      --hover-bg-color: #E2EBFA;\n",
              "      --hover-fill-color: #174EA6;\n",
              "      --disabled-fill-color: #AAA;\n",
              "      --disabled-bg-color: #DDD;\n",
              "  }\n",
              "\n",
              "  [theme=dark] .colab-df-quickchart {\n",
              "      --bg-color: #3B4455;\n",
              "      --fill-color: #D2E3FC;\n",
              "      --hover-bg-color: #434B5C;\n",
              "      --hover-fill-color: #FFFFFF;\n",
              "      --disabled-bg-color: #3B4455;\n",
              "      --disabled-fill-color: #666;\n",
              "  }\n",
              "\n",
              "  .colab-df-quickchart {\n",
              "    background-color: var(--bg-color);\n",
              "    border: none;\n",
              "    border-radius: 50%;\n",
              "    cursor: pointer;\n",
              "    display: none;\n",
              "    fill: var(--fill-color);\n",
              "    height: 32px;\n",
              "    padding: 0;\n",
              "    width: 32px;\n",
              "  }\n",
              "\n",
              "  .colab-df-quickchart:hover {\n",
              "    background-color: var(--hover-bg-color);\n",
              "    box-shadow: 0 1px 2px rgba(60, 64, 67, 0.3), 0 1px 3px 1px rgba(60, 64, 67, 0.15);\n",
              "    fill: var(--button-hover-fill-color);\n",
              "  }\n",
              "\n",
              "  .colab-df-quickchart-complete:disabled,\n",
              "  .colab-df-quickchart-complete:disabled:hover {\n",
              "    background-color: var(--disabled-bg-color);\n",
              "    fill: var(--disabled-fill-color);\n",
              "    box-shadow: none;\n",
              "  }\n",
              "\n",
              "  .colab-df-spinner {\n",
              "    border: 2px solid var(--fill-color);\n",
              "    border-color: transparent;\n",
              "    border-bottom-color: var(--fill-color);\n",
              "    animation:\n",
              "      spin 1s steps(1) infinite;\n",
              "  }\n",
              "\n",
              "  @keyframes spin {\n",
              "    0% {\n",
              "      border-color: transparent;\n",
              "      border-bottom-color: var(--fill-color);\n",
              "      border-left-color: var(--fill-color);\n",
              "    }\n",
              "    20% {\n",
              "      border-color: transparent;\n",
              "      border-left-color: var(--fill-color);\n",
              "      border-top-color: var(--fill-color);\n",
              "    }\n",
              "    30% {\n",
              "      border-color: transparent;\n",
              "      border-left-color: var(--fill-color);\n",
              "      border-top-color: var(--fill-color);\n",
              "      border-right-color: var(--fill-color);\n",
              "    }\n",
              "    40% {\n",
              "      border-color: transparent;\n",
              "      border-right-color: var(--fill-color);\n",
              "      border-top-color: var(--fill-color);\n",
              "    }\n",
              "    60% {\n",
              "      border-color: transparent;\n",
              "      border-right-color: var(--fill-color);\n",
              "    }\n",
              "    80% {\n",
              "      border-color: transparent;\n",
              "      border-right-color: var(--fill-color);\n",
              "      border-bottom-color: var(--fill-color);\n",
              "    }\n",
              "    90% {\n",
              "      border-color: transparent;\n",
              "      border-bottom-color: var(--fill-color);\n",
              "    }\n",
              "  }\n",
              "</style>\n",
              "\n",
              "  <script>\n",
              "    async function quickchart(key) {\n",
              "      const quickchartButtonEl =\n",
              "        document.querySelector('#' + key + ' button');\n",
              "      quickchartButtonEl.disabled = true;  // To prevent multiple clicks.\n",
              "      quickchartButtonEl.classList.add('colab-df-spinner');\n",
              "      try {\n",
              "        const charts = await google.colab.kernel.invokeFunction(\n",
              "            'suggestCharts', [key], {});\n",
              "      } catch (error) {\n",
              "        console.error('Error during call to suggestCharts:', error);\n",
              "      }\n",
              "      quickchartButtonEl.classList.remove('colab-df-spinner');\n",
              "      quickchartButtonEl.classList.add('colab-df-quickchart-complete');\n",
              "    }\n",
              "    (() => {\n",
              "      let quickchartButtonEl =\n",
              "        document.querySelector('#df-5bdcb94e-1af2-4c6a-afdc-5e32d8731092 button');\n",
              "      quickchartButtonEl.style.display =\n",
              "        google.colab.kernel.accessAllowed ? 'block' : 'none';\n",
              "    })();\n",
              "  </script>\n",
              "</div>\n",
              "\n",
              "    </div>\n",
              "  </div>\n"
            ],
            "application/vnd.google.colaboratory.intrinsic+json": {
              "type": "dataframe",
              "variable_name": "riwayat_pekerjaan",
              "summary": "{\n  \"name\": \"riwayat_pekerjaan\",\n  \"rows\": 225,\n  \"fields\": [\n    {\n      \"column\": \"id_job\",\n      \"properties\": {\n        \"dtype\": \"number\",\n        \"std\": 283,\n        \"min\": 8,\n        \"max\": 998,\n        \"num_unique_values\": 202,\n        \"samples\": [\n          721,\n          614,\n          958\n        ],\n        \"semantic_type\": \"\",\n        \"description\": \"\"\n      }\n    },\n    {\n      \"column\": \"id_mitra\",\n      \"properties\": {\n        \"dtype\": \"number\",\n        \"std\": 2,\n        \"min\": 1,\n        \"max\": 10,\n        \"num_unique_values\": 10,\n        \"samples\": [\n          9,\n          2,\n          6\n        ],\n        \"semantic_type\": \"\",\n        \"description\": \"\"\n      }\n    },\n    {\n      \"column\": \"user_id\",\n      \"properties\": {\n        \"dtype\": \"number\",\n        \"std\": 14,\n        \"min\": 1,\n        \"max\": 50,\n        \"num_unique_values\": 50,\n        \"samples\": [\n          20,\n          38,\n          33\n        ],\n        \"semantic_type\": \"\",\n        \"description\": \"\"\n      }\n    },\n    {\n      \"column\": \"job_title\",\n      \"properties\": {\n        \"dtype\": \"category\",\n        \"num_unique_values\": 94,\n        \"samples\": [\n          \"Jasa Penataan Taman\",\n          \"Instalasi Sistem Pemanas Air\",\n          \"Pengantaran Makanan\"\n        ],\n        \"semantic_type\": \"\",\n        \"description\": \"\"\n      }\n    },\n    {\n      \"column\": \"job_description\",\n      \"properties\": {\n        \"dtype\": \"category\",\n        \"num_unique_values\": 94,\n        \"samples\": [\n          \"Merancang dan merawat taman di halaman\",\n          \"Memasang pemanas air untuk rumah atau kantor\",\n          \"Mengantar makanan ke alamat pelanggan\"\n        ],\n        \"semantic_type\": \"\",\n        \"description\": \"\"\n      }\n    },\n    {\n      \"column\": \"job_rating\",\n      \"properties\": {\n        \"dtype\": \"number\",\n        \"std\": 1,\n        \"min\": 1,\n        \"max\": 5,\n        \"num_unique_values\": 5,\n        \"samples\": [\n          1,\n          4,\n          2\n        ],\n        \"semantic_type\": \"\",\n        \"description\": \"\"\n      }\n    },\n    {\n      \"column\": \"source_folder\",\n      \"properties\": {\n        \"dtype\": \"category\",\n        \"num_unique_values\": 10,\n        \"samples\": [\n          \"mitra 9\",\n          \"mitra 2\",\n          \"mitra 6\"\n        ],\n        \"semantic_type\": \"\",\n        \"description\": \"\"\n      }\n    }\n  ]\n}"
            }
          },
          "metadata": {},
          "execution_count": 3
        }
      ]
    },
    {
      "cell_type": "markdown",
      "source": [
        "2. Data Understanding"
      ],
      "metadata": {
        "id": "pOqr7J4niYJA"
      }
    },
    {
      "cell_type": "markdown",
      "source": [
        "Melihat Infromasi Data"
      ],
      "metadata": {
        "id": "PANh3PEKpLXm"
      }
    },
    {
      "cell_type": "code",
      "source": [
        "# Deskripsi dataset\n",
        "print(\"\\nInformasi Data:\")\n",
        "print(riwayat_pekerjaan.info())"
      ],
      "metadata": {
        "colab": {
          "base_uri": "https://localhost:8080/"
        },
        "id": "ZdzNFpRtiUah",
        "outputId": "012769ca-8f25-4c5b-a247-aad38f963204"
      },
      "execution_count": null,
      "outputs": [
        {
          "output_type": "stream",
          "name": "stdout",
          "text": [
            "\n",
            "Informasi Data:\n",
            "<class 'pandas.core.frame.DataFrame'>\n",
            "RangeIndex: 225 entries, 0 to 224\n",
            "Data columns (total 7 columns):\n",
            " #   Column           Non-Null Count  Dtype \n",
            "---  ------           --------------  ----- \n",
            " 0   id_job           225 non-null    int64 \n",
            " 1   id_mitra         225 non-null    int64 \n",
            " 2   user_id          225 non-null    int64 \n",
            " 3   job_title        225 non-null    object\n",
            " 4   job_description  225 non-null    object\n",
            " 5   job_rating       225 non-null    int64 \n",
            " 6   source_folder    225 non-null    object\n",
            "dtypes: int64(4), object(3)\n",
            "memory usage: 12.4+ KB\n",
            "None\n"
          ]
        }
      ]
    },
    {
      "cell_type": "code",
      "source": [
        "riwayat_pekerjaan.job_rating.value_counts()"
      ],
      "metadata": {
        "id": "0bwzjgRzpUmN",
        "colab": {
          "base_uri": "https://localhost:8080/",
          "height": 272
        },
        "outputId": "b995f713-980b-4628-b54d-ebd81f1eb534"
      },
      "execution_count": null,
      "outputs": [
        {
          "output_type": "execute_result",
          "data": {
            "text/plain": [
              "job_rating\n",
              "3    53\n",
              "5    52\n",
              "1    46\n",
              "2    38\n",
              "4    36\n",
              "Name: count, dtype: int64"
            ],
            "text/html": [
              "<div>\n",
              "<style scoped>\n",
              "    .dataframe tbody tr th:only-of-type {\n",
              "        vertical-align: middle;\n",
              "    }\n",
              "\n",
              "    .dataframe tbody tr th {\n",
              "        vertical-align: top;\n",
              "    }\n",
              "\n",
              "    .dataframe thead th {\n",
              "        text-align: right;\n",
              "    }\n",
              "</style>\n",
              "<table border=\"1\" class=\"dataframe\">\n",
              "  <thead>\n",
              "    <tr style=\"text-align: right;\">\n",
              "      <th></th>\n",
              "      <th>count</th>\n",
              "    </tr>\n",
              "    <tr>\n",
              "      <th>job_rating</th>\n",
              "      <th></th>\n",
              "    </tr>\n",
              "  </thead>\n",
              "  <tbody>\n",
              "    <tr>\n",
              "      <th>3</th>\n",
              "      <td>53</td>\n",
              "    </tr>\n",
              "    <tr>\n",
              "      <th>5</th>\n",
              "      <td>52</td>\n",
              "    </tr>\n",
              "    <tr>\n",
              "      <th>1</th>\n",
              "      <td>46</td>\n",
              "    </tr>\n",
              "    <tr>\n",
              "      <th>2</th>\n",
              "      <td>38</td>\n",
              "    </tr>\n",
              "    <tr>\n",
              "      <th>4</th>\n",
              "      <td>36</td>\n",
              "    </tr>\n",
              "  </tbody>\n",
              "</table>\n",
              "</div><br><label><b>dtype:</b> int64</label>"
            ]
          },
          "metadata": {},
          "execution_count": 7
        }
      ]
    },
    {
      "cell_type": "markdown",
      "source": [
        "Terlihat dari informasi data rating diatas bahwa rating memiliki maksimal 5 bintang dengan skala 0.5"
      ],
      "metadata": {
        "id": "OcK9qVr-pOl1"
      }
    },
    {
      "cell_type": "code",
      "source": [
        "# Menghapus kolom 'source_folder'\n",
        "riwayat_pekerjaan = riwayat_pekerjaan.drop(columns=['source_folder'])\n",
        "\n",
        "# Menampilkan informasi DataFrame setelah kolom dihapus\n",
        "print(riwayat_pekerjaan.info())"
      ],
      "metadata": {
        "colab": {
          "base_uri": "https://localhost:8080/"
        },
        "id": "5JuzHzrfid2A",
        "outputId": "809cf08e-5968-4322-bd38-90c904b2f266"
      },
      "execution_count": null,
      "outputs": [
        {
          "output_type": "stream",
          "name": "stdout",
          "text": [
            "<class 'pandas.core.frame.DataFrame'>\n",
            "RangeIndex: 225 entries, 0 to 224\n",
            "Data columns (total 6 columns):\n",
            " #   Column           Non-Null Count  Dtype \n",
            "---  ------           --------------  ----- \n",
            " 0   id_job           225 non-null    int64 \n",
            " 1   id_mitra         225 non-null    int64 \n",
            " 2   user_id          225 non-null    int64 \n",
            " 3   job_title        225 non-null    object\n",
            " 4   job_description  225 non-null    object\n",
            " 5   job_rating       225 non-null    int64 \n",
            "dtypes: int64(4), object(2)\n",
            "memory usage: 10.7+ KB\n",
            "None\n"
          ]
        }
      ]
    },
    {
      "cell_type": "code",
      "source": [
        "# Melihat statistik deskriptif\n",
        "print(\"\\nStatistik Deskriptif:\")\n",
        "print(riwayat_pekerjaan.describe())"
      ],
      "metadata": {
        "colab": {
          "base_uri": "https://localhost:8080/"
        },
        "id": "FfS-P76PkgrB",
        "outputId": "e3e4883b-e90e-45f8-ffd0-6b72f3bc6fdf"
      },
      "execution_count": null,
      "outputs": [
        {
          "output_type": "stream",
          "name": "stdout",
          "text": [
            "\n",
            "Statistik Deskriptif:\n",
            "           id_job    id_mitra     user_id  job_rating\n",
            "count  225.000000  225.000000  225.000000  225.000000\n",
            "mean   545.782222    5.066667   26.302222    3.044444\n",
            "std    283.941474    2.923122   14.518376    1.441656\n",
            "min      8.000000    1.000000    1.000000    1.000000\n",
            "25%    310.000000    3.000000   14.000000    2.000000\n",
            "50%    557.000000    5.000000   26.000000    3.000000\n",
            "75%    799.000000    7.000000   39.000000    4.000000\n",
            "max    998.000000   10.000000   50.000000    5.000000\n"
          ]
        }
      ]
    },
    {
      "cell_type": "code",
      "source": [
        "# Total data\n",
        "print(f\"\\nTotal data: {len(riwayat_pekerjaan)}\")"
      ],
      "metadata": {
        "colab": {
          "base_uri": "https://localhost:8080/"
        },
        "id": "j2guAOQkk9p3",
        "outputId": "3c06f862-c995-43de-ffd2-f904449a3bed"
      },
      "execution_count": null,
      "outputs": [
        {
          "output_type": "stream",
          "name": "stdout",
          "text": [
            "\n",
            "Total data: 225\n"
          ]
        }
      ]
    },
    {
      "cell_type": "code",
      "source": [
        "# Cek data duplikat\n",
        "print(f\"\\nData duplikat: {riwayat_pekerjaan.duplicated().sum()}\")"
      ],
      "metadata": {
        "colab": {
          "base_uri": "https://localhost:8080/"
        },
        "id": "EG8uR36dk_zv",
        "outputId": "4d9c0dc6-a055-4bec-b34b-af264b3f2737"
      },
      "execution_count": null,
      "outputs": [
        {
          "output_type": "stream",
          "name": "stdout",
          "text": [
            "\n",
            "Data duplikat: 0\n"
          ]
        }
      ]
    },
    {
      "cell_type": "code",
      "source": [
        "# Cek missing value\n",
        "print(\"\\nMissing Value:\")\n",
        "print(riwayat_pekerjaan.isnull().sum())\n"
      ],
      "metadata": {
        "colab": {
          "base_uri": "https://localhost:8080/"
        },
        "id": "5sVJUVDNmUjP",
        "outputId": "8caef94c-4240-4962-ec4a-513b409c36c8"
      },
      "execution_count": null,
      "outputs": [
        {
          "output_type": "stream",
          "name": "stdout",
          "text": [
            "\n",
            "Missing Value:\n",
            "id_job             0\n",
            "id_mitra           0\n",
            "user_id            0\n",
            "job_title          0\n",
            "job_description    0\n",
            "job_rating         0\n",
            "dtype: int64\n"
          ]
        }
      ]
    },
    {
      "cell_type": "code",
      "source": [
        "# Total data unik untuk setiap kolom\n",
        "print(\"\\nTotal data unik per kolom:\")\n",
        "for col in riwayat_pekerjaan.columns:\n",
        "    print(f\"{col}: {riwayat_pekerjaan[col].nunique()} unique values\")"
      ],
      "metadata": {
        "colab": {
          "base_uri": "https://localhost:8080/"
        },
        "id": "9irhYHy3mhlf",
        "outputId": "79ceeab6-634e-4c4c-90ed-492094d95d96"
      },
      "execution_count": null,
      "outputs": [
        {
          "output_type": "stream",
          "name": "stdout",
          "text": [
            "\n",
            "Total data unik per kolom:\n",
            "id_job: 202 unique values\n",
            "id_mitra: 10 unique values\n",
            "user_id: 50 unique values\n",
            "job_title: 94 unique values\n",
            "job_description: 94 unique values\n",
            "job_rating: 5 unique values\n"
          ]
        }
      ]
    },
    {
      "cell_type": "code",
      "source": [
        "# Distribusi rating\n",
        "sns.countplot(data=riwayat_pekerjaan, x='job_rating')\n",
        "plt.title('Distribusi Rating')\n",
        "plt.xlabel('Rating')\n",
        "plt.ylabel('Jumlah')\n",
        "plt.show()"
      ],
      "metadata": {
        "colab": {
          "base_uri": "https://localhost:8080/",
          "height": 472
        },
        "id": "TbYsu9ifms2_",
        "outputId": "ef422ff6-995a-4d62-82ed-73f89fccc749"
      },
      "execution_count": null,
      "outputs": [
        {
          "output_type": "display_data",
          "data": {
            "text/plain": [
              "<Figure size 640x480 with 1 Axes>"
            ],
            "image/png": "[encoded data removed]"
          },
          "metadata": {}
        }
      ]
    },
    {
      "cell_type": "code",
      "source": [
        "# Menghapus missing value\n",
        "riwayat_pekerjaan.dropna(inplace=True)"
      ],
      "metadata": {
        "id": "iM8zdrUQmyPm"
      },
      "execution_count": null,
      "outputs": []
    },
    {
      "cell_type": "code",
      "source": [
        "# Menghapus data duplikat\n",
        "riwayat_pekerjaan.drop_duplicates(inplace=True)"
      ],
      "metadata": {
        "id": "DGf4912WnMqQ"
      },
      "execution_count": null,
      "outputs": []
    },
    {
      "cell_type": "code",
      "source": [
        "# Menampilkan informasi setelah pembersihan\n",
        "print(\"\\nData setelah pembersihan:\")\n",
        "print(riwayat_pekerjaan.info())"
      ],
      "metadata": {
        "colab": {
          "base_uri": "https://localhost:8080/"
        },
        "id": "pWEjiufAnO8O",
        "outputId": "5b72a5cc-c293-4051-d82e-aaa40960cdd7"
      },
      "execution_count": null,
      "outputs": [
        {
          "output_type": "stream",
          "name": "stdout",
          "text": [
            "\n",
            "Data setelah pembersihan:\n",
            "<class 'pandas.core.frame.DataFrame'>\n",
            "RangeIndex: 225 entries, 0 to 224\n",
            "Data columns (total 6 columns):\n",
            " #   Column           Non-Null Count  Dtype \n",
            "---  ------           --------------  ----- \n",
            " 0   id_job           225 non-null    int64 \n",
            " 1   id_mitra         225 non-null    int64 \n",
            " 2   user_id          225 non-null    int64 \n",
            " 3   job_title        225 non-null    object\n",
            " 4   job_description  225 non-null    object\n",
            " 5   job_rating       225 non-null    int64 \n",
            "dtypes: int64(4), object(2)\n",
            "memory usage: 10.7+ KB\n",
            "None\n"
          ]
        }
      ]
    },
    {
      "cell_type": "markdown",
      "source": [
        "Model Development"
      ],
      "metadata": {
        "id": "reKOEJ5jnuhn"
      }
    },
    {
      "cell_type": "markdown",
      "source": [
        "TF-IDF Vectorizer"
      ],
      "metadata": {
        "id": "Ng3HqKt3nxjG"
      }
    },
    {
      "cell_type": "code",
      "source": [
        "pip install nltk"
      ],
      "metadata": {
        "colab": {
          "base_uri": "https://localhost:8080/"
        },
        "id": "b-j0msWantb4",
        "outputId": "a982ed92-78dc-4c4d-e22d-2dd870c2094e"
      },
      "execution_count": null,
      "outputs": [
        {
          "output_type": "stream",
          "name": "stdout",
          "text": [
            "Requirement already satisfied: nltk in /usr/local/lib/python3.10/dist-packages (3.9.1)\n",
            "Requirement already satisfied: click in /usr/local/lib/python3.10/dist-packages (from nltk) (8.1.7)\n",
            "Requirement already satisfied: joblib in /usr/local/lib/python3.10/dist-packages (from nltk) (1.4.2)\n",
            "Requirement already satisfied: regex>=2021.8.3 in /usr/local/lib/python3.10/dist-packages (from nltk) (2024.9.11)\n",
            "Requirement already satisfied: tqdm in /usr/local/lib/python3.10/dist-packages (from nltk) (4.66.6)\n"
          ]
        }
      ]
    },
    {
      "cell_type": "code",
      "source": [
        "nltk.download('stopwords')\n",
        "stop_words_indonesia = stopwords.words('indonesian')"
      ],
      "metadata": {
        "colab": {
          "base_uri": "https://localhost:8080/"
        },
        "id": "9DjvlZJ2pRp1",
        "outputId": "f3d6a8c2-031c-4387-b529-a9b81d91295f"
      },
      "execution_count": null,
      "outputs": [
        {
          "output_type": "stream",
          "name": "stderr",
          "text": [
            "[nltk_data] Downloading package stopwords to /root/nltk_data...\n",
            "[nltk_data]   Unzipping corpora/stopwords.zip.\n"
          ]
        }
      ]
    },
    {
      "cell_type": "code",
      "source": [
        "# Menggunakan TF-IDF untuk job_title dan job_description dengan stop words bahasa Indonesia\n",
        "tfidf_title = TfidfVectorizer(stop_words=stop_words_indonesia)\n",
        "tfidf_title.fit(riwayat_pekerjaan['job_title'])\n",
        "\n",
        "tfidf_desc = TfidfVectorizer(stop_words=stop_words_indonesia)\n",
        "tfidf_desc.fit(riwayat_pekerjaan['job_description'])\n"
      ],
      "metadata": {
        "colab": {
          "base_uri": "https://localhost:8080/",
          "height": 222
        },
        "id": "clY9fQURqJxh",
        "outputId": "38306803-3c70-4abe-d9fe-821669a9b89e"
      },
      "execution_count": null,
      "outputs": [
        {
          "output_type": "stream",
          "name": "stderr",
          "text": [
            "/usr/local/lib/python3.10/dist-packages/sklearn/feature_extraction/text.py:406: UserWarning: Your stop_words may be inconsistent with your preprocessing. Tokenizing the stop words generated tokens ['baiknya', 'berkali', 'kali', 'kurangnya', 'mata', 'olah', 'sekurang', 'setidak', 'tama', 'tidaknya'] not in stop_words.\n",
            "  warnings.warn(\n"
          ]
        },
        {
          "output_type": "execute_result",
          "data": {
            "text/plain": [
              "TfidfVectorizer(stop_words=['ada', 'adalah', 'adanya', 'adapun', 'agak',\n",
              "                            'agaknya', 'agar', 'akan', 'akankah', 'akhir',\n",
              "                            'akhiri', 'akhirnya', 'aku', 'akulah', 'amat',\n",
              "                            'amatlah', 'anda', 'andalah', 'antar', 'antara',\n",
              "                            'antaranya', 'apa', 'apaan', 'apabila', 'apakah',\n",
              "                            'apalagi', 'apatah', 'artinya', 'asal', 'asalkan', ...])"
            ],
            "text/html": [
              "<style>#sk-container-id-1 {\n",
              "  /* Definition of color scheme common for light and dark mode */\n",
              "  --sklearn-color-text: black;\n",
              "  --sklearn-color-line: gray;\n",
              "  /* Definition of color scheme for unfitted estimators */\n",
              "  --sklearn-color-unfitted-level-0: #fff5e6;\n",
              "  --sklearn-color-unfitted-level-1: #f6e4d2;\n",
              "  --sklearn-color-unfitted-level-2: #ffe0b3;\n",
              "  --sklearn-color-unfitted-level-3: chocolate;\n",
              "  /* Definition of color scheme for fitted estimators */\n",
              "  --sklearn-color-fitted-level-0: #f0f8ff;\n",
              "  --sklearn-color-fitted-level-1: #d4ebff;\n",
              "  --sklearn-color-fitted-level-2: #b3dbfd;\n",
              "  --sklearn-color-fitted-level-3: cornflowerblue;\n",
              "\n",
              "  /* Specific color for light theme */\n",
              "  --sklearn-color-text-on-default-background: var(--sg-text-color, var(--theme-code-foreground, var(--jp-content-font-color1, black)));\n",
              "  --sklearn-color-background: var(--sg-background-color, var(--theme-background, var(--jp-layout-color0, white)));\n",
              "  --sklearn-color-border-box: var(--sg-text-color, var(--theme-code-foreground, var(--jp-content-font-color1, black)));\n",
              "  --sklearn-color-icon: #696969;\n",
              "\n",
              "  @media (prefers-color-scheme: dark) {\n",
              "    /* Redefinition of color scheme for dark theme */\n",
              "    --sklearn-color-text-on-default-background: var(--sg-text-color, var(--theme-code-foreground, var(--jp-content-font-color1, white)));\n",
              "    --sklearn-color-background: var(--sg-background-color, var(--theme-background, var(--jp-layout-color0, #111)));\n",
              "    --sklearn-color-border-box: var(--sg-text-color, var(--theme-code-foreground, var(--jp-content-font-color1, white)));\n",
              "    --sklearn-color-icon: #878787;\n",
              "  }\n",
              "}\n",
              "\n",
              "#sk-container-id-1 {\n",
              "  color: var(--sklearn-color-text);\n",
              "}\n",
              "\n",
              "#sk-container-id-1 pre {\n",
              "  padding: 0;\n",
              "}\n",
              "\n",
              "#sk-container-id-1 input.sk-hidden--visually {\n",
              "  border: 0;\n",
              "  clip: rect(1px 1px 1px 1px);\n",
              "  clip: rect(1px, 1px, 1px, 1px);\n",
              "  height: 1px;\n",
              "  margin: -1px;\n",
              "  overflow: hidden;\n",
              "  padding: 0;\n",
              "  position: absolute;\n",
              "  width: 1px;\n",
              "}\n",
              "\n",
              "#sk-container-id-1 div.sk-dashed-wrapped {\n",
              "  border: 1px dashed var(--sklearn-color-line);\n",
              "  margin: 0 0.4em 0.5em 0.4em;\n",
              "  box-sizing: border-box;\n",
              "  padding-bottom: 0.4em;\n",
              "  background-color: var(--sklearn-color-background);\n",
              "}\n",
              "\n",
              "#sk-container-id-1 div.sk-container {\n",
              "  /* jupyter's `normalize.less` sets `[hidden] { display: none; }`\n",
              "     but bootstrap.min.css set `[hidden] { display: none !important; }`\n",
              "     so we also need the `!important` here to be able to override the\n",
              "     default hidden behavior on the sphinx rendered scikit-learn.org.\n",
              "     See: https://github.com/scikit-learn/scikit-learn/issues/21755 */\n",
              "  display: inline-block !important;\n",
              "  position: relative;\n",
              "}\n",
              "\n",
              "#sk-container-id-1 div.sk-text-repr-fallback {\n",
              "  display: none;\n",
              "}\n",
              "\n",
              "div.sk-parallel-item,\n",
              "div.sk-serial,\n",
              "div.sk-item {\n",
              "  /* draw centered vertical line to link estimators */\n",
              "  background-image: linear-gradient(var(--sklearn-color-text-on-default-background), var(--sklearn-color-text-on-default-background));\n",
              "  background-size: 2px 100%;\n",
              "  background-repeat: no-repeat;\n",
              "  background-position: center center;\n",
              "}\n",
              "\n",
              "/* Parallel-specific style estimator block */\n",
              "\n",
              "#sk-container-id-1 div.sk-parallel-item::after {\n",
              "  content: \"\";\n",
              "  width: 100%;\n",
              "  border-bottom: 2px solid var(--sklearn-color-text-on-default-background);\n",
              "  flex-grow: 1;\n",
              "}\n",
              "\n",
              "#sk-container-id-1 div.sk-parallel {\n",
              "  display: flex;\n",
              "  align-items: stretch;\n",
              "  justify-content: center;\n",
              "  background-color: var(--sklearn-color-background);\n",
              "  position: relative;\n",
              "}\n",
              "\n",
              "#sk-container-id-1 div.sk-parallel-item {\n",
              "  display: flex;\n",
              "  flex-direction: column;\n",
              "}\n",
              "\n",
              "#sk-container-id-1 div.sk-parallel-item:first-child::after {\n",
              "  align-self: flex-end;\n",
              "  width: 50%;\n",
              "}\n",
              "\n",
              "#sk-container-id-1 div.sk-parallel-item:last-child::after {\n",
              "  align-self: flex-start;\n",
              "  width: 50%;\n",
              "}\n",
              "\n",
              "#sk-container-id-1 div.sk-parallel-item:only-child::after {\n",
              "  width: 0;\n",
              "}\n",
              "\n",
              "/* Serial-specific style estimator block */\n",
              "\n",
              "#sk-container-id-1 div.sk-serial {\n",
              "  display: flex;\n",
              "  flex-direction: column;\n",
              "  align-items: center;\n",
              "  background-color: var(--sklearn-color-background);\n",
              "  padding-right: 1em;\n",
              "  padding-left: 1em;\n",
              "}\n",
              "\n",
              "\n",
              "/* Toggleable style: style used for estimator/Pipeline/ColumnTransformer box that is\n",
              "clickable and can be expanded/collapsed.\n",
              "- Pipeline and ColumnTransformer use this feature and define the default style\n",
              "- Estimators will overwrite some part of the style using the `sk-estimator` class\n",
              "*/\n",
              "\n",
              "/* Pipeline and ColumnTransformer style (default) */\n",
              "\n",
              "#sk-container-id-1 div.sk-toggleable {\n",
              "  /* Default theme specific background. It is overwritten whether we have a\n",
              "  specific estimator or a Pipeline/ColumnTransformer */\n",
              "  background-color: var(--sklearn-color-background);\n",
              "}\n",
              "\n",
              "/* Toggleable label */\n",
              "#sk-container-id-1 label.sk-toggleable__label {\n",
              "  cursor: pointer;\n",
              "  display: block;\n",
              "  width: 100%;\n",
              "  margin-bottom: 0;\n",
              "  padding: 0.5em;\n",
              "  box-sizing: border-box;\n",
              "  text-align: center;\n",
              "}\n",
              "\n",
              "#sk-container-id-1 label.sk-toggleable__label-arrow:before {\n",
              "  /* Arrow on the left of the label */\n",
              "  content: \"▸\";\n",
              "  float: left;\n",
              "  margin-right: 0.25em;\n",
              "  color: var(--sklearn-color-icon);\n",
              "}\n",
              "\n",
              "#sk-container-id-1 label.sk-toggleable__label-arrow:hover:before {\n",
              "  color: var(--sklearn-color-text);\n",
              "}\n",
              "\n",
              "/* Toggleable content - dropdown */\n",
              "\n",
              "#sk-container-id-1 div.sk-toggleable__content {\n",
              "  max-height: 0;\n",
              "  max-width: 0;\n",
              "  overflow: hidden;\n",
              "  text-align: left;\n",
              "  /* unfitted */\n",
              "  background-color: var(--sklearn-color-unfitted-level-0);\n",
              "}\n",
              "\n",
              "#sk-container-id-1 div.sk-toggleable__content.fitted {\n",
              "  /* fitted */\n",
              "  background-color: var(--sklearn-color-fitted-level-0);\n",
              "}\n",
              "\n",
              "#sk-container-id-1 div.sk-toggleable__content pre {\n",
              "  margin: 0.2em;\n",
              "  border-radius: 0.25em;\n",
              "  color: var(--sklearn-color-text);\n",
              "  /* unfitted */\n",
              "  background-color: var(--sklearn-color-unfitted-level-0);\n",
              "}\n",
              "\n",
              "#sk-container-id-1 div.sk-toggleable__content.fitted pre {\n",
              "  /* unfitted */\n",
              "  background-color: var(--sklearn-color-fitted-level-0);\n",
              "}\n",
              "\n",
              "#sk-container-id-1 input.sk-toggleable__control:checked~div.sk-toggleable__content {\n",
              "  /* Expand drop-down */\n",
              "  max-height: 200px;\n",
              "  max-width: 100%;\n",
              "  overflow: auto;\n",
              "}\n",
              "\n",
              "#sk-container-id-1 input.sk-toggleable__control:checked~label.sk-toggleable__label-arrow:before {\n",
              "  content: \"▾\";\n",
              "}\n",
              "\n",
              "/* Pipeline/ColumnTransformer-specific style */\n",
              "\n",
              "#sk-container-id-1 div.sk-label input.sk-toggleable__control:checked~label.sk-toggleable__label {\n",
              "  color: var(--sklearn-color-text);\n",
              "  background-color: var(--sklearn-color-unfitted-level-2);\n",
              "}\n",
              "\n",
              "#sk-container-id-1 div.sk-label.fitted input.sk-toggleable__control:checked~label.sk-toggleable__label {\n",
              "  background-color: var(--sklearn-color-fitted-level-2);\n",
              "}\n",
              "\n",
              "/* Estimator-specific style */\n",
              "\n",
              "/* Colorize estimator box */\n",
              "#sk-container-id-1 div.sk-estimator input.sk-toggleable__control:checked~label.sk-toggleable__label {\n",
              "  /* unfitted */\n",
              "  background-color: var(--sklearn-color-unfitted-level-2);\n",
              "}\n",
              "\n",
              "#sk-container-id-1 div.sk-estimator.fitted input.sk-toggleable__control:checked~label.sk-toggleable__label {\n",
              "  /* fitted */\n",
              "  background-color: var(--sklearn-color-fitted-level-2);\n",
              "}\n",
              "\n",
              "#sk-container-id-1 div.sk-label label.sk-toggleable__label,\n",
              "#sk-container-id-1 div.sk-label label {\n",
              "  /* The background is the default theme color */\n",
              "  color: var(--sklearn-color-text-on-default-background);\n",
              "}\n",
              "\n",
              "/* On hover, darken the color of the background */\n",
              "#sk-container-id-1 div.sk-label:hover label.sk-toggleable__label {\n",
              "  color: var(--sklearn-color-text);\n",
              "  background-color: var(--sklearn-color-unfitted-level-2);\n",
              "}\n",
              "\n",
              "/* Label box, darken color on hover, fitted */\n",
              "#sk-container-id-1 div.sk-label.fitted:hover label.sk-toggleable__label.fitted {\n",
              "  color: var(--sklearn-color-text);\n",
              "  background-color: var(--sklearn-color-fitted-level-2);\n",
              "}\n",
              "\n",
              "/* Estimator label */\n",
              "\n",
              "#sk-container-id-1 div.sk-label label {\n",
              "  font-family: monospace;\n",
              "  font-weight: bold;\n",
              "  display: inline-block;\n",
              "  line-height: 1.2em;\n",
              "}\n",
              "\n",
              "#sk-container-id-1 div.sk-label-container {\n",
              "  text-align: center;\n",
              "}\n",
              "\n",
              "/* Estimator-specific */\n",
              "#sk-container-id-1 div.sk-estimator {\n",
              "  font-family: monospace;\n",
              "  border: 1px dotted var(--sklearn-color-border-box);\n",
              "  border-radius: 0.25em;\n",
              "  box-sizing: border-box;\n",
              "  margin-bottom: 0.5em;\n",
              "  /* unfitted */\n",
              "  background-color: var(--sklearn-color-unfitted-level-0);\n",
              "}\n",
              "\n",
              "#sk-container-id-1 div.sk-estimator.fitted {\n",
              "  /* fitted */\n",
              "  background-color: var(--sklearn-color-fitted-level-0);\n",
              "}\n",
              "\n",
              "/* on hover */\n",
              "#sk-container-id-1 div.sk-estimator:hover {\n",
              "  /* unfitted */\n",
              "  background-color: var(--sklearn-color-unfitted-level-2);\n",
              "}\n",
              "\n",
              "#sk-container-id-1 div.sk-estimator.fitted:hover {\n",
              "  /* fitted */\n",
              "  background-color: var(--sklearn-color-fitted-level-2);\n",
              "}\n",
              "\n",
              "/* Specification for estimator info (e.g. \"i\" and \"?\") */\n",
              "\n",
              "/* Common style for \"i\" and \"?\" */\n",
              "\n",
              ".sk-estimator-doc-link,\n",
              "a:link.sk-estimator-doc-link,\n",
              "a:visited.sk-estimator-doc-link {\n",
              "  float: right;\n",
              "  font-size: smaller;\n",
              "  line-height: 1em;\n",
              "  font-family: monospace;\n",
              "  background-color: var(--sklearn-color-background);\n",
              "  border-radius: 1em;\n",
              "  height: 1em;\n",
              "  width: 1em;\n",
              "  text-decoration: none !important;\n",
              "  margin-left: 1ex;\n",
              "  /* unfitted */\n",
              "  border: var(--sklearn-color-unfitted-level-1) 1pt solid;\n",
              "  color: var(--sklearn-color-unfitted-level-1);\n",
              "}\n",
              "\n",
              ".sk-estimator-doc-link.fitted,\n",
              "a:link.sk-estimator-doc-link.fitted,\n",
              "a:visited.sk-estimator-doc-link.fitted {\n",
              "  /* fitted */\n",
              "  border: var(--sklearn-color-fitted-level-1) 1pt solid;\n",
              "  color: var(--sklearn-color-fitted-level-1);\n",
              "}\n",
              "\n",
              "/* On hover */\n",
              "div.sk-estimator:hover .sk-estimator-doc-link:hover,\n",
              ".sk-estimator-doc-link:hover,\n",
              "div.sk-label-container:hover .sk-estimator-doc-link:hover,\n",
              ".sk-estimator-doc-link:hover {\n",
              "  /* unfitted */\n",
              "  background-color: var(--sklearn-color-unfitted-level-3);\n",
              "  color: var(--sklearn-color-background);\n",
              "  text-decoration: none;\n",
              "}\n",
              "\n",
              "div.sk-estimator.fitted:hover .sk-estimator-doc-link.fitted:hover,\n",
              ".sk-estimator-doc-link.fitted:hover,\n",
              "div.sk-label-container:hover .sk-estimator-doc-link.fitted:hover,\n",
              ".sk-estimator-doc-link.fitted:hover {\n",
              "  /* fitted */\n",
              "  background-color: var(--sklearn-color-fitted-level-3);\n",
              "  color: var(--sklearn-color-background);\n",
              "  text-decoration: none;\n",
              "}\n",
              "\n",
              "/* Span, style for the box shown on hovering the info icon */\n",
              ".sk-estimator-doc-link span {\n",
              "  display: none;\n",
              "  z-index: 9999;\n",
              "  position: relative;\n",
              "  font-weight: normal;\n",
              "  right: .2ex;\n",
              "  padding: .5ex;\n",
              "  margin: .5ex;\n",
              "  width: min-content;\n",
              "  min-width: 20ex;\n",
              "  max-width: 50ex;\n",
              "  color: var(--sklearn-color-text);\n",
              "  box-shadow: 2pt 2pt 4pt #999;\n",
              "  /* unfitted */\n",
              "  background: var(--sklearn-color-unfitted-level-0);\n",
              "  border: .5pt solid var(--sklearn-color-unfitted-level-3);\n",
              "}\n",
              "\n",
              ".sk-estimator-doc-link.fitted span {\n",
              "  /* fitted */\n",
              "  background: var(--sklearn-color-fitted-level-0);\n",
              "  border: var(--sklearn-color-fitted-level-3);\n",
              "}\n",
              "\n",
              ".sk-estimator-doc-link:hover span {\n",
              "  display: block;\n",
              "}\n",
              "\n",
              "/* \"?\"-specific style due to the `<a>` HTML tag */\n",
              "\n",
              "#sk-container-id-1 a.estimator_doc_link {\n",
              "  float: right;\n",
              "  font-size: 1rem;\n",
              "  line-height: 1em;\n",
              "  font-family: monospace;\n",
              "  background-color: var(--sklearn-color-background);\n",
              "  border-radius: 1rem;\n",
              "  height: 1rem;\n",
              "  width: 1rem;\n",
              "  text-decoration: none;\n",
              "  /* unfitted */\n",
              "  color: var(--sklearn-color-unfitted-level-1);\n",
              "  border: var(--sklearn-color-unfitted-level-1) 1pt solid;\n",
              "}\n",
              "\n",
              "#sk-container-id-1 a.estimator_doc_link.fitted {\n",
              "  /* fitted */\n",
              "  border: var(--sklearn-color-fitted-level-1) 1pt solid;\n",
              "  color: var(--sklearn-color-fitted-level-1);\n",
              "}\n",
              "\n",
              "/* On hover */\n",
              "#sk-container-id-1 a.estimator_doc_link:hover {\n",
              "  /* unfitted */\n",
              "  background-color: var(--sklearn-color-unfitted-level-3);\n",
              "  color: var(--sklearn-color-background);\n",
              "  text-decoration: none;\n",
              "}\n",
              "\n",
              "#sk-container-id-1 a.estimator_doc_link.fitted:hover {\n",
              "  /* fitted */\n",
              "  background-color: var(--sklearn-color-fitted-level-3);\n",
              "}\n",
              "</style><div id=\"sk-container-id-1\" class=\"sk-top-container\"><div class=\"sk-text-repr-fallback\"><pre>TfidfVectorizer(stop_words=[&#x27;ada&#x27;, &#x27;adalah&#x27;, &#x27;adanya&#x27;, &#x27;adapun&#x27;, &#x27;agak&#x27;,\n",
              "                            &#x27;agaknya&#x27;, &#x27;agar&#x27;, &#x27;akan&#x27;, &#x27;akankah&#x27;, &#x27;akhir&#x27;,\n",
              "                            &#x27;akhiri&#x27;, &#x27;akhirnya&#x27;, &#x27;aku&#x27;, &#x27;akulah&#x27;, &#x27;amat&#x27;,\n",
              "                            &#x27;amatlah&#x27;, &#x27;anda&#x27;, &#x27;andalah&#x27;, &#x27;antar&#x27;, &#x27;antara&#x27;,\n",
              "                            &#x27;antaranya&#x27;, &#x27;apa&#x27;, &#x27;apaan&#x27;, &#x27;apabila&#x27;, &#x27;apakah&#x27;,\n",
              "                            &#x27;apalagi&#x27;, &#x27;apatah&#x27;, &#x27;artinya&#x27;, &#x27;asal&#x27;, &#x27;asalkan&#x27;, ...])</pre><b>In a Jupyter environment, please rerun this cell to show the HTML representation or trust the notebook. <br />On GitHub, the HTML representation is unable to render, please try loading this page with nbviewer.org.</b></div><div class=\"sk-container\" hidden><div class=\"sk-item\"><div class=\"sk-estimator fitted sk-toggleable\"><input class=\"sk-toggleable__control sk-hidden--visually\" id=\"sk-estimator-id-1\" type=\"checkbox\" checked><label for=\"sk-estimator-id-1\" class=\"sk-toggleable__label fitted sk-toggleable__label-arrow fitted\">&nbsp;&nbsp;TfidfVectorizer<a class=\"sk-estimator-doc-link fitted\" rel=\"noreferrer\" target=\"_blank\" href=\"https://scikit-learn.org/1.5/modules/generated/sklearn.feature_extraction.text.TfidfVectorizer.html\">?<span>Documentation for TfidfVectorizer</span></a><span class=\"sk-estimator-doc-link fitted\">i<span>Fitted</span></span></label><div class=\"sk-toggleable__content fitted\"><pre>TfidfVectorizer(stop_words=[&#x27;ada&#x27;, &#x27;adalah&#x27;, &#x27;adanya&#x27;, &#x27;adapun&#x27;, &#x27;agak&#x27;,\n",
              "                            &#x27;agaknya&#x27;, &#x27;agar&#x27;, &#x27;akan&#x27;, &#x27;akankah&#x27;, &#x27;akhir&#x27;,\n",
              "                            &#x27;akhiri&#x27;, &#x27;akhirnya&#x27;, &#x27;aku&#x27;, &#x27;akulah&#x27;, &#x27;amat&#x27;,\n",
              "                            &#x27;amatlah&#x27;, &#x27;anda&#x27;, &#x27;andalah&#x27;, &#x27;antar&#x27;, &#x27;antara&#x27;,\n",
              "                            &#x27;antaranya&#x27;, &#x27;apa&#x27;, &#x27;apaan&#x27;, &#x27;apabila&#x27;, &#x27;apakah&#x27;,\n",
              "                            &#x27;apalagi&#x27;, &#x27;apatah&#x27;, &#x27;artinya&#x27;, &#x27;asal&#x27;, &#x27;asalkan&#x27;, ...])</pre></div> </div></div></div></div>"
            ]
          },
          "metadata": {},
          "execution_count": 20
        }
      ]
    },
    {
      "cell_type": "code",
      "source": [
        "tfidf_title.get_feature_names_out()"
      ],
      "metadata": {
        "colab": {
          "base_uri": "https://localhost:8080/"
        },
        "id": "XRoJtbKwsJvs",
        "outputId": "4232b521-6e19-4d9e-998c-45a1b697a46e"
      },
      "execution_count": null,
      "outputs": [
        {
          "output_type": "execute_result",
          "data": {
            "text/plain": [
              "array(['ac', 'air', 'alat', 'angin', 'antik', 'atap', 'audio', 'bahan',\n",
              "       'bangunan', 'barang', 'baterai', 'bersihkan', 'buku', 'cctv',\n",
              "       'curriculum', 'dapur', 'desain', 'dinding', 'disinfektan',\n",
              "       'drainase', 'elektronik', 'fi', 'furnitur', 'furniture', 'garasi',\n",
              "       'gorden', 'grafis', 'gudang', 'hardware', 'instalasi', 'interior',\n",
              "       'internet', 'jaringan', 'jasa', 'jemput', 'jendela', 'kamar',\n",
              "       'kamera', 'kanal', 'kantor', 'karpet', 'karport', 'keamanan',\n",
              "       'kebersihan', 'kendaraan', 'kerja', 'kesehatan', 'keuangan',\n",
              "       'kipas', 'kolam', 'komputer', 'kulkas', 'kunci', 'lampu', 'lantai',\n",
              "       'laporan', 'laundry', 'listrik', 'makanan', 'mandi', 'meja',\n",
              "       'membersihkan', 'membuang', 'mengecat', 'mesin', 'mobil', 'motor',\n",
              "       'nama', 'olahraga', 'orang', 'otomatisasi', 'pagar', 'pajak',\n",
              "       'pakaian', 'panel', 'papan', 'pemanas', 'pemangkasan',\n",
              "       'pemasangan', 'pembayaran', 'pembersihan', 'pembuangan',\n",
              "       'pembuatan', 'pemeliharaan', 'pemrograman', 'penataan', 'pencetak',\n",
              "       'penerjemah', 'pengantaran', 'pengaturan', 'pengecatan',\n",
              "       'pengecekan', 'pengeditan', 'pengetikan', 'penggantian',\n",
              "       'penghapusan', 'pengiriman', 'penyediaan', 'penyemprotan',\n",
              "       'penyewaan', 'penyusunan', 'peralatan', 'perawatan', 'perbaikan',\n",
              "       'perpustakaan', 'pesta', 'pintu', 'pipa', 'pohon', 'pribadi',\n",
              "       'rak', 'renang', 'reparasi', 'retail', 'ruang', 'rumah', 'saluran',\n",
              "       'sampah', 'sehat', 'sepeda', 'sistem', 'software', 'solar',\n",
              "       'taman', 'tambahan', 'tanaman', 'tangga', 'tirai', 'tv', 'udara',\n",
              "       'ventilasi', 'vertikal', 'video', 'virus', 'vitae', 'website',\n",
              "       'wi'], dtype=object)"
            ]
          },
          "metadata": {},
          "execution_count": 21
        }
      ]
    },
    {
      "cell_type": "code",
      "source": [
        "tfidf_desc.get_feature_names_out()"
      ],
      "metadata": {
        "colab": {
          "base_uri": "https://localhost:8080/"
        },
        "id": "6WU-l0Z9sK7c",
        "outputId": "15a6b162-9223-4a08-f79f-cec0f60a16a2"
      },
      "execution_count": null,
      "outputs": [
        {
          "output_type": "execute_result",
          "data": {
            "text/plain": [
              "array(['ac', 'acara', 'air', 'alamat', 'alat', 'angin', 'antik',\n",
              "       'aplikasi', 'area', 'atap', 'audio', 'bahan', 'bandara',\n",
              "       'bangunan', 'barang', 'baterai', 'berharga', 'bermotor', 'buku',\n",
              "       'cctv', 'cv', 'dapur', 'darah', 'daun', 'diet', 'digital',\n",
              "       'dinding', 'disinfektan', 'dll', 'dokumen', 'drainase', 'efisien',\n",
              "       'elektronik', 'filter', 'furnitur', 'furniture', 'ganti', 'garasi',\n",
              "       'gorden', 'grafis', 'gudang', 'halaman', 'hias', 'hiburan',\n",
              "       'instalasi', 'interior', 'internet', 'jaringan', 'jendela',\n",
              "       'kabel', 'kaca', 'kamar', 'kamera', 'kantor', 'karpet', 'kayu',\n",
              "       'keamanan', 'kebocoran', 'kebun', 'kelayakan', 'kendaraan',\n",
              "       'keramik', 'keras', 'kerja', 'kerusakan', 'keuangan', 'kipas',\n",
              "       'kolam', 'koleksi', 'kompor', 'komputer', 'koneksi', 'kontak',\n",
              "       'kotoran', 'kulkas', 'kunci', 'lampu', 'lantai', 'laporan',\n",
              "       'laptop', 'laundry', 'letak', 'listrik', 'logo', 'lokasi', 'lunak',\n",
              "       'makanan', 'malware', 'mandi', 'materi', 'medis', 'meja',\n",
              "       'memangkas', 'memasang', 'membantu', 'membersihkan', 'membuang',\n",
              "       'memeriksa', 'memperbaiki', 'memprogram', 'menata', 'mencuci',\n",
              "       'mendekorasi', 'mendesain', 'menerjemahkan', 'mengantar',\n",
              "       'mengatasi', 'mengatur', 'mengecat', 'mengecek', 'mengedit',\n",
              "       'mengetik', 'mengganti', 'menghapus', 'mengorganisir', 'menjemput',\n",
              "       'menulis', 'menyapu', 'menyetrika', 'menyewakan', 'menyiram',\n",
              "       'menyusun', 'merancang', 'merapikan', 'merawat', 'merencanakan',\n",
              "       'mesin', 'mobil', 'motor', 'nama', 'olahraga', 'oli',\n",
              "       'otomatisasi', 'pagar', 'pajak', 'pakaian', 'panel', 'papan',\n",
              "       'parket', 'parkir', 'pelanggan', 'pemanas', 'pemanggang',\n",
              "       'pemasangan', 'pembayaran', 'pembuangan', 'pemeliharaan',\n",
              "       'pemeriksaan', 'pengaturan', 'penyemprotan', 'penyusunannya',\n",
              "       'peralatan', 'perangkat', 'perawatan', 'perbaikan', 'percakapan',\n",
              "       'perpustakaan', 'pesta', 'pintar', 'pintu', 'pipa', 'pohon',\n",
              "       'poster', 'pribadi', 'printer', 'proyek', 'rak', 'ranting',\n",
              "       'renang', 'retail', 'ringan', 'ruang', 'ruangan', 'rumah', 'rusak',\n",
              "       'rutin', 'saluran', 'sampah', 'sehat', 'sepeda', 'servis',\n",
              "       'shower', 'sistem', 'situs', 'soket', 'speaker', 'stop', 'suara',\n",
              "       'surya', 'taman', 'tambahan', 'tanaman', 'tangga', 'tata',\n",
              "       'tekanan', 'televisi', 'tersumbat', 'tirai', 'toko', 'tugas',\n",
              "       'udara', 'ulang', 'unit', 'ventilasi', 'vertikal', 'video',\n",
              "       'virus', 'wastafel', 'web'], dtype=object)"
            ]
          },
          "metadata": {},
          "execution_count": 22
        }
      ]
    },
    {
      "cell_type": "code",
      "source": [
        "tfidf_matrix_title = tfidf_title.transform(riwayat_pekerjaan['job_title'])\n",
        "tfidf_matrix_desc = tfidf_desc.transform(riwayat_pekerjaan['job_description'])"
      ],
      "metadata": {
        "id": "Eb4693NHv50x"
      },
      "execution_count": null,
      "outputs": []
    },
    {
      "cell_type": "code",
      "source": [
        "# Menghitung cosine similarity untuk job_title dan job_description\n",
        "cosine_sim_title = cosine_similarity(tfidf_matrix_title, tfidf_matrix_title)\n",
        "cosine_sim_desc = cosine_similarity(tfidf_matrix_desc, tfidf_matrix_desc)"
      ],
      "metadata": {
        "id": "FgjaybuVqgkH"
      },
      "execution_count": null,
      "outputs": []
    },
    {
      "cell_type": "code",
      "source": [
        "cosine_sim_title"
      ],
      "metadata": {
        "colab": {
          "base_uri": "https://localhost:8080/"
        },
        "id": "9B2UQSFRsDIr",
        "outputId": "3948d690-4fd8-41fe-b2ca-1a4afcb7f0b3"
      },
      "execution_count": null,
      "outputs": [
        {
          "output_type": "execute_result",
          "data": {
            "text/plain": [
              "array([[1.        , 0.        , 0.        , ..., 0.08848983, 0.        ,\n",
              "        0.        ],\n",
              "       [0.        , 1.        , 0.25787874, ..., 0.        , 0.        ,\n",
              "        0.        ],\n",
              "       [0.        , 0.25787874, 1.        , ..., 0.        , 0.35662031,\n",
              "        0.        ],\n",
              "       ...,\n",
              "       [0.08848983, 0.        , 0.        , ..., 1.        , 0.        ,\n",
              "        0.        ],\n",
              "       [0.        , 0.        , 0.35662031, ..., 0.        , 1.        ,\n",
              "        0.        ],\n",
              "       [0.        , 0.        , 0.        , ..., 0.        , 0.        ,\n",
              "        1.        ]])"
            ]
          },
          "metadata": {},
          "execution_count": 30
        }
      ]
    },
    {
      "cell_type": "code",
      "source": [
        "cosine_sim_desc"
      ],
      "metadata": {
        "colab": {
          "base_uri": "https://localhost:8080/"
        },
        "id": "gidLE3PysEad",
        "outputId": "dce86160-1534-4d09-cdfe-c1d774279011"
      },
      "execution_count": null,
      "outputs": [
        {
          "output_type": "execute_result",
          "data": {
            "text/plain": [
              "array([[1.        , 0.        , 0.        , ..., 0.        , 0.        ,\n",
              "        0.        ],\n",
              "       [0.        , 1.        , 0.17100422, ..., 0.15568614, 0.        ,\n",
              "        0.        ],\n",
              "       [0.        , 0.17100422, 1.        , ..., 0.17376124, 0.23547143,\n",
              "        0.08058077],\n",
              "       ...,\n",
              "       [0.        , 0.15568614, 0.17376124, ..., 1.        , 0.        ,\n",
              "        0.        ],\n",
              "       [0.        , 0.        , 0.23547143, ..., 0.        , 1.        ,\n",
              "        0.        ],\n",
              "       [0.        , 0.        , 0.08058077, ..., 0.        , 0.        ,\n",
              "        1.        ]])"
            ]
          },
          "metadata": {},
          "execution_count": 31
        }
      ]
    },
    {
      "cell_type": "code",
      "source": [
        "# Create a DataFrame for job titles cosine similarity\n",
        "cosine_sim_title_df = pd.DataFrame(cosine_sim_title,\n",
        "                                   index=riwayat_pekerjaan['job_title'],\n",
        "                                   columns=riwayat_pekerjaan['job_title'])\n",
        "\n",
        "# Create a DataFrame for job descriptions cosine similarity\n",
        "cosine_sim_desc_df = pd.DataFrame(cosine_sim_desc,\n",
        "                                  index=riwayat_pekerjaan['job_description'],\n",
        "                                  columns=riwayat_pekerjaan['job_description'])\n",
        "\n",
        "# Display the first few rows of the cosine similarity DataFrames\n",
        "print(\"Cosine Similarity Matrix for Job Titles:\")\n",
        "print(cosine_sim_title_df.head())\n",
        "\n",
        "print(\"\\nCosine Similarity Matrix for Job Descriptions:\")\n",
        "print(cosine_sim_desc_df.head())"
      ],
      "metadata": {
        "colab": {
          "base_uri": "https://localhost:8080/"
        },
        "id": "bXBSI9prwJAJ",
        "outputId": "f1d87eea-a9a8-4cf5-a137-027ff7548e31"
      },
      "execution_count": null,
      "outputs": [
        {
          "output_type": "stream",
          "name": "stdout",
          "text": [
            "Cosine Similarity Matrix for Job Titles:\n",
            "job_title                         Jasa Penyusunan Curriculum Vitae  \\\n",
            "job_title                                                            \n",
            "Jasa Penyusunan Curriculum Vitae                               1.0   \n",
            "Perbaikan TV                                                   0.0   \n",
            "Perbaikan Alat Elektronik                                      0.0   \n",
            "Instalasi Listrik                                              0.0   \n",
            "Pemasangan Kamar Mandi                                         0.0   \n",
            "\n",
            "job_title                         Perbaikan TV  Perbaikan Alat Elektronik  \\\n",
            "job_title                                                                   \n",
            "Jasa Penyusunan Curriculum Vitae      0.000000                   0.000000   \n",
            "Perbaikan TV                          1.000000                   0.257879   \n",
            "Perbaikan Alat Elektronik             0.257879                   1.000000   \n",
            "Instalasi Listrik                     0.000000                   0.000000   \n",
            "Pemasangan Kamar Mandi                0.000000                   0.000000   \n",
            "\n",
            "job_title                         Instalasi Listrik  Pemasangan Kamar Mandi  \\\n",
            "job_title                                                                     \n",
            "Jasa Penyusunan Curriculum Vitae                0.0                     0.0   \n",
            "Perbaikan TV                                    0.0                     0.0   \n",
            "Perbaikan Alat Elektronik                       0.0                     0.0   \n",
            "Instalasi Listrik                               1.0                     0.0   \n",
            "Pemasangan Kamar Mandi                          0.0                     1.0   \n",
            "\n",
            "job_title                         Pembuatan Gorden  Perbaikan Peralatan Dapur  \\\n",
            "job_title                                                                       \n",
            "Jasa Penyusunan Curriculum Vitae               0.0                   0.000000   \n",
            "Perbaikan TV                                   0.0                   0.264881   \n",
            "Perbaikan Alat Elektronik                      0.0                   0.218690   \n",
            "Instalasi Listrik                              0.0                   0.000000   \n",
            "Pemasangan Kamar Mandi                         0.0                   0.000000   \n",
            "\n",
            "job_title                         Pengecekan Saluran Air  \\\n",
            "job_title                                                  \n",
            "Jasa Penyusunan Curriculum Vitae                     0.0   \n",
            "Perbaikan TV                                         0.0   \n",
            "Perbaikan Alat Elektronik                            0.0   \n",
            "Instalasi Listrik                                    0.0   \n",
            "Pemasangan Kamar Mandi                               0.0   \n",
            "\n",
            "job_title                         Pembersihan Saluran Pembuangan  \\\n",
            "job_title                                                          \n",
            "Jasa Penyusunan Curriculum Vitae                             0.0   \n",
            "Perbaikan TV                                                 0.0   \n",
            "Perbaikan Alat Elektronik                                    0.0   \n",
            "Instalasi Listrik                                            0.0   \n",
            "Pemasangan Kamar Mandi                                       0.0   \n",
            "\n",
            "job_title                         Penyusunan Laporan Keuangan  ...  \\\n",
            "job_title                                                      ...   \n",
            "Jasa Penyusunan Curriculum Vitae                     0.269115  ...   \n",
            "Perbaikan TV                                         0.000000  ...   \n",
            "Perbaikan Alat Elektronik                            0.000000  ...   \n",
            "Instalasi Listrik                                    0.000000  ...   \n",
            "Pemasangan Kamar Mandi                               0.000000  ...   \n",
            "\n",
            "job_title                         Pengiriman Makanan Sehat  \\\n",
            "job_title                                                    \n",
            "Jasa Penyusunan Curriculum Vitae                       0.0   \n",
            "Perbaikan TV                                           0.0   \n",
            "Perbaikan Alat Elektronik                              0.0   \n",
            "Instalasi Listrik                                      0.0   \n",
            "Pemasangan Kamar Mandi                                 0.0   \n",
            "\n",
            "job_title                         Instalasi Kamera CCTV  \\\n",
            "job_title                                                 \n",
            "Jasa Penyusunan Curriculum Vitae                0.00000   \n",
            "Perbaikan TV                                    0.00000   \n",
            "Perbaikan Alat Elektronik                       0.00000   \n",
            "Instalasi Listrik                               0.23538   \n",
            "Pemasangan Kamar Mandi                          0.00000   \n",
            "\n",
            "job_title                         Instalasi Listrik Tambahan  \\\n",
            "job_title                                                      \n",
            "Jasa Penyusunan Curriculum Vitae                    0.000000   \n",
            "Perbaikan TV                                        0.000000   \n",
            "Perbaikan Alat Elektronik                           0.000000   \n",
            "Instalasi Listrik                                   0.710797   \n",
            "Pemasangan Kamar Mandi                              0.000000   \n",
            "\n",
            "job_title                         Instalasi Listrik  \\\n",
            "job_title                                             \n",
            "Jasa Penyusunan Curriculum Vitae                0.0   \n",
            "Perbaikan TV                                    0.0   \n",
            "Perbaikan Alat Elektronik                       0.0   \n",
            "Instalasi Listrik                               1.0   \n",
            "Pemasangan Kamar Mandi                          0.0   \n",
            "\n",
            "job_title                         Pengecekan Sistem Keamanan  \\\n",
            "job_title                                                      \n",
            "Jasa Penyusunan Curriculum Vitae                         0.0   \n",
            "Perbaikan TV                                             0.0   \n",
            "Perbaikan Alat Elektronik                                0.0   \n",
            "Instalasi Listrik                                        0.0   \n",
            "Pemasangan Kamar Mandi                                   0.0   \n",
            "\n",
            "job_title                         Mengecat Dinding  Pembuatan Desain Grafis  \\\n",
            "job_title                                                                     \n",
            "Jasa Penyusunan Curriculum Vitae               0.0                      0.0   \n",
            "Perbaikan TV                                   0.0                      0.0   \n",
            "Perbaikan Alat Elektronik                      0.0                      0.0   \n",
            "Instalasi Listrik                              0.0                      0.0   \n",
            "Pemasangan Kamar Mandi                         0.0                      0.0   \n",
            "\n",
            "job_title                         Jasa Reparasi Mesin Pencetak  \\\n",
            "job_title                                                        \n",
            "Jasa Penyusunan Curriculum Vitae                       0.08849   \n",
            "Perbaikan TV                                           0.00000   \n",
            "Perbaikan Alat Elektronik                              0.00000   \n",
            "Instalasi Listrik                                      0.00000   \n",
            "Pemasangan Kamar Mandi                                 0.00000   \n",
            "\n",
            "job_title                         Pengiriman Alat Olahraga  \\\n",
            "job_title                                                    \n",
            "Jasa Penyusunan Curriculum Vitae                   0.00000   \n",
            "Perbaikan TV                                       0.00000   \n",
            "Perbaikan Alat Elektronik                          0.35662   \n",
            "Instalasi Listrik                                  0.00000   \n",
            "Pemasangan Kamar Mandi                             0.00000   \n",
            "\n",
            "job_title                         Instalasi Sistem Pemanas Air  \n",
            "job_title                                                       \n",
            "Jasa Penyusunan Curriculum Vitae                      0.000000  \n",
            "Perbaikan TV                                          0.000000  \n",
            "Perbaikan Alat Elektronik                             0.000000  \n",
            "Instalasi Listrik                                     0.254937  \n",
            "Pemasangan Kamar Mandi                                0.000000  \n",
            "\n",
            "[5 rows x 225 columns]\n",
            "\n",
            "Cosine Similarity Matrix for Job Descriptions:\n",
            "job_description                                     Membantu menulis dan menyusun CV  \\\n",
            "job_description                                                                        \n",
            "Membantu menulis dan menyusun CV                                                 1.0   \n",
            "Memperbaiki kerusakan pada televisi                                              0.0   \n",
            "Memperbaiki alat elektronik rumah                                                0.0   \n",
            "Pemasangan stop kontak di rumah                                                  0.0   \n",
            "Instalasi perangkat kamar mandi seperti wastafe...                               0.0   \n",
            "\n",
            "job_description                                     Memperbaiki kerusakan pada televisi  \\\n",
            "job_description                                                                           \n",
            "Membantu menulis dan menyusun CV                                               0.000000   \n",
            "Memperbaiki kerusakan pada televisi                                            1.000000   \n",
            "Memperbaiki alat elektronik rumah                                              0.171004   \n",
            "Pemasangan stop kontak di rumah                                                0.000000   \n",
            "Instalasi perangkat kamar mandi seperti wastafe...                             0.000000   \n",
            "\n",
            "job_description                                     Memperbaiki alat elektronik rumah  \\\n",
            "job_description                                                                         \n",
            "Membantu menulis dan menyusun CV                                             0.000000   \n",
            "Memperbaiki kerusakan pada televisi                                          0.171004   \n",
            "Memperbaiki alat elektronik rumah                                            1.000000   \n",
            "Pemasangan stop kontak di rumah                                              0.072606   \n",
            "Instalasi perangkat kamar mandi seperti wastafe...                           0.000000   \n",
            "\n",
            "job_description                                     Pemasangan stop kontak di rumah  \\\n",
            "job_description                                                                       \n",
            "Membantu menulis dan menyusun CV                                           0.000000   \n",
            "Memperbaiki kerusakan pada televisi                                        0.000000   \n",
            "Memperbaiki alat elektronik rumah                                          0.072606   \n",
            "Pemasangan stop kontak di rumah                                            1.000000   \n",
            "Instalasi perangkat kamar mandi seperti wastafe...                         0.000000   \n",
            "\n",
            "job_description                                     Instalasi perangkat kamar mandi seperti wastafel dan shower  \\\n",
            "job_description                                                                                                   \n",
            "Membantu menulis dan menyusun CV                                                                  0.0             \n",
            "Memperbaiki kerusakan pada televisi                                                               0.0             \n",
            "Memperbaiki alat elektronik rumah                                                                 0.0             \n",
            "Pemasangan stop kontak di rumah                                                                   0.0             \n",
            "Instalasi perangkat kamar mandi seperti wastafe...                                                1.0             \n",
            "\n",
            "job_description                                     Membuat dan memasang gorden  \\\n",
            "job_description                                                                   \n",
            "Membantu menulis dan menyusun CV                                            0.0   \n",
            "Memperbaiki kerusakan pada televisi                                         0.0   \n",
            "Memperbaiki alat elektronik rumah                                           0.0   \n",
            "Pemasangan stop kontak di rumah                                             0.0   \n",
            "Instalasi perangkat kamar mandi seperti wastafe...                          0.0   \n",
            "\n",
            "job_description                                     Memperbaiki kompor atau peralatan dapur lainnya  \\\n",
            "job_description                                                                                       \n",
            "Membantu menulis dan menyusun CV                                                            0.00000   \n",
            "Memperbaiki kerusakan pada televisi                                                         0.13798   \n",
            "Memperbaiki alat elektronik rumah                                                           0.15400   \n",
            "Pemasangan stop kontak di rumah                                                             0.00000   \n",
            "Instalasi perangkat kamar mandi seperti wastafe...                                          0.00000   \n",
            "\n",
            "job_description                                     Mengecek dan memperbaiki saluran air yang tersumbat  \\\n",
            "job_description                                                                                           \n",
            "Membantu menulis dan menyusun CV                                                             0.000000     \n",
            "Memperbaiki kerusakan pada televisi                                                          0.117922     \n",
            "Memperbaiki alat elektronik rumah                                                            0.131612     \n",
            "Pemasangan stop kontak di rumah                                                              0.000000     \n",
            "Instalasi perangkat kamar mandi seperti wastafe...                                           0.000000     \n",
            "\n",
            "job_description                                     Membersihkan saluran pembuangan air rumah  \\\n",
            "job_description                                                                                 \n",
            "Membantu menulis dan menyusun CV                                                     0.000000   \n",
            "Memperbaiki kerusakan pada televisi                                                  0.000000   \n",
            "Memperbaiki alat elektronik rumah                                                    0.078765   \n",
            "Pemasangan stop kontak di rumah                                                      0.057469   \n",
            "Instalasi perangkat kamar mandi seperti wastafe...                                   0.000000   \n",
            "\n",
            "job_description                                     Membantu menyusun laporan keuangan pribadi  \\\n",
            "job_description                                                                                  \n",
            "Membantu menulis dan menyusun CV                                                      0.340913   \n",
            "Memperbaiki kerusakan pada televisi                                                   0.000000   \n",
            "Memperbaiki alat elektronik rumah                                                     0.000000   \n",
            "Pemasangan stop kontak di rumah                                                       0.000000   \n",
            "Instalasi perangkat kamar mandi seperti wastafe...                                    0.000000   \n",
            "\n",
            "job_description                                     ...  \\\n",
            "job_description                                     ...   \n",
            "Membantu menulis dan menyusun CV                    ...   \n",
            "Memperbaiki kerusakan pada televisi                 ...   \n",
            "Memperbaiki alat elektronik rumah                   ...   \n",
            "Pemasangan stop kontak di rumah                     ...   \n",
            "Instalasi perangkat kamar mandi seperti wastafe...  ...   \n",
            "\n",
            "job_description                                     Mengantar makanan sehat atau diet  \\\n",
            "job_description                                                                         \n",
            "Membantu menulis dan menyusun CV                                                  0.0   \n",
            "Memperbaiki kerusakan pada televisi                                               0.0   \n",
            "Memperbaiki alat elektronik rumah                                                 0.0   \n",
            "Pemasangan stop kontak di rumah                                                   0.0   \n",
            "Instalasi perangkat kamar mandi seperti wastafe...                                0.0   \n",
            "\n",
            "job_description                                     Instalasi kamera CCTV untuk rumah  \\\n",
            "job_description                                                                         \n",
            "Membantu menulis dan menyusun CV                                             0.000000   \n",
            "Memperbaiki kerusakan pada televisi                                          0.000000   \n",
            "Memperbaiki alat elektronik rumah                                            0.070351   \n",
            "Pemasangan stop kontak di rumah                                              0.051330   \n",
            "Instalasi perangkat kamar mandi seperti wastafe...                           0.161311   \n",
            "\n",
            "job_description                                     Memasang soket listrik atau kabel tambahan  \\\n",
            "job_description                                                                                  \n",
            "Membantu menulis dan menyusun CV                                                           0.0   \n",
            "Memperbaiki kerusakan pada televisi                                                        0.0   \n",
            "Memperbaiki alat elektronik rumah                                                          0.0   \n",
            "Pemasangan stop kontak di rumah                                                            0.0   \n",
            "Instalasi perangkat kamar mandi seperti wastafe...                                         0.0   \n",
            "\n",
            "job_description                                     Pemasangan stop kontak di rumah  \\\n",
            "job_description                                                                       \n",
            "Membantu menulis dan menyusun CV                                           0.000000   \n",
            "Memperbaiki kerusakan pada televisi                                        0.000000   \n",
            "Memperbaiki alat elektronik rumah                                          0.072606   \n",
            "Pemasangan stop kontak di rumah                                            1.000000   \n",
            "Instalasi perangkat kamar mandi seperti wastafe...                         0.000000   \n",
            "\n",
            "job_description                                     Memeriksa dan memperbaiki sistem keamanan rumah  \\\n",
            "job_description                                                                                       \n",
            "Membantu menulis dan menyusun CV                                                           0.000000   \n",
            "Memperbaiki kerusakan pada televisi                                                        0.148445   \n",
            "Memperbaiki alat elektronik rumah                                                          0.252063   \n",
            "Pemasangan stop kontak di rumah                                                            0.063028   \n",
            "Instalasi perangkat kamar mandi seperti wastafe...                                         0.000000   \n",
            "\n",
            "job_description                                     Mengecat dinding rumah atau ruangan  \\\n",
            "job_description                                                                           \n",
            "Membantu menulis dan menyusun CV                                               0.000000   \n",
            "Memperbaiki kerusakan pada televisi                                            0.000000   \n",
            "Memperbaiki alat elektronik rumah                                              0.080394   \n",
            "Pemasangan stop kontak di rumah                                                0.058658   \n",
            "Instalasi perangkat kamar mandi seperti wastafe...                             0.000000   \n",
            "\n",
            "job_description                                     Mendesain poster, logo, dan materi grafis lainnya  \\\n",
            "job_description                                                                                         \n",
            "Membantu menulis dan menyusun CV                                                                  0.0   \n",
            "Memperbaiki kerusakan pada televisi                                                               0.0   \n",
            "Memperbaiki alat elektronik rumah                                                                 0.0   \n",
            "Pemasangan stop kontak di rumah                                                                   0.0   \n",
            "Instalasi perangkat kamar mandi seperti wastafe...                                                0.0   \n",
            "\n",
            "job_description                                     Memperbaiki mesin printer  \\\n",
            "job_description                                                                 \n",
            "Membantu menulis dan menyusun CV                                     0.000000   \n",
            "Memperbaiki kerusakan pada televisi                                  0.155686   \n",
            "Memperbaiki alat elektronik rumah                                    0.173761   \n",
            "Pemasangan stop kontak di rumah                                      0.000000   \n",
            "Instalasi perangkat kamar mandi seperti wastafe...                   0.000000   \n",
            "\n",
            "job_description                                     Mengantar alat olahraga ke pelanggan  \\\n",
            "job_description                                                                            \n",
            "Membantu menulis dan menyusun CV                                                0.000000   \n",
            "Memperbaiki kerusakan pada televisi                                             0.000000   \n",
            "Memperbaiki alat elektronik rumah                                               0.235471   \n",
            "Pemasangan stop kontak di rumah                                                 0.000000   \n",
            "Instalasi perangkat kamar mandi seperti wastafe...                              0.000000   \n",
            "\n",
            "job_description                                     Memasang pemanas air untuk rumah atau kantor  \n",
            "job_description                                                                                   \n",
            "Membantu menulis dan menyusun CV                                                        0.000000  \n",
            "Memperbaiki kerusakan pada televisi                                                     0.000000  \n",
            "Memperbaiki alat elektronik rumah                                                       0.080581  \n",
            "Pemasangan stop kontak di rumah                                                         0.058794  \n",
            "Instalasi perangkat kamar mandi seperti wastafe...                                      0.000000  \n",
            "\n",
            "[5 rows x 225 columns]\n"
          ]
        }
      ]
    },
    {
      "cell_type": "markdown",
      "source": [
        "Langkah 1: Proses Judul Pekerjaan (job_title)"
      ],
      "metadata": {
        "id": "xeCmxHcGxRRw"
      }
    },
    {
      "cell_type": "code",
      "source": [
        "query_title = [job_title]\n",
        "query_vector_title = tfidf_title.transform(query_title)\n",
        "sim_scores_title = cosine_similarity(query_vector_title, tfidf_matrix_title).flatten()\n"
      ],
      "metadata": {
        "id": "Fh0FyEGqxSvw"
      },
      "execution_count": null,
      "outputs": []
    },
    {
      "cell_type": "markdown",
      "source": [
        "query_title: mengonversi job_title yang diberikan ke dalam format list agar dapat diproses oleh model TF-IDF. Ini akan menjadi query yang ingin dicocokkan dengan data judul pekerjaan yang ada.\n",
        "\n",
        "query_vector_title: mengubah query_title (judul pekerjaan yang dimasukkan) ke dalam bentuk vektor menggunakan transformasi TF-IDF (tfidf_title.transform). Ini menghasilkan representasi numerik dari teks judul pekerjaan.\n",
        "\n",
        "sim_scores_title: Menghitung cosine similarity antara vektor dari query_title dan seluruh matriks TF-IDF untuk kolom job_title. Nilai ini menunjukkan seberapa mirip judul pekerjaan yang dimasukkan dengan judul pekerjaan yang ada dalam dataset. Hasilnya adalah array skor kesamaan."
      ],
      "metadata": {
        "id": "D9sqi0qfxU6x"
      }
    },
    {
      "cell_type": "markdown",
      "source": [
        "Langkah 2: Proses Deskripsi Pekerjaan (job_description)"
      ],
      "metadata": {
        "id": "GNnS6EdJnZeG"
      }
    },
    {
      "cell_type": "code",
      "source": [
        "query_desc = [job_description]\n",
        "query_vector_desc = tfidf_desc.transform(query_desc)\n",
        "sim_scores_desc = cosine_similarity(query_vector_desc, tfidf_matrix_desc).flatten()"
      ],
      "metadata": {
        "id": "HKDy9EFPnYcG"
      },
      "execution_count": null,
      "outputs": []
    },
    {
      "cell_type": "markdown",
      "source": [
        "query_desc: mengonversi job_description yang diberikan ke dalam format list agar bisa diproses oleh model TF-IDF.\n",
        "\n",
        "query_vector_desc: mengubah query_desc (deskripsi pekerjaan yang dimasukkan) ke dalam bentuk vektor menggunakan transformasi TF-IDF (tfidf_desc.transform).\n",
        "\n",
        "sim_scores_desc: Menghitung cosine similarity antara vektor query_desc dan seluruh matriks TF-IDF untuk kolom job_description. Ini memberikan skor kesamaan antara deskripsi pekerjaan yang dimasukkan dan deskripsi pekerjaan yang ada."
      ],
      "metadata": {
        "id": "LtvL54rbnyDM"
      }
    },
    {
      "cell_type": "markdown",
      "source": [
        "Langkah 3: Menggabungkan Skor Cosine Similarity"
      ],
      "metadata": {
        "id": "yIL7qoOjn-Ns"
      }
    },
    {
      "cell_type": "code",
      "source": [
        "sim_scores_combined = (sim_scores_title + sim_scores_desc) / 2"
      ],
      "metadata": {
        "id": "xuTjnxIwn-YT"
      },
      "execution_count": null,
      "outputs": []
    },
    {
      "cell_type": "markdown",
      "source": [
        "menggabungkan dua skor cosine similarity (sim_scores_title dan sim_scores_desc) dengan cara menghitung rata-rata keduanya.\n",
        "\n",
        " mempertimbangkan baik judul maupun deskripsi pekerjaan untuk menghitung skor kesamaan total (sim_scores_combined)."
      ],
      "metadata": {
        "id": "ve_Z86uloEXT"
      }
    },
    {
      "cell_type": "markdown",
      "source": [
        "Langkah 4: Menambahkan Pengaruh Rating Mitra"
      ],
      "metadata": {
        "id": "VVznk9C_oK21"
      }
    },
    {
      "cell_type": "code",
      "source": [
        "weighted_scores = sim_scores_combined * riwayat_pekerjaan['job_rating'] / 5  # Asumsi rating max 5"
      ],
      "metadata": {
        "id": "yQewyVwgoLtM"
      },
      "execution_count": null,
      "outputs": []
    },
    {
      "cell_type": "markdown",
      "source": [
        "riwayat_pekerjaan['job_rating']: mengakses kolom job_rating dalam dataset yang berisi rating mitra untuk pekerjaan tersebut. Rating ini memberikan indikasi seberapa baik suatu pekerjaan atau mitra dihargai oleh pengguna.\n",
        "\n",
        "Skor kesamaan (sim_scores_combined) dikalikan dengan rating mitra yang dibagi dengan 5 (asumsi rating maksimal adalah 5). Dengan cara ini, pekerjaan dengan rating yang lebih tinggi akan memiliki pengaruh lebih besar pada hasil rekomendasi. Semakin tinggi ratingnya, semakin besar bobotnya dalam perhitungan skor rekomendasi."
      ],
      "metadata": {
        "id": "rLOEZpzRoQRr"
      }
    },
    {
      "cell_type": "markdown",
      "source": [
        "Langkah 5: Menyaring dan Mengambil Top-N Rekomendasi"
      ],
      "metadata": {
        "id": "xo0TMsN7oYSA"
      }
    },
    {
      "cell_type": "code",
      "source": [
        "top_indices = weighted_scores.argsort()[-top_n:][::-1]\n",
        "recommendations = riwayat_pekerjaan.iloc[top_indices][['id_mitra', 'job_title', 'job_description', 'job_rating']]"
      ],
      "metadata": {
        "id": "10__A-7XoY-2"
      },
      "execution_count": null,
      "outputs": []
    },
    {
      "cell_type": "markdown",
      "source": [
        "weighted_scores.argsort(): Mengurutkan skor berdasarkan nilai tertinggi. argsort() mengembalikan indeks-indeks pekerjaan yang diurutkan berdasarkan nilai skor yang lebih rendah hingga lebih tinggi. Menggunakan [-top_n:] untuk memilih top n pekerjaan berdasarkan skor tertinggi.\n",
        "\n",
        "[::-1]: Membalikkan urutan hasil argsort() untuk mendapatkan rekomendasi dengan skor tertinggi di bagian awal.\n",
        "\n",
        "riwayat_pekerjaan.iloc[top_indices]: Berdasarkan indeks yang dihasilkan oleh argsort(), Anda memilih pekerjaan yang sesuai dari dataset riwayat_pekerjaan untuk mendapatkan informasi lengkap, termasuk id_mitra, job_title, job_description, dan job_rating."
      ],
      "metadata": {
        "id": "rvgSIgUTobek"
      }
    },
    {
      "cell_type": "markdown",
      "source": [
        "Langkah 6: Mengembalikan Rekomendasi"
      ],
      "metadata": {
        "id": "FvVtBU9voixD"
      }
    },
    {
      "cell_type": "code",
      "source": [
        "return recommendations"
      ],
      "metadata": {
        "id": "oeh31568ojcj"
      },
      "execution_count": null,
      "outputs": []
    },
    {
      "cell_type": "markdown",
      "source": [
        "Fungsi mengembalikan dataframe yang berisi pekerjaan-pekerjaan yang paling relevan dengan judul pekerjaan dan deskripsi pekerjaan yang dimasukkan, dengan mempertimbangkan bobot rating mitra."
      ],
      "metadata": {
        "id": "JjBx2EtCon78"
      }
    },
    {
      "cell_type": "code",
      "source": [
        "def recommend_jobs_with_rating(job_title, job_description, top_n=5):\n",
        "    # Proses job_title\n",
        "    query_title = [job_title]\n",
        "    query_vector_title = tfidf_title.transform(query_title)\n",
        "    sim_scores_title = cosine_similarity(query_vector_title, tfidf_matrix_title).flatten()\n",
        "\n",
        "    # Proses job_description\n",
        "    query_desc = [job_description]\n",
        "    query_vector_desc = tfidf_desc.transform(query_desc)\n",
        "    sim_scores_desc = cosine_similarity(query_vector_desc, tfidf_matrix_desc).flatten()\n",
        "\n",
        "    # Menggabungkan skor similarity title dan description (bisa menggunakan rata-rata)\n",
        "    sim_scores_combined = (sim_scores_title + sim_scores_desc) / 2\n",
        "\n",
        "    # Normalize the ratings\n",
        "    scaler = MinMaxScaler()\n",
        "    riwayat_pekerjaan['scaled_rating'] = scaler.fit_transform(riwayat_pekerjaan[['job_rating']])\n",
        "\n",
        "   # Adjust weighted scores\n",
        "    weighted_scores = sim_scores_combined * riwayat_pekerjaan['scaled_rating']\n",
        "\n",
        "    # Mengambil top_n rekomendasi berdasarkan weighted_scores\n",
        "    top_indices = weighted_scores.argsort()[-top_n:][::-1]\n",
        "    recommendations = riwayat_pekerjaan.iloc[top_indices][['id_mitra', 'job_title', 'job_description', 'job_rating']]\n",
        "\n",
        "    # Menghitung MSE dan RMSE\n",
        "    y_true = riwayat_pekerjaan['job_rating'].values  # Rating sebenarnya dari dataset\n",
        "    mse = mean_squared_error(y_true, weighted_scores)  # MSE dari skor yang diprediksi\n",
        "    rmse = np.sqrt(mse)  # RMSE adalah akar kuadrat dari MSE\n",
        "\n",
        "    # Menampilkan hasil evaluasi\n",
        "    print(\"\\nEvaluasi Model:\")\n",
        "    print(f\"Mean Squared Error (MSE): {mse}\")\n",
        "    print(f\"Root Mean Squared Error (RMSE): {rmse}\")\n",
        "\n",
        "    return recommendations\n"
      ],
      "metadata": {
        "id": "Mr8DtKGoqtRn"
      },
      "execution_count": null,
      "outputs": []
    },
    {
      "cell_type": "code",
      "source": [
        "# Contoh input job_title dan job_description\n",
        "job_title_input = \"jmput orang\"\n",
        "job_description_input = \"Jemput adik saya di sekolah\"\n",
        "\n",
        "# Mendapatkan rekomendasi mitra yang mempertimbangkan rating\n",
        "recommendations = recommend_jobs_with_rating(job_title_input, job_description_input)\n",
        "print(\"Rekomendasi mitra berdasarkan job title, deskripsi, dan rating:\")\n",
        "print(recommendations)\n"
      ],
      "metadata": {
        "colab": {
          "base_uri": "https://localhost:8080/"
        },
        "id": "VsISTkJ1q6V-",
        "outputId": "9e8e4e30-e4b1-49a7-d044-603442688ea3"
      },
      "execution_count": null,
      "outputs": [
        {
          "output_type": "stream",
          "name": "stdout",
          "text": [
            "\n",
            "Evaluasi Model:\n",
            "Mean Squared Error (MSE): 11.322619849306966\n",
            "Root Mean Squared Error (RMSE): 3.3649100804192327\n",
            "Rekomendasi mitra berdasarkan job title, deskripsi, dan rating:\n",
            "     id_mitra                                 job_title  \\\n",
            "39          2                              Jemput Orang   \n",
            "224        10              Instalasi Sistem Pemanas Air   \n",
            "56          3  Pengecekan dan Pemeliharaan Kolam Renang   \n",
            "81          3                      Pemrograman Software   \n",
            "80          3                  Pembersihan Ventilasi AC   \n",
            "\n",
            "                                    job_description  job_rating  \n",
            "39                 Menjemput pelanggan dari bandara           5  \n",
            "224    Memasang pemanas air untuk rumah atau kantor           2  \n",
            "56          Membersihkan dan memeriksa kolam renang           3  \n",
            "81   Membantu membuat aplikasi atau perangkat lunak           5  \n",
            "80          Membersihkan dan memeriksa ventilasi AC           5  \n"
          ]
        }
      ]
    }
  ]
}