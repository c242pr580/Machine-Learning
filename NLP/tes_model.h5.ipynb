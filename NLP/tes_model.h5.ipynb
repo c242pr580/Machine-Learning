{
 "cells": [
  {
   "cell_type": "code",
   "execution_count": 28,
   "metadata": {},
   "outputs": [
    {
     "name": "stdout",
     "output_type": "stream",
     "text": [
      "1/1 [==============================] - 1s 962ms/step\n",
      "Job Title: Kami membutuhkan Hacker untuk Membobol Sistem\n",
      "Predicted Label: Illegal (Probability: 0.00)\n",
      "\n"
     ]
    }
   ],
   "source": [
    "import re\n",
    "import tensorflow as tf\n",
    "\n",
    "# Load vocabulary and vectorize layer\n",
    "with open('vocab.txt', 'r') as f:\n",
    "    vocabulary = [line.strip() for line in f]\n",
    "\n",
    "vectorize_layer = tf.keras.layers.TextVectorization(max_tokens=1001, output_sequence_length=20)\n",
    "vectorize_layer.set_vocabulary(vocabulary)\n",
    "\n",
    "# Load model\n",
    "loaded_model = tf.keras.models.load_model('saved_model.h5')\n",
    "\n",
    "def preprocess_text(text):\n",
    "    text = text.lower()\n",
    "    text = re.sub(r'[^\\w\\s]', '', text)  # Remove special characters\n",
    "    text = re.sub(r'\\s+', ' ', text).strip()  # Normalize spaces\n",
    "    return text\n",
    "# Test job titles\n",
    "test_jobs = [\n",
    "    \"Kami membutuhkan Hacker untuk Membobol Sistem\"  # Illegal\n",
    "   \n",
    "]\n",
    "\n",
    "# Preprocess jobs\n",
    "test_jobs_cleaned = [preprocess_text(job) for job in test_jobs]\n",
    "\n",
    "# Vectorize test jobs\n",
    "test_jobs_sequences = vectorize_layer(test_jobs_cleaned)\n",
    "\n",
    "# Predict\n",
    "predictions = loaded_model.predict(test_jobs_sequences)\n",
    "\n",
    "# Interpret predictions\n",
    "threshold = 0.5\n",
    "results = []\n",
    "for job, prediction in zip(test_jobs, predictions):\n",
    "    label = \"Legal\" if prediction[0] >= threshold else \"Illegal\"\n",
    "    results.append((job, label, prediction[0]))\n",
    "\n",
    "# Display results\n",
    "for job, label, prob in results:\n",
    "    print(f\"Job Title: {job}\\nPredicted Label: {label} (Probability: {prob:.2f})\\n\")\n"
   ]
  },
  {
   "cell_type": "code",
   "execution_count": 29,
   "metadata": {},
   "outputs": [
    {
     "name": "stdout",
     "output_type": "stream",
     "text": [
      "Cleaned Text: ['kami membutuhkan hacker untuk membobol sistem']\n",
      "Vectorized Sequences: [[  7   6 439 223   1 370   0   0   0   0   0   0   0   0   0   0   0   0\n",
      "    0   0]]\n",
      "Raw Predictions: [[0.00139521]]\n",
      "Vocabulary (Python): ['', '[UNK]', 'lowongan', 'segera', 'staff', 'dibuka', 'membutuhkan', 'kami', 'admin', 'dicari', 'cepat', 'dibutuhkan', 'butuh', 'sales', 'sebagai', 'bergabung', 'peluang', 'kerja', 'marketing', 'tersedia', 'posisi', 'time', 'operator', 'manager', 'jasa', 'crew', 'part', 'full', 'freelance', 'service', 'media', 'dan', 'staf', 'customer', 'live', 'supervisor', 'produksi', 'host', 'tukang', 'online', 'kasir', 'specialist', 'officer', 'creator', 'accounting', 'spv', 'content', 'store', 'social', 'cook', 'karyawan', 'digital', 'toko', 'outlet', 'guru', 'teknisi', 'barista', 'finance', 'desain', 'tenaga', 'ilegal', 'head', 'data', 'asisten', 'area', 'penjaga', 'office', 'penjual', 'mesin', 'konten', 'kitchen', 'grafis', 'editor', 'spg', 'designer', 'barang', 'support', 'sosial', 'leader', 'keuangan', 'development', 'assistant', 'administrasi', 'helper', 'event', 'driver', 'chef', 'penjualan', 'penjahit', 'pengedar', 'operasional', 'management', 'tiktok', 'senior', 'gudang', 'bagian', 'team', 'pembuat', 'laundry', 'front', 'collection', 'ahli', 'talent', 'promotion', 'palsu', 'marketplace', 'tim', 'teacher', 'quality', 'product', 'interior', 'hr', 'design', 'cuci', 'cs', 'beautician', 'anak', 'advertiser', 'hrd', 'game', 'dokter', '1', 'terapis', 'perawat', 'pengajar', 'orang', 'koordinator', 'joki', 'control', 'cleaning', 'art', 'and', 'ads', 'video', 'umum', 'tax', 'rumah', 'purchasing', 'masak', 'manajer', 'kepala', 'junior', 'general', 'account', 'web', 'server', 'resto', 'representative', 'produk', 'pekerjaan', 'nail', 'motoris', 'jagal', 'finishing', 'executive', 'crm', 'creative', 'uang', 'stand', 'shop', 'relation', 'penulis', 'pakar', 'packing', 'operational', 'mekanik', 'maker', 'lainnya', 'it', 'desk', 'counter', 'cabang', 'advisor', 'acquisition', 'teknik', 'restaurant', 'research', 'pramuniaga', 'pemalsuan', 'motor', 'lapangan', 'kurir', 'juru', 'jahit', 'jaga', 'hewan', 'graphic', 'furniture', 'fb', 'eyelash', 'drafter', 'dokumen', 'developer', 'commerce', 'captain', 'bar', 'bahasa', 'arsitek', 'videografer', 'streamer', 'serabutan', 'salesman', 'relationship', 'project', 'perbaikan', 'penyebar', 'pengemudi', 'pengelola', 'pendamping', 'pelatih', 'narkoba', 'legal', 'koki', 'gigi', 'gardener', 'di', 'dapur', 'business', 'bangunan', 'asst', 'ao', 'wisata', 'waitress', 'untuk', 'telesales', 'restoran', 'rank', 'performance', 'pencuri', 'outbound', 'narkotika', 'mobil', 'kredit', 'kayu', 'karyawati', 'frontliner', 'engineer', 'catering', 'boy', 'bisnis', 'associate', 'artist', 'apoteker', 'analyst', 'yogyakarta', 'warehouse', 'wanita', 'wajah', 'tentor', 'teman', 'streaming', 'sosmed', 'setrika', 'roti', 'rnd', 'rias', 'reguler', 'procurement', 'ppic', 'pic', 'personalia', 'personal', 'pengantin', 'pembuatan', 'pemalsu', 'pelayanan', 'order', 'offline', 'ob', 'meta', 'membuat', 'mandarin', 'malam', 'lending', 'kucing', 'kopi', 'kecantikan', 'kebun', 'kantor', 'jepang', 'identitas', 'hair', 'guest', 'girl', 'film', 'engineering', 'diy', 'deal', 'cetak', 'cashier', 'bartender', 'bajakan', 'bahan', 'apotek', 'antarjemput', 'anjing', 'akun', 'website', 'warung', 'waiters', 'videographer', 'to', 'telemarketing', 'sepeda', 'satwa', 'retail', 'public', 'pria', 'pramusaji', 'petugas', 'penyusun', 'penyedia', 'pengiriman', 'pembajak', 'pelatihan', 'pajak', 'of', 'naik', 'merawat', 'liar', 'lead', 'kreatif', 'kol', 'kedai', 'kado', 'jaringan', 'illustrator', 'ig', 'hybrid', 'house', 'gro', 'ga', 'funding', 'fulltime', 'foto', 'e', 'dana', 'coordinator', 'consultant', 'co', 'canvassing', 'brand', 'bermain', 'bakso', 'baker', 'aplikasi', 'analis', 'akuntan', 'akses', '10', 'wfh', 'warmindo', 'waitres', 'waiter', 'undangan', 'truk', 'truck', 'trainer', 'tour', 'tl', 'terapi', 'teh', 'tanpa', 'table', 'streamers', 'strategist', 'stock', 'skripsi', 'skiripsi', 'situs', 'sistem', 'short', 'shopkeeper', 'shopee', 'seo', 'senjata', 'sekretaris', 'security', 'sd', 'runner', 'resi', 'rental', 'remote', 'rekrutmen', 'quran', 'purchase', 'pukul', 'prostitusi', 'property', 'programmer', 'poster', 'photo', 'pernikahan', 'penerjemah', 'peneliti', 'pembawa', 'pemasang', 'pemandu', 'pemain', 'pegawai', 'pedagang', 'partfull', 'owner', 'organ', 'obat', 'mobile', 'mitra', 'minuman', 'merchandiser', 'menganti', 'memperbaiki', 'market', 'manusia', 'mall', 'makeup', 'maintenance', 'lukisan', 'lokal', 'logistik', 'las', 'laptop', 'lampu', 'laki', 'kue', 'kreator', 'khusus', 'keliling', 'kebugaran', 'kaca', 'judi', 'izin', 'inventory', 'informasi', 'iklan', 'ice', 'human', 'housekeeping', 'hotel', 'harian', 'hacker', 'guard', 'genteng', 'gedung', 'fullpart', 'fotografer', 'food', 'floor', 'field', 'female', 'estetika', 'es', 'english', 'electrical', 'direktur', 'delivery', 'credit', 'cream', 'cnc', 'cat', 'casual', 'car', 'beberapa', 'beauty', 'barberman', 'assurance', 'arsitektur', 'akunting', 'akuntansi', 'agen', 'affair', 'writer', 'waffelicious', 'vidio', 'up', 'uiux', 'travel', 'translator', 'tjeria', 'timepart', 'therapist', 'tangga', 'tangan', 'taking', 'stylish', 'spb', 'shift', 'sertifikat', 'seniman', 'selling', 'rumor', 'resepsionis', 'recruitment', 'receptionist', 'rangkap', 'qc', 'profesional', 'pribadi', 'playgroup', 'planner', 'physics', 'perpajakan', 'peretas', 'perdagangan', 'penghias', 'penggandaan', 'pengembang', 'pengawas', 'pengasuh', 'pengantar', 'penempatan', 'pendidikan', 'pencetak', 'pemerasan', 'payet', 'organizer', 'onsite', 'noo', 'mathematics', 'makanan', 'livestreamer', 'listrik', 'langka', 'kuliner', 'ktp', 'konstruksi', 'komputer', 'kimia', 'kerajinan', 'keeping', 'jual', 'inggris', 'impian', 'hasil', 'for', 'fo', 'florist', 'estimator', 'entry', 'enginering', 'direct', 'daycare', 'curian', 'collector', 'coklat', 'civil', 'chemistry', 'chefkoki', 'call', 'cafe', 'bus', 'bunga', 'booth', 'bersihbersih', 'berita', 'barudak', 'bakery', 'architect', 'aluminium', 'adv', 'administration', 'aci', 'ac', '5', 'yt', 'youtube', 'ybg', 'worker', 'work', 'wiring', 'wicara', 'western', 'websitegraphicbranding', 'walking', 'walk', 'waitressserver', 'waitresspramusaji', 'waiterwaitress', 'waiterss', 'vj', 'visual', 'videokonten', 'viar', 'vacuum', 'ustazah', 'user', 'used', 'upholsterer', 'umumoffice', 'tulis', 'tugu', 'ttk', 'transletor', 'training', 'trade', 'tpr', 'touch', 'toner', 'tol', 'tokopramuniaga', 'titip', 'tidak', 'ti', 'tetap', 'terlarang', 'temporary', 'template', 'teller', 'teks', 'teknologi', 'taxfinance', 'tas', 'tambang', 'tambal', 'taman', 'talenthost', 'survey', 'supir', 'supervisorasst', 'studio', 'struktur', 'strategy', 'steward', 'stasiun', 'stack', 'spesialist', 'specialistcontent', 'sparepartku', 'spanduk', 'spa', 'sous', 'sortir', 'sopir', 'software', 'soerabina', 'smo', 'smartfren', 'smart', 'skenario', 'sipil', 'sim', 'shuttle', 'shopekeeper', 'sewingpenjahit', 'servisparamedis', 'serbuk', 'sepatu', 'seni', 'semarangsolo', 'seller', 'seksual', 'sekolah', 'section', 'secretary', 'sebar', 'science', 'satpam', 'satelit', 'sapi', 'sample', 'sampel', 'salesmarketing', 'saleskurir', 'saleshop', 'saksofon', 'saji', 'sahaja', 'rupiah', 'room', 'riset', 'retasan', 'resources', 'reservation', 'representatif', 'rent', 'relations', 'rekayasa', 'refill', 'reels', 'realme', 'rd', 'raja', 'racker', 'qaqc', 'python', 'pustakawan', 'pusat', 'psikolog', 'ps', 'proyek', 'properti', 'promotor', 'program', 'progo', 'prodi', 'privat', 'press', 'prduksi', 'pratama', 'pramuniagaproduct', 'pramuniagakasir', 'praktisi', 'pos', 'pola', 'play', 'pkwtpegawai', 'piring', 'pindahan', 'piccaptain', 'photographer', 'photografer', 'perusahaan', 'pertaruhan', 'pertanian', 'permanent', 'perkantoran', 'perjudian', 'perempuan', 'perawatnurse', 'perangkat', 'perancang', 'peracikan', 'penyuap', 'penyelundup', 'penyanyi', 'penjualanpembelian', 'penjadwal', 'penipu', 'pengrajin', 'pengisian', 'penginapan', 'penggalangan', 'pengembangan', 'pengelasanwelder', 'pengatur', 'pengambil', 'pendidik', 'pencucian', 'penambang', 'pemerintah', 'pemeliharaan', 'pembunuh', 'pembungkus', 'pembukuan', 'pembersih', 'pembelian', 'pembantu', 'pembalam', 'pembagi', 'pemayet', 'pemasangan', 'pelipat', 'pelanggan', 'pelaku', 'pelaksana', 'pejabat', 'peculik', 'pdf', 'payroll', 'patung', 'pastry', 'pasar', 'partnerships', 'partimer', 'partie', 'pariwisata', 'parfum', 'parangtritis', 'panggilan', 'pameran', 'pakaian', 'packaging', 'outletbarista', 'optik', 'opf', 'olshop', 'olahraga', 'ojek', 'offset', 'offonline', 'nivea', 'ngipik', 'negosiator', 'nasi', 'nailart', 'musyrifah', 'musik', 'mural', 'mulut', 'multimedia', 'mucikari', 'muat', 'motivational', 'momong', 'mobilisasi', 'mlm', 'mixue', 'mirroring', 'minimarket', 'middle', 'micro', 'mercandhiser', 'menghajar', 'mengajar', 'mengahajar', 'mencuri', 'menaikan', 'memasak', 'medical', 'md', 'mc', 'math', 'matematika', 'massa', 'marketingpengembangan', 'marketingfreelance', 'marketer', 'marcomm', 'marcom', 'mapel', 'manipulasi', 'mainan', 'mahad', 'magelang', 'mabar', 'lunak', 'lpk', 'livestream', 'lintas', 'line', 'lift', 'ledeng', 'lashes', 'lash', 'laporan', 'laboran', 'kulon', 'kulit', 'kriminal', 'kreditlegal', 'kreatorvideo', 'kotak', 'kotagede', 'kota', 'kost', 'kos', 'konveksi', 'konter', 'konsultan', 'komunitas', 'komersil', 'kokijuru', 'klinik', 'kk', 'kitchenchef', 'kidul', 'keu', 'ketik', 'ketelanjangan', 'kesehatan', 'kering', 'kerbau', 'kentungan', 'kemasan', 'keeper', 'kebuntaman', 'kebuli', 'kebersihan', 'keamanan', 'kayawati', 'kasualharian', 'kasirserver', 'kasircrew', 'karyawani', 'kartu', 'karangan', 'kapster', 'kaos', 'kandang', 'kamera', 'kambing', 'kafe', 'jr', 'jogja', 'jersey', 'jcm', 'jawa', 'japanese', 'item', 'ipas', 'inventaris', 'interview', 'internasional', 'instruktur', 'infusion', 'indoor', 'inbound', 'in', 'ilustrator', 'ibox', 'hunter', 'hubungan', 'hrga', 'hpl', 'housekeeper', 'hot', 'honda', 'homeschooling', 'helperpramuniaga', 'headstore', 'handphone', 'gunung', 'group', 'grill', 'greeter', 'graphis', 'gizi', 'gitar', 'gerbang', 'geologi', 'generalist', 'gedungengineering', 'garasi', 'gadaikepala', 'gadai', 'gada', 'fullstack', 'frontlinershopkeeper', 'frelance', 'foot', 'financing', 'financial', 'fillet', 'fashion', 'fakturis', 'export', 'expert', 'experience', 'enumeratorspvqa', 'emas', 'elektro', 'elektrikal', 'electronic', 'ekspedisi', 'edukasi', 'educarer', 'editorcontent', 'edikator', 'ecommerce', 'dutro', 'dump', 'driverlogistic', 'drinks', 'dresser', 'drafterpelaksana', 'dosen', 'donat', 'do', 'division', 'divisi', 'distro', 'distributor', 'direksi', 'directorproduser', 'diklat', 'diesel', 'dev', 'deskprint', 'designeer', 'demi', 'delegasi', 'de', 'day', 'custody', 'cukur', 'css', 'cso', 'cro', 'crispy', 'crews', 'creatorsosmed', 'cpc', 'court', 'couple', 'counselor', 'costumer', 'cost', 'cor', 'cookkitchen', 'conten', 'communication', 'commercial', 'cloud', 'clothes', 'cinema', 'cheffkoki', 'chefcook', 'center', 'cdpsous', 'cdp', 'casualpocokan']\n",
      "Vectorized Sequences (Python): [[  7   6 439 223   1 370   0   0   0   0   0   0   0   0   0   0   0   0\n",
      "    0   0]]\n"
     ]
    }
   ],
   "source": [
    "print(\"Cleaned Text:\", test_jobs_cleaned)\n",
    "print(\"Vectorized Sequences:\", test_jobs_sequences.numpy())\n",
    "print(\"Raw Predictions:\", predictions)\n",
    "print(\"Vocabulary (Python):\", vocabulary)\n",
    "print(\"Vectorized Sequences (Python):\", test_jobs_sequences.numpy())\n",
    "\n"
   ]
  },
  {
   "cell_type": "code",
   "execution_count": null,
   "metadata": {},
   "outputs": [],
   "source": []
  }
 ],
 "metadata": {
  "kernelspec": {
   "display_name": "Python 3",
   "language": "python",
   "name": "python3"
  },
  "language_info": {
   "codemirror_mode": {
    "name": "ipython",
    "version": 3
   },
   "file_extension": ".py",
   "mimetype": "text/x-python",
   "name": "python",
   "nbconvert_exporter": "python",
   "pygments_lexer": "ipython3",
   "version": "3.11.4"
  }
 },
 "nbformat": 4,
 "nbformat_minor": 2
}
